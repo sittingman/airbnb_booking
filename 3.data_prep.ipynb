{
 "cells": [
  {
   "cell_type": "markdown",
   "metadata": {},
   "source": [
    "# Data Preparation"
   ]
  },
  {
   "cell_type": "markdown",
   "metadata": {},
   "source": [
    "### Preparing train set"
   ]
  },
  {
   "cell_type": "code",
   "execution_count": 1,
   "metadata": {
    "execution": {
     "iopub.execute_input": "2020-08-03T06:09:02.053146Z",
     "iopub.status.busy": "2020-08-03T06:09:02.052156Z",
     "iopub.status.idle": "2020-08-03T06:09:02.863828Z",
     "shell.execute_reply": "2020-08-03T06:09:02.863828Z",
     "shell.execute_reply.started": "2020-08-03T06:09:02.053146Z"
    }
   },
   "outputs": [
    {
     "name": "stderr",
     "output_type": "stream",
     "text": [
      "C:\\Users\\sit_k\\AppData\\Local\\Continuum\\anaconda3\\lib\\site-packages\\statsmodels\\tools\\_testing.py:19: FutureWarning: pandas.util.testing is deprecated. Use the functions in the public API at pandas.testing instead.\n",
      "  import pandas.util.testing as tm\n"
     ]
    }
   ],
   "source": [
    "import datetime as dt\n",
    "\n",
    "import matplotlib.pyplot as plt\n",
    "import matplotlib.ticker as ticker\n",
    "import numpy as np\n",
    "import pandas as pd\n",
    "import seaborn as sns\n",
    "\n",
    "plt.style.use('ggplot')\n",
    "%matplotlib inline"
   ]
  },
  {
   "cell_type": "code",
   "execution_count": 2,
   "metadata": {
    "execution": {
     "iopub.execute_input": "2020-08-03T06:09:02.865793Z",
     "iopub.status.busy": "2020-08-03T06:09:02.864795Z",
     "iopub.status.idle": "2020-08-03T06:09:09.034193Z",
     "shell.execute_reply": "2020-08-03T06:09:09.034193Z",
     "shell.execute_reply.started": "2020-08-03T06:09:02.865793Z"
    }
   },
   "outputs": [],
   "source": [
    "gender = pd.read_csv('./data/age_gender_bkts.csv')\n",
    "train = pd.read_csv('./data/train_users_2.csv')\n",
    "test = pd.read_csv('./data/test_users.csv')\n",
    "country = pd.read_csv('./data/countries.csv')\n",
    "session = pd.read_csv('./data/sessions.csv')\n",
    "age_gender = pd.read_csv('./data/age_gender_bkts.csv')"
   ]
  },
  {
   "cell_type": "code",
   "execution_count": 3,
   "metadata": {
    "execution": {
     "iopub.execute_input": "2020-08-03T06:09:09.036158Z",
     "iopub.status.busy": "2020-08-03T06:09:09.036158Z",
     "iopub.status.idle": "2020-08-03T06:09:09.042141Z",
     "shell.execute_reply": "2020-08-03T06:09:09.041146Z",
     "shell.execute_reply.started": "2020-08-03T06:09:09.036158Z"
    }
   },
   "outputs": [],
   "source": [
    "age_cat = age_gender['age_bucket'].unique().tolist()\n",
    "age_sort = age_cat[::-1]\n",
    "age_sort.insert(0, 'miss')"
   ]
  },
  {
   "cell_type": "code",
   "execution_count": 4,
   "metadata": {
    "execution": {
     "iopub.execute_input": "2020-08-03T06:09:09.043139Z",
     "iopub.status.busy": "2020-08-03T06:09:09.043139Z",
     "iopub.status.idle": "2020-08-03T06:09:09.100994Z",
     "shell.execute_reply": "2020-08-03T06:09:09.100100Z",
     "shell.execute_reply.started": "2020-08-03T06:09:09.043139Z"
    }
   },
   "outputs": [],
   "source": [
    "train['age_fill'] = train['age'].apply(\n",
    "    lambda x: -1 if x > 1000 else x).fillna(-1)\n",
    "train['age_gp'] = pd.cut(\n",
    "    train['age_fill'], bins=np.arange(-5, 106, 5), labels=age_sort)"
   ]
  },
  {
   "cell_type": "code",
   "execution_count": 5,
   "metadata": {
    "execution": {
     "iopub.execute_input": "2020-08-03T06:09:09.100994Z",
     "iopub.status.busy": "2020-08-03T06:09:09.100994Z",
     "iopub.status.idle": "2020-08-03T06:09:09.110971Z",
     "shell.execute_reply": "2020-08-03T06:09:09.110971Z",
     "shell.execute_reply.started": "2020-08-03T06:09:09.100994Z"
    }
   },
   "outputs": [],
   "source": [
    "train['first_affiliate_tracked'].fillna('miss', inplace=True)"
   ]
  },
  {
   "cell_type": "code",
   "execution_count": 6,
   "metadata": {
    "execution": {
     "iopub.execute_input": "2020-08-03T06:09:09.112966Z",
     "iopub.status.busy": "2020-08-03T06:09:09.111969Z",
     "iopub.status.idle": "2020-08-03T06:09:09.116955Z",
     "shell.execute_reply": "2020-08-03T06:09:09.116955Z",
     "shell.execute_reply.started": "2020-08-03T06:09:09.112966Z"
    }
   },
   "outputs": [],
   "source": [
    "lang = {'en': 'eng',\n",
    "        'zh': 'asia',\n",
    "        'ko': 'asia',\n",
    "        'ja': 'asia',\n",
    "        'fr': 'eu',\n",
    "        'es': 'eu',\n",
    "        'de': 'eu',\n",
    "        'ru': 'eu',\n",
    "        'pt': 'eu'}"
   ]
  },
  {
   "cell_type": "code",
   "execution_count": 7,
   "metadata": {
    "execution": {
     "iopub.execute_input": "2020-08-03T06:09:09.117953Z",
     "iopub.status.busy": "2020-08-03T06:09:09.117953Z",
     "iopub.status.idle": "2020-08-03T06:09:09.146603Z",
     "shell.execute_reply": "2020-08-03T06:09:09.146052Z",
     "shell.execute_reply.started": "2020-08-03T06:09:09.117953Z"
    }
   },
   "outputs": [],
   "source": [
    "train['lang'] = train['language'].map(lang).fillna('other')"
   ]
  },
  {
   "cell_type": "code",
   "execution_count": 8,
   "metadata": {
    "execution": {
     "iopub.execute_input": "2020-08-03T06:09:09.146603Z",
     "iopub.status.busy": "2020-08-03T06:09:09.146603Z",
     "iopub.status.idle": "2020-08-03T06:09:09.149420Z",
     "shell.execute_reply": "2020-08-03T06:09:09.149420Z",
     "shell.execute_reply.started": "2020-08-03T06:09:09.146603Z"
    }
   },
   "outputs": [],
   "source": [
    "browser = {'Chrome': 'chrome',\n",
    "           'Chrome Mobile': 'chrome',\n",
    "           'Safari': 'safari',\n",
    "           'Mobile Safari': 'safari',\n",
    "           'Firefox': 'firefox',\n",
    "           'Mobile Firefox': 'firefox',\n",
    "           'IE': 'ie',\n",
    "           'IE Mobile': 'ie',\n",
    "           '-unknown-': 'unknown'}"
   ]
  },
  {
   "cell_type": "code",
   "execution_count": 9,
   "metadata": {
    "execution": {
     "iopub.execute_input": "2020-08-03T06:09:09.152411Z",
     "iopub.status.busy": "2020-08-03T06:09:09.151413Z",
     "iopub.status.idle": "2020-08-03T06:09:09.181404Z",
     "shell.execute_reply": "2020-08-03T06:09:09.181404Z",
     "shell.execute_reply.started": "2020-08-03T06:09:09.152411Z"
    }
   },
   "outputs": [],
   "source": [
    "train['browser'] = train['first_browser'].map(browser).fillna('other')"
   ]
  },
  {
   "cell_type": "code",
   "execution_count": 10,
   "metadata": {
    "execution": {
     "iopub.execute_input": "2020-08-03T06:09:09.183327Z",
     "iopub.status.busy": "2020-08-03T06:09:09.183327Z",
     "iopub.status.idle": "2020-08-03T06:09:09.211386Z",
     "shell.execute_reply": "2020-08-03T06:09:09.211386Z",
     "shell.execute_reply.started": "2020-08-03T06:09:09.183327Z"
    }
   },
   "outputs": [],
   "source": [
    "train['gender_stated'] = train['gender'].apply(\n",
    "    lambda x: 'no' if x == '-unknown-' else 'yes')"
   ]
  },
  {
   "cell_type": "code",
   "execution_count": 11,
   "metadata": {
    "execution": {
     "iopub.execute_input": "2020-08-03T06:09:09.212250Z",
     "iopub.status.busy": "2020-08-03T06:09:09.212250Z",
     "iopub.status.idle": "2020-08-03T06:09:09.223367Z",
     "shell.execute_reply": "2020-08-03T06:09:09.223367Z",
     "shell.execute_reply.started": "2020-08-03T06:09:09.212250Z"
    }
   },
   "outputs": [],
   "source": [
    "flow_cat = ['0', '1-10', '11-20', '20+']\n",
    "train['flow_cat'] = pd.cut(train['signup_flow'], bins=[\n",
    "                           0, 1, 10, 20, 100], labels=flow_cat, include_lowest=True)"
   ]
  },
  {
   "cell_type": "code",
   "execution_count": 12,
   "metadata": {
    "execution": {
     "iopub.execute_input": "2020-08-03T06:09:09.224218Z",
     "iopub.status.busy": "2020-08-03T06:09:09.224218Z",
     "iopub.status.idle": "2020-08-03T06:09:09.250149Z",
     "shell.execute_reply": "2020-08-03T06:09:09.250149Z",
     "shell.execute_reply.started": "2020-08-03T06:09:09.224218Z"
    }
   },
   "outputs": [
    {
     "data": {
      "text/html": [
       "<div>\n",
       "<style scoped>\n",
       "    .dataframe tbody tr th:only-of-type {\n",
       "        vertical-align: middle;\n",
       "    }\n",
       "\n",
       "    .dataframe tbody tr th {\n",
       "        vertical-align: top;\n",
       "    }\n",
       "\n",
       "    .dataframe thead th {\n",
       "        text-align: right;\n",
       "    }\n",
       "</style>\n",
       "<table border=\"1\" class=\"dataframe\">\n",
       "  <thead>\n",
       "    <tr style=\"text-align: right;\">\n",
       "      <th></th>\n",
       "      <th>id</th>\n",
       "      <th>date_account_created</th>\n",
       "      <th>timestamp_first_active</th>\n",
       "      <th>date_first_booking</th>\n",
       "      <th>gender</th>\n",
       "      <th>age</th>\n",
       "      <th>signup_method</th>\n",
       "      <th>signup_flow</th>\n",
       "      <th>language</th>\n",
       "      <th>affiliate_channel</th>\n",
       "      <th>...</th>\n",
       "      <th>signup_app</th>\n",
       "      <th>first_device_type</th>\n",
       "      <th>first_browser</th>\n",
       "      <th>country_destination</th>\n",
       "      <th>age_fill</th>\n",
       "      <th>age_gp</th>\n",
       "      <th>lang</th>\n",
       "      <th>browser</th>\n",
       "      <th>gender_stated</th>\n",
       "      <th>flow_cat</th>\n",
       "    </tr>\n",
       "  </thead>\n",
       "  <tbody>\n",
       "    <tr>\n",
       "      <th>0</th>\n",
       "      <td>gxn3p5htnn</td>\n",
       "      <td>2010-06-28</td>\n",
       "      <td>20090319043255</td>\n",
       "      <td>NaN</td>\n",
       "      <td>-unknown-</td>\n",
       "      <td>NaN</td>\n",
       "      <td>facebook</td>\n",
       "      <td>0</td>\n",
       "      <td>en</td>\n",
       "      <td>direct</td>\n",
       "      <td>...</td>\n",
       "      <td>Web</td>\n",
       "      <td>Mac Desktop</td>\n",
       "      <td>Chrome</td>\n",
       "      <td>NDF</td>\n",
       "      <td>-1.0</td>\n",
       "      <td>miss</td>\n",
       "      <td>eng</td>\n",
       "      <td>chrome</td>\n",
       "      <td>no</td>\n",
       "      <td>0</td>\n",
       "    </tr>\n",
       "    <tr>\n",
       "      <th>1</th>\n",
       "      <td>820tgsjxq7</td>\n",
       "      <td>2011-05-25</td>\n",
       "      <td>20090523174809</td>\n",
       "      <td>NaN</td>\n",
       "      <td>MALE</td>\n",
       "      <td>38.0</td>\n",
       "      <td>facebook</td>\n",
       "      <td>0</td>\n",
       "      <td>en</td>\n",
       "      <td>seo</td>\n",
       "      <td>...</td>\n",
       "      <td>Web</td>\n",
       "      <td>Mac Desktop</td>\n",
       "      <td>Chrome</td>\n",
       "      <td>NDF</td>\n",
       "      <td>38.0</td>\n",
       "      <td>35-39</td>\n",
       "      <td>eng</td>\n",
       "      <td>chrome</td>\n",
       "      <td>yes</td>\n",
       "      <td>0</td>\n",
       "    </tr>\n",
       "    <tr>\n",
       "      <th>2</th>\n",
       "      <td>4ft3gnwmtx</td>\n",
       "      <td>2010-09-28</td>\n",
       "      <td>20090609231247</td>\n",
       "      <td>2010-08-02</td>\n",
       "      <td>FEMALE</td>\n",
       "      <td>56.0</td>\n",
       "      <td>basic</td>\n",
       "      <td>3</td>\n",
       "      <td>en</td>\n",
       "      <td>direct</td>\n",
       "      <td>...</td>\n",
       "      <td>Web</td>\n",
       "      <td>Windows Desktop</td>\n",
       "      <td>IE</td>\n",
       "      <td>US</td>\n",
       "      <td>56.0</td>\n",
       "      <td>55-59</td>\n",
       "      <td>eng</td>\n",
       "      <td>ie</td>\n",
       "      <td>yes</td>\n",
       "      <td>1-10</td>\n",
       "    </tr>\n",
       "    <tr>\n",
       "      <th>3</th>\n",
       "      <td>bjjt8pjhuk</td>\n",
       "      <td>2011-12-05</td>\n",
       "      <td>20091031060129</td>\n",
       "      <td>2012-09-08</td>\n",
       "      <td>FEMALE</td>\n",
       "      <td>42.0</td>\n",
       "      <td>facebook</td>\n",
       "      <td>0</td>\n",
       "      <td>en</td>\n",
       "      <td>direct</td>\n",
       "      <td>...</td>\n",
       "      <td>Web</td>\n",
       "      <td>Mac Desktop</td>\n",
       "      <td>Firefox</td>\n",
       "      <td>other</td>\n",
       "      <td>42.0</td>\n",
       "      <td>40-44</td>\n",
       "      <td>eng</td>\n",
       "      <td>firefox</td>\n",
       "      <td>yes</td>\n",
       "      <td>0</td>\n",
       "    </tr>\n",
       "    <tr>\n",
       "      <th>4</th>\n",
       "      <td>87mebub9p4</td>\n",
       "      <td>2010-09-14</td>\n",
       "      <td>20091208061105</td>\n",
       "      <td>2010-02-18</td>\n",
       "      <td>-unknown-</td>\n",
       "      <td>41.0</td>\n",
       "      <td>basic</td>\n",
       "      <td>0</td>\n",
       "      <td>en</td>\n",
       "      <td>direct</td>\n",
       "      <td>...</td>\n",
       "      <td>Web</td>\n",
       "      <td>Mac Desktop</td>\n",
       "      <td>Chrome</td>\n",
       "      <td>US</td>\n",
       "      <td>41.0</td>\n",
       "      <td>40-44</td>\n",
       "      <td>eng</td>\n",
       "      <td>chrome</td>\n",
       "      <td>no</td>\n",
       "      <td>0</td>\n",
       "    </tr>\n",
       "  </tbody>\n",
       "</table>\n",
       "<p>5 rows × 22 columns</p>\n",
       "</div>"
      ],
      "text/plain": [
       "           id date_account_created  timestamp_first_active date_first_booking  \\\n",
       "0  gxn3p5htnn           2010-06-28          20090319043255                NaN   \n",
       "1  820tgsjxq7           2011-05-25          20090523174809                NaN   \n",
       "2  4ft3gnwmtx           2010-09-28          20090609231247         2010-08-02   \n",
       "3  bjjt8pjhuk           2011-12-05          20091031060129         2012-09-08   \n",
       "4  87mebub9p4           2010-09-14          20091208061105         2010-02-18   \n",
       "\n",
       "      gender   age signup_method  signup_flow language affiliate_channel  ...  \\\n",
       "0  -unknown-   NaN      facebook            0       en            direct  ...   \n",
       "1       MALE  38.0      facebook            0       en               seo  ...   \n",
       "2     FEMALE  56.0         basic            3       en            direct  ...   \n",
       "3     FEMALE  42.0      facebook            0       en            direct  ...   \n",
       "4  -unknown-  41.0         basic            0       en            direct  ...   \n",
       "\n",
       "  signup_app first_device_type first_browser country_destination age_fill  \\\n",
       "0        Web       Mac Desktop        Chrome                 NDF     -1.0   \n",
       "1        Web       Mac Desktop        Chrome                 NDF     38.0   \n",
       "2        Web   Windows Desktop            IE                  US     56.0   \n",
       "3        Web       Mac Desktop       Firefox               other     42.0   \n",
       "4        Web       Mac Desktop        Chrome                  US     41.0   \n",
       "\n",
       "  age_gp  lang  browser gender_stated flow_cat  \n",
       "0   miss   eng   chrome            no        0  \n",
       "1  35-39   eng   chrome           yes        0  \n",
       "2  55-59   eng       ie           yes     1-10  \n",
       "3  40-44   eng  firefox           yes        0  \n",
       "4  40-44   eng   chrome            no        0  \n",
       "\n",
       "[5 rows x 22 columns]"
      ]
     },
     "execution_count": 12,
     "metadata": {},
     "output_type": "execute_result"
    }
   ],
   "source": [
    "train.head()"
   ]
  },
  {
   "cell_type": "code",
   "execution_count": 13,
   "metadata": {
    "execution": {
     "iopub.execute_input": "2020-08-03T06:09:09.252145Z",
     "iopub.status.busy": "2020-08-03T06:09:09.251148Z",
     "iopub.status.idle": "2020-08-03T06:09:09.256133Z",
     "shell.execute_reply": "2020-08-03T06:09:09.256133Z",
     "shell.execute_reply.started": "2020-08-03T06:09:09.252145Z"
    }
   },
   "outputs": [],
   "source": [
    "col_to_keep = ['id', 'signup_method',\n",
    "       'affiliate_channel', \n",
    "       'signup_app', 'age_gp', 'lang',\n",
    "       'browser', 'gender_stated', 'flow_cat', 'country_destination']"
   ]
  },
  {
   "cell_type": "code",
   "execution_count": 14,
   "metadata": {
    "execution": {
     "iopub.execute_input": "2020-08-03T06:09:09.257281Z",
     "iopub.status.busy": "2020-08-03T06:09:09.257281Z",
     "iopub.status.idle": "2020-08-03T06:09:09.409895Z",
     "shell.execute_reply": "2020-08-03T06:09:09.409895Z",
     "shell.execute_reply.started": "2020-08-03T06:09:09.257281Z"
    }
   },
   "outputs": [],
   "source": [
    "df_train = train[col_to_keep]\n",
    "\n",
    "df_train.set_index('id', inplace=True)\n",
    "\n",
    "df_train = pd.get_dummies(df_train, prefix=df_train.columns[:-1], columns=df_train.columns[:-1], drop_first=True)"
   ]
  },
  {
   "cell_type": "code",
   "execution_count": 15,
   "metadata": {
    "execution": {
     "iopub.execute_input": "2020-08-03T06:09:09.410862Z",
     "iopub.status.busy": "2020-08-03T06:09:09.410862Z",
     "iopub.status.idle": "2020-08-03T06:09:09.427817Z",
     "shell.execute_reply": "2020-08-03T06:09:09.427817Z",
     "shell.execute_reply.started": "2020-08-03T06:09:09.410862Z"
    }
   },
   "outputs": [
    {
     "data": {
      "text/html": [
       "<div>\n",
       "<style scoped>\n",
       "    .dataframe tbody tr th:only-of-type {\n",
       "        vertical-align: middle;\n",
       "    }\n",
       "\n",
       "    .dataframe tbody tr th {\n",
       "        vertical-align: top;\n",
       "    }\n",
       "\n",
       "    .dataframe thead th {\n",
       "        text-align: right;\n",
       "    }\n",
       "</style>\n",
       "<table border=\"1\" class=\"dataframe\">\n",
       "  <thead>\n",
       "    <tr style=\"text-align: right;\">\n",
       "      <th></th>\n",
       "      <th>country_destination</th>\n",
       "      <th>signup_method_facebook</th>\n",
       "      <th>signup_method_google</th>\n",
       "      <th>affiliate_channel_content</th>\n",
       "      <th>affiliate_channel_direct</th>\n",
       "      <th>affiliate_channel_other</th>\n",
       "      <th>affiliate_channel_remarketing</th>\n",
       "      <th>affiliate_channel_sem-brand</th>\n",
       "      <th>affiliate_channel_sem-non-brand</th>\n",
       "      <th>affiliate_channel_seo</th>\n",
       "      <th>...</th>\n",
       "      <th>lang_other</th>\n",
       "      <th>browser_firefox</th>\n",
       "      <th>browser_ie</th>\n",
       "      <th>browser_other</th>\n",
       "      <th>browser_safari</th>\n",
       "      <th>browser_unknown</th>\n",
       "      <th>gender_stated_yes</th>\n",
       "      <th>flow_cat_1-10</th>\n",
       "      <th>flow_cat_11-20</th>\n",
       "      <th>flow_cat_20+</th>\n",
       "    </tr>\n",
       "    <tr>\n",
       "      <th>id</th>\n",
       "      <th></th>\n",
       "      <th></th>\n",
       "      <th></th>\n",
       "      <th></th>\n",
       "      <th></th>\n",
       "      <th></th>\n",
       "      <th></th>\n",
       "      <th></th>\n",
       "      <th></th>\n",
       "      <th></th>\n",
       "      <th></th>\n",
       "      <th></th>\n",
       "      <th></th>\n",
       "      <th></th>\n",
       "      <th></th>\n",
       "      <th></th>\n",
       "      <th></th>\n",
       "      <th></th>\n",
       "      <th></th>\n",
       "      <th></th>\n",
       "      <th></th>\n",
       "    </tr>\n",
       "  </thead>\n",
       "  <tbody>\n",
       "    <tr>\n",
       "      <th>gxn3p5htnn</th>\n",
       "      <td>NDF</td>\n",
       "      <td>1</td>\n",
       "      <td>0</td>\n",
       "      <td>0</td>\n",
       "      <td>1</td>\n",
       "      <td>0</td>\n",
       "      <td>0</td>\n",
       "      <td>0</td>\n",
       "      <td>0</td>\n",
       "      <td>0</td>\n",
       "      <td>...</td>\n",
       "      <td>0</td>\n",
       "      <td>0</td>\n",
       "      <td>0</td>\n",
       "      <td>0</td>\n",
       "      <td>0</td>\n",
       "      <td>0</td>\n",
       "      <td>0</td>\n",
       "      <td>0</td>\n",
       "      <td>0</td>\n",
       "      <td>0</td>\n",
       "    </tr>\n",
       "    <tr>\n",
       "      <th>820tgsjxq7</th>\n",
       "      <td>NDF</td>\n",
       "      <td>1</td>\n",
       "      <td>0</td>\n",
       "      <td>0</td>\n",
       "      <td>0</td>\n",
       "      <td>0</td>\n",
       "      <td>0</td>\n",
       "      <td>0</td>\n",
       "      <td>0</td>\n",
       "      <td>1</td>\n",
       "      <td>...</td>\n",
       "      <td>0</td>\n",
       "      <td>0</td>\n",
       "      <td>0</td>\n",
       "      <td>0</td>\n",
       "      <td>0</td>\n",
       "      <td>0</td>\n",
       "      <td>1</td>\n",
       "      <td>0</td>\n",
       "      <td>0</td>\n",
       "      <td>0</td>\n",
       "    </tr>\n",
       "    <tr>\n",
       "      <th>4ft3gnwmtx</th>\n",
       "      <td>US</td>\n",
       "      <td>0</td>\n",
       "      <td>0</td>\n",
       "      <td>0</td>\n",
       "      <td>1</td>\n",
       "      <td>0</td>\n",
       "      <td>0</td>\n",
       "      <td>0</td>\n",
       "      <td>0</td>\n",
       "      <td>0</td>\n",
       "      <td>...</td>\n",
       "      <td>0</td>\n",
       "      <td>0</td>\n",
       "      <td>1</td>\n",
       "      <td>0</td>\n",
       "      <td>0</td>\n",
       "      <td>0</td>\n",
       "      <td>1</td>\n",
       "      <td>1</td>\n",
       "      <td>0</td>\n",
       "      <td>0</td>\n",
       "    </tr>\n",
       "    <tr>\n",
       "      <th>bjjt8pjhuk</th>\n",
       "      <td>other</td>\n",
       "      <td>1</td>\n",
       "      <td>0</td>\n",
       "      <td>0</td>\n",
       "      <td>1</td>\n",
       "      <td>0</td>\n",
       "      <td>0</td>\n",
       "      <td>0</td>\n",
       "      <td>0</td>\n",
       "      <td>0</td>\n",
       "      <td>...</td>\n",
       "      <td>0</td>\n",
       "      <td>1</td>\n",
       "      <td>0</td>\n",
       "      <td>0</td>\n",
       "      <td>0</td>\n",
       "      <td>0</td>\n",
       "      <td>1</td>\n",
       "      <td>0</td>\n",
       "      <td>0</td>\n",
       "      <td>0</td>\n",
       "    </tr>\n",
       "    <tr>\n",
       "      <th>87mebub9p4</th>\n",
       "      <td>US</td>\n",
       "      <td>0</td>\n",
       "      <td>0</td>\n",
       "      <td>0</td>\n",
       "      <td>1</td>\n",
       "      <td>0</td>\n",
       "      <td>0</td>\n",
       "      <td>0</td>\n",
       "      <td>0</td>\n",
       "      <td>0</td>\n",
       "      <td>...</td>\n",
       "      <td>0</td>\n",
       "      <td>0</td>\n",
       "      <td>0</td>\n",
       "      <td>0</td>\n",
       "      <td>0</td>\n",
       "      <td>0</td>\n",
       "      <td>0</td>\n",
       "      <td>0</td>\n",
       "      <td>0</td>\n",
       "      <td>0</td>\n",
       "    </tr>\n",
       "  </tbody>\n",
       "</table>\n",
       "<p>5 rows × 46 columns</p>\n",
       "</div>"
      ],
      "text/plain": [
       "           country_destination  signup_method_facebook  signup_method_google  \\\n",
       "id                                                                             \n",
       "gxn3p5htnn                 NDF                       1                     0   \n",
       "820tgsjxq7                 NDF                       1                     0   \n",
       "4ft3gnwmtx                  US                       0                     0   \n",
       "bjjt8pjhuk               other                       1                     0   \n",
       "87mebub9p4                  US                       0                     0   \n",
       "\n",
       "            affiliate_channel_content  affiliate_channel_direct  \\\n",
       "id                                                                \n",
       "gxn3p5htnn                          0                         1   \n",
       "820tgsjxq7                          0                         0   \n",
       "4ft3gnwmtx                          0                         1   \n",
       "bjjt8pjhuk                          0                         1   \n",
       "87mebub9p4                          0                         1   \n",
       "\n",
       "            affiliate_channel_other  affiliate_channel_remarketing  \\\n",
       "id                                                                   \n",
       "gxn3p5htnn                        0                              0   \n",
       "820tgsjxq7                        0                              0   \n",
       "4ft3gnwmtx                        0                              0   \n",
       "bjjt8pjhuk                        0                              0   \n",
       "87mebub9p4                        0                              0   \n",
       "\n",
       "            affiliate_channel_sem-brand  affiliate_channel_sem-non-brand  \\\n",
       "id                                                                         \n",
       "gxn3p5htnn                            0                                0   \n",
       "820tgsjxq7                            0                                0   \n",
       "4ft3gnwmtx                            0                                0   \n",
       "bjjt8pjhuk                            0                                0   \n",
       "87mebub9p4                            0                                0   \n",
       "\n",
       "            affiliate_channel_seo  ...  lang_other  browser_firefox  \\\n",
       "id                                 ...                                \n",
       "gxn3p5htnn                      0  ...           0                0   \n",
       "820tgsjxq7                      1  ...           0                0   \n",
       "4ft3gnwmtx                      0  ...           0                0   \n",
       "bjjt8pjhuk                      0  ...           0                1   \n",
       "87mebub9p4                      0  ...           0                0   \n",
       "\n",
       "            browser_ie  browser_other  browser_safari  browser_unknown  \\\n",
       "id                                                                       \n",
       "gxn3p5htnn           0              0               0                0   \n",
       "820tgsjxq7           0              0               0                0   \n",
       "4ft3gnwmtx           1              0               0                0   \n",
       "bjjt8pjhuk           0              0               0                0   \n",
       "87mebub9p4           0              0               0                0   \n",
       "\n",
       "            gender_stated_yes  flow_cat_1-10  flow_cat_11-20  flow_cat_20+  \n",
       "id                                                                          \n",
       "gxn3p5htnn                  0              0               0             0  \n",
       "820tgsjxq7                  1              0               0             0  \n",
       "4ft3gnwmtx                  1              1               0             0  \n",
       "bjjt8pjhuk                  1              0               0             0  \n",
       "87mebub9p4                  0              0               0             0  \n",
       "\n",
       "[5 rows x 46 columns]"
      ]
     },
     "execution_count": 15,
     "metadata": {},
     "output_type": "execute_result"
    }
   ],
   "source": [
    "df_train.head()"
   ]
  },
  {
   "cell_type": "markdown",
   "metadata": {},
   "source": [
    "### Preparing Test Set"
   ]
  },
  {
   "cell_type": "code",
   "execution_count": 16,
   "metadata": {
    "execution": {
     "iopub.execute_input": "2020-08-03T06:09:09.428815Z",
     "iopub.status.busy": "2020-08-03T06:09:09.428815Z",
     "iopub.status.idle": "2020-08-03T06:09:09.452750Z",
     "shell.execute_reply": "2020-08-03T06:09:09.452750Z",
     "shell.execute_reply.started": "2020-08-03T06:09:09.428815Z"
    }
   },
   "outputs": [],
   "source": [
    "test['age_fill'] = test['age'].apply(\n",
    "    lambda x: -1 if x > 1000 else x).fillna(-1)\n",
    "test['age_gp'] = pd.cut(\n",
    "    test['age_fill'], bins=np.arange(-5, 106, 5), labels=age_sort)"
   ]
  },
  {
   "cell_type": "code",
   "execution_count": 17,
   "metadata": {
    "execution": {
     "iopub.execute_input": "2020-08-03T06:09:09.453749Z",
     "iopub.status.busy": "2020-08-03T06:09:09.453749Z",
     "iopub.status.idle": "2020-08-03T06:09:09.461241Z",
     "shell.execute_reply": "2020-08-03T06:09:09.461241Z",
     "shell.execute_reply.started": "2020-08-03T06:09:09.453749Z"
    }
   },
   "outputs": [],
   "source": [
    "test['first_affiliate_tracked'].fillna('miss', inplace=True)"
   ]
  },
  {
   "cell_type": "code",
   "execution_count": 18,
   "metadata": {
    "execution": {
     "iopub.execute_input": "2020-08-03T06:09:09.462249Z",
     "iopub.status.busy": "2020-08-03T06:09:09.462249Z",
     "iopub.status.idle": "2020-08-03T06:09:09.475233Z",
     "shell.execute_reply": "2020-08-03T06:09:09.475233Z",
     "shell.execute_reply.started": "2020-08-03T06:09:09.462249Z"
    }
   },
   "outputs": [],
   "source": [
    "test['lang'] = test['language'].map(lang).fillna('other')"
   ]
  },
  {
   "cell_type": "code",
   "execution_count": 19,
   "metadata": {
    "execution": {
     "iopub.execute_input": "2020-08-03T06:09:09.476201Z",
     "iopub.status.busy": "2020-08-03T06:09:09.476201Z",
     "iopub.status.idle": "2020-08-03T06:09:09.490165Z",
     "shell.execute_reply": "2020-08-03T06:09:09.490165Z",
     "shell.execute_reply.started": "2020-08-03T06:09:09.476201Z"
    }
   },
   "outputs": [],
   "source": [
    "test['browser'] = test['first_browser'].map(browser).fillna('other')"
   ]
  },
  {
   "cell_type": "code",
   "execution_count": 20,
   "metadata": {
    "execution": {
     "iopub.execute_input": "2020-08-03T06:09:09.491162Z",
     "iopub.status.busy": "2020-08-03T06:09:09.491162Z",
     "iopub.status.idle": "2020-08-03T06:09:09.504161Z",
     "shell.execute_reply": "2020-08-03T06:09:09.504161Z",
     "shell.execute_reply.started": "2020-08-03T06:09:09.491162Z"
    }
   },
   "outputs": [],
   "source": [
    "test['gender_stated'] = test['gender'].apply(\n",
    "    lambda x: 'no' if x == '-unknown-' else 'yes')"
   ]
  },
  {
   "cell_type": "code",
   "execution_count": 21,
   "metadata": {
    "execution": {
     "iopub.execute_input": "2020-08-03T06:09:09.506122Z",
     "iopub.status.busy": "2020-08-03T06:09:09.505125Z",
     "iopub.status.idle": "2020-08-03T06:09:09.514102Z",
     "shell.execute_reply": "2020-08-03T06:09:09.514102Z",
     "shell.execute_reply.started": "2020-08-03T06:09:09.506122Z"
    }
   },
   "outputs": [],
   "source": [
    "test['flow_cat'] = pd.cut(test['signup_flow'], bins=[\n",
    "                           0, 1, 10, 20, 100], labels=flow_cat, include_lowest=True)"
   ]
  },
  {
   "cell_type": "code",
   "execution_count": 22,
   "metadata": {
    "execution": {
     "iopub.execute_input": "2020-08-03T06:09:09.515099Z",
     "iopub.status.busy": "2020-08-03T06:09:09.515099Z",
     "iopub.status.idle": "2020-08-03T06:09:09.571989Z",
     "shell.execute_reply": "2020-08-03T06:09:09.571177Z",
     "shell.execute_reply.started": "2020-08-03T06:09:09.515099Z"
    }
   },
   "outputs": [],
   "source": [
    "df_test = test[col_to_keep[:-1]]\n",
    "df_test.set_index('id', inplace=True)\n",
    "df_test = pd.get_dummies(df_test, prefix=df_test.columns, columns=df_test.columns, drop_first=False)\n",
    "df_test = df_test[df_train.columns[1:]]"
   ]
  },
  {
   "cell_type": "code",
   "execution_count": 23,
   "metadata": {
    "execution": {
     "iopub.execute_input": "2020-08-03T06:09:09.571989Z",
     "iopub.status.busy": "2020-08-03T06:09:09.571989Z",
     "iopub.status.idle": "2020-08-03T06:09:09.576977Z",
     "shell.execute_reply": "2020-08-03T06:09:09.575981Z",
     "shell.execute_reply.started": "2020-08-03T06:09:09.571989Z"
    }
   },
   "outputs": [
    {
     "name": "stdout",
     "output_type": "stream",
     "text": [
      "45 46\n"
     ]
    }
   ],
   "source": [
    "print(len(df_test.columns), len(df_train.columns))"
   ]
  },
  {
   "cell_type": "markdown",
   "metadata": {},
   "source": [
    "### Combining session data"
   ]
  },
  {
   "cell_type": "code",
   "execution_count": 24,
   "metadata": {
    "execution": {
     "iopub.execute_input": "2020-08-03T06:09:09.576977Z",
     "iopub.status.busy": "2020-08-03T06:09:09.576977Z",
     "iopub.status.idle": "2020-08-03T06:09:09.783457Z",
     "shell.execute_reply": "2020-08-03T06:09:09.783457Z",
     "shell.execute_reply.started": "2020-08-03T06:09:09.576977Z"
    }
   },
   "outputs": [],
   "source": [
    "session_df = pd.read_csv('./data/session_df.csv', index_col=0)\n",
    "encoded_col = session_df.columns"
   ]
  },
  {
   "cell_type": "code",
   "execution_count": 25,
   "metadata": {
    "execution": {
     "iopub.execute_input": "2020-08-03T06:09:09.784423Z",
     "iopub.status.busy": "2020-08-03T06:09:09.784423Z",
     "iopub.status.idle": "2020-08-03T06:09:11.211905Z",
     "shell.execute_reply": "2020-08-03T06:09:11.211905Z",
     "shell.execute_reply.started": "2020-08-03T06:09:09.784423Z"
    }
   },
   "outputs": [],
   "source": [
    "last_action = session.drop(['secs_elapsed'], axis=1).groupby(['user_id']).tail(1)\n",
    "last_action.set_index('user_id', inplace=True)"
   ]
  },
  {
   "cell_type": "code",
   "execution_count": 26,
   "metadata": {
    "execution": {
     "iopub.execute_input": "2020-08-03T06:09:11.212868Z",
     "iopub.status.busy": "2020-08-03T06:09:11.212868Z",
     "iopub.status.idle": "2020-08-03T06:09:11.771611Z",
     "shell.execute_reply": "2020-08-03T06:09:11.771611Z",
     "shell.execute_reply.started": "2020-08-03T06:09:11.212868Z"
    }
   },
   "outputs": [],
   "source": [
    "last_act_df = pd.get_dummies(last_action, drop_first=False, prefix=last_action.columns)"
   ]
  },
  {
   "cell_type": "code",
   "execution_count": 27,
   "metadata": {
    "execution": {
     "iopub.execute_input": "2020-08-03T06:09:11.775565Z",
     "iopub.status.busy": "2020-08-03T06:09:11.774567Z",
     "iopub.status.idle": "2020-08-03T06:09:11.843417Z",
     "shell.execute_reply": "2020-08-03T06:09:11.843417Z",
     "shell.execute_reply.started": "2020-08-03T06:09:11.775565Z"
    }
   },
   "outputs": [],
   "source": [
    "session_df = last_act_df.loc[:, encoded_col]"
   ]
  },
  {
   "cell_type": "code",
   "execution_count": 43,
   "metadata": {
    "execution": {
     "iopub.execute_input": "2020-08-03T06:23:34.851128Z",
     "iopub.status.busy": "2020-08-03T06:23:34.851128Z",
     "iopub.status.idle": "2020-08-03T06:23:35.136364Z",
     "shell.execute_reply": "2020-08-03T06:23:35.136364Z",
     "shell.execute_reply.started": "2020-08-03T06:23:34.851128Z"
    }
   },
   "outputs": [],
   "source": [
    "train_fin = df_train.merge(session_df, left_index=True, right_index=True, how='left').fillna(0)\n",
    "test_fin = df_test.merge(session_df, left_index=True, right_index=True, how='left').fillna(0)"
   ]
  },
  {
   "cell_type": "code",
   "execution_count": 29,
   "metadata": {
    "execution": {
     "iopub.execute_input": "2020-08-03T06:09:12.085735Z",
     "iopub.status.busy": "2020-08-03T06:09:12.085735Z",
     "iopub.status.idle": "2020-08-03T06:09:12.089726Z",
     "shell.execute_reply": "2020-08-03T06:09:12.089726Z",
     "shell.execute_reply.started": "2020-08-03T06:09:12.085735Z"
    }
   },
   "outputs": [
    {
     "name": "stdout",
     "output_type": "stream",
     "text": [
      "(213451, 126) (62096, 125)\n"
     ]
    }
   ],
   "source": [
    "print(train_fin.shape, test_fin.shape)"
   ]
  },
  {
   "cell_type": "code",
   "execution_count": 44,
   "metadata": {
    "execution": {
     "iopub.execute_input": "2020-08-03T06:23:40.066069Z",
     "iopub.status.busy": "2020-08-03T06:23:40.066069Z",
     "iopub.status.idle": "2020-08-03T06:23:52.241796Z",
     "shell.execute_reply": "2020-08-03T06:23:52.241796Z",
     "shell.execute_reply.started": "2020-08-03T06:23:40.066069Z"
    }
   },
   "outputs": [],
   "source": [
    "train_fin.to_csv('./data/train_df.csv')\n",
    "test_fin.to_csv('./data/test_df.csv')"
   ]
  }
 ],
 "metadata": {
  "kernelspec": {
   "display_name": "Python 3",
   "language": "python",
   "name": "python3"
  },
  "language_info": {
   "codemirror_mode": {
    "name": "ipython",
    "version": 3
   },
   "file_extension": ".py",
   "mimetype": "text/x-python",
   "name": "python",
   "nbconvert_exporter": "python",
   "pygments_lexer": "ipython3",
   "version": "3.7.1"
  }
 },
 "nbformat": 4,
 "nbformat_minor": 4
}
