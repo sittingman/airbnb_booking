{
 "cells": [
  {
   "cell_type": "markdown",
   "metadata": {
    "execution": {
     "iopub.execute_input": "2020-08-08T04:18:28.533143Z",
     "iopub.status.busy": "2020-08-08T04:18:28.533143Z",
     "iopub.status.idle": "2020-08-08T04:18:28.540160Z",
     "shell.execute_reply": "2020-08-08T04:18:28.540160Z",
     "shell.execute_reply.started": "2020-08-08T04:18:28.533143Z"
    }
   },
   "source": [
    "**train_users.csv** : the training set of users\n",
    "<br>\n",
    "**test_users.csv** : the test set of users\n",
    "\n",
    "|attributes | description |\n",
    "| --- |--- |\n",
    "|id | user id|\n",
    "|date_account_created | the date of account creation|\n",
    "|timestamp_first_active | timestamp of the first activity, note that it can be earlier than date_account_created or date_first_booking because a user can search before signing up|\n",
    "|date_first_booking |date of first booking|\n",
    "|gender| |\n",
    "|age| |\n",
    "|signup_method|\n",
    "|signup_flow| the page a user came to signup up from|\n",
    "|language| international language preference|\n",
    "|affiliate_channel | what kind of paid marketing|\n",
    "|affiliate_provider | where the marketing is e.g. google, craigslist, other|\n",
    "|first_affiliate_tracked | whats the first marketing the user interacted with before the signing up|\n",
    "|signup_app| |\n",
    "|first_device_type| |\n",
    "|first_browser| |\n",
    "|country_destination | this is the target variable you are to predict|\n",
    "\n",
    "<br>\n",
    "**sessions.csv** - web sessions log for users\n",
    "<br>\n",
    "user_id - to be joined with the column 'id' in users table<br>\n",
    "action<br>\n",
    "action_type<br>\n",
    "action_detail<br>\n",
    "device_type<br>\n",
    "secs_elapsed<br>\n",
    "\n",
    "<br>\n",
    "**countries.csv** - summary statistics of destination countries in this dataset and their locations <br>\n",
    "**age_gender_bkts.csv** - summary statistics of users' age group, gender, country of destination <br>\n",
    "**sample_submission.csv** - correct format for submitting your predictions<br>"
   ]
  }
 ],
 "metadata": {
  "kernelspec": {
   "display_name": "Python 3",
   "language": "python",
   "name": "python3"
  },
  "language_info": {
   "codemirror_mode": {
    "name": "ipython",
    "version": 3
   },
   "file_extension": ".py",
   "mimetype": "text/x-python",
   "name": "python",
   "nbconvert_exporter": "python",
   "pygments_lexer": "ipython3",
   "version": "3.7.1"
  }
 },
 "nbformat": 4,
 "nbformat_minor": 4
}
