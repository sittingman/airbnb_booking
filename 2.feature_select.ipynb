{
 "cells": [
  {
   "cell_type": "markdown",
   "metadata": {},
   "source": [
    "# Feature Selection\n",
    "\n",
    "In this section, we will focus on the session information, in which action and details are in form of many categorical variables. It is difficult to visual them one by one, hence we will apply feature reduction techniques such as LassoCV and RFE"
   ]
  },
  {
   "cell_type": "code",
   "execution_count": 1,
   "metadata": {
    "execution": {
     "iopub.status.idle": "2020-08-03T05:51:00.671666Z",
     "shell.execute_reply": "2020-08-03T05:51:00.671666Z",
     "shell.execute_reply.started": "2020-08-03T05:51:00.006194Z"
    }
   },
   "outputs": [],
   "source": [
    "import numpy as np\n",
    "import pandas as pd\n",
    "from sklearn.ensemble import RandomForestClassifier\n",
    "from sklearn.feature_selection import RFE, RFECV\n",
    "from sklearn.linear_model import LassoCV, LogisticRegression"
   ]
  },
  {
   "cell_type": "code",
   "execution_count": 2,
   "metadata": {
    "execution": {
     "iopub.execute_input": "2020-08-03T05:51:00.672517Z",
     "iopub.status.busy": "2020-08-03T05:51:00.672517Z",
     "iopub.status.idle": "2020-08-03T05:51:04.756935Z",
     "shell.execute_reply": "2020-08-03T05:51:04.756935Z",
     "shell.execute_reply.started": "2020-08-03T05:51:00.672517Z"
    }
   },
   "outputs": [
    {
     "data": {
      "text/html": [
       "<div>\n",
       "<style scoped>\n",
       "    .dataframe tbody tr th:only-of-type {\n",
       "        vertical-align: middle;\n",
       "    }\n",
       "\n",
       "    .dataframe tbody tr th {\n",
       "        vertical-align: top;\n",
       "    }\n",
       "\n",
       "    .dataframe thead th {\n",
       "        text-align: right;\n",
       "    }\n",
       "</style>\n",
       "<table border=\"1\" class=\"dataframe\">\n",
       "  <thead>\n",
       "    <tr style=\"text-align: right;\">\n",
       "      <th></th>\n",
       "      <th>user_id</th>\n",
       "      <th>action</th>\n",
       "      <th>action_type</th>\n",
       "      <th>action_detail</th>\n",
       "      <th>device_type</th>\n",
       "      <th>secs_elapsed</th>\n",
       "      <th>book</th>\n",
       "    </tr>\n",
       "    <tr>\n",
       "      <th>id</th>\n",
       "      <th></th>\n",
       "      <th></th>\n",
       "      <th></th>\n",
       "      <th></th>\n",
       "      <th></th>\n",
       "      <th></th>\n",
       "      <th></th>\n",
       "    </tr>\n",
       "  </thead>\n",
       "  <tbody>\n",
       "    <tr>\n",
       "      <th>d1mm9tcy42</th>\n",
       "      <td>d1mm9tcy42</td>\n",
       "      <td>lookup</td>\n",
       "      <td>NaN</td>\n",
       "      <td>NaN</td>\n",
       "      <td>Windows Desktop</td>\n",
       "      <td>319.0</td>\n",
       "      <td>1</td>\n",
       "    </tr>\n",
       "    <tr>\n",
       "      <th>d1mm9tcy42</th>\n",
       "      <td>d1mm9tcy42</td>\n",
       "      <td>search_results</td>\n",
       "      <td>click</td>\n",
       "      <td>view_search_results</td>\n",
       "      <td>Windows Desktop</td>\n",
       "      <td>67753.0</td>\n",
       "      <td>1</td>\n",
       "    </tr>\n",
       "    <tr>\n",
       "      <th>d1mm9tcy42</th>\n",
       "      <td>d1mm9tcy42</td>\n",
       "      <td>lookup</td>\n",
       "      <td>NaN</td>\n",
       "      <td>NaN</td>\n",
       "      <td>Windows Desktop</td>\n",
       "      <td>301.0</td>\n",
       "      <td>1</td>\n",
       "    </tr>\n",
       "    <tr>\n",
       "      <th>d1mm9tcy42</th>\n",
       "      <td>d1mm9tcy42</td>\n",
       "      <td>search_results</td>\n",
       "      <td>click</td>\n",
       "      <td>view_search_results</td>\n",
       "      <td>Windows Desktop</td>\n",
       "      <td>22141.0</td>\n",
       "      <td>1</td>\n",
       "    </tr>\n",
       "    <tr>\n",
       "      <th>d1mm9tcy42</th>\n",
       "      <td>d1mm9tcy42</td>\n",
       "      <td>lookup</td>\n",
       "      <td>NaN</td>\n",
       "      <td>NaN</td>\n",
       "      <td>Windows Desktop</td>\n",
       "      <td>435.0</td>\n",
       "      <td>1</td>\n",
       "    </tr>\n",
       "  </tbody>\n",
       "</table>\n",
       "</div>"
      ],
      "text/plain": [
       "               user_id          action action_type        action_detail  \\\n",
       "id                                                                        \n",
       "d1mm9tcy42  d1mm9tcy42          lookup         NaN                  NaN   \n",
       "d1mm9tcy42  d1mm9tcy42  search_results       click  view_search_results   \n",
       "d1mm9tcy42  d1mm9tcy42          lookup         NaN                  NaN   \n",
       "d1mm9tcy42  d1mm9tcy42  search_results       click  view_search_results   \n",
       "d1mm9tcy42  d1mm9tcy42          lookup         NaN                  NaN   \n",
       "\n",
       "                device_type  secs_elapsed  book  \n",
       "id                                               \n",
       "d1mm9tcy42  Windows Desktop         319.0     1  \n",
       "d1mm9tcy42  Windows Desktop       67753.0     1  \n",
       "d1mm9tcy42  Windows Desktop         301.0     1  \n",
       "d1mm9tcy42  Windows Desktop       22141.0     1  \n",
       "d1mm9tcy42  Windows Desktop         435.0     1  "
      ]
     },
     "execution_count": 2,
     "metadata": {},
     "output_type": "execute_result"
    }
   ],
   "source": [
    "session = pd.read_csv('./data/id_book.csv', index_col='id')\n",
    "session.head()"
   ]
  },
  {
   "cell_type": "markdown",
   "metadata": {},
   "source": [
    "## Last Action\n",
    "\n",
    "Assume last row of each user session to be the last action of the session."
   ]
  },
  {
   "cell_type": "code",
   "execution_count": 3,
   "metadata": {
    "execution": {
     "iopub.execute_input": "2020-08-03T05:51:04.757902Z",
     "iopub.status.busy": "2020-08-03T05:51:04.757902Z",
     "iopub.status.idle": "2020-08-03T05:51:05.313688Z",
     "shell.execute_reply": "2020-08-03T05:51:05.313688Z",
     "shell.execute_reply.started": "2020-08-03T05:51:04.757902Z"
    }
   },
   "outputs": [],
   "source": [
    "last_action = session.groupby(['user_id']).tail(1)"
   ]
  },
  {
   "cell_type": "code",
   "execution_count": 4,
   "metadata": {
    "execution": {
     "iopub.execute_input": "2020-08-03T05:51:05.314661Z",
     "iopub.status.busy": "2020-08-03T05:51:05.314661Z",
     "iopub.status.idle": "2020-08-03T05:51:05.324654Z",
     "shell.execute_reply": "2020-08-03T05:51:05.324654Z",
     "shell.execute_reply.started": "2020-08-03T05:51:05.314661Z"
    }
   },
   "outputs": [
    {
     "data": {
      "text/html": [
       "<div>\n",
       "<style scoped>\n",
       "    .dataframe tbody tr th:only-of-type {\n",
       "        vertical-align: middle;\n",
       "    }\n",
       "\n",
       "    .dataframe tbody tr th {\n",
       "        vertical-align: top;\n",
       "    }\n",
       "\n",
       "    .dataframe thead th {\n",
       "        text-align: right;\n",
       "    }\n",
       "</style>\n",
       "<table border=\"1\" class=\"dataframe\">\n",
       "  <thead>\n",
       "    <tr style=\"text-align: right;\">\n",
       "      <th></th>\n",
       "      <th>user_id</th>\n",
       "      <th>action</th>\n",
       "      <th>action_type</th>\n",
       "      <th>action_detail</th>\n",
       "      <th>device_type</th>\n",
       "      <th>secs_elapsed</th>\n",
       "      <th>book</th>\n",
       "    </tr>\n",
       "    <tr>\n",
       "      <th>id</th>\n",
       "      <th></th>\n",
       "      <th></th>\n",
       "      <th></th>\n",
       "      <th></th>\n",
       "      <th></th>\n",
       "      <th></th>\n",
       "      <th></th>\n",
       "    </tr>\n",
       "  </thead>\n",
       "  <tbody>\n",
       "    <tr>\n",
       "      <th>d1mm9tcy42</th>\n",
       "      <td>d1mm9tcy42</td>\n",
       "      <td>show</td>\n",
       "      <td>view</td>\n",
       "      <td>p3</td>\n",
       "      <td>Windows Desktop</td>\n",
       "      <td>76511.0</td>\n",
       "      <td>1</td>\n",
       "    </tr>\n",
       "    <tr>\n",
       "      <th>yo8nz8bqcq</th>\n",
       "      <td>yo8nz8bqcq</td>\n",
       "      <td>show</td>\n",
       "      <td>NaN</td>\n",
       "      <td>NaN</td>\n",
       "      <td>Mac Desktop</td>\n",
       "      <td>4080.0</td>\n",
       "      <td>0</td>\n",
       "    </tr>\n",
       "    <tr>\n",
       "      <th>4grx6yxeby</th>\n",
       "      <td>4grx6yxeby</td>\n",
       "      <td>personalize</td>\n",
       "      <td>data</td>\n",
       "      <td>wishlist_content_update</td>\n",
       "      <td>Windows Desktop</td>\n",
       "      <td>61374.0</td>\n",
       "      <td>0</td>\n",
       "    </tr>\n",
       "    <tr>\n",
       "      <th>ncf87guaf0</th>\n",
       "      <td>ncf87guaf0</td>\n",
       "      <td>personalize</td>\n",
       "      <td>data</td>\n",
       "      <td>wishlist_content_update</td>\n",
       "      <td>Windows Desktop</td>\n",
       "      <td>1254.0</td>\n",
       "      <td>0</td>\n",
       "    </tr>\n",
       "    <tr>\n",
       "      <th>4rvqpxoh3h</th>\n",
       "      <td>4rvqpxoh3h</td>\n",
       "      <td>index</td>\n",
       "      <td>-unknown-</td>\n",
       "      <td>-unknown-</td>\n",
       "      <td>iPhone</td>\n",
       "      <td>886.0</td>\n",
       "      <td>1</td>\n",
       "    </tr>\n",
       "  </tbody>\n",
       "</table>\n",
       "</div>"
      ],
      "text/plain": [
       "               user_id       action action_type            action_detail  \\\n",
       "id                                                                         \n",
       "d1mm9tcy42  d1mm9tcy42         show        view                       p3   \n",
       "yo8nz8bqcq  yo8nz8bqcq         show         NaN                      NaN   \n",
       "4grx6yxeby  4grx6yxeby  personalize        data  wishlist_content_update   \n",
       "ncf87guaf0  ncf87guaf0  personalize        data  wishlist_content_update   \n",
       "4rvqpxoh3h  4rvqpxoh3h        index   -unknown-                -unknown-   \n",
       "\n",
       "                device_type  secs_elapsed  book  \n",
       "id                                               \n",
       "d1mm9tcy42  Windows Desktop       76511.0     1  \n",
       "yo8nz8bqcq      Mac Desktop        4080.0     0  \n",
       "4grx6yxeby  Windows Desktop       61374.0     0  \n",
       "ncf87guaf0  Windows Desktop        1254.0     0  \n",
       "4rvqpxoh3h           iPhone         886.0     1  "
      ]
     },
     "execution_count": 4,
     "metadata": {},
     "output_type": "execute_result"
    }
   ],
   "source": [
    "last_action.head()"
   ]
  },
  {
   "cell_type": "code",
   "execution_count": 5,
   "metadata": {
    "execution": {
     "iopub.execute_input": "2020-08-03T05:51:05.325531Z",
     "iopub.status.busy": "2020-08-03T05:51:05.325531Z",
     "iopub.status.idle": "2020-08-03T05:51:05.341525Z",
     "shell.execute_reply": "2020-08-03T05:51:05.341525Z",
     "shell.execute_reply.started": "2020-08-03T05:51:05.325531Z"
    }
   },
   "outputs": [],
   "source": [
    "df_fs = last_action.drop(['user_id', 'secs_elapsed'], axis=1)"
   ]
  },
  {
   "cell_type": "code",
   "execution_count": 6,
   "metadata": {
    "execution": {
     "iopub.execute_input": "2020-08-03T05:51:05.342478Z",
     "iopub.status.busy": "2020-08-03T05:51:05.342478Z",
     "iopub.status.idle": "2020-08-03T05:51:05.460198Z",
     "shell.execute_reply": "2020-08-03T05:51:05.460198Z",
     "shell.execute_reply.started": "2020-08-03T05:51:05.342478Z"
    }
   },
   "outputs": [],
   "source": [
    "df_fs_en = pd.get_dummies(df_fs, drop_first=True, prefix=df_fs.columns[:-1])"
   ]
  },
  {
   "cell_type": "code",
   "execution_count": 18,
   "metadata": {
    "execution": {
     "iopub.execute_input": "2020-08-03T06:22:22.709333Z",
     "iopub.status.busy": "2020-08-03T06:22:22.709333Z",
     "iopub.status.idle": "2020-08-03T06:22:22.739481Z",
     "shell.execute_reply": "2020-08-03T06:22:22.739239Z",
     "shell.execute_reply.started": "2020-08-03T06:22:22.709333Z"
    }
   },
   "outputs": [
    {
     "data": {
      "text/plain": [
       "(73815, 359)"
      ]
     },
     "execution_count": 18,
     "metadata": {},
     "output_type": "execute_result"
    }
   ],
   "source": [
    "df_fs_en.shape"
   ]
  },
  {
   "cell_type": "code",
   "execution_count": 8,
   "metadata": {
    "execution": {
     "iopub.execute_input": "2020-08-03T05:51:05.476134Z",
     "iopub.status.busy": "2020-08-03T05:51:05.476134Z",
     "iopub.status.idle": "2020-08-03T05:51:05.529930Z",
     "shell.execute_reply": "2020-08-03T05:51:05.529930Z",
     "shell.execute_reply.started": "2020-08-03T05:51:05.476134Z"
    }
   },
   "outputs": [],
   "source": [
    "X = df_fs_en.drop(['book'], axis=1)\n",
    "y = df_fs_en['book']"
   ]
  },
  {
   "cell_type": "code",
   "execution_count": 9,
   "metadata": {
    "execution": {
     "iopub.execute_input": "2020-08-03T05:51:05.531924Z",
     "iopub.status.busy": "2020-08-03T05:51:05.531924Z",
     "iopub.status.idle": "2020-08-03T05:51:16.033144Z",
     "shell.execute_reply": "2020-08-03T05:51:16.033144Z",
     "shell.execute_reply.started": "2020-08-03T05:51:05.531924Z"
    }
   },
   "outputs": [
    {
     "data": {
      "text/plain": [
       "LassoCV()"
      ]
     },
     "execution_count": 9,
     "metadata": {},
     "output_type": "execute_result"
    }
   ],
   "source": [
    "lcv = LassoCV()\n",
    "lcv.fit(X, y)"
   ]
  },
  {
   "cell_type": "code",
   "execution_count": 10,
   "metadata": {
    "execution": {
     "iopub.execute_input": "2020-08-03T05:51:16.034141Z",
     "iopub.status.busy": "2020-08-03T05:51:16.034141Z",
     "iopub.status.idle": "2020-08-03T05:51:16.038152Z",
     "shell.execute_reply": "2020-08-03T05:51:16.038152Z",
     "shell.execute_reply.started": "2020-08-03T05:51:16.034141Z"
    }
   },
   "outputs": [],
   "source": [
    "lcv_mask = lcv.coef_ != 0\n",
    "\n",
    "var = sum(lcv_mask)"
   ]
  },
  {
   "cell_type": "code",
   "execution_count": 11,
   "metadata": {
    "execution": {
     "iopub.execute_input": "2020-08-03T05:51:16.039112Z",
     "iopub.status.busy": "2020-08-03T05:51:16.039112Z",
     "iopub.status.idle": "2020-08-03T05:58:10.172876Z",
     "shell.execute_reply": "2020-08-03T05:58:10.172876Z",
     "shell.execute_reply.started": "2020-08-03T05:51:16.039112Z"
    }
   },
   "outputs": [
    {
     "data": {
      "text/plain": [
       "RFE(estimator=LogisticRegression(max_iter=1000, multi_class='multinomial'),\n",
       "    n_features_to_select=185, step=5)"
      ]
     },
     "execution_count": 11,
     "metadata": {},
     "output_type": "execute_result"
    }
   ],
   "source": [
    "rfe_lr = RFE(estimator=LogisticRegression(multi_class='multinomial',\n",
    "                                          solver='lbfgs', max_iter=1000), n_features_to_select=var, step=5)\n",
    "rfe_lr.fit(X, y)"
   ]
  },
  {
   "cell_type": "code",
   "execution_count": 12,
   "metadata": {
    "execution": {
     "iopub.execute_input": "2020-08-03T05:58:10.174872Z",
     "iopub.status.busy": "2020-08-03T05:58:10.174872Z",
     "iopub.status.idle": "2020-08-03T06:07:09.368367Z",
     "shell.execute_reply": "2020-08-03T06:07:09.368367Z",
     "shell.execute_reply.started": "2020-08-03T05:58:10.174872Z"
    }
   },
   "outputs": [
    {
     "data": {
      "text/plain": [
       "RFE(estimator=RandomForestClassifier(), n_features_to_select=185, step=10)"
      ]
     },
     "execution_count": 12,
     "metadata": {},
     "output_type": "execute_result"
    }
   ],
   "source": [
    "rfe_rf = RFE(estimator=RandomForestClassifier(),\n",
    "             n_features_to_select=var, step=10)\n",
    "rfe_rf.fit(X, y)"
   ]
  },
  {
   "cell_type": "code",
   "execution_count": 13,
   "metadata": {
    "execution": {
     "iopub.execute_input": "2020-08-03T06:07:09.369326Z",
     "iopub.status.busy": "2020-08-03T06:07:09.369326Z",
     "iopub.status.idle": "2020-08-03T06:07:09.373347Z",
     "shell.execute_reply": "2020-08-03T06:07:09.373347Z",
     "shell.execute_reply.started": "2020-08-03T06:07:09.369326Z"
    }
   },
   "outputs": [],
   "source": [
    "lr_mask = rfe_lr.support_\n",
    "rf_mask = rfe_rf.support_"
   ]
  },
  {
   "cell_type": "code",
   "execution_count": 14,
   "metadata": {
    "execution": {
     "iopub.execute_input": "2020-08-03T06:07:09.374313Z",
     "iopub.status.busy": "2020-08-03T06:07:09.374313Z",
     "iopub.status.idle": "2020-08-03T06:07:09.382320Z",
     "shell.execute_reply": "2020-08-03T06:07:09.382320Z",
     "shell.execute_reply.started": "2020-08-03T06:07:09.374313Z"
    }
   },
   "outputs": [],
   "source": [
    "votes = np.sum([lcv_mask, lr_mask, rf_mask], axis=0)\n",
    "mask = votes == 3"
   ]
  },
  {
   "cell_type": "code",
   "execution_count": 15,
   "metadata": {
    "execution": {
     "iopub.execute_input": "2020-08-03T06:07:09.383289Z",
     "iopub.status.busy": "2020-08-03T06:07:09.383289Z",
     "iopub.status.idle": "2020-08-03T06:07:09.396255Z",
     "shell.execute_reply": "2020-08-03T06:07:09.396255Z",
     "shell.execute_reply.started": "2020-08-03T06:07:09.383289Z"
    }
   },
   "outputs": [],
   "source": [
    "X_select = X.loc[:, mask]"
   ]
  },
  {
   "cell_type": "code",
   "execution_count": 16,
   "metadata": {
    "execution": {
     "iopub.execute_input": "2020-08-03T06:07:09.397253Z",
     "iopub.status.busy": "2020-08-03T06:07:09.397253Z",
     "iopub.status.idle": "2020-08-03T06:07:09.402238Z",
     "shell.execute_reply": "2020-08-03T06:07:09.402238Z",
     "shell.execute_reply.started": "2020-08-03T06:07:09.397253Z"
    }
   },
   "outputs": [
    {
     "data": {
      "text/plain": [
       "(73815, 80)"
      ]
     },
     "execution_count": 16,
     "metadata": {},
     "output_type": "execute_result"
    }
   ],
   "source": [
    "X_select.shape"
   ]
  },
  {
   "cell_type": "code",
   "execution_count": 17,
   "metadata": {
    "execution": {
     "iopub.execute_input": "2020-08-03T06:07:09.404234Z",
     "iopub.status.busy": "2020-08-03T06:07:09.403237Z",
     "iopub.status.idle": "2020-08-03T06:07:10.191138Z",
     "shell.execute_reply": "2020-08-03T06:07:10.190290Z",
     "shell.execute_reply.started": "2020-08-03T06:07:09.404234Z"
    }
   },
   "outputs": [],
   "source": [
    "# df = pd.merge(X_select, y, left_index=True, right_index=True)\n",
    "\n",
    "X_select.to_csv('./data/session_df.csv')"
   ]
  }
 ],
 "metadata": {
  "kernelspec": {
   "display_name": "Python 3",
   "language": "python",
   "name": "python3"
  },
  "language_info": {
   "codemirror_mode": {
    "name": "ipython",
    "version": 3
   },
   "file_extension": ".py",
   "mimetype": "text/x-python",
   "name": "python",
   "nbconvert_exporter": "python",
   "pygments_lexer": "ipython3",
   "version": "3.7.1"
  }
 },
 "nbformat": 4,
 "nbformat_minor": 4
}
