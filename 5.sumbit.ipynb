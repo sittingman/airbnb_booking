{
 "cells": [
  {
   "cell_type": "markdown",
   "metadata": {},
   "source": [
    "# Data Submission to Kaggle"
   ]
  },
  {
   "cell_type": "code",
   "execution_count": 25,
   "metadata": {
    "execution": {
     "iopub.execute_input": "2020-08-14T06:05:59.599261Z",
     "iopub.status.busy": "2020-08-14T06:05:59.598264Z",
     "iopub.status.idle": "2020-08-14T06:05:59.603250Z",
     "shell.execute_reply": "2020-08-14T06:05:59.602419Z",
     "shell.execute_reply.started": "2020-08-14T06:05:59.599261Z"
    }
   },
   "outputs": [],
   "source": [
    "import pickle\n",
    "import warnings\n",
    "\n",
    "import numpy as np\n",
    "import pandas as pd\n",
    "from keras.models import load_model\n",
    "from lightgbm import LGBMClassifier\n",
    "from sklearn.ensemble import ExtraTreesClassifier, RandomForestClassifier\n",
    "from sklearn.preprocessing import LabelBinarizer, LabelEncoder\n",
    "\n",
    "warnings.filterwarnings(action='ignore')"
   ]
  },
  {
   "cell_type": "code",
   "execution_count": 2,
   "metadata": {
    "execution": {
     "iopub.execute_input": "2020-08-14T05:41:16.129814Z",
     "iopub.status.busy": "2020-08-14T05:41:16.129814Z",
     "iopub.status.idle": "2020-08-14T05:41:18.069938Z",
     "shell.execute_reply": "2020-08-14T05:41:18.069938Z",
     "shell.execute_reply.started": "2020-08-14T05:41:16.129814Z"
    }
   },
   "outputs": [],
   "source": [
    "train = pd.read_csv('./data/train_df.csv', index_col=0)"
   ]
  },
  {
   "cell_type": "code",
   "execution_count": 3,
   "metadata": {
    "execution": {
     "iopub.execute_input": "2020-08-14T05:41:18.071934Z",
     "iopub.status.busy": "2020-08-14T05:41:18.071934Z",
     "iopub.status.idle": "2020-08-14T05:41:18.804566Z",
     "shell.execute_reply": "2020-08-14T05:41:18.804566Z",
     "shell.execute_reply.started": "2020-08-14T05:41:18.071934Z"
    }
   },
   "outputs": [],
   "source": [
    "test = pd.read_csv('./data/test_df.csv', index_col=0)"
   ]
  },
  {
   "cell_type": "code",
   "execution_count": 4,
   "metadata": {
    "execution": {
     "iopub.execute_input": "2020-08-14T05:41:18.806561Z",
     "iopub.status.busy": "2020-08-14T05:41:18.806561Z",
     "iopub.status.idle": "2020-08-14T05:41:18.970663Z",
     "shell.execute_reply": "2020-08-14T05:41:18.970663Z",
     "shell.execute_reply.started": "2020-08-14T05:41:18.806561Z"
    }
   },
   "outputs": [
    {
     "data": {
      "text/plain": [
       "LabelBinarizer()"
      ]
     },
     "execution_count": 4,
     "metadata": {},
     "output_type": "execute_result"
    }
   ],
   "source": [
    "le = LabelEncoder()\n",
    "train['target'] = le.fit_transform(train['country_destination'])\n",
    "lb = LabelBinarizer()\n",
    "lb.fit(train['target'])"
   ]
  },
  {
   "cell_type": "code",
   "execution_count": 5,
   "metadata": {
    "execution": {
     "iopub.execute_input": "2020-08-14T05:41:18.972627Z",
     "iopub.status.busy": "2020-08-14T05:41:18.972627Z",
     "iopub.status.idle": "2020-08-14T05:41:19.103278Z",
     "shell.execute_reply": "2020-08-14T05:41:19.102280Z",
     "shell.execute_reply.started": "2020-08-14T05:41:18.972627Z"
    }
   },
   "outputs": [],
   "source": [
    "target = train['target']\n",
    "feature = train.drop(['target', 'country_destination'], axis=1)"
   ]
  },
  {
   "cell_type": "code",
   "execution_count": 6,
   "metadata": {
    "execution": {
     "iopub.execute_input": "2020-08-14T05:41:19.105272Z",
     "iopub.status.busy": "2020-08-14T05:41:19.104275Z",
     "iopub.status.idle": "2020-08-14T05:41:19.118237Z",
     "shell.execute_reply": "2020-08-14T05:41:19.117240Z",
     "shell.execute_reply.started": "2020-08-14T05:41:19.104275Z"
    }
   },
   "outputs": [],
   "source": [
    "def submit_data(name, pred):\n",
    "    \"\"\"function to submit data to kaggle \n",
    "    in the required form\n",
    "\n",
    "    Args:\n",
    "        name: name of the output csv file\n",
    "        pred: predictions generated from algorithm\n",
    "\n",
    "    Return:\n",
    "        csv file in the required kaggle format\n",
    "    \"\"\"\n",
    "    id_test = test.index.to_series()\n",
    "    ids = []\n",
    "    cts = []\n",
    "    for i in range(len(id_test)):\n",
    "        idx = id_test[i]\n",
    "        ids += [idx] * 5\n",
    "        cts += le.inverse_transform(np.argsort(pred[i])[::-1])[:5].tolist()\n",
    "    sub = pd.DataFrame(np.column_stack((ids, cts)), columns=['id', 'country'])\n",
    "    sub.to_csv('./data/'+name, index=False)"
   ]
  },
  {
   "cell_type": "markdown",
   "metadata": {},
   "source": [
    "### Base Models"
   ]
  },
  {
   "cell_type": "code",
   "execution_count": 7,
   "metadata": {
    "execution": {
     "iopub.execute_input": "2020-08-14T05:41:19.120232Z",
     "iopub.status.busy": "2020-08-14T05:41:19.119235Z",
     "iopub.status.idle": "2020-08-14T05:42:25.795341Z",
     "shell.execute_reply": "2020-08-14T05:42:25.794825Z",
     "shell.execute_reply.started": "2020-08-14T05:41:19.120232Z"
    }
   },
   "outputs": [],
   "source": [
    "rfc = RandomForestClassifier()\n",
    "rfc.fit(feature, target)\n",
    "rf_pred = rfc.predict_proba(test)"
   ]
  },
  {
   "cell_type": "code",
   "execution_count": 8,
   "metadata": {
    "execution": {
     "iopub.execute_input": "2020-08-14T05:42:25.795852Z",
     "iopub.status.busy": "2020-08-14T05:42:25.795852Z",
     "iopub.status.idle": "2020-08-14T05:42:34.506250Z",
     "shell.execute_reply": "2020-08-14T05:42:34.506250Z",
     "shell.execute_reply.started": "2020-08-14T05:42:25.795852Z"
    }
   },
   "outputs": [],
   "source": [
    "submit_data('rfc_base.csv', rf_pred)"
   ]
  },
  {
   "cell_type": "code",
   "execution_count": 9,
   "metadata": {
    "execution": {
     "iopub.execute_input": "2020-08-14T05:42:34.509242Z",
     "iopub.status.busy": "2020-08-14T05:42:34.508244Z",
     "iopub.status.idle": "2020-08-14T05:44:17.096379Z",
     "shell.execute_reply": "2020-08-14T05:44:17.095381Z",
     "shell.execute_reply.started": "2020-08-14T05:42:34.509242Z"
    }
   },
   "outputs": [],
   "source": [
    "et = ExtraTreesClassifier()\n",
    "et.fit(feature, target)\n",
    "et_pred = et.predict_proba(test)"
   ]
  },
  {
   "cell_type": "code",
   "execution_count": 10,
   "metadata": {
    "execution": {
     "iopub.execute_input": "2020-08-14T05:44:17.101365Z",
     "iopub.status.busy": "2020-08-14T05:44:17.099372Z",
     "iopub.status.idle": "2020-08-14T05:44:26.136056Z",
     "shell.execute_reply": "2020-08-14T05:44:26.135547Z",
     "shell.execute_reply.started": "2020-08-14T05:44:17.101365Z"
    }
   },
   "outputs": [],
   "source": [
    "submit_data('et_base.csv', et_pred)"
   ]
  },
  {
   "cell_type": "code",
   "execution_count": 11,
   "metadata": {
    "execution": {
     "iopub.execute_input": "2020-08-14T05:44:26.137559Z",
     "iopub.status.busy": "2020-08-14T05:44:26.136576Z",
     "iopub.status.idle": "2020-08-14T05:44:48.559057Z",
     "shell.execute_reply": "2020-08-14T05:44:48.558060Z",
     "shell.execute_reply.started": "2020-08-14T05:44:26.137559Z"
    }
   },
   "outputs": [],
   "source": [
    "lgb = LGBMClassifier()\n",
    "lgb.fit(feature, target)\n",
    "lgb_pred = lgb.predict_proba(test)"
   ]
  },
  {
   "cell_type": "code",
   "execution_count": 12,
   "metadata": {
    "execution": {
     "iopub.execute_input": "2020-08-14T05:44:48.562049Z",
     "iopub.status.busy": "2020-08-14T05:44:48.561052Z",
     "iopub.status.idle": "2020-08-14T05:44:57.745440Z",
     "shell.execute_reply": "2020-08-14T05:44:57.745440Z",
     "shell.execute_reply.started": "2020-08-14T05:44:48.561052Z"
    }
   },
   "outputs": [],
   "source": [
    "submit_data('lgb_base.csv', lgb_pred)"
   ]
  },
  {
   "cell_type": "markdown",
   "metadata": {},
   "source": [
    "### Tunned Models"
   ]
  },
  {
   "cell_type": "code",
   "execution_count": 13,
   "metadata": {
    "execution": {
     "iopub.execute_input": "2020-08-14T05:44:57.746431Z",
     "iopub.status.busy": "2020-08-14T05:44:57.746431Z",
     "iopub.status.idle": "2020-08-14T05:44:59.451993Z",
     "shell.execute_reply": "2020-08-14T05:44:59.451993Z",
     "shell.execute_reply.started": "2020-08-14T05:44:57.746431Z"
    }
   },
   "outputs": [
    {
     "name": "stderr",
     "output_type": "stream",
     "text": [
      "C:\\Users\\sit_k\\AppData\\Local\\Continuum\\anaconda3\\lib\\site-packages\\ipykernel_launcher.py:1: ResourceWarning: unclosed file <_io.BufferedReader name='./data/rf_tuned.sav'>\n",
      "  \"\"\"Entry point for launching an IPython kernel.\n"
     ]
    }
   ],
   "source": [
    "rf_tuned = pickle.load(open('./data/rf_tuned.sav', 'rb'))\n",
    "rf_tuned_pred = rf_tuned.predict_proba(test)"
   ]
  },
  {
   "cell_type": "code",
   "execution_count": 14,
   "metadata": {
    "execution": {
     "iopub.execute_input": "2020-08-14T05:44:59.453988Z",
     "iopub.status.busy": "2020-08-14T05:44:59.452990Z",
     "iopub.status.idle": "2020-08-14T05:44:59.460970Z",
     "shell.execute_reply": "2020-08-14T05:44:59.459972Z",
     "shell.execute_reply.started": "2020-08-14T05:44:59.453988Z"
    }
   },
   "outputs": [
    {
     "data": {
      "text/plain": [
       "RandomForestClassifier(max_depth=16, min_impurity_split=8, min_samples_leaf=8,\n",
       "                       n_estimators=210)"
      ]
     },
     "execution_count": 14,
     "metadata": {},
     "output_type": "execute_result"
    }
   ],
   "source": [
    "rf_tuned"
   ]
  },
  {
   "cell_type": "code",
   "execution_count": 15,
   "metadata": {
    "execution": {
     "iopub.execute_input": "2020-08-14T05:44:59.462966Z",
     "iopub.status.busy": "2020-08-14T05:44:59.461969Z",
     "iopub.status.idle": "2020-08-14T05:45:07.973699Z",
     "shell.execute_reply": "2020-08-14T05:45:07.973699Z",
     "shell.execute_reply.started": "2020-08-14T05:44:59.462966Z"
    }
   },
   "outputs": [],
   "source": [
    "submit_data('rf_tuned.csv', rf_tuned_pred)"
   ]
  },
  {
   "cell_type": "code",
   "execution_count": 16,
   "metadata": {
    "execution": {
     "iopub.execute_input": "2020-08-14T05:45:07.975697Z",
     "iopub.status.busy": "2020-08-14T05:45:07.974698Z",
     "iopub.status.idle": "2020-08-14T05:45:43.958436Z",
     "shell.execute_reply": "2020-08-14T05:45:43.958436Z",
     "shell.execute_reply.started": "2020-08-14T05:45:07.975697Z"
    }
   },
   "outputs": [
    {
     "name": "stderr",
     "output_type": "stream",
     "text": [
      "C:\\Users\\sit_k\\AppData\\Local\\Continuum\\anaconda3\\lib\\site-packages\\ipykernel_launcher.py:1: ResourceWarning: unclosed file <_io.BufferedReader name='./data/et_tuned.sav'>\n",
      "  \"\"\"Entry point for launching an IPython kernel.\n"
     ]
    }
   ],
   "source": [
    "et_tuned = pickle.load(open('./data/et_tuned.sav', 'rb'))\n",
    "et_tuned_pred = et_tuned.predict_proba(test)"
   ]
  },
  {
   "cell_type": "code",
   "execution_count": 17,
   "metadata": {
    "execution": {
     "iopub.execute_input": "2020-08-14T05:45:43.960431Z",
     "iopub.status.busy": "2020-08-14T05:45:43.959433Z",
     "iopub.status.idle": "2020-08-14T05:45:43.965418Z",
     "shell.execute_reply": "2020-08-14T05:45:43.964449Z",
     "shell.execute_reply.started": "2020-08-14T05:45:43.960431Z"
    }
   },
   "outputs": [
    {
     "data": {
      "text/plain": [
       "ExtraTreesClassifier(max_depth=24, min_samples_leaf=8, min_samples_split=8,\n",
       "                     n_estimators=1990)"
      ]
     },
     "execution_count": 17,
     "metadata": {},
     "output_type": "execute_result"
    }
   ],
   "source": [
    "et_tuned"
   ]
  },
  {
   "cell_type": "code",
   "execution_count": 18,
   "metadata": {
    "execution": {
     "iopub.execute_input": "2020-08-14T05:45:43.966416Z",
     "iopub.status.busy": "2020-08-14T05:45:43.966416Z",
     "iopub.status.idle": "2020-08-14T05:45:53.117565Z",
     "shell.execute_reply": "2020-08-14T05:45:53.117565Z",
     "shell.execute_reply.started": "2020-08-14T05:45:43.966416Z"
    }
   },
   "outputs": [],
   "source": [
    "submit_data('et_tuned.csv', et_tuned_pred)"
   ]
  },
  {
   "cell_type": "code",
   "execution_count": 19,
   "metadata": {
    "execution": {
     "iopub.execute_input": "2020-08-14T05:45:53.119561Z",
     "iopub.status.busy": "2020-08-14T05:45:53.118562Z",
     "iopub.status.idle": "2020-08-14T05:46:02.715856Z",
     "shell.execute_reply": "2020-08-14T05:46:02.715856Z",
     "shell.execute_reply.started": "2020-08-14T05:45:53.119561Z"
    }
   },
   "outputs": [
    {
     "name": "stderr",
     "output_type": "stream",
     "text": [
      "C:\\Users\\sit_k\\AppData\\Local\\Continuum\\anaconda3\\lib\\site-packages\\ipykernel_launcher.py:1: ResourceWarning: unclosed file <_io.BufferedReader name='./data/lgb_tuned.sav'>\n",
      "  \"\"\"Entry point for launching an IPython kernel.\n"
     ]
    }
   ],
   "source": [
    "lgb_tuned = pickle.load(open('./data/lgb_tuned.sav', 'rb'))\n",
    "lgb_tuned_pred = lgb_tuned.predict_proba(test)"
   ]
  },
  {
   "cell_type": "code",
   "execution_count": 20,
   "metadata": {
    "execution": {
     "iopub.execute_input": "2020-08-14T05:46:02.718849Z",
     "iopub.status.busy": "2020-08-14T05:46:02.717851Z",
     "iopub.status.idle": "2020-08-14T05:46:02.726862Z",
     "shell.execute_reply": "2020-08-14T05:46:02.725356Z",
     "shell.execute_reply.started": "2020-08-14T05:46:02.717851Z"
    }
   },
   "outputs": [
    {
     "data": {
      "text/plain": [
       "LGBMClassifier(learning_rate=0.05, max_depth=25, min_child_samples=150,\n",
       "               n_estimators=220, num_leaves=60)"
      ]
     },
     "execution_count": 20,
     "metadata": {},
     "output_type": "execute_result"
    }
   ],
   "source": [
    "lgb_tuned"
   ]
  },
  {
   "cell_type": "code",
   "execution_count": 21,
   "metadata": {
    "execution": {
     "iopub.execute_input": "2020-08-14T05:46:02.728858Z",
     "iopub.status.busy": "2020-08-14T05:46:02.728858Z",
     "iopub.status.idle": "2020-08-14T05:46:11.855782Z",
     "shell.execute_reply": "2020-08-14T05:46:11.855782Z",
     "shell.execute_reply.started": "2020-08-14T05:46:02.728858Z"
    }
   },
   "outputs": [],
   "source": [
    "submit_data('lgb_tuned.csv', lgb_tuned_pred)"
   ]
  },
  {
   "cell_type": "markdown",
   "metadata": {},
   "source": [
    "### Deep Learning Model"
   ]
  },
  {
   "cell_type": "code",
   "execution_count": 22,
   "metadata": {
    "execution": {
     "iopub.execute_input": "2020-08-14T05:46:11.856744Z",
     "iopub.status.busy": "2020-08-14T05:46:11.856744Z",
     "iopub.status.idle": "2020-08-14T05:46:13.233434Z",
     "shell.execute_reply": "2020-08-14T05:46:13.232470Z",
     "shell.execute_reply.started": "2020-08-14T05:46:11.856744Z"
    }
   },
   "outputs": [
    {
     "name": "stdout",
     "output_type": "stream",
     "text": [
      "WARNING:tensorflow:From C:\\Users\\sit_k\\AppData\\Local\\Continuum\\anaconda3\\lib\\site-packages\\tensorflow\\python\\ops\\math_grad.py:1250: add_dispatch_support.<locals>.wrapper (from tensorflow.python.ops.array_ops) is deprecated and will be removed in a future version.\n",
      "Instructions for updating:\n",
      "Use tf.where in 2.0, which has the same broadcast rule as np.where\n",
      "WARNING:tensorflow:From C:\\Users\\sit_k\\AppData\\Local\\Continuum\\anaconda3\\lib\\site-packages\\keras\\backend\\tensorflow_backend.py:422: The name tf.global_variables is deprecated. Please use tf.compat.v1.global_variables instead.\n",
      "\n"
     ]
    }
   ],
   "source": [
    "deep_mod = load_model('./data/deep_learn.tf')"
   ]
  },
  {
   "cell_type": "code",
   "execution_count": 23,
   "metadata": {
    "execution": {
     "iopub.execute_input": "2020-08-14T05:46:13.234432Z",
     "iopub.status.busy": "2020-08-14T05:46:13.234432Z",
     "iopub.status.idle": "2020-08-14T05:46:14.502498Z",
     "shell.execute_reply": "2020-08-14T05:46:14.501500Z",
     "shell.execute_reply.started": "2020-08-14T05:46:13.234432Z"
    }
   },
   "outputs": [],
   "source": [
    "deep_mod_pred = deep_mod.predict_proba(test)"
   ]
  },
  {
   "cell_type": "code",
   "execution_count": 24,
   "metadata": {
    "execution": {
     "iopub.execute_input": "2020-08-14T05:46:14.504492Z",
     "iopub.status.busy": "2020-08-14T05:46:14.503495Z",
     "iopub.status.idle": "2020-08-14T05:46:24.344176Z",
     "shell.execute_reply": "2020-08-14T05:46:24.344176Z",
     "shell.execute_reply.started": "2020-08-14T05:46:14.504492Z"
    }
   },
   "outputs": [],
   "source": [
    "submit_data('deep_learn.csv', deep_mod_pred)"
   ]
  }
 ],
 "metadata": {
  "kernelspec": {
   "display_name": "Python 3",
   "language": "python",
   "name": "python3"
  },
  "language_info": {
   "codemirror_mode": {
    "name": "ipython",
    "version": 3
   },
   "file_extension": ".py",
   "mimetype": "text/x-python",
   "name": "python",
   "nbconvert_exporter": "python",
   "pygments_lexer": "ipython3",
   "version": "3.7.1"
  }
 },
 "nbformat": 4,
 "nbformat_minor": 4
}
