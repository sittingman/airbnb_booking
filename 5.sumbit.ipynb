{
 "cells": [
  {
   "cell_type": "markdown",
   "metadata": {},
   "source": [
    "# Data Submission to Kaggle"
   ]
  },
  {
   "cell_type": "code",
   "execution_count": 1,
   "metadata": {
    "execution": {
     "iopub.execute_input": "2020-08-08T02:28:33.625145Z",
     "iopub.status.busy": "2020-08-08T02:28:33.624121Z",
     "iopub.status.idle": "2020-08-08T02:28:34.484452Z",
     "shell.execute_reply": "2020-08-08T02:28:34.484452Z",
     "shell.execute_reply.started": "2020-08-08T02:28:33.625145Z"
    }
   },
   "outputs": [],
   "source": [
    "import numpy as np\n",
    "import pandas as pd\n",
    "import pickle\n",
    "from sklearn.ensemble import ExtraTreesClassifier, RandomForestClassifier\n",
    "from lightgbm import LGBMClassifier\n",
    "from sklearn.preprocessing import LabelBinarizer, LabelEncoder"
   ]
  },
  {
   "cell_type": "code",
   "execution_count": 2,
   "metadata": {
    "execution": {
     "iopub.execute_input": "2020-08-08T02:28:34.486446Z",
     "iopub.status.busy": "2020-08-08T02:28:34.486446Z",
     "iopub.status.idle": "2020-08-08T02:28:36.213865Z",
     "shell.execute_reply": "2020-08-08T02:28:36.213865Z",
     "shell.execute_reply.started": "2020-08-08T02:28:34.486446Z"
    }
   },
   "outputs": [],
   "source": [
    "train = pd.read_csv('./data/train_df.csv', index_col=0)"
   ]
  },
  {
   "cell_type": "code",
   "execution_count": 3,
   "metadata": {
    "execution": {
     "iopub.execute_input": "2020-08-08T02:28:36.215823Z",
     "iopub.status.busy": "2020-08-08T02:28:36.214824Z",
     "iopub.status.idle": "2020-08-08T02:28:36.707507Z",
     "shell.execute_reply": "2020-08-08T02:28:36.707507Z",
     "shell.execute_reply.started": "2020-08-08T02:28:36.215823Z"
    }
   },
   "outputs": [],
   "source": [
    "test = pd.read_csv('./data/test_df.csv', index_col=0)"
   ]
  },
  {
   "cell_type": "code",
   "execution_count": 4,
   "metadata": {
    "execution": {
     "iopub.execute_input": "2020-08-08T02:28:37.016709Z",
     "iopub.status.busy": "2020-08-08T02:28:37.015683Z",
     "iopub.status.idle": "2020-08-08T02:28:37.137358Z",
     "shell.execute_reply": "2020-08-08T02:28:37.137358Z",
     "shell.execute_reply.started": "2020-08-08T02:28:37.016709Z"
    }
   },
   "outputs": [
    {
     "data": {
      "text/plain": [
       "LabelBinarizer()"
      ]
     },
     "execution_count": 4,
     "metadata": {},
     "output_type": "execute_result"
    }
   ],
   "source": [
    "le = LabelEncoder()\n",
    "train['target'] = le.fit_transform(train['country_destination'])\n",
    "lb = LabelBinarizer()\n",
    "lb.fit(train['target'])"
   ]
  },
  {
   "cell_type": "code",
   "execution_count": 5,
   "metadata": {
    "execution": {
     "iopub.execute_input": "2020-08-08T02:28:37.741755Z",
     "iopub.status.busy": "2020-08-08T02:28:37.740756Z",
     "iopub.status.idle": "2020-08-08T02:28:37.820544Z",
     "shell.execute_reply": "2020-08-08T02:28:37.819582Z",
     "shell.execute_reply.started": "2020-08-08T02:28:37.741755Z"
    }
   },
   "outputs": [],
   "source": [
    "target = train['target']\n",
    "feature = train.drop(['target', 'country_destination'], axis=1)"
   ]
  },
  {
   "cell_type": "code",
   "execution_count": 10,
   "metadata": {
    "execution": {
     "iopub.execute_input": "2020-08-08T02:30:43.794300Z",
     "iopub.status.busy": "2020-08-08T02:30:43.794300Z",
     "iopub.status.idle": "2020-08-08T02:30:43.800315Z",
     "shell.execute_reply": "2020-08-08T02:30:43.800315Z",
     "shell.execute_reply.started": "2020-08-08T02:30:43.794300Z"
    }
   },
   "outputs": [],
   "source": [
    "def submit_data(name, pred):\n",
    "    \"\"\"function to submit data to kaggle \n",
    "    in the required form\n",
    "\n",
    "    Args:\n",
    "        name: name of the output csv file\n",
    "        pred: predictions generated from algorithm\n",
    "\n",
    "    Return:\n",
    "        csv file in the required kaggle format\n",
    "    \"\"\"\n",
    "    id_test = test.index.to_series()\n",
    "    ids = []\n",
    "    cts = []\n",
    "    for i in range(len(id_test)):\n",
    "        idx = id_test[i]\n",
    "        ids += [idx] * 5\n",
    "        cts += le.inverse_transform(np.argsort(pred[i])[::-1])[:5].tolist()\n",
    "    sub = pd.DataFrame(np.column_stack((ids, cts)), columns=['id', 'country'])\n",
    "    sub.to_csv('./data/'+name, index=False)"
   ]
  },
  {
   "cell_type": "code",
   "execution_count": 6,
   "metadata": {
    "execution": {
     "iopub.execute_input": "2020-08-06T02:08:10.142779Z",
     "iopub.status.busy": "2020-08-06T02:08:10.141765Z",
     "iopub.status.idle": "2020-08-06T02:08:59.184517Z",
     "shell.execute_reply": "2020-08-06T02:08:59.184517Z",
     "shell.execute_reply.started": "2020-08-06T02:08:10.142779Z"
    }
   },
   "outputs": [],
   "source": [
    "rfc = RandomForestClassifier()\n",
    "rfc.fit(feature, target)\n",
    "rf_pred = rfc.predict_proba(test)"
   ]
  },
  {
   "cell_type": "code",
   "execution_count": 51,
   "metadata": {
    "execution": {
     "iopub.execute_input": "2020-08-06T02:50:49.181479Z",
     "iopub.status.busy": "2020-08-06T02:50:49.180445Z",
     "iopub.status.idle": "2020-08-06T02:50:54.499809Z",
     "shell.execute_reply": "2020-08-06T02:50:54.499522Z",
     "shell.execute_reply.started": "2020-08-06T02:50:49.181479Z"
    }
   },
   "outputs": [],
   "source": [
    "submit_data('rfc_base.csv', rf_pred)"
   ]
  },
  {
   "cell_type": "code",
   "execution_count": 15,
   "metadata": {
    "execution": {
     "iopub.execute_input": "2020-08-08T02:34:31.793867Z",
     "iopub.status.busy": "2020-08-08T02:34:31.792899Z",
     "iopub.status.idle": "2020-08-08T02:35:37.644443Z",
     "shell.execute_reply": "2020-08-08T02:35:37.644443Z",
     "shell.execute_reply.started": "2020-08-08T02:34:31.793867Z"
    }
   },
   "outputs": [],
   "source": [
    "et = ExtraTreesClassifier()\n",
    "et.fit(feature, target)\n",
    "et_pred = et.predict_proba(test)"
   ]
  },
  {
   "cell_type": "code",
   "execution_count": 16,
   "metadata": {
    "execution": {
     "iopub.execute_input": "2020-08-08T02:35:37.645431Z",
     "iopub.status.busy": "2020-08-08T02:35:37.645431Z",
     "iopub.status.idle": "2020-08-08T02:35:42.930442Z",
     "shell.execute_reply": "2020-08-08T02:35:42.929934Z",
     "shell.execute_reply.started": "2020-08-08T02:35:37.645431Z"
    }
   },
   "outputs": [],
   "source": [
    "submit_data('et_base.csv', et_pred)"
   ]
  },
  {
   "cell_type": "code",
   "execution_count": 17,
   "metadata": {
    "execution": {
     "iopub.execute_input": "2020-08-08T02:35:42.931441Z",
     "iopub.status.busy": "2020-08-08T02:35:42.931441Z",
     "iopub.status.idle": "2020-08-08T02:35:59.394790Z",
     "shell.execute_reply": "2020-08-08T02:35:59.393794Z",
     "shell.execute_reply.started": "2020-08-08T02:35:42.931441Z"
    }
   },
   "outputs": [],
   "source": [
    "lgb = LGBMClassifier()\n",
    "lgb.fit(feature, target)\n",
    "lgb_pred = lgb.predict_proba(test)"
   ]
  },
  {
   "cell_type": "code",
   "execution_count": 18,
   "metadata": {
    "execution": {
     "iopub.execute_input": "2020-08-08T02:35:59.396784Z",
     "iopub.status.busy": "2020-08-08T02:35:59.395788Z",
     "iopub.status.idle": "2020-08-08T02:36:05.683471Z",
     "shell.execute_reply": "2020-08-08T02:36:05.683471Z",
     "shell.execute_reply.started": "2020-08-08T02:35:59.396784Z"
    }
   },
   "outputs": [],
   "source": [
    "submit_data('lgb_base.csv', lgb_pred)"
   ]
  },
  {
   "cell_type": "code",
   "execution_count": 19,
   "metadata": {
    "execution": {
     "iopub.execute_input": "2020-08-08T02:38:48.797993Z",
     "iopub.status.busy": "2020-08-08T02:38:48.797993Z",
     "iopub.status.idle": "2020-08-08T02:38:52.979592Z",
     "shell.execute_reply": "2020-08-08T02:38:52.979097Z",
     "shell.execute_reply.started": "2020-08-08T02:38:48.797993Z"
    }
   },
   "outputs": [],
   "source": [
    "rf_tuned = pickle.load(open('./data/rf_tuned.sav', 'rb'))\n",
    "rf_tuned_pred = rf_tuned.predict_proba(test)"
   ]
  },
  {
   "cell_type": "code",
   "execution_count": 20,
   "metadata": {
    "execution": {
     "iopub.execute_input": "2020-08-08T02:38:52.980592Z",
     "iopub.status.busy": "2020-08-08T02:38:52.980592Z",
     "iopub.status.idle": "2020-08-08T02:38:52.985135Z",
     "shell.execute_reply": "2020-08-08T02:38:52.985135Z",
     "shell.execute_reply.started": "2020-08-08T02:38:52.980592Z"
    }
   },
   "outputs": [
    {
     "data": {
      "text/plain": [
       "RandomForestClassifier(max_depth=16, min_impurity_split=10, min_samples_leaf=5,\n",
       "                       n_estimators=1000)"
      ]
     },
     "execution_count": 20,
     "metadata": {},
     "output_type": "execute_result"
    }
   ],
   "source": [
    "rf_tuned"
   ]
  },
  {
   "cell_type": "code",
   "execution_count": 21,
   "metadata": {
    "execution": {
     "iopub.execute_input": "2020-08-08T02:38:52.986134Z",
     "iopub.status.busy": "2020-08-08T02:38:52.986134Z",
     "iopub.status.idle": "2020-08-08T02:38:58.065332Z",
     "shell.execute_reply": "2020-08-08T02:38:58.064489Z",
     "shell.execute_reply.started": "2020-08-08T02:38:52.986134Z"
    }
   },
   "outputs": [],
   "source": [
    "submit_data('rf_tuned.csv', rf_tuned_pred)"
   ]
  },
  {
   "cell_type": "code",
   "execution_count": 22,
   "metadata": {
    "execution": {
     "iopub.execute_input": "2020-08-08T02:41:49.460674Z",
     "iopub.status.busy": "2020-08-08T02:41:49.460674Z",
     "iopub.status.idle": "2020-08-08T02:42:09.769250Z",
     "shell.execute_reply": "2020-08-08T02:42:09.769250Z",
     "shell.execute_reply.started": "2020-08-08T02:41:49.460674Z"
    }
   },
   "outputs": [],
   "source": [
    "et_tuned = pickle.load(open('./data/et_tuned.sav', 'rb'))\n",
    "et_tuned_pred = et_tuned.predict_proba(test)"
   ]
  },
  {
   "cell_type": "code",
   "execution_count": 23,
   "metadata": {
    "execution": {
     "iopub.execute_input": "2020-08-08T02:42:09.771306Z",
     "iopub.status.busy": "2020-08-08T02:42:09.770248Z",
     "iopub.status.idle": "2020-08-08T02:42:09.777261Z",
     "shell.execute_reply": "2020-08-08T02:42:09.777261Z",
     "shell.execute_reply.started": "2020-08-08T02:42:09.771306Z"
    }
   },
   "outputs": [
    {
     "data": {
      "text/plain": [
       "ExtraTreesClassifier(max_depth=24, min_samples_leaf=8, min_samples_split=8,\n",
       "                     n_estimators=1990)"
      ]
     },
     "execution_count": 23,
     "metadata": {},
     "output_type": "execute_result"
    }
   ],
   "source": [
    "et_tuned"
   ]
  },
  {
   "cell_type": "code",
   "execution_count": 24,
   "metadata": {
    "execution": {
     "iopub.execute_input": "2020-08-08T02:44:49.201206Z",
     "iopub.status.busy": "2020-08-08T02:44:49.201206Z",
     "iopub.status.idle": "2020-08-08T02:44:54.339021Z",
     "shell.execute_reply": "2020-08-08T02:44:54.338137Z",
     "shell.execute_reply.started": "2020-08-08T02:44:49.201206Z"
    }
   },
   "outputs": [],
   "source": [
    "submit_data('et_tuned.csv', et_tuned_pred)"
   ]
  },
  {
   "cell_type": "code",
   "execution_count": null,
   "metadata": {},
   "outputs": [],
   "source": []
  }
 ],
 "metadata": {
  "kernelspec": {
   "display_name": "Python 3",
   "language": "python",
   "name": "python3"
  },
  "language_info": {
   "codemirror_mode": {
    "name": "ipython",
    "version": 3
   },
   "file_extension": ".py",
   "mimetype": "text/x-python",
   "name": "python",
   "nbconvert_exporter": "python",
   "pygments_lexer": "ipython3",
   "version": "3.7.1"
  }
 },
 "nbformat": 4,
 "nbformat_minor": 4
}
