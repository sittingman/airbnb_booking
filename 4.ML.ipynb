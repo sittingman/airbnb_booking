{
 "cells": [
  {
   "cell_type": "markdown",
   "metadata": {},
   "source": [
    "# Machine Learning"
   ]
  },
  {
   "cell_type": "code",
   "execution_count": 1,
   "metadata": {
    "execution": {
     "iopub.execute_input": "2020-08-04T02:56:54.727240Z",
     "iopub.status.busy": "2020-08-04T02:56:54.726242Z",
     "iopub.status.idle": "2020-08-04T02:56:59.936283Z",
     "shell.execute_reply": "2020-08-04T02:56:59.935258Z",
     "shell.execute_reply.started": "2020-08-04T02:56:54.726242Z"
    }
   },
   "outputs": [],
   "source": [
    "import warnings\n",
    "\n",
    "import numpy as np\n",
    "import pandas as pd\n",
    "from lightgbm import LGBMClassifier\n",
    "from sklearn.compose import TransformedTargetRegressor\n",
    "from sklearn.dummy import DummyClassifier\n",
    "from sklearn.ensemble import (\n",
    "    ExtraTreesClassifier,\n",
    "    GradientBoostingClassifier,\n",
    "    RandomForestClassifier,\n",
    ")\n",
    "from sklearn.linear_model import LogisticRegression, RidgeClassifier\n",
    "from sklearn.metrics import ndcg_score, roc_auc_score\n",
    "from sklearn.model_selection import KFold, cross_validate, train_test_split\n",
    "from sklearn.neighbors import KNeighborsClassifier\n",
    "from sklearn.preprocessing import LabelBinarizer, LabelEncoder\n",
    "from xgboost.sklearn import XGBClassifier\n",
    "\n",
    "warnings.simplefilter(action='ignore', category=FutureWarning)"
   ]
  },
  {
   "cell_type": "code",
   "execution_count": 2,
   "metadata": {
    "execution": {
     "iopub.execute_input": "2020-08-04T02:56:59.937250Z",
     "iopub.status.busy": "2020-08-04T02:56:59.937250Z",
     "iopub.status.idle": "2020-08-04T02:57:02.282083Z",
     "shell.execute_reply": "2020-08-04T02:57:02.281086Z",
     "shell.execute_reply.started": "2020-08-04T02:56:59.937250Z"
    }
   },
   "outputs": [],
   "source": [
    "train = pd.read_csv('./data/train_df.csv', index_col=0)"
   ]
  },
  {
   "cell_type": "code",
   "execution_count": 3,
   "metadata": {
    "execution": {
     "iopub.execute_input": "2020-08-04T02:57:02.283080Z",
     "iopub.status.busy": "2020-08-04T02:57:02.283080Z",
     "iopub.status.idle": "2020-08-04T02:57:02.439662Z",
     "shell.execute_reply": "2020-08-04T02:57:02.438664Z",
     "shell.execute_reply.started": "2020-08-04T02:57:02.283080Z"
    }
   },
   "outputs": [
    {
     "data": {
      "text/plain": [
       "LabelBinarizer()"
      ]
     },
     "execution_count": 3,
     "metadata": {},
     "output_type": "execute_result"
    }
   ],
   "source": [
    "le = LabelEncoder()\n",
    "train['target'] = le.fit_transform(train['country_destination'])\n",
    "lb = LabelBinarizer()\n",
    "lb.fit(train['target'])"
   ]
  },
  {
   "cell_type": "code",
   "execution_count": 4,
   "metadata": {
    "execution": {
     "iopub.execute_input": "2020-08-04T02:57:02.440659Z",
     "iopub.status.busy": "2020-08-04T02:57:02.440659Z",
     "iopub.status.idle": "2020-08-04T02:57:02.444660Z",
     "shell.execute_reply": "2020-08-04T02:57:02.444660Z",
     "shell.execute_reply.started": "2020-08-04T02:57:02.440659Z"
    }
   },
   "outputs": [
    {
     "data": {
      "text/plain": [
       "{0: 'AU',\n",
       " 1: 'CA',\n",
       " 2: 'DE',\n",
       " 3: 'ES',\n",
       " 4: 'FR',\n",
       " 5: 'GB',\n",
       " 6: 'IT',\n",
       " 7: 'NDF',\n",
       " 8: 'NL',\n",
       " 9: 'PT',\n",
       " 10: 'US',\n",
       " 11: 'other'}"
      ]
     },
     "execution_count": 4,
     "metadata": {},
     "output_type": "execute_result"
    }
   ],
   "source": [
    "mapping = dict(zip(range(len(le.classes_)), le.classes_))\n",
    "mapping"
   ]
  },
  {
   "cell_type": "code",
   "execution_count": 5,
   "metadata": {
    "execution": {
     "iopub.execute_input": "2020-08-04T02:57:02.446642Z",
     "iopub.status.busy": "2020-08-04T02:57:02.445645Z",
     "iopub.status.idle": "2020-08-04T02:57:02.559340Z",
     "shell.execute_reply": "2020-08-04T02:57:02.559340Z",
     "shell.execute_reply.started": "2020-08-04T02:57:02.446642Z"
    }
   },
   "outputs": [],
   "source": [
    "target = train['target']\n",
    "feature = train.drop(['target', 'country_destination'], axis=1)"
   ]
  },
  {
   "cell_type": "code",
   "execution_count": 6,
   "metadata": {
    "execution": {
     "iopub.execute_input": "2020-08-04T02:57:02.560338Z",
     "iopub.status.busy": "2020-08-04T02:57:02.560338Z",
     "iopub.status.idle": "2020-08-04T02:57:02.578290Z",
     "shell.execute_reply": "2020-08-04T02:57:02.578290Z",
     "shell.execute_reply.started": "2020-08-04T02:57:02.560338Z"
    }
   },
   "outputs": [
    {
     "name": "stdout",
     "output_type": "stream",
     "text": [
      "(213451,) (213451, 125)\n"
     ]
    }
   ],
   "source": [
    "print(target.shape, feature.shape)"
   ]
  },
  {
   "cell_type": "code",
   "execution_count": 7,
   "metadata": {
    "execution": {
     "iopub.execute_input": "2020-08-04T02:57:02.580285Z",
     "iopub.status.busy": "2020-08-04T02:57:02.580285Z",
     "iopub.status.idle": "2020-08-04T02:57:02.653093Z",
     "shell.execute_reply": "2020-08-04T02:57:02.652101Z",
     "shell.execute_reply.started": "2020-08-04T02:57:02.580285Z"
    }
   },
   "outputs": [
    {
     "data": {
      "text/html": [
       "<div>\n",
       "<style scoped>\n",
       "    .dataframe tbody tr th:only-of-type {\n",
       "        vertical-align: middle;\n",
       "    }\n",
       "\n",
       "    .dataframe tbody tr th {\n",
       "        vertical-align: top;\n",
       "    }\n",
       "\n",
       "    .dataframe thead th {\n",
       "        text-align: right;\n",
       "    }\n",
       "</style>\n",
       "<table border=\"1\" class=\"dataframe\">\n",
       "  <thead>\n",
       "    <tr style=\"text-align: right;\">\n",
       "      <th></th>\n",
       "      <th>signup_method_facebook</th>\n",
       "      <th>signup_method_google</th>\n",
       "      <th>affiliate_channel_content</th>\n",
       "      <th>affiliate_channel_direct</th>\n",
       "      <th>affiliate_channel_other</th>\n",
       "      <th>affiliate_channel_remarketing</th>\n",
       "      <th>affiliate_channel_sem-brand</th>\n",
       "      <th>affiliate_channel_sem-non-brand</th>\n",
       "      <th>affiliate_channel_seo</th>\n",
       "      <th>signup_app_Moweb</th>\n",
       "      <th>...</th>\n",
       "      <th>action_detail_view_listing</th>\n",
       "      <th>action_detail_wishlist</th>\n",
       "      <th>action_detail_your_listings</th>\n",
       "      <th>action_detail_your_trips</th>\n",
       "      <th>device_type_Blackberry</th>\n",
       "      <th>device_type_Chromebook</th>\n",
       "      <th>device_type_Linux Desktop</th>\n",
       "      <th>device_type_Mac Desktop</th>\n",
       "      <th>device_type_Windows Desktop</th>\n",
       "      <th>device_type_iPodtouch</th>\n",
       "    </tr>\n",
       "    <tr>\n",
       "      <th>id</th>\n",
       "      <th></th>\n",
       "      <th></th>\n",
       "      <th></th>\n",
       "      <th></th>\n",
       "      <th></th>\n",
       "      <th></th>\n",
       "      <th></th>\n",
       "      <th></th>\n",
       "      <th></th>\n",
       "      <th></th>\n",
       "      <th></th>\n",
       "      <th></th>\n",
       "      <th></th>\n",
       "      <th></th>\n",
       "      <th></th>\n",
       "      <th></th>\n",
       "      <th></th>\n",
       "      <th></th>\n",
       "      <th></th>\n",
       "      <th></th>\n",
       "      <th></th>\n",
       "    </tr>\n",
       "  </thead>\n",
       "  <tbody>\n",
       "    <tr>\n",
       "      <th>gxn3p5htnn</th>\n",
       "      <td>1</td>\n",
       "      <td>0</td>\n",
       "      <td>0</td>\n",
       "      <td>1</td>\n",
       "      <td>0</td>\n",
       "      <td>0</td>\n",
       "      <td>0</td>\n",
       "      <td>0</td>\n",
       "      <td>0</td>\n",
       "      <td>0</td>\n",
       "      <td>...</td>\n",
       "      <td>0.0</td>\n",
       "      <td>0.0</td>\n",
       "      <td>0.0</td>\n",
       "      <td>0.0</td>\n",
       "      <td>0.0</td>\n",
       "      <td>0.0</td>\n",
       "      <td>0.0</td>\n",
       "      <td>0.0</td>\n",
       "      <td>0.0</td>\n",
       "      <td>0.0</td>\n",
       "    </tr>\n",
       "    <tr>\n",
       "      <th>820tgsjxq7</th>\n",
       "      <td>1</td>\n",
       "      <td>0</td>\n",
       "      <td>0</td>\n",
       "      <td>0</td>\n",
       "      <td>0</td>\n",
       "      <td>0</td>\n",
       "      <td>0</td>\n",
       "      <td>0</td>\n",
       "      <td>1</td>\n",
       "      <td>0</td>\n",
       "      <td>...</td>\n",
       "      <td>0.0</td>\n",
       "      <td>0.0</td>\n",
       "      <td>0.0</td>\n",
       "      <td>0.0</td>\n",
       "      <td>0.0</td>\n",
       "      <td>0.0</td>\n",
       "      <td>0.0</td>\n",
       "      <td>0.0</td>\n",
       "      <td>0.0</td>\n",
       "      <td>0.0</td>\n",
       "    </tr>\n",
       "    <tr>\n",
       "      <th>4ft3gnwmtx</th>\n",
       "      <td>0</td>\n",
       "      <td>0</td>\n",
       "      <td>0</td>\n",
       "      <td>1</td>\n",
       "      <td>0</td>\n",
       "      <td>0</td>\n",
       "      <td>0</td>\n",
       "      <td>0</td>\n",
       "      <td>0</td>\n",
       "      <td>0</td>\n",
       "      <td>...</td>\n",
       "      <td>0.0</td>\n",
       "      <td>0.0</td>\n",
       "      <td>0.0</td>\n",
       "      <td>0.0</td>\n",
       "      <td>0.0</td>\n",
       "      <td>0.0</td>\n",
       "      <td>0.0</td>\n",
       "      <td>0.0</td>\n",
       "      <td>0.0</td>\n",
       "      <td>0.0</td>\n",
       "    </tr>\n",
       "    <tr>\n",
       "      <th>bjjt8pjhuk</th>\n",
       "      <td>1</td>\n",
       "      <td>0</td>\n",
       "      <td>0</td>\n",
       "      <td>1</td>\n",
       "      <td>0</td>\n",
       "      <td>0</td>\n",
       "      <td>0</td>\n",
       "      <td>0</td>\n",
       "      <td>0</td>\n",
       "      <td>0</td>\n",
       "      <td>...</td>\n",
       "      <td>0.0</td>\n",
       "      <td>0.0</td>\n",
       "      <td>0.0</td>\n",
       "      <td>0.0</td>\n",
       "      <td>0.0</td>\n",
       "      <td>0.0</td>\n",
       "      <td>0.0</td>\n",
       "      <td>0.0</td>\n",
       "      <td>0.0</td>\n",
       "      <td>0.0</td>\n",
       "    </tr>\n",
       "    <tr>\n",
       "      <th>87mebub9p4</th>\n",
       "      <td>0</td>\n",
       "      <td>0</td>\n",
       "      <td>0</td>\n",
       "      <td>1</td>\n",
       "      <td>0</td>\n",
       "      <td>0</td>\n",
       "      <td>0</td>\n",
       "      <td>0</td>\n",
       "      <td>0</td>\n",
       "      <td>0</td>\n",
       "      <td>...</td>\n",
       "      <td>0.0</td>\n",
       "      <td>0.0</td>\n",
       "      <td>0.0</td>\n",
       "      <td>0.0</td>\n",
       "      <td>0.0</td>\n",
       "      <td>0.0</td>\n",
       "      <td>0.0</td>\n",
       "      <td>0.0</td>\n",
       "      <td>0.0</td>\n",
       "      <td>0.0</td>\n",
       "    </tr>\n",
       "  </tbody>\n",
       "</table>\n",
       "<p>5 rows × 125 columns</p>\n",
       "</div>"
      ],
      "text/plain": [
       "            signup_method_facebook  signup_method_google  \\\n",
       "id                                                         \n",
       "gxn3p5htnn                       1                     0   \n",
       "820tgsjxq7                       1                     0   \n",
       "4ft3gnwmtx                       0                     0   \n",
       "bjjt8pjhuk                       1                     0   \n",
       "87mebub9p4                       0                     0   \n",
       "\n",
       "            affiliate_channel_content  affiliate_channel_direct  \\\n",
       "id                                                                \n",
       "gxn3p5htnn                          0                         1   \n",
       "820tgsjxq7                          0                         0   \n",
       "4ft3gnwmtx                          0                         1   \n",
       "bjjt8pjhuk                          0                         1   \n",
       "87mebub9p4                          0                         1   \n",
       "\n",
       "            affiliate_channel_other  affiliate_channel_remarketing  \\\n",
       "id                                                                   \n",
       "gxn3p5htnn                        0                              0   \n",
       "820tgsjxq7                        0                              0   \n",
       "4ft3gnwmtx                        0                              0   \n",
       "bjjt8pjhuk                        0                              0   \n",
       "87mebub9p4                        0                              0   \n",
       "\n",
       "            affiliate_channel_sem-brand  affiliate_channel_sem-non-brand  \\\n",
       "id                                                                         \n",
       "gxn3p5htnn                            0                                0   \n",
       "820tgsjxq7                            0                                0   \n",
       "4ft3gnwmtx                            0                                0   \n",
       "bjjt8pjhuk                            0                                0   \n",
       "87mebub9p4                            0                                0   \n",
       "\n",
       "            affiliate_channel_seo  signup_app_Moweb  ...  \\\n",
       "id                                                   ...   \n",
       "gxn3p5htnn                      0                 0  ...   \n",
       "820tgsjxq7                      1                 0  ...   \n",
       "4ft3gnwmtx                      0                 0  ...   \n",
       "bjjt8pjhuk                      0                 0  ...   \n",
       "87mebub9p4                      0                 0  ...   \n",
       "\n",
       "            action_detail_view_listing  action_detail_wishlist  \\\n",
       "id                                                               \n",
       "gxn3p5htnn                         0.0                     0.0   \n",
       "820tgsjxq7                         0.0                     0.0   \n",
       "4ft3gnwmtx                         0.0                     0.0   \n",
       "bjjt8pjhuk                         0.0                     0.0   \n",
       "87mebub9p4                         0.0                     0.0   \n",
       "\n",
       "            action_detail_your_listings  action_detail_your_trips  \\\n",
       "id                                                                  \n",
       "gxn3p5htnn                          0.0                       0.0   \n",
       "820tgsjxq7                          0.0                       0.0   \n",
       "4ft3gnwmtx                          0.0                       0.0   \n",
       "bjjt8pjhuk                          0.0                       0.0   \n",
       "87mebub9p4                          0.0                       0.0   \n",
       "\n",
       "            device_type_Blackberry  device_type_Chromebook  \\\n",
       "id                                                           \n",
       "gxn3p5htnn                     0.0                     0.0   \n",
       "820tgsjxq7                     0.0                     0.0   \n",
       "4ft3gnwmtx                     0.0                     0.0   \n",
       "bjjt8pjhuk                     0.0                     0.0   \n",
       "87mebub9p4                     0.0                     0.0   \n",
       "\n",
       "            device_type_Linux Desktop  device_type_Mac Desktop  \\\n",
       "id                                                               \n",
       "gxn3p5htnn                        0.0                      0.0   \n",
       "820tgsjxq7                        0.0                      0.0   \n",
       "4ft3gnwmtx                        0.0                      0.0   \n",
       "bjjt8pjhuk                        0.0                      0.0   \n",
       "87mebub9p4                        0.0                      0.0   \n",
       "\n",
       "            device_type_Windows Desktop  device_type_iPodtouch  \n",
       "id                                                              \n",
       "gxn3p5htnn                          0.0                    0.0  \n",
       "820tgsjxq7                          0.0                    0.0  \n",
       "4ft3gnwmtx                          0.0                    0.0  \n",
       "bjjt8pjhuk                          0.0                    0.0  \n",
       "87mebub9p4                          0.0                    0.0  \n",
       "\n",
       "[5 rows x 125 columns]"
      ]
     },
     "execution_count": 7,
     "metadata": {},
     "output_type": "execute_result"
    }
   ],
   "source": [
    "feature.head()"
   ]
  },
  {
   "cell_type": "code",
   "execution_count": 8,
   "metadata": {
    "execution": {
     "iopub.execute_input": "2020-08-04T02:57:02.655089Z",
     "iopub.status.busy": "2020-08-04T02:57:02.655089Z",
     "iopub.status.idle": "2020-08-04T02:57:03.014631Z",
     "shell.execute_reply": "2020-08-04T02:57:03.014631Z",
     "shell.execute_reply.started": "2020-08-04T02:57:02.655089Z"
    }
   },
   "outputs": [],
   "source": [
    "X_train, X_test, y_train, y_test = train_test_split(\n",
    "    feature, target, train_size=.25, random_state=42)"
   ]
  },
  {
   "cell_type": "code",
   "execution_count": 9,
   "metadata": {
    "execution": {
     "iopub.execute_input": "2020-08-04T02:57:03.017624Z",
     "iopub.status.busy": "2020-08-04T02:57:03.016627Z",
     "iopub.status.idle": "2020-08-04T02:57:03.024609Z",
     "shell.execute_reply": "2020-08-04T02:57:03.023647Z",
     "shell.execute_reply.started": "2020-08-04T02:57:03.017624Z"
    }
   },
   "outputs": [],
   "source": [
    "def ary_prep(data):\n",
    "    \"\"\"function to convert the predictions and test dataset\n",
    "    into form that be accepted by ndgc_score function\n",
    "\n",
    "    Args:\n",
    "    data : array to be transformed\n",
    "\n",
    "    Returns:\n",
    "    array that with shape of (1, n) where n is \n",
    "    the number of samples\n",
    "    \"\"\"\n",
    "    list_d = data.tolist()\n",
    "    ndcg_array = np.asarray([list_d])\n",
    "    return ndcg_array"
   ]
  },
  {
   "cell_type": "markdown",
   "metadata": {},
   "source": [
    "### Base Models comparison"
   ]
  },
  {
   "cell_type": "code",
   "execution_count": 31,
   "metadata": {
    "execution": {
     "iopub.execute_input": "2020-08-04T04:26:37.260016Z",
     "iopub.status.busy": "2020-08-04T04:26:37.260016Z",
     "iopub.status.idle": "2020-08-04T04:26:37.266007Z",
     "shell.execute_reply": "2020-08-04T04:26:37.266007Z",
     "shell.execute_reply.started": "2020-08-04T04:26:37.260016Z"
    }
   },
   "outputs": [],
   "source": [
    "clf_list = {'dummy': DummyClassifier(), 'lr': LogisticRegression(multi_class='multinomial', solver='lbfgs', max_iter=800),\n",
    "            'rfc': RandomForestClassifier(), 'et': ExtraTreesClassifier(), 'gradient': GradientBoostingClassifier(),\n",
    "            'lgb': LGBMClassifier(objective='multiclass', num_class=12)}"
   ]
  },
  {
   "cell_type": "code",
   "execution_count": 32,
   "metadata": {
    "execution": {
     "iopub.execute_input": "2020-08-04T04:26:37.796711Z",
     "iopub.status.busy": "2020-08-04T04:26:37.796711Z",
     "iopub.status.idle": "2020-08-04T04:26:37.801704Z",
     "shell.execute_reply": "2020-08-04T04:26:37.801704Z",
     "shell.execute_reply.started": "2020-08-04T04:26:37.796711Z"
    }
   },
   "outputs": [],
   "source": [
    "def model_train(name, reg):\n",
    "    fit = reg.fit(X_train, y_train)\n",
    "    pred = fit.predict(X_test)\n",
    "    score = fit.predict_proba(X_test)\n",
    "    ndcg = ndcg_score(lb.transform(y_test), score, k=5)\n",
    "    roc = roc_auc_score(y_test, score, multi_class='ovr')\n",
    "    print('{} has ndcg score of {:.3f} and roc of {:.3f}'.format(name, ndcg, roc))"
   ]
  },
  {
   "cell_type": "code",
   "execution_count": 33,
   "metadata": {
    "execution": {
     "iopub.execute_input": "2020-08-04T04:26:37.997226Z",
     "iopub.status.busy": "2020-08-04T04:26:37.996228Z",
     "iopub.status.idle": "2020-08-04T04:26:41.580743Z",
     "shell.execute_reply": "2020-08-04T04:26:41.579772Z",
     "shell.execute_reply.started": "2020-08-04T04:26:37.997226Z"
    }
   },
   "outputs": [
    {
     "ename": "KeyboardInterrupt",
     "evalue": "",
     "output_type": "error",
     "traceback": [
      "\u001b[1;31m---------------------------------------------------------------------------\u001b[0m",
      "\u001b[1;31mKeyboardInterrupt\u001b[0m                         Traceback (most recent call last)",
      "\u001b[1;32m<ipython-input-33-4dbe954a0e94>\u001b[0m in \u001b[0;36m<module>\u001b[1;34m\u001b[0m\n\u001b[0;32m      1\u001b[0m \u001b[1;32mfor\u001b[0m \u001b[0mname\u001b[0m\u001b[1;33m,\u001b[0m \u001b[0mreg\u001b[0m \u001b[1;32min\u001b[0m \u001b[0mclf_list\u001b[0m\u001b[1;33m.\u001b[0m\u001b[0mitems\u001b[0m\u001b[1;33m(\u001b[0m\u001b[1;33m)\u001b[0m\u001b[1;33m:\u001b[0m\u001b[1;33m\u001b[0m\u001b[1;33m\u001b[0m\u001b[0m\n\u001b[1;32m----> 2\u001b[1;33m     \u001b[0mmodel_train\u001b[0m\u001b[1;33m(\u001b[0m\u001b[0mname\u001b[0m\u001b[1;33m,\u001b[0m \u001b[0mreg\u001b[0m\u001b[1;33m)\u001b[0m\u001b[1;33m\u001b[0m\u001b[1;33m\u001b[0m\u001b[0m\n\u001b[0m",
      "\u001b[1;32m<ipython-input-32-2de53badb395>\u001b[0m in \u001b[0;36mmodel_train\u001b[1;34m(name, reg)\u001b[0m\n\u001b[0;32m      3\u001b[0m     \u001b[0mpred\u001b[0m \u001b[1;33m=\u001b[0m \u001b[0mfit\u001b[0m\u001b[1;33m.\u001b[0m\u001b[0mpredict\u001b[0m\u001b[1;33m(\u001b[0m\u001b[0mX_test\u001b[0m\u001b[1;33m)\u001b[0m\u001b[1;33m\u001b[0m\u001b[1;33m\u001b[0m\u001b[0m\n\u001b[0;32m      4\u001b[0m     \u001b[0mscore\u001b[0m \u001b[1;33m=\u001b[0m \u001b[0mfit\u001b[0m\u001b[1;33m.\u001b[0m\u001b[0mpredict_proba\u001b[0m\u001b[1;33m(\u001b[0m\u001b[0mX_test\u001b[0m\u001b[1;33m)\u001b[0m\u001b[1;33m\u001b[0m\u001b[1;33m\u001b[0m\u001b[0m\n\u001b[1;32m----> 5\u001b[1;33m     \u001b[0mndcg\u001b[0m \u001b[1;33m=\u001b[0m \u001b[0mndcg_score\u001b[0m\u001b[1;33m(\u001b[0m\u001b[0mlb\u001b[0m\u001b[1;33m.\u001b[0m\u001b[0mtransform\u001b[0m\u001b[1;33m(\u001b[0m\u001b[0my_test\u001b[0m\u001b[1;33m)\u001b[0m\u001b[1;33m,\u001b[0m \u001b[0mscore\u001b[0m\u001b[1;33m,\u001b[0m \u001b[0mk\u001b[0m\u001b[1;33m=\u001b[0m\u001b[1;36m5\u001b[0m\u001b[1;33m)\u001b[0m\u001b[1;33m\u001b[0m\u001b[1;33m\u001b[0m\u001b[0m\n\u001b[0m\u001b[0;32m      6\u001b[0m     \u001b[0mroc\u001b[0m \u001b[1;33m=\u001b[0m \u001b[0mroc_auc_score\u001b[0m\u001b[1;33m(\u001b[0m\u001b[0my_test\u001b[0m\u001b[1;33m,\u001b[0m \u001b[0mscore\u001b[0m\u001b[1;33m,\u001b[0m \u001b[0mmulti_class\u001b[0m\u001b[1;33m=\u001b[0m\u001b[1;34m'ovr'\u001b[0m\u001b[1;33m)\u001b[0m\u001b[1;33m\u001b[0m\u001b[1;33m\u001b[0m\u001b[0m\n\u001b[0;32m      7\u001b[0m     \u001b[0mprint\u001b[0m\u001b[1;33m(\u001b[0m\u001b[1;34m'{} has ndcg score of {:.3f} and roc of {:.3f}'\u001b[0m\u001b[1;33m.\u001b[0m\u001b[0mformat\u001b[0m\u001b[1;33m(\u001b[0m\u001b[0mname\u001b[0m\u001b[1;33m,\u001b[0m \u001b[0mndcg\u001b[0m\u001b[1;33m,\u001b[0m \u001b[0mroc\u001b[0m\u001b[1;33m)\u001b[0m\u001b[1;33m)\u001b[0m\u001b[1;33m\u001b[0m\u001b[1;33m\u001b[0m\u001b[0m\n",
      "\u001b[1;32m~\\AppData\\Local\\Continuum\\anaconda3\\lib\\site-packages\\sklearn\\utils\\validation.py\u001b[0m in \u001b[0;36minner_f\u001b[1;34m(*args, **kwargs)\u001b[0m\n\u001b[0;32m     71\u001b[0m                           FutureWarning)\n\u001b[0;32m     72\u001b[0m         \u001b[0mkwargs\u001b[0m\u001b[1;33m.\u001b[0m\u001b[0mupdate\u001b[0m\u001b[1;33m(\u001b[0m\u001b[1;33m{\u001b[0m\u001b[0mk\u001b[0m\u001b[1;33m:\u001b[0m \u001b[0marg\u001b[0m \u001b[1;32mfor\u001b[0m \u001b[0mk\u001b[0m\u001b[1;33m,\u001b[0m \u001b[0marg\u001b[0m \u001b[1;32min\u001b[0m \u001b[0mzip\u001b[0m\u001b[1;33m(\u001b[0m\u001b[0msig\u001b[0m\u001b[1;33m.\u001b[0m\u001b[0mparameters\u001b[0m\u001b[1;33m,\u001b[0m \u001b[0margs\u001b[0m\u001b[1;33m)\u001b[0m\u001b[1;33m}\u001b[0m\u001b[1;33m)\u001b[0m\u001b[1;33m\u001b[0m\u001b[1;33m\u001b[0m\u001b[0m\n\u001b[1;32m---> 73\u001b[1;33m         \u001b[1;32mreturn\u001b[0m \u001b[0mf\u001b[0m\u001b[1;33m(\u001b[0m\u001b[1;33m**\u001b[0m\u001b[0mkwargs\u001b[0m\u001b[1;33m)\u001b[0m\u001b[1;33m\u001b[0m\u001b[1;33m\u001b[0m\u001b[0m\n\u001b[0m\u001b[0;32m     74\u001b[0m     \u001b[1;32mreturn\u001b[0m \u001b[0minner_f\u001b[0m\u001b[1;33m\u001b[0m\u001b[1;33m\u001b[0m\u001b[0m\n\u001b[0;32m     75\u001b[0m \u001b[1;33m\u001b[0m\u001b[0m\n",
      "\u001b[1;32m~\\AppData\\Local\\Continuum\\anaconda3\\lib\\site-packages\\sklearn\\metrics\\_ranking.py\u001b[0m in \u001b[0;36mndcg_score\u001b[1;34m(y_true, y_score, k, sample_weight, ignore_ties)\u001b[0m\n\u001b[0;32m   1432\u001b[0m     \u001b[0mcheck_consistent_length\u001b[0m\u001b[1;33m(\u001b[0m\u001b[0my_true\u001b[0m\u001b[1;33m,\u001b[0m \u001b[0my_score\u001b[0m\u001b[1;33m,\u001b[0m \u001b[0msample_weight\u001b[0m\u001b[1;33m)\u001b[0m\u001b[1;33m\u001b[0m\u001b[1;33m\u001b[0m\u001b[0m\n\u001b[0;32m   1433\u001b[0m     \u001b[0m_check_dcg_target_type\u001b[0m\u001b[1;33m(\u001b[0m\u001b[0my_true\u001b[0m\u001b[1;33m)\u001b[0m\u001b[1;33m\u001b[0m\u001b[1;33m\u001b[0m\u001b[0m\n\u001b[1;32m-> 1434\u001b[1;33m     \u001b[0mgain\u001b[0m \u001b[1;33m=\u001b[0m \u001b[0m_ndcg_sample_scores\u001b[0m\u001b[1;33m(\u001b[0m\u001b[0my_true\u001b[0m\u001b[1;33m,\u001b[0m \u001b[0my_score\u001b[0m\u001b[1;33m,\u001b[0m \u001b[0mk\u001b[0m\u001b[1;33m=\u001b[0m\u001b[0mk\u001b[0m\u001b[1;33m,\u001b[0m \u001b[0mignore_ties\u001b[0m\u001b[1;33m=\u001b[0m\u001b[0mignore_ties\u001b[0m\u001b[1;33m)\u001b[0m\u001b[1;33m\u001b[0m\u001b[1;33m\u001b[0m\u001b[0m\n\u001b[0m\u001b[0;32m   1435\u001b[0m     \u001b[1;32mreturn\u001b[0m \u001b[0mnp\u001b[0m\u001b[1;33m.\u001b[0m\u001b[0maverage\u001b[0m\u001b[1;33m(\u001b[0m\u001b[0mgain\u001b[0m\u001b[1;33m,\u001b[0m \u001b[0mweights\u001b[0m\u001b[1;33m=\u001b[0m\u001b[0msample_weight\u001b[0m\u001b[1;33m)\u001b[0m\u001b[1;33m\u001b[0m\u001b[1;33m\u001b[0m\u001b[0m\n",
      "\u001b[1;32m~\\AppData\\Local\\Continuum\\anaconda3\\lib\\site-packages\\sklearn\\metrics\\_ranking.py\u001b[0m in \u001b[0;36m_ndcg_sample_scores\u001b[1;34m(y_true, y_score, k, ignore_ties)\u001b[0m\n\u001b[0;32m   1322\u001b[0m \u001b[1;33m\u001b[0m\u001b[0m\n\u001b[0;32m   1323\u001b[0m     \"\"\"\n\u001b[1;32m-> 1324\u001b[1;33m     \u001b[0mgain\u001b[0m \u001b[1;33m=\u001b[0m \u001b[0m_dcg_sample_scores\u001b[0m\u001b[1;33m(\u001b[0m\u001b[0my_true\u001b[0m\u001b[1;33m,\u001b[0m \u001b[0my_score\u001b[0m\u001b[1;33m,\u001b[0m \u001b[0mk\u001b[0m\u001b[1;33m,\u001b[0m \u001b[0mignore_ties\u001b[0m\u001b[1;33m=\u001b[0m\u001b[0mignore_ties\u001b[0m\u001b[1;33m)\u001b[0m\u001b[1;33m\u001b[0m\u001b[1;33m\u001b[0m\u001b[0m\n\u001b[0m\u001b[0;32m   1325\u001b[0m     \u001b[1;31m# Here we use the order induced by y_true so we can ignore ties since\u001b[0m\u001b[1;33m\u001b[0m\u001b[1;33m\u001b[0m\u001b[1;33m\u001b[0m\u001b[0m\n\u001b[0;32m   1326\u001b[0m     \u001b[1;31m# the gain associated to tied indices is the same (permuting ties doesn't\u001b[0m\u001b[1;33m\u001b[0m\u001b[1;33m\u001b[0m\u001b[1;33m\u001b[0m\u001b[0m\n",
      "\u001b[1;32m~\\AppData\\Local\\Continuum\\anaconda3\\lib\\site-packages\\sklearn\\metrics\\_ranking.py\u001b[0m in \u001b[0;36m_dcg_sample_scores\u001b[1;34m(y_true, y_score, k, log_base, ignore_ties)\u001b[0m\n\u001b[0;32m   1111\u001b[0m         \u001b[0mdiscount_cumsum\u001b[0m \u001b[1;33m=\u001b[0m \u001b[0mnp\u001b[0m\u001b[1;33m.\u001b[0m\u001b[0mcumsum\u001b[0m\u001b[1;33m(\u001b[0m\u001b[0mdiscount\u001b[0m\u001b[1;33m)\u001b[0m\u001b[1;33m\u001b[0m\u001b[1;33m\u001b[0m\u001b[0m\n\u001b[0;32m   1112\u001b[0m         cumulative_gains = [_tie_averaged_dcg(y_t, y_s, discount_cumsum)\n\u001b[1;32m-> 1113\u001b[1;33m                             for y_t, y_s in zip(y_true, y_score)]\n\u001b[0m\u001b[0;32m   1114\u001b[0m         \u001b[0mcumulative_gains\u001b[0m \u001b[1;33m=\u001b[0m \u001b[0mnp\u001b[0m\u001b[1;33m.\u001b[0m\u001b[0masarray\u001b[0m\u001b[1;33m(\u001b[0m\u001b[0mcumulative_gains\u001b[0m\u001b[1;33m)\u001b[0m\u001b[1;33m\u001b[0m\u001b[1;33m\u001b[0m\u001b[0m\n\u001b[0;32m   1115\u001b[0m     \u001b[1;32mreturn\u001b[0m \u001b[0mcumulative_gains\u001b[0m\u001b[1;33m\u001b[0m\u001b[1;33m\u001b[0m\u001b[0m\n",
      "\u001b[1;32m~\\AppData\\Local\\Continuum\\anaconda3\\lib\\site-packages\\sklearn\\metrics\\_ranking.py\u001b[0m in \u001b[0;36m<listcomp>\u001b[1;34m(.0)\u001b[0m\n\u001b[0;32m   1111\u001b[0m         \u001b[0mdiscount_cumsum\u001b[0m \u001b[1;33m=\u001b[0m \u001b[0mnp\u001b[0m\u001b[1;33m.\u001b[0m\u001b[0mcumsum\u001b[0m\u001b[1;33m(\u001b[0m\u001b[0mdiscount\u001b[0m\u001b[1;33m)\u001b[0m\u001b[1;33m\u001b[0m\u001b[1;33m\u001b[0m\u001b[0m\n\u001b[0;32m   1112\u001b[0m         cumulative_gains = [_tie_averaged_dcg(y_t, y_s, discount_cumsum)\n\u001b[1;32m-> 1113\u001b[1;33m                             for y_t, y_s in zip(y_true, y_score)]\n\u001b[0m\u001b[0;32m   1114\u001b[0m         \u001b[0mcumulative_gains\u001b[0m \u001b[1;33m=\u001b[0m \u001b[0mnp\u001b[0m\u001b[1;33m.\u001b[0m\u001b[0masarray\u001b[0m\u001b[1;33m(\u001b[0m\u001b[0mcumulative_gains\u001b[0m\u001b[1;33m)\u001b[0m\u001b[1;33m\u001b[0m\u001b[1;33m\u001b[0m\u001b[0m\n\u001b[0;32m   1115\u001b[0m     \u001b[1;32mreturn\u001b[0m \u001b[0mcumulative_gains\u001b[0m\u001b[1;33m\u001b[0m\u001b[1;33m\u001b[0m\u001b[0m\n",
      "\u001b[1;32m~\\AppData\\Local\\Continuum\\anaconda3\\lib\\site-packages\\sklearn\\metrics\\_ranking.py\u001b[0m in \u001b[0;36m_tie_averaged_dcg\u001b[1;34m(y_true, y_score, discount_cumsum)\u001b[0m\n\u001b[0;32m   1156\u001b[0m         - y_score, return_inverse=True, return_counts=True)\n\u001b[0;32m   1157\u001b[0m     \u001b[0mranked\u001b[0m \u001b[1;33m=\u001b[0m \u001b[0mnp\u001b[0m\u001b[1;33m.\u001b[0m\u001b[0mzeros\u001b[0m\u001b[1;33m(\u001b[0m\u001b[0mlen\u001b[0m\u001b[1;33m(\u001b[0m\u001b[0mcounts\u001b[0m\u001b[1;33m)\u001b[0m\u001b[1;33m)\u001b[0m\u001b[1;33m\u001b[0m\u001b[1;33m\u001b[0m\u001b[0m\n\u001b[1;32m-> 1158\u001b[1;33m     \u001b[0mnp\u001b[0m\u001b[1;33m.\u001b[0m\u001b[0madd\u001b[0m\u001b[1;33m.\u001b[0m\u001b[0mat\u001b[0m\u001b[1;33m(\u001b[0m\u001b[0mranked\u001b[0m\u001b[1;33m,\u001b[0m \u001b[0minv\u001b[0m\u001b[1;33m,\u001b[0m \u001b[0my_true\u001b[0m\u001b[1;33m)\u001b[0m\u001b[1;33m\u001b[0m\u001b[1;33m\u001b[0m\u001b[0m\n\u001b[0m\u001b[0;32m   1159\u001b[0m     \u001b[0mranked\u001b[0m \u001b[1;33m/=\u001b[0m \u001b[0mcounts\u001b[0m\u001b[1;33m\u001b[0m\u001b[1;33m\u001b[0m\u001b[0m\n\u001b[0;32m   1160\u001b[0m     \u001b[0mgroups\u001b[0m \u001b[1;33m=\u001b[0m \u001b[0mnp\u001b[0m\u001b[1;33m.\u001b[0m\u001b[0mcumsum\u001b[0m\u001b[1;33m(\u001b[0m\u001b[0mcounts\u001b[0m\u001b[1;33m)\u001b[0m \u001b[1;33m-\u001b[0m \u001b[1;36m1\u001b[0m\u001b[1;33m\u001b[0m\u001b[1;33m\u001b[0m\u001b[0m\n",
      "\u001b[1;31mKeyboardInterrupt\u001b[0m: "
     ]
    }
   ],
   "source": [
    "for name, reg in clf_list.items():\n",
    "    model_train(name, reg)"
   ]
  },
  {
   "cell_type": "markdown",
   "metadata": {},
   "source": [
    "### Cross Validation"
   ]
  },
  {
   "cell_type": "code",
   "execution_count": 13,
   "metadata": {
    "execution": {
     "iopub.execute_input": "2020-08-04T03:06:02.384074Z",
     "iopub.status.busy": "2020-08-04T03:06:02.384074Z",
     "iopub.status.idle": "2020-08-04T03:06:02.393051Z",
     "shell.execute_reply": "2020-08-04T03:06:02.392259Z",
     "shell.execute_reply.started": "2020-08-04T03:06:02.384074Z"
    }
   },
   "outputs": [],
   "source": [
    "# ndcg_df = pd.DataFrame(columns=clf_list.keys())"
   ]
  },
  {
   "cell_type": "code",
   "execution_count": 15,
   "metadata": {
    "execution": {
     "iopub.execute_input": "2020-08-04T03:06:36.075565Z",
     "iopub.status.busy": "2020-08-04T03:06:36.075565Z",
     "iopub.status.idle": "2020-08-04T03:06:36.078526Z",
     "shell.execute_reply": "2020-08-04T03:06:36.078131Z",
     "shell.execute_reply.started": "2020-08-04T03:06:36.075565Z"
    }
   },
   "outputs": [],
   "source": [
    "# kf = KFold(n_splits=4)"
   ]
  },
  {
   "cell_type": "code",
   "execution_count": 27,
   "metadata": {
    "execution": {
     "iopub.execute_input": "2020-08-04T03:59:19.599445Z",
     "iopub.status.busy": "2020-08-04T03:59:19.598419Z",
     "iopub.status.idle": "2020-08-04T03:59:19.602486Z",
     "shell.execute_reply": "2020-08-04T03:59:19.602486Z",
     "shell.execute_reply.started": "2020-08-04T03:59:19.599445Z"
    }
   },
   "outputs": [],
   "source": [
    "# result = []\n",
    "# for train_idx, test_idx in kf.split(feature):\n",
    "#     X_tr_idx, X_ts_idx = feature.iloc[train_idx], feature.iloc[train_idx]\n",
    "#     y_tr_idx, y_ts_idx = target.iloc[train_idx], target.iloc[train_idx]\n",
    "# #     print(feature.iloc[train_idx], feature.iloc[test_idx])\n",
    "#     for name, reg in clf_list.items():\n",
    "# #         for i in range(4):\n",
    "    \n",
    "#         fit = reg.fit(X_tr_idx, y_tr_idx)\n",
    "#         score = fit.predict_proba(X_ts_idx)\n",
    "#         ndcg = ndcg_score(lb.transform(y_ts_idx), score, k=5)\n",
    "#         print(ndcg)\n",
    "        \n",
    "# #         ndcg_df.loc[i, name]"
   ]
  },
  {
   "cell_type": "code",
   "execution_count": null,
   "metadata": {
    "execution": {
     "iopub.execute_input": "2020-08-04T04:26:46.577196Z",
     "iopub.status.busy": "2020-08-04T04:26:46.576196Z"
    }
   },
   "outputs": [
    {
     "name": "stdout",
     "output_type": "stream",
     "text": [
      "dummy has average roc of 0.500\n",
      "lr has average roc of 0.687\n",
      "rfc has average roc of 0.842\n",
      "et has average roc of 0.845\n"
     ]
    }
   ],
   "source": [
    "for name, reg in clf_list.items():\n",
    "    scores = cross_validate(reg, feature, target, cv=4, scoring=(\n",
    "        'roc_auc_ovr'), return_train_score=True)\n",
    "    print('{} has average roc of {:.3f}'.format(\n",
    "        name, np.mean(scores['train_score'])))"
   ]
  },
  {
   "cell_type": "markdown",
   "metadata": {},
   "source": [
    "**Tree based** models appear to work well for this classification problem"
   ]
  },
  {
   "cell_type": "code",
   "execution_count": null,
   "metadata": {},
   "outputs": [],
   "source": []
  }
 ],
 "metadata": {
  "kernelspec": {
   "display_name": "Python 3",
   "language": "python",
   "name": "python3"
  },
  "language_info": {
   "codemirror_mode": {
    "name": "ipython",
    "version": 3
   },
   "file_extension": ".py",
   "mimetype": "text/x-python",
   "name": "python",
   "nbconvert_exporter": "python",
   "pygments_lexer": "ipython3",
   "version": "3.7.1"
  }
 },
 "nbformat": 4,
 "nbformat_minor": 4
}
