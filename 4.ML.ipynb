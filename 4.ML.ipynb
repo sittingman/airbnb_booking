{
 "cells": [
  {
   "cell_type": "markdown",
   "metadata": {},
   "source": [
    "# Machine Learning"
   ]
  },
  {
   "cell_type": "code",
   "execution_count": 7,
   "metadata": {
    "execution": {
     "iopub.execute_input": "2020-08-08T01:08:20.739115Z",
     "iopub.status.busy": "2020-08-08T01:08:20.739115Z",
     "iopub.status.idle": "2020-08-08T01:08:20.746121Z",
     "shell.execute_reply": "2020-08-08T01:08:20.746121Z",
     "shell.execute_reply.started": "2020-08-08T01:08:20.739115Z"
    }
   },
   "outputs": [],
   "source": [
    "import pickle\n",
    "import warnings\n",
    "\n",
    "import hyperopt\n",
    "import numpy as np\n",
    "import pandas as pd\n",
    "from hyperopt import STATUS_OK, Trials, fmin, hp, tpe\n",
    "from hyperopt.pyll.base import scope\n",
    "from lightgbm import LGBMClassifier\n",
    "from sklearn.compose import TransformedTargetRegressor\n",
    "from sklearn.dummy import DummyClassifier\n",
    "from sklearn.ensemble import (\n",
    "    ExtraTreesClassifier,\n",
    "    GradientBoostingClassifier,\n",
    "    RandomForestClassifier,\n",
    ")\n",
    "from sklearn.linear_model import LogisticRegression, RidgeClassifier\n",
    "from sklearn.metrics import ndcg_score, roc_auc_score\n",
    "from sklearn.model_selection import (\n",
    "    KFold,\n",
    "    RandomizedSearchCV,\n",
    "    cross_val_score,\n",
    "    cross_validate,\n",
    "    train_test_split,\n",
    ")\n",
    "from sklearn.neighbors import KNeighborsClassifier\n",
    "from sklearn.preprocessing import LabelBinarizer, LabelEncoder\n",
    "from xgboost.sklearn import XGBClassifier\n",
    "\n",
    "warnings.simplefilter(action='ignore', category=FutureWarning)"
   ]
  },
  {
   "cell_type": "code",
   "execution_count": 2,
   "metadata": {
    "execution": {
     "iopub.execute_input": "2020-08-08T01:01:30.995760Z",
     "iopub.status.busy": "2020-08-08T01:01:30.995760Z",
     "iopub.status.idle": "2020-08-08T01:01:32.204106Z",
     "shell.execute_reply": "2020-08-08T01:01:32.204106Z",
     "shell.execute_reply.started": "2020-08-08T01:01:30.995760Z"
    }
   },
   "outputs": [],
   "source": [
    "train = pd.read_csv('./data/train_df.csv', index_col=0)"
   ]
  },
  {
   "cell_type": "code",
   "execution_count": 3,
   "metadata": {
    "execution": {
     "iopub.execute_input": "2020-08-08T01:01:32.204106Z",
     "iopub.status.busy": "2020-08-08T01:01:32.204106Z",
     "iopub.status.idle": "2020-08-08T01:01:32.299665Z",
     "shell.execute_reply": "2020-08-08T01:01:32.299665Z",
     "shell.execute_reply.started": "2020-08-08T01:01:32.204106Z"
    }
   },
   "outputs": [
    {
     "data": {
      "text/plain": [
       "LabelBinarizer()"
      ]
     },
     "execution_count": 3,
     "metadata": {},
     "output_type": "execute_result"
    }
   ],
   "source": [
    "le = LabelEncoder()\n",
    "train['target'] = le.fit_transform(train['country_destination'])\n",
    "lb = LabelBinarizer()\n",
    "lb.fit(train['target'])"
   ]
  },
  {
   "cell_type": "code",
   "execution_count": 4,
   "metadata": {
    "execution": {
     "iopub.execute_input": "2020-08-08T01:01:32.300660Z",
     "iopub.status.busy": "2020-08-08T01:01:32.300660Z",
     "iopub.status.idle": "2020-08-08T01:01:32.304669Z",
     "shell.execute_reply": "2020-08-08T01:01:32.304669Z",
     "shell.execute_reply.started": "2020-08-08T01:01:32.300660Z"
    }
   },
   "outputs": [
    {
     "data": {
      "text/plain": [
       "{0: 'AU',\n",
       " 1: 'CA',\n",
       " 2: 'DE',\n",
       " 3: 'ES',\n",
       " 4: 'FR',\n",
       " 5: 'GB',\n",
       " 6: 'IT',\n",
       " 7: 'NDF',\n",
       " 8: 'NL',\n",
       " 9: 'PT',\n",
       " 10: 'US',\n",
       " 11: 'other'}"
      ]
     },
     "execution_count": 4,
     "metadata": {},
     "output_type": "execute_result"
    }
   ],
   "source": [
    "mapping = dict(zip(range(len(le.classes_)), le.classes_))\n",
    "mapping"
   ]
  },
  {
   "cell_type": "code",
   "execution_count": 5,
   "metadata": {
    "execution": {
     "iopub.execute_input": "2020-08-08T01:01:32.305648Z",
     "iopub.status.busy": "2020-08-08T01:01:32.305648Z",
     "iopub.status.idle": "2020-08-08T01:01:32.378453Z",
     "shell.execute_reply": "2020-08-08T01:01:32.378453Z",
     "shell.execute_reply.started": "2020-08-08T01:01:32.305648Z"
    }
   },
   "outputs": [],
   "source": [
    "target = train['target']\n",
    "feature = train.drop(['target', 'country_destination'], axis=1)"
   ]
  },
  {
   "cell_type": "code",
   "execution_count": 6,
   "metadata": {
    "execution": {
     "iopub.execute_input": "2020-08-08T01:01:32.389423Z",
     "iopub.status.busy": "2020-08-08T01:01:32.388426Z",
     "iopub.status.idle": "2020-08-08T01:01:32.395408Z",
     "shell.execute_reply": "2020-08-08T01:01:32.394411Z",
     "shell.execute_reply.started": "2020-08-08T01:01:32.388426Z"
    }
   },
   "outputs": [
    {
     "name": "stdout",
     "output_type": "stream",
     "text": [
      "(213451,) (213451, 125)\n"
     ]
    }
   ],
   "source": [
    "print(target.shape, feature.shape)"
   ]
  },
  {
   "cell_type": "markdown",
   "metadata": {},
   "source": [
    "### Base Models comparison"
   ]
  },
  {
   "cell_type": "code",
   "execution_count": 16,
   "metadata": {
    "execution": {
     "iopub.execute_input": "2020-08-08T01:09:37.422494Z",
     "iopub.status.busy": "2020-08-08T01:09:37.422494Z",
     "iopub.status.idle": "2020-08-08T01:09:37.674460Z",
     "shell.execute_reply": "2020-08-08T01:09:37.674460Z",
     "shell.execute_reply.started": "2020-08-08T01:09:37.422494Z"
    }
   },
   "outputs": [],
   "source": [
    "X_train, X_test, y_train, y_test = train_test_split(\n",
    "    feature, target, train_size=.25, random_state=42)"
   ]
  },
  {
   "cell_type": "code",
   "execution_count": 17,
   "metadata": {
    "execution": {
     "iopub.execute_input": "2020-08-08T01:09:38.091786Z",
     "iopub.status.busy": "2020-08-08T01:09:38.090789Z",
     "iopub.status.idle": "2020-08-08T01:09:38.100761Z",
     "shell.execute_reply": "2020-08-08T01:09:38.099763Z",
     "shell.execute_reply.started": "2020-08-08T01:09:38.091786Z"
    }
   },
   "outputs": [],
   "source": [
    "def ary_prep(data):\n",
    "    \"\"\"function to convert the predictions and test dataset\n",
    "    into form that be accepted by ndgc_score function\n",
    "\n",
    "    Args:\n",
    "    data : array to be transformed\n",
    "\n",
    "    Returns:\n",
    "    array that with shape of (1, n) where n is \n",
    "    the number of samples\n",
    "    \"\"\"\n",
    "    list_d = data.tolist()\n",
    "    ndcg_array = np.asarray([list_d])\n",
    "    return ndcg_array"
   ]
  },
  {
   "cell_type": "code",
   "execution_count": 10,
   "metadata": {
    "execution": {
     "iopub.execute_input": "2020-08-05T04:15:30.221872Z",
     "iopub.status.busy": "2020-08-05T04:15:30.221872Z",
     "iopub.status.idle": "2020-08-05T04:15:30.225861Z",
     "shell.execute_reply": "2020-08-05T04:15:30.225861Z",
     "shell.execute_reply.started": "2020-08-05T04:15:30.221872Z"
    }
   },
   "outputs": [],
   "source": [
    "clf_list = {'dummy': DummyClassifier(), 'lr': LogisticRegression(multi_class='multinomial', solver='lbfgs', max_iter=800),\n",
    "            'rfc': RandomForestClassifier(), 'et': ExtraTreesClassifier(), 'gradient': GradientBoostingClassifier(),\n",
    "            'lgb': LGBMClassifier(objective='multiclass', num_class=12)}"
   ]
  },
  {
   "cell_type": "code",
   "execution_count": 31,
   "metadata": {
    "execution": {
     "iopub.execute_input": "2020-08-08T02:27:11.342788Z",
     "iopub.status.busy": "2020-08-08T02:27:11.342788Z",
     "iopub.status.idle": "2020-08-08T02:27:11.347776Z",
     "shell.execute_reply": "2020-08-08T02:27:11.346937Z",
     "shell.execute_reply.started": "2020-08-08T02:27:11.342788Z"
    }
   },
   "outputs": [],
   "source": [
    "def model_train(name, reg):\n",
    "    fit = reg.fit(X_train, y_train)\n",
    "    pred = fit.predict(X_test)\n",
    "    score = fit.predict_proba(X_test)\n",
    "    ndcg = ndcg_score(lb.transform(y_test), score, k=5)\n",
    "    roc = roc_auc_score(y_test, score, multi_class='ovr')\n",
    "    print('{} has ndcg score of {:.3f} and roc of {:.3f}'.format(name, ndcg, roc))"
   ]
  },
  {
   "cell_type": "code",
   "execution_count": 12,
   "metadata": {
    "execution": {
     "iopub.execute_input": "2020-08-05T04:15:32.766057Z",
     "iopub.status.busy": "2020-08-05T04:15:32.766057Z",
     "iopub.status.idle": "2020-08-05T04:20:01.189133Z",
     "shell.execute_reply": "2020-08-05T04:20:01.189133Z",
     "shell.execute_reply.started": "2020-08-05T04:15:32.766057Z"
    }
   },
   "outputs": [
    {
     "name": "stdout",
     "output_type": "stream",
     "text": [
      "dummy has ndcg score of 0.531 and roc of 0.500\n",
      "lr has ndcg score of 0.825 and roc of 0.656\n",
      "rfc has ndcg score of 0.809 and roc of 0.557\n",
      "et has ndcg score of 0.797 and roc of 0.552\n",
      "gradient has ndcg score of 0.824 and roc of 0.648\n",
      "lgb has ndcg score of 0.825 and roc of 0.632\n"
     ]
    }
   ],
   "source": [
    "for name, reg in clf_list.items():\n",
    "    model_train(name, reg)"
   ]
  },
  {
   "cell_type": "markdown",
   "metadata": {},
   "source": [
    "### Cross Validation"
   ]
  },
  {
   "cell_type": "code",
   "execution_count": 13,
   "metadata": {
    "execution": {
     "iopub.execute_input": "2020-08-04T03:06:02.384074Z",
     "iopub.status.busy": "2020-08-04T03:06:02.384074Z",
     "iopub.status.idle": "2020-08-04T03:06:02.393051Z",
     "shell.execute_reply": "2020-08-04T03:06:02.392259Z",
     "shell.execute_reply.started": "2020-08-04T03:06:02.384074Z"
    }
   },
   "outputs": [],
   "source": [
    "# ndcg_df = pd.DataFrame(columns=clf_list.keys())"
   ]
  },
  {
   "cell_type": "code",
   "execution_count": 15,
   "metadata": {
    "execution": {
     "iopub.execute_input": "2020-08-04T03:06:36.075565Z",
     "iopub.status.busy": "2020-08-04T03:06:36.075565Z",
     "iopub.status.idle": "2020-08-04T03:06:36.078526Z",
     "shell.execute_reply": "2020-08-04T03:06:36.078131Z",
     "shell.execute_reply.started": "2020-08-04T03:06:36.075565Z"
    }
   },
   "outputs": [],
   "source": [
    "# kf = KFold(n_splits=4)"
   ]
  },
  {
   "cell_type": "code",
   "execution_count": 27,
   "metadata": {
    "execution": {
     "iopub.execute_input": "2020-08-04T03:59:19.599445Z",
     "iopub.status.busy": "2020-08-04T03:59:19.598419Z",
     "iopub.status.idle": "2020-08-04T03:59:19.602486Z",
     "shell.execute_reply": "2020-08-04T03:59:19.602486Z",
     "shell.execute_reply.started": "2020-08-04T03:59:19.599445Z"
    }
   },
   "outputs": [],
   "source": [
    "# result = []\n",
    "# for train_idx, test_idx in kf.split(feature):\n",
    "#     X_tr_idx, X_ts_idx = feature.iloc[train_idx], feature.iloc[train_idx]\n",
    "#     y_tr_idx, y_ts_idx = target.iloc[train_idx], target.iloc[train_idx]\n",
    "# #     print(feature.iloc[train_idx], feature.iloc[test_idx])\n",
    "#     for name, reg in clf_list.items():\n",
    "# #         for i in range(4):\n",
    "\n",
    "#         fit = reg.fit(X_tr_idx, y_tr_idx)\n",
    "#         score = fit.predict_proba(X_ts_idx)\n",
    "#         ndcg = ndcg_score(lb.transform(y_ts_idx), score, k=5)\n",
    "#         print(ndcg)\n",
    "\n",
    "# #         ndcg_df.loc[i, name]"
   ]
  },
  {
   "cell_type": "code",
   "execution_count": 34,
   "metadata": {
    "execution": {
     "iopub.execute_input": "2020-08-04T04:26:46.577196Z",
     "iopub.status.busy": "2020-08-04T04:26:46.576196Z",
     "iopub.status.idle": "2020-08-04T05:35:39.335674Z",
     "shell.execute_reply": "2020-08-04T05:35:39.335674Z",
     "shell.execute_reply.started": "2020-08-04T04:26:46.577196Z"
    }
   },
   "outputs": [
    {
     "name": "stdout",
     "output_type": "stream",
     "text": [
      "dummy has average roc of 0.500\n",
      "lr has average roc of 0.687\n",
      "rfc has average roc of 0.842\n",
      "et has average roc of 0.845\n",
      "gradient has average roc of 0.700\n",
      "lgb has average roc of 0.754\n"
     ]
    }
   ],
   "source": [
    "for name, reg in clf_list.items():\n",
    "    scores = cross_validate(reg, feature, target, cv=4, scoring=(\n",
    "        'roc_auc_ovr'), return_train_score=True)\n",
    "    print('{} has average roc of {:.3f}'.format(\n",
    "        name, np.mean(scores['train_score'])))"
   ]
  },
  {
   "cell_type": "markdown",
   "metadata": {},
   "source": [
    "**Tree based** models appear to work well for this classification problem. **Lightgbm** would also be considered."
   ]
  },
  {
   "cell_type": "markdown",
   "metadata": {},
   "source": [
    "## Tunning"
   ]
  },
  {
   "cell_type": "code",
   "execution_count": 9,
   "metadata": {
    "execution": {
     "iopub.execute_input": "2020-08-08T01:08:48.302413Z",
     "iopub.status.busy": "2020-08-08T01:08:48.301416Z",
     "iopub.status.idle": "2020-08-08T01:08:48.308966Z",
     "shell.execute_reply": "2020-08-08T01:08:48.308966Z",
     "shell.execute_reply.started": "2020-08-08T01:08:48.302413Z"
    }
   },
   "outputs": [],
   "source": [
    "n_estimators = [int(x) for x in np.linspace(start=200, stop=2000, num=10)]\n",
    "max_features = ['auto', 'sqrt']\n",
    "max_depth = [int(x) for x in np.linspace(10, 50, num=4)]\n",
    "max_depth.append(None)\n",
    "min_samples_split = [2, 5, 10]\n",
    "min_samples_leaf = [1, 2, 4]\n",
    "bootstrap = [True, False]"
   ]
  },
  {
   "cell_type": "code",
   "execution_count": 10,
   "metadata": {
    "execution": {
     "iopub.execute_input": "2020-08-08T01:08:48.658618Z",
     "iopub.status.busy": "2020-08-08T01:08:48.658618Z",
     "iopub.status.idle": "2020-08-08T01:08:48.660816Z",
     "shell.execute_reply": "2020-08-08T01:08:48.660816Z",
     "shell.execute_reply.started": "2020-08-08T01:08:48.658618Z"
    }
   },
   "outputs": [],
   "source": [
    "random_grid = {'n_estimators': n_estimators,\n",
    "               'max_features': max_features,\n",
    "               'max_depth': max_depth,\n",
    "               'min_samples_split': min_samples_split,\n",
    "               'min_samples_leaf': min_samples_leaf,\n",
    "               'bootstrap': bootstrap}"
   ]
  },
  {
   "cell_type": "code",
   "execution_count": 18,
   "metadata": {
    "execution": {
     "iopub.execute_input": "2020-08-08T01:09:57.339465Z",
     "iopub.status.busy": "2020-08-08T01:09:57.338447Z",
     "iopub.status.idle": "2020-08-08T01:09:57.343434Z",
     "shell.execute_reply": "2020-08-08T01:09:57.342896Z",
     "shell.execute_reply.started": "2020-08-08T01:09:57.339465Z"
    }
   },
   "outputs": [],
   "source": [
    "space = {'max_depth': hp.quniform('max_depth', 10, 50, 4),\n",
    "         'n_estimators': scope.int(hp.quniform('n_estimators', 200, 2000, 10)),\n",
    "         'min_samples_split': scope.int(hp.quniform('min_samples_split', 2, 10, 4)),\n",
    "         'min_samples_leaf': scope.int(hp.quniform('min_samples_leaf', 2, 10, 4)),\n",
    "         'bootstrap': hp.choice('bootstrap', [True, False]),\n",
    "         'max_features': hp.choice('max_features', ['auto', 'sqrt'])\n",
    "         }"
   ]
  },
  {
   "cell_type": "code",
   "execution_count": 19,
   "metadata": {
    "execution": {
     "iopub.execute_input": "2020-08-08T01:09:57.850364Z",
     "iopub.status.busy": "2020-08-08T01:09:57.850364Z",
     "iopub.status.idle": "2020-08-08T01:09:57.855215Z",
     "shell.execute_reply": "2020-08-08T01:09:57.855215Z",
     "shell.execute_reply.started": "2020-08-08T01:09:57.850364Z"
    }
   },
   "outputs": [],
   "source": [
    "def obj_rf(params):\n",
    "    clf = RandomForestClassifier(**params)\n",
    "    best_score = cross_val_score(\n",
    "        clf, X_train, y_train, scoring='roc_auc_ovr', cv=2).mean()\n",
    "    return {'loss': -best_score, 'status': STATUS_OK}"
   ]
  },
  {
   "cell_type": "code",
   "execution_count": 20,
   "metadata": {
    "execution": {
     "iopub.execute_input": "2020-08-08T01:09:58.355291Z",
     "iopub.status.busy": "2020-08-08T01:09:58.355291Z",
     "iopub.status.idle": "2020-08-08T01:42:26.571469Z",
     "shell.execute_reply": "2020-08-08T01:42:26.570700Z",
     "shell.execute_reply.started": "2020-08-08T01:09:58.355291Z"
    }
   },
   "outputs": [
    {
     "name": "stdout",
     "output_type": "stream",
     "text": [
      "100%|██████████| 25/25 [32:28<00:00, 77.93s/trial, best loss: -0.6362558034166002] \n"
     ]
    }
   ],
   "source": [
    "best_rf = fmin(fn=obj_rf, space=space, max_evals=25,\n",
    "               rstate=np.random.RandomState(42), algo=tpe.suggest)"
   ]
  },
  {
   "cell_type": "code",
   "execution_count": 22,
   "metadata": {
    "execution": {
     "iopub.execute_input": "2020-08-08T01:44:06.738451Z",
     "iopub.status.busy": "2020-08-08T01:44:06.737479Z",
     "iopub.status.idle": "2020-08-08T01:44:06.742426Z",
     "shell.execute_reply": "2020-08-08T01:44:06.742426Z",
     "shell.execute_reply.started": "2020-08-08T01:44:06.738451Z"
    }
   },
   "outputs": [
    {
     "data": {
      "text/plain": [
       "{'bootstrap': 0,\n",
       " 'max_depth': 36.0,\n",
       " 'max_features': 0,\n",
       " 'min_samples_leaf': 8.0,\n",
       " 'min_samples_split': 8.0,\n",
       " 'n_estimators': 1920.0}"
      ]
     },
     "execution_count": 22,
     "metadata": {},
     "output_type": "execute_result"
    }
   ],
   "source": [
    "best_rf"
   ]
  },
  {
   "cell_type": "code",
   "execution_count": 88,
   "metadata": {
    "execution": {
     "iopub.execute_input": "2020-08-06T06:28:45.282505Z",
     "iopub.status.busy": "2020-08-06T06:28:45.282505Z",
     "iopub.status.idle": "2020-08-06T06:29:05.450284Z",
     "shell.execute_reply": "2020-08-06T06:29:05.449436Z",
     "shell.execute_reply.started": "2020-08-06T06:28:45.282505Z"
    }
   },
   "outputs": [],
   "source": [
    "rf_tuned = RandomForestClassifier(n_estimators=1000, min_samples_leaf=5,\n",
    "                                  min_impurity_split=10, max_depth=16, bootstrap=True).fit(feature, target)\n",
    "pickle.dump(rf_tuned, open('./data/rf_tuned.sav', 'wb'))"
   ]
  },
  {
   "cell_type": "code",
   "execution_count": 89,
   "metadata": {
    "execution": {
     "iopub.execute_input": "2020-08-06T06:29:05.451327Z",
     "iopub.status.busy": "2020-08-06T06:29:05.451327Z",
     "iopub.status.idle": "2020-08-06T06:29:44.918753Z",
     "shell.execute_reply": "2020-08-06T06:29:44.918753Z",
     "shell.execute_reply.started": "2020-08-06T06:29:05.451327Z"
    }
   },
   "outputs": [
    {
     "name": "stdout",
     "output_type": "stream",
     "text": [
      "rf_tuned has ndcg score of 0.806 and roc of 0.500\n"
     ]
    }
   ],
   "source": [
    "model_train('rf_tuned', rf_tuned)"
   ]
  },
  {
   "cell_type": "code",
   "execution_count": 24,
   "metadata": {
    "execution": {
     "iopub.execute_input": "2020-08-08T01:45:22.238752Z",
     "iopub.status.busy": "2020-08-08T01:45:22.238752Z",
     "iopub.status.idle": "2020-08-08T01:45:22.242742Z",
     "shell.execute_reply": "2020-08-08T01:45:22.242742Z",
     "shell.execute_reply.started": "2020-08-08T01:45:22.238752Z"
    }
   },
   "outputs": [],
   "source": [
    "def obj_et(params):\n",
    "    clf = ExtraTreesClassifier(**params)\n",
    "    best_score = cross_val_score(\n",
    "        clf, X_train, y_train, scoring='roc_auc_ovr', cv=2).mean()\n",
    "    return {'loss': -best_score, 'status': STATUS_OK}"
   ]
  },
  {
   "cell_type": "code",
   "execution_count": 26,
   "metadata": {
    "execution": {
     "iopub.execute_input": "2020-08-08T01:45:27.153618Z",
     "iopub.status.busy": "2020-08-08T01:45:27.153618Z",
     "iopub.status.idle": "2020-08-08T02:10:00.494728Z",
     "shell.execute_reply": "2020-08-08T02:10:00.494728Z",
     "shell.execute_reply.started": "2020-08-08T01:45:27.153618Z"
    }
   },
   "outputs": [
    {
     "name": "stdout",
     "output_type": "stream",
     "text": [
      "100%|██████████| 25/25 [24:33<00:00, 58.93s/trial, best loss: -0.636270277556644] \n"
     ]
    }
   ],
   "source": [
    "best_et = fmin(fn=obj_et, space=space, max_evals=25,\n",
    "               rstate=np.random.RandomState(42), algo=tpe.suggest)"
   ]
  },
  {
   "cell_type": "code",
   "execution_count": 29,
   "metadata": {
    "execution": {
     "iopub.execute_input": "2020-08-08T02:16:57.886751Z",
     "iopub.status.busy": "2020-08-08T02:16:57.886751Z",
     "iopub.status.idle": "2020-08-08T02:26:31.110620Z",
     "shell.execute_reply": "2020-08-08T02:26:31.110620Z",
     "shell.execute_reply.started": "2020-08-08T02:16:57.886751Z"
    }
   },
   "outputs": [],
   "source": [
    "et_tuned = ExtraTreesClassifier(n_estimators=1990, max_depth=24,\n",
    "                                min_samples_leaf=8, min_samples_split=8).fit(feature, target)\n",
    "pickle.dump(et_tuned, open('./data/et_tuned.sav', 'wb'))"
   ]
  },
  {
   "cell_type": "code",
   "execution_count": null,
   "metadata": {},
   "outputs": [],
   "source": []
  },
  {
   "cell_type": "code",
   "execution_count": 35,
   "metadata": {
    "execution": {
     "iopub.execute_input": "2020-08-08T02:58:43.236279Z",
     "iopub.status.busy": "2020-08-08T02:58:43.236279Z",
     "iopub.status.idle": "2020-08-08T02:58:43.240301Z",
     "shell.execute_reply": "2020-08-08T02:58:43.240301Z",
     "shell.execute_reply.started": "2020-08-08T02:58:43.236279Z"
    }
   },
   "outputs": [],
   "source": [
    "#     boosting_type = 'gbdt',\n",
    "#     num_leaves = 31,\n",
    "#     max_depth = -1,\n",
    "#     learning_rate = 0.1,\n",
    "#     n_estimators = 100,\n",
    "#     subsample_for_bin = 200000,\n",
    "#     objective = None,\n",
    "#     class_weight = None,\n",
    "#     min_split_gain = 0.0,\n",
    "#     min_child_weight = 0.001,\n",
    "#     min_child_samples = 20,\n",
    "#     subsample = 1.0,\n",
    "#     subsample_freq = 0,\n",
    "#     colsample_bytree = 1.0,\n",
    "#     reg_alpha = 0.0,\n",
    "#     reg_lambda = 0.0,\n",
    "#     random_state = None,\n",
    "#     n_jobs = -1,\n",
    "#     silent = True,\n",
    "#     importance_type = 'split',\n",
    "\n",
    "# )"
   ]
  },
  {
   "cell_type": "code",
   "execution_count": 47,
   "metadata": {
    "execution": {
     "iopub.execute_input": "2020-08-08T03:11:27.385403Z",
     "iopub.status.busy": "2020-08-08T03:11:27.385403Z",
     "iopub.status.idle": "2020-08-08T03:11:27.390388Z",
     "shell.execute_reply": "2020-08-08T03:11:27.389989Z",
     "shell.execute_reply.started": "2020-08-08T03:11:27.385403Z"
    }
   },
   "outputs": [],
   "source": [
    "space_lgb = {'max_depth': scope.int(hp.quniform('max_depth', 10, 50, 25)),\n",
    "             'n_estimators': scope.int(hp.quniform('n_estimators', 200, 2000, 10)),\n",
    "             'learning_rate': hp.choice('learning_rate', [0.05, 0.1, 0.3]),\n",
    "             'min_child_samples': scope.int(hp.quniform('min_child_samples', 4, 200, 50)),\n",
    "             'num_leaves': scope.int(hp.quniform('num_leaves', 20, 100, 20))\n",
    "             }"
   ]
  },
  {
   "cell_type": "code",
   "execution_count": 48,
   "metadata": {
    "execution": {
     "iopub.execute_input": "2020-08-08T03:11:28.122854Z",
     "iopub.status.busy": "2020-08-08T03:11:28.122854Z",
     "iopub.status.idle": "2020-08-08T03:11:28.126844Z",
     "shell.execute_reply": "2020-08-08T03:11:28.126042Z",
     "shell.execute_reply.started": "2020-08-08T03:11:28.122854Z"
    }
   },
   "outputs": [],
   "source": [
    "def obj_lgb(params):\n",
    "    clf = LGBMClassifier(**params)\n",
    "    best_score = cross_val_score(\n",
    "        clf, X_train, y_train, scoring='roc_auc_ovr', cv=2).mean()\n",
    "    return {'loss': -best_score, 'status': STATUS_OK}"
   ]
  },
  {
   "cell_type": "code",
   "execution_count": 49,
   "metadata": {
    "execution": {
     "iopub.execute_input": "2020-08-08T03:11:28.434700Z",
     "iopub.status.busy": "2020-08-08T03:11:28.434700Z",
     "iopub.status.idle": "2020-08-08T04:09:47.130542Z",
     "shell.execute_reply": "2020-08-08T04:09:47.129545Z",
     "shell.execute_reply.started": "2020-08-08T03:11:28.434700Z"
    }
   },
   "outputs": [
    {
     "name": "stdout",
     "output_type": "stream",
     "text": [
      "100%|██████████| 25/25 [58:18<00:00, 139.95s/trial, best loss: -0.6176319938367991]\n"
     ]
    }
   ],
   "source": [
    "best_lgb = fmin(fn=obj_lgb, space=space_lgb, max_evals=25,\n",
    "                rstate=np.random.RandomState(42), algo=tpe.suggest)"
   ]
  },
  {
   "cell_type": "code",
   "execution_count": null,
   "metadata": {},
   "outputs": [],
   "source": []
  }
 ],
 "metadata": {
  "kernelspec": {
   "display_name": "Python 3",
   "language": "python",
   "name": "python3"
  },
  "language_info": {
   "codemirror_mode": {
    "name": "ipython",
    "version": 3
   },
   "file_extension": ".py",
   "mimetype": "text/x-python",
   "name": "python",
   "nbconvert_exporter": "python",
   "pygments_lexer": "ipython3",
   "version": "3.7.1"
  }
 },
 "nbformat": 4,
 "nbformat_minor": 4
}
