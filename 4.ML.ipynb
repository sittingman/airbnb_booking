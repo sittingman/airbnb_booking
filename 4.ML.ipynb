{
 "cells": [
  {
   "cell_type": "markdown",
   "metadata": {},
   "source": [
    "# Machine Learning"
   ]
  },
  {
   "cell_type": "code",
   "execution_count": 51,
   "metadata": {
    "execution": {
     "iopub.execute_input": "2020-08-02T04:11:39.964182Z",
     "iopub.status.busy": "2020-08-02T04:11:39.964182Z",
     "iopub.status.idle": "2020-08-02T04:11:39.969170Z",
     "shell.execute_reply": "2020-08-02T04:11:39.969170Z",
     "shell.execute_reply.started": "2020-08-02T04:11:39.964182Z"
    }
   },
   "outputs": [],
   "source": [
    "import numpy as np\n",
    "import pandas as pd\n",
    "from lightgbm import LGBMClassifier\n",
    "from sklearn.compose import TransformedTargetRegressor\n",
    "from sklearn.dummy import DummyClassifier\n",
    "from sklearn.ensemble import GradientBoostingClassifier, RandomForestClassifier\n",
    "from sklearn.linear_model import LogisticRegression, RidgeClassifier\n",
    "from sklearn.metrics import ndcg_score, roc_auc_score\n",
    "from sklearn.model_selection import KFold, train_test_split\n",
    "from sklearn.neighbors import KNeighborsClassifier\n",
    "from sklearn.preprocessing import LabelBinarizer, LabelEncoder\n",
    "from xgboost.sklearn import XGBClassifier"
   ]
  },
  {
   "cell_type": "code",
   "execution_count": 2,
   "metadata": {
    "execution": {
     "iopub.execute_input": "2020-08-02T02:35:51.793174Z",
     "iopub.status.busy": "2020-08-02T02:35:51.793174Z",
     "iopub.status.idle": "2020-08-02T02:35:52.240045Z",
     "shell.execute_reply": "2020-08-02T02:35:52.240045Z",
     "shell.execute_reply.started": "2020-08-02T02:35:51.793174Z"
    }
   },
   "outputs": [],
   "source": [
    "train = pd.read_csv('./data/train_df.csv', index_col=0)"
   ]
  },
  {
   "cell_type": "code",
   "execution_count": 3,
   "metadata": {
    "execution": {
     "iopub.execute_input": "2020-08-02T02:35:52.242040Z",
     "iopub.status.busy": "2020-08-02T02:35:52.242040Z",
     "iopub.status.idle": "2020-08-02T02:35:52.276040Z",
     "shell.execute_reply": "2020-08-02T02:35:52.276040Z",
     "shell.execute_reply.started": "2020-08-02T02:35:52.242040Z"
    }
   },
   "outputs": [],
   "source": [
    "le = LabelEncoder()\n",
    "train['target'] = le.fit_transform(train['country_destination'])"
   ]
  },
  {
   "cell_type": "code",
   "execution_count": 4,
   "metadata": {
    "execution": {
     "iopub.execute_input": "2020-08-02T02:35:52.277979Z",
     "iopub.status.busy": "2020-08-02T02:35:52.276948Z",
     "iopub.status.idle": "2020-08-02T02:35:52.286919Z",
     "shell.execute_reply": "2020-08-02T02:35:52.286919Z",
     "shell.execute_reply.started": "2020-08-02T02:35:52.277979Z"
    }
   },
   "outputs": [
    {
     "data": {
      "text/plain": [
       "{0: 'AU',\n",
       " 1: 'CA',\n",
       " 2: 'DE',\n",
       " 3: 'ES',\n",
       " 4: 'FR',\n",
       " 5: 'GB',\n",
       " 6: 'IT',\n",
       " 7: 'NDF',\n",
       " 8: 'NL',\n",
       " 9: 'PT',\n",
       " 10: 'US',\n",
       " 11: 'other'}"
      ]
     },
     "execution_count": 4,
     "metadata": {},
     "output_type": "execute_result"
    }
   ],
   "source": [
    "mapping = dict(zip(range(len(le.classes_)), le.classes_))\n",
    "mapping"
   ]
  },
  {
   "cell_type": "code",
   "execution_count": 5,
   "metadata": {
    "execution": {
     "iopub.execute_input": "2020-08-02T02:35:52.287917Z",
     "iopub.status.busy": "2020-08-02T02:35:52.287917Z",
     "iopub.status.idle": "2020-08-02T02:35:52.320842Z",
     "shell.execute_reply": "2020-08-02T02:35:52.320842Z",
     "shell.execute_reply.started": "2020-08-02T02:35:52.287917Z"
    }
   },
   "outputs": [],
   "source": [
    "target = train['target']\n",
    "feature = train.drop(['target', 'country_destination'], axis=1)"
   ]
  },
  {
   "cell_type": "code",
   "execution_count": 6,
   "metadata": {
    "execution": {
     "iopub.execute_input": "2020-08-02T02:35:52.321826Z",
     "iopub.status.busy": "2020-08-02T02:35:52.321826Z",
     "iopub.status.idle": "2020-08-02T02:35:52.328806Z",
     "shell.execute_reply": "2020-08-02T02:35:52.328806Z",
     "shell.execute_reply.started": "2020-08-02T02:35:52.321826Z"
    }
   },
   "outputs": [
    {
     "name": "stdout",
     "output_type": "stream",
     "text": [
      "(213451,) (213451, 51)\n"
     ]
    }
   ],
   "source": [
    "print(target.shape, feature.shape)"
   ]
  },
  {
   "cell_type": "code",
   "execution_count": 7,
   "metadata": {
    "execution": {
     "iopub.execute_input": "2020-08-02T02:35:52.329804Z",
     "iopub.status.busy": "2020-08-02T02:35:52.329804Z",
     "iopub.status.idle": "2020-08-02T02:35:52.488452Z",
     "shell.execute_reply": "2020-08-02T02:35:52.488452Z",
     "shell.execute_reply.started": "2020-08-02T02:35:52.329804Z"
    }
   },
   "outputs": [],
   "source": [
    "X_train, X_test, y_train, y_test = train_test_split(\n",
    "    feature, target, train_size=.25, random_state=42)"
   ]
  },
  {
   "cell_type": "code",
   "execution_count": 22,
   "metadata": {
    "execution": {
     "iopub.execute_input": "2020-08-02T02:45:26.969777Z",
     "iopub.status.busy": "2020-08-02T02:45:26.969777Z",
     "iopub.status.idle": "2020-08-02T02:45:26.973766Z",
     "shell.execute_reply": "2020-08-02T02:45:26.973114Z",
     "shell.execute_reply.started": "2020-08-02T02:45:26.969777Z"
    }
   },
   "outputs": [],
   "source": [
    "def ary_prep(data):\n",
    "    \"\"\"function to convert the predictions and test dataset\n",
    "    into form that be accepted by ndgc_score function\n",
    "\n",
    "    Args:\n",
    "    data : array to be transformed\n",
    "\n",
    "    Returns:\n",
    "    array that with shape of (1, n) where n is \n",
    "    the number of samples\n",
    "    \"\"\"\n",
    "    list_d = data.tolist()\n",
    "    ndcg_array = np.asarray([list_d])\n",
    "    return ndcg_array"
   ]
  },
  {
   "cell_type": "markdown",
   "metadata": {},
   "source": [
    "### Base Models comparison"
   ]
  },
  {
   "cell_type": "code",
   "execution_count": 59,
   "metadata": {
    "execution": {
     "iopub.execute_input": "2020-08-02T04:25:18.629709Z",
     "iopub.status.busy": "2020-08-02T04:25:18.628713Z",
     "iopub.status.idle": "2020-08-02T04:25:18.635660Z",
     "shell.execute_reply": "2020-08-02T04:25:18.635517Z",
     "shell.execute_reply.started": "2020-08-02T04:25:18.629709Z"
    }
   },
   "outputs": [],
   "source": [
    "clf_list = {'dummy': DummyClassifier(), 'lr': LogisticRegression(multi_class='multinomial', solver='lbfgs', max_iter=1000),\n",
    "            'rfc': RandomForestClassifier(), 'gradient': GradientBoostingClassifier(),\n",
    "            'xgb': XGBClassifier(objective='multi:softmax', num_class=12), 'lgb': LGBMClassifier(objective='multiclass', num_class=12)}"
   ]
  },
  {
   "cell_type": "code",
   "execution_count": 60,
   "metadata": {
    "execution": {
     "iopub.execute_input": "2020-08-02T04:25:19.217797Z",
     "iopub.status.busy": "2020-08-02T04:25:19.217797Z",
     "iopub.status.idle": "2020-08-02T04:25:19.222755Z",
     "shell.execute_reply": "2020-08-02T04:25:19.222108Z",
     "shell.execute_reply.started": "2020-08-02T04:25:19.217797Z"
    }
   },
   "outputs": [],
   "source": [
    "def model_train(name, reg):\n",
    "    fit = reg.fit(X_train, y_train)\n",
    "    pred = fit.predict(X_test)\n",
    "    score = fit.predict_proba(X_test)\n",
    "    ndcg = ndcg_score(ary_prep(y_test), ary_prep(pred), k=5)\n",
    "    roc = roc_auc_score(y_test, score, multi_class='ovo')\n",
    "    print('{} has ndcg score of {:.3f} and roc of {:.3f}'.format(name, ndcg, roc))"
   ]
  },
  {
   "cell_type": "code",
   "execution_count": 61,
   "metadata": {
    "execution": {
     "iopub.execute_input": "2020-08-02T04:25:19.617078Z",
     "iopub.status.busy": "2020-08-02T04:25:19.617078Z",
     "iopub.status.idle": "2020-08-02T04:28:25.042570Z",
     "shell.execute_reply": "2020-08-02T04:28:25.042570Z",
     "shell.execute_reply.started": "2020-08-02T04:25:19.617078Z"
    }
   },
   "outputs": [
    {
     "name": "stderr",
     "output_type": "stream",
     "text": [
      "C:\\Users\\sit_k\\AppData\\Local\\Continuum\\anaconda3\\lib\\site-packages\\sklearn\\dummy.py:132: FutureWarning: The default value of strategy will change from stratified to prior in 0.24.\n",
      "  \"stratified to prior in 0.24.\", FutureWarning)\n"
     ]
    },
    {
     "name": "stdout",
     "output_type": "stream",
     "text": [
      "dummy has ndcg score of 0.715 and roc of 0.500\n",
      "lr has ndcg score of 0.764 and roc of 0.550\n",
      "rfc has ndcg score of 0.752 and roc of 0.529\n",
      "gradient has ndcg score of 0.785 and roc of 0.548\n",
      "xgb has ndcg score of 0.768 and roc of 0.547\n",
      "lgb has ndcg score of 0.766 and roc of 0.544\n"
     ]
    }
   ],
   "source": [
    "for name, reg in clf_list.items():\n",
    "    model_train(name, reg)"
   ]
  },
  {
   "cell_type": "markdown",
   "metadata": {},
   "source": [
    "### KFold Validation"
   ]
  },
  {
   "cell_type": "code",
   "execution_count": null,
   "metadata": {},
   "outputs": [],
   "source": []
  }
 ],
 "metadata": {
  "kernelspec": {
   "display_name": "Python 3",
   "language": "python",
   "name": "python3"
  },
  "language_info": {
   "codemirror_mode": {
    "name": "ipython",
    "version": 3
   },
   "file_extension": ".py",
   "mimetype": "text/x-python",
   "name": "python",
   "nbconvert_exporter": "python",
   "pygments_lexer": "ipython3",
   "version": "3.7.1"
  }
 },
 "nbformat": 4,
 "nbformat_minor": 4
}
