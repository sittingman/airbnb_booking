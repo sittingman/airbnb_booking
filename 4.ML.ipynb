{
 "cells": [
  {
   "cell_type": "markdown",
   "metadata": {},
   "source": [
    "# Machine Learning"
   ]
  },
  {
   "cell_type": "code",
   "execution_count": 1,
   "metadata": {
    "execution": {
     "iopub.execute_input": "2020-08-03T06:24:19.817378Z",
     "iopub.status.busy": "2020-08-03T06:24:19.817378Z",
     "iopub.status.idle": "2020-08-03T06:24:20.508273Z",
     "shell.execute_reply": "2020-08-03T06:24:20.508273Z",
     "shell.execute_reply.started": "2020-08-03T06:24:19.817378Z"
    }
   },
   "outputs": [],
   "source": [
    "import warnings\n",
    "\n",
    "import numpy as np\n",
    "import pandas as pd\n",
    "from lightgbm import LGBMClassifier\n",
    "from sklearn.compose import TransformedTargetRegressor\n",
    "from sklearn.dummy import DummyClassifier\n",
    "from sklearn.ensemble import (\n",
    "    ExtraTreesClassifier,\n",
    "    GradientBoostingClassifier,\n",
    "    RandomForestClassifier,\n",
    ")\n",
    "from sklearn.linear_model import LogisticRegression, RidgeClassifier\n",
    "from sklearn.metrics import ndcg_score, roc_auc_score\n",
    "from sklearn.model_selection import KFold, cross_validate, train_test_split\n",
    "from sklearn.neighbors import KNeighborsClassifier\n",
    "from sklearn.preprocessing import LabelBinarizer, LabelEncoder\n",
    "from xgboost.sklearn import XGBClassifier\n",
    "\n",
    "warnings.simplefilter(action='ignore', category=FutureWarning)"
   ]
  },
  {
   "cell_type": "code",
   "execution_count": 2,
   "metadata": {
    "execution": {
     "iopub.execute_input": "2020-08-03T06:24:20.509204Z",
     "iopub.status.busy": "2020-08-03T06:24:20.509204Z",
     "iopub.status.idle": "2020-08-03T06:24:21.660655Z",
     "shell.execute_reply": "2020-08-03T06:24:21.660655Z",
     "shell.execute_reply.started": "2020-08-03T06:24:20.509204Z"
    }
   },
   "outputs": [],
   "source": [
    "train = pd.read_csv('./data/train_df.csv', index_col=0)"
   ]
  },
  {
   "cell_type": "code",
   "execution_count": 16,
   "metadata": {
    "execution": {
     "iopub.execute_input": "2020-08-03T07:42:12.700227Z",
     "iopub.status.busy": "2020-08-03T07:42:12.700227Z",
     "iopub.status.idle": "2020-08-03T07:42:12.731171Z",
     "shell.execute_reply": "2020-08-03T07:42:12.731171Z",
     "shell.execute_reply.started": "2020-08-03T07:42:12.700227Z"
    }
   },
   "outputs": [],
   "source": [
    "le = LabelEncoder()\n",
    "train['target'] = le.fit_transform(train['country_destination'])\n",
    "lb = LabelBinarizer()\n",
    "lb.fit(train['target'])"
   ]
  },
  {
   "cell_type": "code",
   "execution_count": 4,
   "metadata": {
    "execution": {
     "iopub.execute_input": "2020-08-03T06:24:21.697517Z",
     "iopub.status.busy": "2020-08-03T06:24:21.697517Z",
     "iopub.status.idle": "2020-08-03T06:24:21.707491Z",
     "shell.execute_reply": "2020-08-03T06:24:21.707491Z",
     "shell.execute_reply.started": "2020-08-03T06:24:21.697517Z"
    }
   },
   "outputs": [
    {
     "data": {
      "text/plain": [
       "{0: 'AU',\n",
       " 1: 'CA',\n",
       " 2: 'DE',\n",
       " 3: 'ES',\n",
       " 4: 'FR',\n",
       " 5: 'GB',\n",
       " 6: 'IT',\n",
       " 7: 'NDF',\n",
       " 8: 'NL',\n",
       " 9: 'PT',\n",
       " 10: 'US',\n",
       " 11: 'other'}"
      ]
     },
     "execution_count": 4,
     "metadata": {},
     "output_type": "execute_result"
    }
   ],
   "source": [
    "mapping = dict(zip(range(len(le.classes_)), le.classes_))\n",
    "mapping"
   ]
  },
  {
   "cell_type": "code",
   "execution_count": 5,
   "metadata": {
    "execution": {
     "iopub.execute_input": "2020-08-03T06:24:21.708488Z",
     "iopub.status.busy": "2020-08-03T06:24:21.708488Z",
     "iopub.status.idle": "2020-08-03T06:24:21.780297Z",
     "shell.execute_reply": "2020-08-03T06:24:21.780297Z",
     "shell.execute_reply.started": "2020-08-03T06:24:21.708488Z"
    }
   },
   "outputs": [],
   "source": [
    "target = train['target']\n",
    "feature = train.drop(['target', 'country_destination'], axis=1)"
   ]
  },
  {
   "cell_type": "code",
   "execution_count": 28,
   "metadata": {
    "execution": {
     "iopub.execute_input": "2020-08-03T07:46:53.788702Z",
     "iopub.status.busy": "2020-08-03T07:46:53.788702Z",
     "iopub.status.idle": "2020-08-03T07:46:53.792724Z",
     "shell.execute_reply": "2020-08-03T07:46:53.792724Z",
     "shell.execute_reply.started": "2020-08-03T07:46:53.788702Z"
    }
   },
   "outputs": [
    {
     "name": "stdout",
     "output_type": "stream",
     "text": [
      "(213451,) (213451, 125) (213451, 12)\n"
     ]
    }
   ],
   "source": [
    "print(target.shape, feature.shape)"
   ]
  },
  {
   "cell_type": "code",
   "execution_count": 7,
   "metadata": {
    "execution": {
     "iopub.execute_input": "2020-08-03T06:24:21.789273Z",
     "iopub.status.busy": "2020-08-03T06:24:21.789273Z",
     "iopub.status.idle": "2020-08-03T06:24:21.831198Z",
     "shell.execute_reply": "2020-08-03T06:24:21.831198Z",
     "shell.execute_reply.started": "2020-08-03T06:24:21.789273Z"
    }
   },
   "outputs": [
    {
     "data": {
      "text/html": [
       "<div>\n",
       "<style scoped>\n",
       "    .dataframe tbody tr th:only-of-type {\n",
       "        vertical-align: middle;\n",
       "    }\n",
       "\n",
       "    .dataframe tbody tr th {\n",
       "        vertical-align: top;\n",
       "    }\n",
       "\n",
       "    .dataframe thead th {\n",
       "        text-align: right;\n",
       "    }\n",
       "</style>\n",
       "<table border=\"1\" class=\"dataframe\">\n",
       "  <thead>\n",
       "    <tr style=\"text-align: right;\">\n",
       "      <th></th>\n",
       "      <th>signup_method_facebook</th>\n",
       "      <th>signup_method_google</th>\n",
       "      <th>affiliate_channel_content</th>\n",
       "      <th>affiliate_channel_direct</th>\n",
       "      <th>affiliate_channel_other</th>\n",
       "      <th>affiliate_channel_remarketing</th>\n",
       "      <th>affiliate_channel_sem-brand</th>\n",
       "      <th>affiliate_channel_sem-non-brand</th>\n",
       "      <th>affiliate_channel_seo</th>\n",
       "      <th>signup_app_Moweb</th>\n",
       "      <th>...</th>\n",
       "      <th>action_detail_view_listing</th>\n",
       "      <th>action_detail_wishlist</th>\n",
       "      <th>action_detail_your_listings</th>\n",
       "      <th>action_detail_your_trips</th>\n",
       "      <th>device_type_Blackberry</th>\n",
       "      <th>device_type_Chromebook</th>\n",
       "      <th>device_type_Linux Desktop</th>\n",
       "      <th>device_type_Mac Desktop</th>\n",
       "      <th>device_type_Windows Desktop</th>\n",
       "      <th>device_type_iPodtouch</th>\n",
       "    </tr>\n",
       "    <tr>\n",
       "      <th>id</th>\n",
       "      <th></th>\n",
       "      <th></th>\n",
       "      <th></th>\n",
       "      <th></th>\n",
       "      <th></th>\n",
       "      <th></th>\n",
       "      <th></th>\n",
       "      <th></th>\n",
       "      <th></th>\n",
       "      <th></th>\n",
       "      <th></th>\n",
       "      <th></th>\n",
       "      <th></th>\n",
       "      <th></th>\n",
       "      <th></th>\n",
       "      <th></th>\n",
       "      <th></th>\n",
       "      <th></th>\n",
       "      <th></th>\n",
       "      <th></th>\n",
       "      <th></th>\n",
       "    </tr>\n",
       "  </thead>\n",
       "  <tbody>\n",
       "    <tr>\n",
       "      <th>gxn3p5htnn</th>\n",
       "      <td>1</td>\n",
       "      <td>0</td>\n",
       "      <td>0</td>\n",
       "      <td>1</td>\n",
       "      <td>0</td>\n",
       "      <td>0</td>\n",
       "      <td>0</td>\n",
       "      <td>0</td>\n",
       "      <td>0</td>\n",
       "      <td>0</td>\n",
       "      <td>...</td>\n",
       "      <td>0.0</td>\n",
       "      <td>0.0</td>\n",
       "      <td>0.0</td>\n",
       "      <td>0.0</td>\n",
       "      <td>0.0</td>\n",
       "      <td>0.0</td>\n",
       "      <td>0.0</td>\n",
       "      <td>0.0</td>\n",
       "      <td>0.0</td>\n",
       "      <td>0.0</td>\n",
       "    </tr>\n",
       "    <tr>\n",
       "      <th>820tgsjxq7</th>\n",
       "      <td>1</td>\n",
       "      <td>0</td>\n",
       "      <td>0</td>\n",
       "      <td>0</td>\n",
       "      <td>0</td>\n",
       "      <td>0</td>\n",
       "      <td>0</td>\n",
       "      <td>0</td>\n",
       "      <td>1</td>\n",
       "      <td>0</td>\n",
       "      <td>...</td>\n",
       "      <td>0.0</td>\n",
       "      <td>0.0</td>\n",
       "      <td>0.0</td>\n",
       "      <td>0.0</td>\n",
       "      <td>0.0</td>\n",
       "      <td>0.0</td>\n",
       "      <td>0.0</td>\n",
       "      <td>0.0</td>\n",
       "      <td>0.0</td>\n",
       "      <td>0.0</td>\n",
       "    </tr>\n",
       "    <tr>\n",
       "      <th>4ft3gnwmtx</th>\n",
       "      <td>0</td>\n",
       "      <td>0</td>\n",
       "      <td>0</td>\n",
       "      <td>1</td>\n",
       "      <td>0</td>\n",
       "      <td>0</td>\n",
       "      <td>0</td>\n",
       "      <td>0</td>\n",
       "      <td>0</td>\n",
       "      <td>0</td>\n",
       "      <td>...</td>\n",
       "      <td>0.0</td>\n",
       "      <td>0.0</td>\n",
       "      <td>0.0</td>\n",
       "      <td>0.0</td>\n",
       "      <td>0.0</td>\n",
       "      <td>0.0</td>\n",
       "      <td>0.0</td>\n",
       "      <td>0.0</td>\n",
       "      <td>0.0</td>\n",
       "      <td>0.0</td>\n",
       "    </tr>\n",
       "    <tr>\n",
       "      <th>bjjt8pjhuk</th>\n",
       "      <td>1</td>\n",
       "      <td>0</td>\n",
       "      <td>0</td>\n",
       "      <td>1</td>\n",
       "      <td>0</td>\n",
       "      <td>0</td>\n",
       "      <td>0</td>\n",
       "      <td>0</td>\n",
       "      <td>0</td>\n",
       "      <td>0</td>\n",
       "      <td>...</td>\n",
       "      <td>0.0</td>\n",
       "      <td>0.0</td>\n",
       "      <td>0.0</td>\n",
       "      <td>0.0</td>\n",
       "      <td>0.0</td>\n",
       "      <td>0.0</td>\n",
       "      <td>0.0</td>\n",
       "      <td>0.0</td>\n",
       "      <td>0.0</td>\n",
       "      <td>0.0</td>\n",
       "    </tr>\n",
       "    <tr>\n",
       "      <th>87mebub9p4</th>\n",
       "      <td>0</td>\n",
       "      <td>0</td>\n",
       "      <td>0</td>\n",
       "      <td>1</td>\n",
       "      <td>0</td>\n",
       "      <td>0</td>\n",
       "      <td>0</td>\n",
       "      <td>0</td>\n",
       "      <td>0</td>\n",
       "      <td>0</td>\n",
       "      <td>...</td>\n",
       "      <td>0.0</td>\n",
       "      <td>0.0</td>\n",
       "      <td>0.0</td>\n",
       "      <td>0.0</td>\n",
       "      <td>0.0</td>\n",
       "      <td>0.0</td>\n",
       "      <td>0.0</td>\n",
       "      <td>0.0</td>\n",
       "      <td>0.0</td>\n",
       "      <td>0.0</td>\n",
       "    </tr>\n",
       "  </tbody>\n",
       "</table>\n",
       "<p>5 rows × 125 columns</p>\n",
       "</div>"
      ],
      "text/plain": [
       "            signup_method_facebook  signup_method_google  \\\n",
       "id                                                         \n",
       "gxn3p5htnn                       1                     0   \n",
       "820tgsjxq7                       1                     0   \n",
       "4ft3gnwmtx                       0                     0   \n",
       "bjjt8pjhuk                       1                     0   \n",
       "87mebub9p4                       0                     0   \n",
       "\n",
       "            affiliate_channel_content  affiliate_channel_direct  \\\n",
       "id                                                                \n",
       "gxn3p5htnn                          0                         1   \n",
       "820tgsjxq7                          0                         0   \n",
       "4ft3gnwmtx                          0                         1   \n",
       "bjjt8pjhuk                          0                         1   \n",
       "87mebub9p4                          0                         1   \n",
       "\n",
       "            affiliate_channel_other  affiliate_channel_remarketing  \\\n",
       "id                                                                   \n",
       "gxn3p5htnn                        0                              0   \n",
       "820tgsjxq7                        0                              0   \n",
       "4ft3gnwmtx                        0                              0   \n",
       "bjjt8pjhuk                        0                              0   \n",
       "87mebub9p4                        0                              0   \n",
       "\n",
       "            affiliate_channel_sem-brand  affiliate_channel_sem-non-brand  \\\n",
       "id                                                                         \n",
       "gxn3p5htnn                            0                                0   \n",
       "820tgsjxq7                            0                                0   \n",
       "4ft3gnwmtx                            0                                0   \n",
       "bjjt8pjhuk                            0                                0   \n",
       "87mebub9p4                            0                                0   \n",
       "\n",
       "            affiliate_channel_seo  signup_app_Moweb  ...  \\\n",
       "id                                                   ...   \n",
       "gxn3p5htnn                      0                 0  ...   \n",
       "820tgsjxq7                      1                 0  ...   \n",
       "4ft3gnwmtx                      0                 0  ...   \n",
       "bjjt8pjhuk                      0                 0  ...   \n",
       "87mebub9p4                      0                 0  ...   \n",
       "\n",
       "            action_detail_view_listing  action_detail_wishlist  \\\n",
       "id                                                               \n",
       "gxn3p5htnn                         0.0                     0.0   \n",
       "820tgsjxq7                         0.0                     0.0   \n",
       "4ft3gnwmtx                         0.0                     0.0   \n",
       "bjjt8pjhuk                         0.0                     0.0   \n",
       "87mebub9p4                         0.0                     0.0   \n",
       "\n",
       "            action_detail_your_listings  action_detail_your_trips  \\\n",
       "id                                                                  \n",
       "gxn3p5htnn                          0.0                       0.0   \n",
       "820tgsjxq7                          0.0                       0.0   \n",
       "4ft3gnwmtx                          0.0                       0.0   \n",
       "bjjt8pjhuk                          0.0                       0.0   \n",
       "87mebub9p4                          0.0                       0.0   \n",
       "\n",
       "            device_type_Blackberry  device_type_Chromebook  \\\n",
       "id                                                           \n",
       "gxn3p5htnn                     0.0                     0.0   \n",
       "820tgsjxq7                     0.0                     0.0   \n",
       "4ft3gnwmtx                     0.0                     0.0   \n",
       "bjjt8pjhuk                     0.0                     0.0   \n",
       "87mebub9p4                     0.0                     0.0   \n",
       "\n",
       "            device_type_Linux Desktop  device_type_Mac Desktop  \\\n",
       "id                                                               \n",
       "gxn3p5htnn                        0.0                      0.0   \n",
       "820tgsjxq7                        0.0                      0.0   \n",
       "4ft3gnwmtx                        0.0                      0.0   \n",
       "bjjt8pjhuk                        0.0                      0.0   \n",
       "87mebub9p4                        0.0                      0.0   \n",
       "\n",
       "            device_type_Windows Desktop  device_type_iPodtouch  \n",
       "id                                                              \n",
       "gxn3p5htnn                          0.0                    0.0  \n",
       "820tgsjxq7                          0.0                    0.0  \n",
       "4ft3gnwmtx                          0.0                    0.0  \n",
       "bjjt8pjhuk                          0.0                    0.0  \n",
       "87mebub9p4                          0.0                    0.0  \n",
       "\n",
       "[5 rows x 125 columns]"
      ]
     },
     "execution_count": 7,
     "metadata": {},
     "output_type": "execute_result"
    }
   ],
   "source": [
    "feature.head()"
   ]
  },
  {
   "cell_type": "code",
   "execution_count": 8,
   "metadata": {
    "execution": {
     "iopub.execute_input": "2020-08-03T06:24:21.832159Z",
     "iopub.status.busy": "2020-08-03T06:24:21.832159Z",
     "iopub.status.idle": "2020-08-03T06:24:22.103586Z",
     "shell.execute_reply": "2020-08-03T06:24:22.103586Z",
     "shell.execute_reply.started": "2020-08-03T06:24:21.832159Z"
    }
   },
   "outputs": [],
   "source": [
    "X_train, X_test, y_train, y_test = train_test_split(\n",
    "    feature, target, train_size=.25, random_state=42)"
   ]
  },
  {
   "cell_type": "code",
   "execution_count": 9,
   "metadata": {
    "execution": {
     "iopub.execute_input": "2020-08-03T06:24:22.105428Z",
     "iopub.status.busy": "2020-08-03T06:24:22.104430Z",
     "iopub.status.idle": "2020-08-03T06:24:22.109416Z",
     "shell.execute_reply": "2020-08-03T06:24:22.109416Z",
     "shell.execute_reply.started": "2020-08-03T06:24:22.105428Z"
    }
   },
   "outputs": [],
   "source": [
    "def ary_prep(data):\n",
    "    \"\"\"function to convert the predictions and test dataset\n",
    "    into form that be accepted by ndgc_score function\n",
    "\n",
    "    Args:\n",
    "    data : array to be transformed\n",
    "\n",
    "    Returns:\n",
    "    array that with shape of (1, n) where n is \n",
    "    the number of samples\n",
    "    \"\"\"\n",
    "    list_d = data.tolist()\n",
    "    ndcg_array = np.asarray([list_d])\n",
    "    return ndcg_array"
   ]
  },
  {
   "cell_type": "markdown",
   "metadata": {},
   "source": [
    "### Base Models comparison"
   ]
  },
  {
   "cell_type": "code",
   "execution_count": 10,
   "metadata": {
    "execution": {
     "iopub.execute_input": "2020-08-03T06:24:22.110414Z",
     "iopub.status.busy": "2020-08-03T06:24:22.110414Z",
     "iopub.status.idle": "2020-08-03T06:24:22.121621Z",
     "shell.execute_reply": "2020-08-03T06:24:22.121621Z",
     "shell.execute_reply.started": "2020-08-03T06:24:22.110414Z"
    }
   },
   "outputs": [],
   "source": [
    "clf_list = {'dummy': DummyClassifier(), 'lr': LogisticRegression(multi_class='multinomial', solver='lbfgs', max_iter=800),\n",
    "            'rfc': RandomForestClassifier(), 'et': ExtraTreesClassifier(), 'gradient': GradientBoostingClassifier(),\n",
    "            'lgb': LGBMClassifier(objective='multiclass', num_class=12)}"
   ]
  },
  {
   "cell_type": "code",
   "execution_count": 29,
   "metadata": {
    "execution": {
     "iopub.execute_input": "2020-08-03T07:49:02.640446Z",
     "iopub.status.busy": "2020-08-03T07:49:02.640446Z",
     "iopub.status.idle": "2020-08-03T07:49:02.645463Z",
     "shell.execute_reply": "2020-08-03T07:49:02.645463Z",
     "shell.execute_reply.started": "2020-08-03T07:49:02.640446Z"
    }
   },
   "outputs": [],
   "source": [
    "def model_train(name, reg):\n",
    "    fit = reg.fit(X_train, y_train)\n",
    "    pred = fit.predict(X_test)\n",
    "    score = fit.predict_proba(X_test)\n",
    "    ndcg = ndcg_score(lb.transform(y_test), score, k=5)\n",
    "    roc = roc_auc_score(y_test, score, multi_class='ovo')\n",
    "    print('{} has ndcg score of {:.3f} and roc of {:.3f}'.format(name, ndcg, roc))"
   ]
  },
  {
   "cell_type": "code",
   "execution_count": 30,
   "metadata": {
    "execution": {
     "iopub.execute_input": "2020-08-03T07:49:05.825649Z",
     "iopub.status.busy": "2020-08-03T07:49:05.825649Z",
     "iopub.status.idle": "2020-08-03T07:53:44.425107Z",
     "shell.execute_reply": "2020-08-03T07:53:44.425107Z",
     "shell.execute_reply.started": "2020-08-03T07:49:05.825649Z"
    }
   },
   "outputs": [
    {
     "name": "stdout",
     "output_type": "stream",
     "text": [
      "dummy has ndcg score of 0.530 and roc of 0.500\n",
      "lr has ndcg score of 0.825 and roc of 0.554\n",
      "rfc has ndcg score of 0.809 and roc of 0.527\n",
      "et has ndcg score of 0.798 and roc of 0.526\n",
      "gradient has ndcg score of 0.824 and roc of 0.552\n",
      "lgb has ndcg score of 0.825 and roc of 0.545\n"
     ]
    }
   ],
   "source": [
    "for name, reg in clf_list.items():\n",
    "    model_train(name, reg)"
   ]
  },
  {
   "cell_type": "code",
   "execution_count": 18,
   "metadata": {
    "execution": {
     "iopub.execute_input": "2020-08-03T03:47:45.081306Z",
     "iopub.status.busy": "2020-08-03T03:47:45.081306Z",
     "iopub.status.idle": "2020-08-03T03:47:45.084298Z",
     "shell.execute_reply": "2020-08-03T03:47:45.084298Z",
     "shell.execute_reply.started": "2020-08-03T03:47:45.081306Z"
    }
   },
   "outputs": [],
   "source": []
  },
  {
   "cell_type": "markdown",
   "metadata": {},
   "source": [
    "### Cross Validation"
   ]
  },
  {
   "cell_type": "code",
   "execution_count": 13,
   "metadata": {
    "execution": {
     "iopub.execute_input": "2020-08-03T06:29:56.431780Z",
     "iopub.status.busy": "2020-08-03T06:29:56.431780Z",
     "iopub.status.idle": "2020-08-03T07:14:42.883752Z",
     "shell.execute_reply": "2020-08-03T07:14:42.883752Z",
     "shell.execute_reply.started": "2020-08-03T06:29:56.431780Z"
    }
   },
   "outputs": [
    {
     "name": "stdout",
     "output_type": "stream",
     "text": [
      "dummy has average roc of 0.500\n",
      "lr has average roc of 0.583\n",
      "rfc has average roc of 0.796\n",
      "et has average roc of 0.800\n",
      "gradient has average roc of 0.607\n",
      "lgb has average roc of 0.671\n"
     ]
    }
   ],
   "source": [
    "for name, reg in clf_list.items():\n",
    "    scores = cross_validate(reg, feature, target, cv=4, scoring=(\n",
    "        'roc_auc_ovo'), return_train_score=True)\n",
    "    print('{} has average roc of {:.3f}'.format(\n",
    "        name, np.mean(scores['train_score'])))"
   ]
  },
  {
   "cell_type": "code",
   "execution_count": null,
   "metadata": {},
   "outputs": [],
   "source": []
  }
 ],
 "metadata": {
  "kernelspec": {
   "display_name": "Python 3",
   "language": "python",
   "name": "python3"
  },
  "language_info": {
   "codemirror_mode": {
    "name": "ipython",
    "version": 3
   },
   "file_extension": ".py",
   "mimetype": "text/x-python",
   "name": "python",
   "nbconvert_exporter": "python",
   "pygments_lexer": "ipython3",
   "version": "3.7.1"
  }
 },
 "nbformat": 4,
 "nbformat_minor": 4
}
