{
 "cells": [
  {
   "cell_type": "markdown",
   "metadata": {},
   "source": [
    "# Machine Learning"
   ]
  },
  {
   "cell_type": "code",
   "execution_count": 5,
   "metadata": {
    "execution": {
     "iopub.execute_input": "2020-08-14T04:31:52.406315Z",
     "iopub.status.busy": "2020-08-14T04:31:52.406315Z",
     "iopub.status.idle": "2020-08-14T04:31:52.412299Z",
     "shell.execute_reply": "2020-08-14T04:31:52.411880Z",
     "shell.execute_reply.started": "2020-08-14T04:31:52.406315Z"
    }
   },
   "outputs": [],
   "source": [
    "import pickle\n",
    "import warnings\n",
    "\n",
    "import hyperopt\n",
    "import numpy as np\n",
    "import pandas as pd\n",
    "from hyperopt import STATUS_OK, Trials, fmin, hp, rand, tpe\n",
    "from hyperopt.pyll.base import scope\n",
    "from lightgbm import LGBMClassifier\n",
    "from sklearn.dummy import DummyClassifier\n",
    "from sklearn.ensemble import (\n",
    "    ExtraTreesClassifier,\n",
    "    GradientBoostingClassifier,\n",
    "    RandomForestClassifier,\n",
    ")\n",
    "from sklearn.linear_model import LogisticRegression, RidgeClassifier\n",
    "from sklearn.metrics import ndcg_score, roc_auc_score\n",
    "from sklearn.model_selection import (\n",
    "    KFold,\n",
    "    RandomizedSearchCV,\n",
    "    cross_val_score,\n",
    "    cross_validate,\n",
    "    train_test_split,\n",
    ")\n",
    "from sklearn.preprocessing import LabelBinarizer, LabelEncoder\n",
    "from tpot import TPOTClassifier\n",
    "from xgboost.sklearn import XGBClassifier\n",
    "\n",
    "warnings.simplefilter(action='ignore', category=FutureWarning)"
   ]
  },
  {
   "cell_type": "code",
   "execution_count": 6,
   "metadata": {
    "execution": {
     "iopub.execute_input": "2020-08-14T04:31:53.484475Z",
     "iopub.status.busy": "2020-08-14T04:31:53.484475Z",
     "iopub.status.idle": "2020-08-14T04:31:55.289651Z",
     "shell.execute_reply": "2020-08-14T04:31:55.289651Z",
     "shell.execute_reply.started": "2020-08-14T04:31:53.484475Z"
    }
   },
   "outputs": [],
   "source": [
    "train = pd.read_csv('./data/train_df.csv', index_col=0)"
   ]
  },
  {
   "cell_type": "code",
   "execution_count": 7,
   "metadata": {
    "execution": {
     "iopub.execute_input": "2020-08-14T04:31:55.291643Z",
     "iopub.status.busy": "2020-08-14T04:31:55.291643Z",
     "iopub.status.idle": "2020-08-14T04:31:55.299494Z",
     "shell.execute_reply": "2020-08-14T04:31:55.298537Z",
     "shell.execute_reply.started": "2020-08-14T04:31:55.291643Z"
    }
   },
   "outputs": [
    {
     "data": {
      "text/plain": [
       "(213451, 126)"
      ]
     },
     "execution_count": 7,
     "metadata": {},
     "output_type": "execute_result"
    }
   ],
   "source": [
    "train.shape"
   ]
  },
  {
   "cell_type": "code",
   "execution_count": 8,
   "metadata": {
    "execution": {
     "iopub.execute_input": "2020-08-14T04:31:57.053293Z",
     "iopub.status.busy": "2020-08-14T04:31:57.053293Z",
     "iopub.status.idle": "2020-08-14T04:31:57.165992Z",
     "shell.execute_reply": "2020-08-14T04:31:57.164997Z",
     "shell.execute_reply.started": "2020-08-14T04:31:57.053293Z"
    }
   },
   "outputs": [
    {
     "data": {
      "text/plain": [
       "LabelBinarizer()"
      ]
     },
     "execution_count": 8,
     "metadata": {},
     "output_type": "execute_result"
    }
   ],
   "source": [
    "le = LabelEncoder()\n",
    "train['target'] = le.fit_transform(train['country_destination'])\n",
    "lb = LabelBinarizer()\n",
    "lb.fit(train['target'])"
   ]
  },
  {
   "cell_type": "code",
   "execution_count": 9,
   "metadata": {
    "execution": {
     "iopub.execute_input": "2020-08-14T04:31:57.719982Z",
     "iopub.status.busy": "2020-08-14T04:31:57.718983Z",
     "iopub.status.idle": "2020-08-14T04:31:57.726960Z",
     "shell.execute_reply": "2020-08-14T04:31:57.725963Z",
     "shell.execute_reply.started": "2020-08-14T04:31:57.719982Z"
    }
   },
   "outputs": [
    {
     "data": {
      "text/plain": [
       "{0: 'AU',\n",
       " 1: 'CA',\n",
       " 2: 'DE',\n",
       " 3: 'ES',\n",
       " 4: 'FR',\n",
       " 5: 'GB',\n",
       " 6: 'IT',\n",
       " 7: 'NDF',\n",
       " 8: 'NL',\n",
       " 9: 'PT',\n",
       " 10: 'US',\n",
       " 11: 'other'}"
      ]
     },
     "execution_count": 9,
     "metadata": {},
     "output_type": "execute_result"
    }
   ],
   "source": [
    "mapping = dict(zip(range(len(le.classes_)), le.classes_))\n",
    "mapping"
   ]
  },
  {
   "cell_type": "code",
   "execution_count": 10,
   "metadata": {
    "execution": {
     "iopub.execute_input": "2020-08-14T04:32:00.637157Z",
     "iopub.status.busy": "2020-08-14T04:32:00.637157Z",
     "iopub.status.idle": "2020-08-14T04:32:00.722928Z",
     "shell.execute_reply": "2020-08-14T04:32:00.721971Z",
     "shell.execute_reply.started": "2020-08-14T04:32:00.637157Z"
    }
   },
   "outputs": [],
   "source": [
    "target = train['target']\n",
    "feature = train.drop(['target', 'country_destination'], axis=1)"
   ]
  },
  {
   "cell_type": "code",
   "execution_count": 11,
   "metadata": {
    "execution": {
     "iopub.execute_input": "2020-08-14T04:32:00.886347Z",
     "iopub.status.busy": "2020-08-14T04:32:00.885383Z",
     "iopub.status.idle": "2020-08-14T04:32:00.890336Z",
     "shell.execute_reply": "2020-08-14T04:32:00.890336Z",
     "shell.execute_reply.started": "2020-08-14T04:32:00.886347Z"
    }
   },
   "outputs": [
    {
     "name": "stdout",
     "output_type": "stream",
     "text": [
      "(213451,) (213451, 125)\n"
     ]
    }
   ],
   "source": [
    "print(target.shape, feature.shape)"
   ]
  },
  {
   "cell_type": "markdown",
   "metadata": {},
   "source": [
    "### Base Models comparison"
   ]
  },
  {
   "cell_type": "code",
   "execution_count": 12,
   "metadata": {
    "execution": {
     "iopub.execute_input": "2020-08-14T04:32:01.868109Z",
     "iopub.status.busy": "2020-08-14T04:32:01.868109Z",
     "iopub.status.idle": "2020-08-14T04:32:02.213185Z",
     "shell.execute_reply": "2020-08-14T04:32:02.213185Z",
     "shell.execute_reply.started": "2020-08-14T04:32:01.868109Z"
    }
   },
   "outputs": [],
   "source": [
    "X_train, X_test, y_train, y_test = train_test_split(\n",
    "    feature, target, train_size=.25, random_state=42)"
   ]
  },
  {
   "cell_type": "code",
   "execution_count": 8,
   "metadata": {
    "execution": {
     "iopub.execute_input": "2020-08-13T01:42:31.653053Z",
     "iopub.status.busy": "2020-08-13T01:42:31.653053Z",
     "iopub.status.idle": "2020-08-13T01:42:31.659038Z",
     "shell.execute_reply": "2020-08-13T01:42:31.659038Z",
     "shell.execute_reply.started": "2020-08-13T01:42:31.653053Z"
    }
   },
   "outputs": [],
   "source": [
    "clf_list = {'dummy': DummyClassifier(), 'lr': LogisticRegression(multi_class='multinomial', solver='lbfgs', max_iter=800),\n",
    "            'rfc': RandomForestClassifier(), 'et': ExtraTreesClassifier(), 'gradient': GradientBoostingClassifier(),\n",
    "            'lgb': LGBMClassifier(objective='multiclass', num_class=12)}"
   ]
  },
  {
   "cell_type": "code",
   "execution_count": 9,
   "metadata": {
    "execution": {
     "iopub.execute_input": "2020-08-13T01:42:32.077660Z",
     "iopub.status.busy": "2020-08-13T01:42:32.077660Z",
     "iopub.status.idle": "2020-08-13T01:42:32.085602Z",
     "shell.execute_reply": "2020-08-13T01:42:32.084609Z",
     "shell.execute_reply.started": "2020-08-13T01:42:32.077660Z"
    }
   },
   "outputs": [],
   "source": [
    "def model_train(name, reg):\n",
    "    fit = reg.fit(X_train, y_train)\n",
    "    pred = fit.predict(X_test)\n",
    "    score = fit.predict_proba(X_test)\n",
    "    ndcg = ndcg_score(lb.transform(y_test), score, k=5)\n",
    "    roc = roc_auc_score(y_test, score, multi_class='ovr')\n",
    "    print('{} has ndcg score of {:.3f} and roc of {:.3f}'.format(name, ndcg, roc))"
   ]
  },
  {
   "cell_type": "code",
   "execution_count": 12,
   "metadata": {
    "execution": {
     "iopub.execute_input": "2020-08-05T04:15:32.766057Z",
     "iopub.status.busy": "2020-08-05T04:15:32.766057Z",
     "iopub.status.idle": "2020-08-05T04:20:01.189133Z",
     "shell.execute_reply": "2020-08-05T04:20:01.189133Z",
     "shell.execute_reply.started": "2020-08-05T04:15:32.766057Z"
    }
   },
   "outputs": [
    {
     "name": "stdout",
     "output_type": "stream",
     "text": [
      "dummy has ndcg score of 0.531 and roc of 0.500\n",
      "lr has ndcg score of 0.825 and roc of 0.656\n",
      "rfc has ndcg score of 0.809 and roc of 0.557\n",
      "et has ndcg score of 0.797 and roc of 0.552\n",
      "gradient has ndcg score of 0.824 and roc of 0.648\n",
      "lgb has ndcg score of 0.825 and roc of 0.632\n"
     ]
    }
   ],
   "source": [
    "for name, reg in clf_list.items():\n",
    "    model_train(name, reg)"
   ]
  },
  {
   "cell_type": "markdown",
   "metadata": {},
   "source": [
    "### Cross Validation"
   ]
  },
  {
   "cell_type": "code",
   "execution_count": 34,
   "metadata": {
    "execution": {
     "iopub.execute_input": "2020-08-04T04:26:46.577196Z",
     "iopub.status.busy": "2020-08-04T04:26:46.576196Z",
     "iopub.status.idle": "2020-08-04T05:35:39.335674Z",
     "shell.execute_reply": "2020-08-04T05:35:39.335674Z",
     "shell.execute_reply.started": "2020-08-04T04:26:46.577196Z"
    }
   },
   "outputs": [
    {
     "name": "stdout",
     "output_type": "stream",
     "text": [
      "dummy has average roc of 0.500\n",
      "lr has average roc of 0.687\n",
      "rfc has average roc of 0.842\n",
      "et has average roc of 0.845\n",
      "gradient has average roc of 0.700\n",
      "lgb has average roc of 0.754\n"
     ]
    }
   ],
   "source": [
    "for name, reg in clf_list.items():\n",
    "    scores = cross_validate(reg, feature, target, cv=4, scoring=(\n",
    "        'roc_auc_ovr'), return_train_score=True)\n",
    "    print('{} has average roc of {:.3f}'.format(\n",
    "        name, np.mean(scores['train_score'])))"
   ]
  },
  {
   "cell_type": "markdown",
   "metadata": {},
   "source": [
    "**Tree based** models appear to work well for this classification problem. **Lightgbm** would also be considered."
   ]
  },
  {
   "cell_type": "markdown",
   "metadata": {},
   "source": [
    "### Tunning"
   ]
  },
  {
   "cell_type": "code",
   "execution_count": 13,
   "metadata": {
    "execution": {
     "iopub.execute_input": "2020-08-14T04:35:44.996140Z",
     "iopub.status.busy": "2020-08-14T04:35:44.996140Z",
     "iopub.status.idle": "2020-08-14T04:35:45.000130Z",
     "shell.execute_reply": "2020-08-14T04:35:45.000130Z",
     "shell.execute_reply.started": "2020-08-14T04:35:44.996140Z"
    }
   },
   "outputs": [],
   "source": [
    "number_generations = 10\n",
    "population_size = 20\n",
    "offspring_size = 50\n",
    "scoring_function = 'roc_auc_ovr'"
   ]
  },
  {
   "cell_type": "code",
   "execution_count": 14,
   "metadata": {
    "execution": {
     "iopub.execute_input": "2020-08-14T04:35:52.228529Z",
     "iopub.status.busy": "2020-08-14T04:35:52.228529Z",
     "iopub.status.idle": "2020-08-14T04:35:52.233516Z",
     "shell.execute_reply": "2020-08-14T04:35:52.232518Z",
     "shell.execute_reply.started": "2020-08-14T04:35:52.228529Z"
    }
   },
   "outputs": [],
   "source": [
    "tpot_clf = TPOTClassifier(generations=number_generations, population_size=population_size,\n",
    "                          offspring_size=offspring_size, scoring=scoring_function,\n",
    "                          verbosity=2, random_state=2, cv=5)"
   ]
  },
  {
   "cell_type": "code",
   "execution_count": null,
   "metadata": {
    "execution": {
     "iopub.execute_input": "2020-08-14T04:36:53.276812Z",
     "iopub.status.busy": "2020-08-14T04:36:53.275810Z"
    }
   },
   "outputs": [
    {
     "data": {
      "application/vnd.jupyter.widget-view+json": {
       "model_id": "25f3177760b043f794aa976f9a55422b",
       "version_major": 2,
       "version_minor": 0
      },
      "text/plain": [
       "HBox(children=(FloatProgress(value=0.0, description='Optimization Progress', max=520.0, style=ProgressStyle(de…"
      ]
     },
     "metadata": {},
     "output_type": "display_data"
    }
   ],
   "source": [
    "tpot_clf.fit(X_train, y_train)\n",
    "print(tpot_clf.score(X_test, y_test))"
   ]
  },
  {
   "cell_type": "code",
   "execution_count": 10,
   "metadata": {
    "execution": {
     "iopub.execute_input": "2020-08-13T01:42:39.131004Z",
     "iopub.status.busy": "2020-08-13T01:42:39.131004Z",
     "iopub.status.idle": "2020-08-13T01:42:39.135027Z",
     "shell.execute_reply": "2020-08-13T01:42:39.135027Z",
     "shell.execute_reply.started": "2020-08-13T01:42:39.131004Z"
    }
   },
   "outputs": [],
   "source": [
    "space = {'max_depth': hp.quniform('max_depth', 10, 50, 4),\n",
    "         'n_estimators': scope.int(hp.quniform('n_estimators', 200, 2000, 10)),\n",
    "         'min_samples_split': scope.int(hp.quniform('min_samples_split', 2, 10, 4)),\n",
    "         'min_samples_leaf': scope.int(hp.quniform('min_samples_leaf', 2, 10, 4)),\n",
    "         'bootstrap': hp.choice('bootstrap', [True, False]),\n",
    "         'max_features': hp.choice('max_features', ['auto', 'sqrt'])\n",
    "         }"
   ]
  },
  {
   "cell_type": "code",
   "execution_count": 11,
   "metadata": {
    "execution": {
     "iopub.execute_input": "2020-08-13T01:42:44.663784Z",
     "iopub.status.busy": "2020-08-13T01:42:44.663784Z",
     "iopub.status.idle": "2020-08-13T01:42:44.668771Z",
     "shell.execute_reply": "2020-08-13T01:42:44.667774Z",
     "shell.execute_reply.started": "2020-08-13T01:42:44.663784Z"
    }
   },
   "outputs": [],
   "source": [
    "def obj_rf(params):\n",
    "    clf = RandomForestClassifier(**params)\n",
    "    best_score = cross_val_score(\n",
    "        clf, X_train, y_train, scoring='roc_auc_ovr', cv=2).mean()\n",
    "    return {'loss': -best_score, 'status': STATUS_OK}"
   ]
  },
  {
   "cell_type": "code",
   "execution_count": 14,
   "metadata": {
    "execution": {
     "iopub.execute_input": "2020-08-13T01:43:38.794957Z",
     "iopub.status.busy": "2020-08-13T01:43:38.793959Z",
     "iopub.status.idle": "2020-08-13T02:21:29.884166Z",
     "shell.execute_reply": "2020-08-13T02:21:29.883205Z",
     "shell.execute_reply.started": "2020-08-13T01:43:38.794957Z"
    }
   },
   "outputs": [
    {
     "name": "stdout",
     "output_type": "stream",
     "text": [
      "100%|██████████| 25/25 [37:51<00:00, 90.84s/trial, best loss: -0.636198424672282]  \n"
     ]
    }
   ],
   "source": [
    "best_rf = fmin(fn=obj_rf, space=space, max_evals=25,\n",
    "               rstate=np.random.RandomState(42), algo=rand.suggest)"
   ]
  },
  {
   "cell_type": "code",
   "execution_count": 15,
   "metadata": {
    "execution": {
     "iopub.execute_input": "2020-08-13T02:22:13.984284Z",
     "iopub.status.busy": "2020-08-13T02:22:13.984284Z",
     "iopub.status.idle": "2020-08-13T02:22:13.988266Z",
     "shell.execute_reply": "2020-08-13T02:22:13.988266Z",
     "shell.execute_reply.started": "2020-08-13T02:22:13.984284Z"
    }
   },
   "outputs": [
    {
     "data": {
      "text/plain": [
       "{'bootstrap': 0,\n",
       " 'max_depth': 16.0,\n",
       " 'max_features': 0,\n",
       " 'min_samples_leaf': 8.0,\n",
       " 'min_samples_split': 8.0,\n",
       " 'n_estimators': 210.0}"
      ]
     },
     "execution_count": 15,
     "metadata": {},
     "output_type": "execute_result"
    }
   ],
   "source": [
    "best_rf"
   ]
  },
  {
   "cell_type": "code",
   "execution_count": 25,
   "metadata": {
    "execution": {
     "iopub.execute_input": "2020-08-13T04:45:17.649002Z",
     "iopub.status.busy": "2020-08-13T04:45:17.648005Z",
     "iopub.status.idle": "2020-08-13T04:45:22.245030Z",
     "shell.execute_reply": "2020-08-13T04:45:22.245030Z",
     "shell.execute_reply.started": "2020-08-13T04:45:17.649002Z"
    }
   },
   "outputs": [],
   "source": [
    "rf_tuned = RandomForestClassifier(n_estimators=210, min_samples_leaf=8,\n",
    "                                  min_impurity_split=8, max_depth=16, bootstrap=True).fit(feature, target)\n",
    "pickle.dump(rf_tuned, open('./data/rf_tuned.sav', 'wb'))"
   ]
  },
  {
   "cell_type": "code",
   "execution_count": 89,
   "metadata": {
    "execution": {
     "iopub.execute_input": "2020-08-06T06:29:05.451327Z",
     "iopub.status.busy": "2020-08-06T06:29:05.451327Z",
     "iopub.status.idle": "2020-08-06T06:29:44.918753Z",
     "shell.execute_reply": "2020-08-06T06:29:44.918753Z",
     "shell.execute_reply.started": "2020-08-06T06:29:05.451327Z"
    }
   },
   "outputs": [
    {
     "name": "stdout",
     "output_type": "stream",
     "text": [
      "rf_tuned has ndcg score of 0.806 and roc of 0.500\n"
     ]
    }
   ],
   "source": [
    "model_train('rf_tuned', rf_tuned)"
   ]
  },
  {
   "cell_type": "code",
   "execution_count": 24,
   "metadata": {
    "execution": {
     "iopub.execute_input": "2020-08-08T01:45:22.238752Z",
     "iopub.status.busy": "2020-08-08T01:45:22.238752Z",
     "iopub.status.idle": "2020-08-08T01:45:22.242742Z",
     "shell.execute_reply": "2020-08-08T01:45:22.242742Z",
     "shell.execute_reply.started": "2020-08-08T01:45:22.238752Z"
    }
   },
   "outputs": [],
   "source": [
    "def obj_et(params):\n",
    "    clf = ExtraTreesClassifier(**params)\n",
    "    best_score = cross_val_score(\n",
    "        clf, X_train, y_train, scoring='roc_auc_ovr', cv=2).mean()\n",
    "    return {'loss': -best_score, 'status': STATUS_OK}"
   ]
  },
  {
   "cell_type": "code",
   "execution_count": 26,
   "metadata": {
    "execution": {
     "iopub.execute_input": "2020-08-08T01:45:27.153618Z",
     "iopub.status.busy": "2020-08-08T01:45:27.153618Z",
     "iopub.status.idle": "2020-08-08T02:10:00.494728Z",
     "shell.execute_reply": "2020-08-08T02:10:00.494728Z",
     "shell.execute_reply.started": "2020-08-08T01:45:27.153618Z"
    }
   },
   "outputs": [
    {
     "name": "stdout",
     "output_type": "stream",
     "text": [
      "100%|██████████| 25/25 [24:33<00:00, 58.93s/trial, best loss: -0.636270277556644] \n"
     ]
    }
   ],
   "source": [
    "best_et = fmin(fn=obj_et, space=space, max_evals=25,\n",
    "               rstate=np.random.RandomState(42), algo=tpe.suggest)"
   ]
  },
  {
   "cell_type": "code",
   "execution_count": 29,
   "metadata": {
    "execution": {
     "iopub.execute_input": "2020-08-08T02:16:57.886751Z",
     "iopub.status.busy": "2020-08-08T02:16:57.886751Z",
     "iopub.status.idle": "2020-08-08T02:26:31.110620Z",
     "shell.execute_reply": "2020-08-08T02:26:31.110620Z",
     "shell.execute_reply.started": "2020-08-08T02:16:57.886751Z"
    }
   },
   "outputs": [],
   "source": [
    "et_tuned = ExtraTreesClassifier(n_estimators=1990, max_depth=24,\n",
    "                                min_samples_leaf=8, min_samples_split=8).fit(feature, target)\n",
    "pickle.dump(et_tuned, open('./data/et_tuned.sav', 'wb'))"
   ]
  },
  {
   "cell_type": "code",
   "execution_count": 18,
   "metadata": {
    "execution": {
     "iopub.execute_input": "2020-08-13T02:22:40.601052Z",
     "iopub.status.busy": "2020-08-13T02:22:40.601052Z",
     "iopub.status.idle": "2020-08-13T02:22:40.606039Z",
     "shell.execute_reply": "2020-08-13T02:22:40.605374Z",
     "shell.execute_reply.started": "2020-08-13T02:22:40.601052Z"
    }
   },
   "outputs": [],
   "source": [
    "space_lgb = {'max_depth': scope.int(hp.quniform('max_depth', 10, 50, 25)),\n",
    "             'n_estimators': scope.int(hp.quniform('n_estimators', 200, 2000, 10)),\n",
    "             'learning_rate': hp.choice('learning_rate', [0.05, 0.1, 0.3]),\n",
    "             'min_child_samples': scope.int(hp.quniform('min_child_samples', 4, 200, 50)),\n",
    "             'num_leaves': scope.int(hp.quniform('num_leaves', 20, 100, 20))\n",
    "             }"
   ]
  },
  {
   "cell_type": "code",
   "execution_count": 19,
   "metadata": {
    "execution": {
     "iopub.execute_input": "2020-08-13T02:22:40.949117Z",
     "iopub.status.busy": "2020-08-13T02:22:40.949117Z",
     "iopub.status.idle": "2020-08-13T02:22:40.953075Z",
     "shell.execute_reply": "2020-08-13T02:22:40.953075Z",
     "shell.execute_reply.started": "2020-08-13T02:22:40.949117Z"
    }
   },
   "outputs": [],
   "source": [
    "def obj_lgb(params):\n",
    "    clf = LGBMClassifier(**params)\n",
    "    best_score = cross_val_score(\n",
    "        clf, X_train, y_train, scoring='roc_auc_ovr', cv=2).mean()\n",
    "    return {'loss': -best_score, 'status': STATUS_OK}"
   ]
  },
  {
   "cell_type": "code",
   "execution_count": 22,
   "metadata": {
    "execution": {
     "iopub.execute_input": "2020-08-13T02:58:52.846883Z",
     "iopub.status.busy": "2020-08-13T02:58:52.846883Z",
     "iopub.status.idle": "2020-08-13T04:11:32.310581Z",
     "shell.execute_reply": "2020-08-13T04:11:32.310581Z",
     "shell.execute_reply.started": "2020-08-13T02:58:52.846883Z"
    }
   },
   "outputs": [
    {
     "name": "stdout",
     "output_type": "stream",
     "text": [
      "100%|██████████| 25/25 [1:12:39<00:00, 174.38s/trial, best loss: -0.612053920174981] \n"
     ]
    }
   ],
   "source": [
    "best_lgb = fmin(fn=obj_lgb, space=space_lgb, max_evals=25,\n",
    "                rstate=np.random.RandomState(42), algo=rand.suggest)"
   ]
  },
  {
   "cell_type": "code",
   "execution_count": 23,
   "metadata": {
    "execution": {
     "iopub.execute_input": "2020-08-13T04:27:30.007718Z",
     "iopub.status.busy": "2020-08-13T04:27:30.007718Z",
     "iopub.status.idle": "2020-08-13T04:27:30.013759Z",
     "shell.execute_reply": "2020-08-13T04:27:30.012728Z",
     "shell.execute_reply.started": "2020-08-13T04:27:30.007718Z"
    }
   },
   "outputs": [
    {
     "data": {
      "text/plain": [
       "{'learning_rate': 0,\n",
       " 'max_depth': 25.0,\n",
       " 'min_child_samples': 150.0,\n",
       " 'n_estimators': 220.0,\n",
       " 'num_leaves': 60.0}"
      ]
     },
     "execution_count": 23,
     "metadata": {},
     "output_type": "execute_result"
    }
   ],
   "source": [
    "best_lgb"
   ]
  },
  {
   "cell_type": "code",
   "execution_count": 24,
   "metadata": {
    "execution": {
     "iopub.execute_input": "2020-08-13T04:28:18.555122Z",
     "iopub.status.busy": "2020-08-13T04:28:18.555122Z",
     "iopub.status.idle": "2020-08-13T04:28:55.453440Z",
     "shell.execute_reply": "2020-08-13T04:28:55.453440Z",
     "shell.execute_reply.started": "2020-08-13T04:28:18.555122Z"
    }
   },
   "outputs": [],
   "source": [
    "lgb_tuned = LGBMClassifier(n_estimators=220, min_child_samples=150,\n",
    "                           num_leaves=60, learning_rate=0.05, max_depth=25).fit(feature, target)\n",
    "pickle.dump(lgb_tuned, open('./data/lgb_tuned.sav', 'wb'))"
   ]
  }
 ],
 "metadata": {
  "kernelspec": {
   "display_name": "Python 3",
   "language": "python",
   "name": "python3"
  },
  "language_info": {
   "codemirror_mode": {
    "name": "ipython",
    "version": 3
   },
   "file_extension": ".py",
   "mimetype": "text/x-python",
   "name": "python",
   "nbconvert_exporter": "python",
   "pygments_lexer": "ipython3",
   "version": "3.7.1"
  }
 },
 "nbformat": 4,
 "nbformat_minor": 4
}
