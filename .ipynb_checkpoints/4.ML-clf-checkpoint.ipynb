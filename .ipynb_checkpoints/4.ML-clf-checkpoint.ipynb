{
 "cells": [
  {
   "cell_type": "markdown",
   "metadata": {},
   "source": [
    "# Machine Learning"
   ]
  },
  {
   "cell_type": "code",
   "execution_count": 1,
   "metadata": {
    "execution": {
     "iopub.execute_input": "2020-08-20T02:09:51.545901Z",
     "iopub.status.busy": "2020-08-20T02:09:51.545901Z",
     "iopub.status.idle": "2020-08-20T02:09:57.836942Z",
     "shell.execute_reply": "2020-08-20T02:09:57.835943Z",
     "shell.execute_reply.started": "2020-08-20T02:09:51.545901Z"
    }
   },
   "outputs": [],
   "source": [
    "import pickle\n",
    "import warnings\n",
    "\n",
    "import hyperopt\n",
    "import numpy as np\n",
    "import pandas as pd\n",
    "from hyperopt import STATUS_OK, Trials, fmin, hp, rand, tpe\n",
    "from hyperopt.pyll.base import scope\n",
    "from lightgbm import LGBMClassifier\n",
    "from sklearn.dummy import DummyClassifier\n",
    "from sklearn.ensemble import (\n",
    "    ExtraTreesClassifier,\n",
    "    GradientBoostingClassifier,\n",
    "    RandomForestClassifier,\n",
    ")\n",
    "from sklearn.linear_model import LogisticRegression, RidgeClassifier\n",
    "from sklearn.metrics import make_scorer, ndcg_score, roc_auc_score\n",
    "from sklearn.model_selection import (\n",
    "    KFold,\n",
    "    RandomizedSearchCV,\n",
    "    cross_val_score,\n",
    "    cross_validate,\n",
    "    train_test_split\n",
    ")\n",
    "from sklearn.preprocessing import LabelBinarizer, LabelEncoder\n",
    "\n",
    "warnings.simplefilter(action='ignore', category=FutureWarning)"
   ]
  },
  {
   "cell_type": "code",
   "execution_count": 2,
   "metadata": {
    "execution": {
     "iopub.execute_input": "2020-08-20T02:09:57.837938Z",
     "iopub.status.busy": "2020-08-20T02:09:57.837938Z",
     "iopub.status.idle": "2020-08-20T02:09:59.765683Z",
     "shell.execute_reply": "2020-08-20T02:09:59.765683Z",
     "shell.execute_reply.started": "2020-08-20T02:09:57.837938Z"
    }
   },
   "outputs": [],
   "source": [
    "train = pd.read_csv('./data/train_df.csv', index_col=0)"
   ]
  },
  {
   "cell_type": "code",
   "execution_count": 3,
   "metadata": {
    "execution": {
     "iopub.execute_input": "2020-08-20T02:09:59.766644Z",
     "iopub.status.busy": "2020-08-20T02:09:59.766644Z",
     "iopub.status.idle": "2020-08-20T02:09:59.774654Z",
     "shell.execute_reply": "2020-08-20T02:09:59.774654Z",
     "shell.execute_reply.started": "2020-08-20T02:09:59.766644Z"
    }
   },
   "outputs": [
    {
     "data": {
      "text/plain": [
       "(213451, 126)"
      ]
     },
     "execution_count": 3,
     "metadata": {},
     "output_type": "execute_result"
    }
   ],
   "source": [
    "train.shape"
   ]
  },
  {
   "cell_type": "code",
   "execution_count": 4,
   "metadata": {
    "execution": {
     "iopub.execute_input": "2020-08-20T02:09:59.776618Z",
     "iopub.status.busy": "2020-08-20T02:09:59.775621Z",
     "iopub.status.idle": "2020-08-20T02:09:59.888320Z",
     "shell.execute_reply": "2020-08-20T02:09:59.887322Z",
     "shell.execute_reply.started": "2020-08-20T02:09:59.776618Z"
    }
   },
   "outputs": [
    {
     "data": {
      "text/plain": [
       "LabelBinarizer()"
      ]
     },
     "execution_count": 4,
     "metadata": {},
     "output_type": "execute_result"
    }
   ],
   "source": [
    "le = LabelEncoder()\n",
    "train['target'] = le.fit_transform(train['country_destination'])\n",
    "lb = LabelBinarizer()\n",
    "lb.fit(train['target'])"
   ]
  },
  {
   "cell_type": "code",
   "execution_count": 5,
   "metadata": {
    "execution": {
     "iopub.execute_input": "2020-08-20T02:09:59.889324Z",
     "iopub.status.busy": "2020-08-20T02:09:59.889324Z",
     "iopub.status.idle": "2020-08-20T02:09:59.896300Z",
     "shell.execute_reply": "2020-08-20T02:09:59.895301Z",
     "shell.execute_reply.started": "2020-08-20T02:09:59.889324Z"
    }
   },
   "outputs": [
    {
     "data": {
      "text/plain": [
       "{0: 'AU',\n",
       " 1: 'CA',\n",
       " 2: 'DE',\n",
       " 3: 'ES',\n",
       " 4: 'FR',\n",
       " 5: 'GB',\n",
       " 6: 'IT',\n",
       " 7: 'NDF',\n",
       " 8: 'NL',\n",
       " 9: 'PT',\n",
       " 10: 'US',\n",
       " 11: 'other'}"
      ]
     },
     "execution_count": 5,
     "metadata": {},
     "output_type": "execute_result"
    }
   ],
   "source": [
    "mapping = dict(zip(range(len(le.classes_)), le.classes_))\n",
    "mapping"
   ]
  },
  {
   "cell_type": "code",
   "execution_count": 6,
   "metadata": {
    "execution": {
     "iopub.execute_input": "2020-08-20T02:09:59.897298Z",
     "iopub.status.busy": "2020-08-20T02:09:59.897298Z",
     "iopub.status.idle": "2020-08-20T02:09:59.985089Z",
     "shell.execute_reply": "2020-08-20T02:09:59.985089Z",
     "shell.execute_reply.started": "2020-08-20T02:09:59.897298Z"
    }
   },
   "outputs": [],
   "source": [
    "target = train['target']\n",
    "feature = train.drop(['target', 'country_destination'], axis=1)"
   ]
  },
  {
   "cell_type": "code",
   "execution_count": 7,
   "metadata": {
    "execution": {
     "iopub.execute_input": "2020-08-20T02:09:59.987056Z",
     "iopub.status.busy": "2020-08-20T02:09:59.986059Z",
     "iopub.status.idle": "2020-08-20T02:10:00.012094Z",
     "shell.execute_reply": "2020-08-20T02:10:00.012094Z",
     "shell.execute_reply.started": "2020-08-20T02:09:59.987056Z"
    }
   },
   "outputs": [
    {
     "name": "stdout",
     "output_type": "stream",
     "text": [
      "(213451,) (213451, 125)\n"
     ]
    }
   ],
   "source": [
    "print(target.shape, feature.shape)"
   ]
  },
  {
   "cell_type": "markdown",
   "metadata": {},
   "source": [
    "### Base Models comparison"
   ]
  },
  {
   "cell_type": "code",
   "execution_count": 8,
   "metadata": {
    "execution": {
     "iopub.execute_input": "2020-08-20T02:10:00.014063Z",
     "iopub.status.busy": "2020-08-20T02:10:00.014063Z",
     "iopub.status.idle": "2020-08-20T02:10:00.349495Z",
     "shell.execute_reply": "2020-08-20T02:10:00.349495Z",
     "shell.execute_reply.started": "2020-08-20T02:10:00.014063Z"
    }
   },
   "outputs": [],
   "source": [
    "X_train, X_test, y_train, y_test = train_test_split(\n",
    "    feature, target, train_size=.25, random_state=42)"
   ]
  },
  {
   "cell_type": "code",
   "execution_count": 9,
   "metadata": {
    "execution": {
     "iopub.execute_input": "2020-08-20T02:10:00.351421Z",
     "iopub.status.busy": "2020-08-20T02:10:00.350424Z",
     "iopub.status.idle": "2020-08-20T02:10:00.355437Z",
     "shell.execute_reply": "2020-08-20T02:10:00.355437Z",
     "shell.execute_reply.started": "2020-08-20T02:10:00.351421Z"
    }
   },
   "outputs": [],
   "source": [
    "clf_list = {'dummy': DummyClassifier(), 'lr': LogisticRegression(multi_class='multinomial', solver='lbfgs', max_iter=800),\n",
    "            'rfc': RandomForestClassifier(), 'et': ExtraTreesClassifier(), 'gradient': GradientBoostingClassifier(),\n",
    "            'lgb': LGBMClassifier(objective='multiclass', num_class=12)}"
   ]
  },
  {
   "cell_type": "code",
   "execution_count": 10,
   "metadata": {
    "execution": {
     "iopub.execute_input": "2020-08-20T02:10:00.357408Z",
     "iopub.status.busy": "2020-08-20T02:10:00.357408Z",
     "iopub.status.idle": "2020-08-20T02:10:00.370374Z",
     "shell.execute_reply": "2020-08-20T02:10:00.369374Z",
     "shell.execute_reply.started": "2020-08-20T02:10:00.357408Z"
    }
   },
   "outputs": [],
   "source": [
    "def model_train(name, reg):\n",
    "    fit = reg.fit(X_train, y_train)\n",
    "    pred = fit.predict(X_test)\n",
    "    score = fit.predict_proba(X_test)\n",
    "    ndcg = ndcg_score(lb.transform(y_test), score, k=5)\n",
    "#     roc = roc_auc_score(y_test, score, multi_class='ovr')\n",
    "    print('{} has ndcg score of {:.3f}'.format(name, ndcg))"
   ]
  },
  {
   "cell_type": "code",
   "execution_count": 15,
   "metadata": {
    "execution": {
     "iopub.execute_input": "2020-08-16T01:50:17.811531Z",
     "iopub.status.busy": "2020-08-16T01:50:17.810532Z",
     "iopub.status.idle": "2020-08-16T01:55:18.762857Z",
     "shell.execute_reply": "2020-08-16T01:55:18.762857Z",
     "shell.execute_reply.started": "2020-08-16T01:50:17.811531Z"
    }
   },
   "outputs": [
    {
     "name": "stdout",
     "output_type": "stream",
     "text": [
      "dummy has ndcg score of 0.530 and roc of 0.500\n",
      "lr has ndcg score of 0.825 and roc of 0.656\n",
      "rfc has ndcg score of 0.809 and roc of 0.558\n",
      "et has ndcg score of 0.797 and roc of 0.552\n",
      "gradient has ndcg score of 0.824 and roc of 0.649\n",
      "lgb has ndcg score of 0.825 and roc of 0.632\n"
     ]
    }
   ],
   "source": [
    "for name, reg in clf_list.items():\n",
    "    model_train(name, reg)"
   ]
  },
  {
   "cell_type": "markdown",
   "metadata": {},
   "source": [
    "### Cross Validation"
   ]
  },
  {
   "cell_type": "code",
   "execution_count": 11,
   "metadata": {
    "execution": {
     "iopub.execute_input": "2020-08-20T02:10:03.011901Z",
     "iopub.status.busy": "2020-08-20T02:10:03.010903Z",
     "iopub.status.idle": "2020-08-20T02:10:03.017885Z",
     "shell.execute_reply": "2020-08-20T02:10:03.017885Z",
     "shell.execute_reply.started": "2020-08-20T02:10:03.011901Z"
    }
   },
   "outputs": [],
   "source": [
    "def dcg_score(y_true, y_score, k=5):\n",
    "    \"\"\"Discounted cumulative gain (DCG) at rank K.\n",
    "\n",
    "    Parameters\n",
    "    ----------\n",
    "    y_true : array, shape = [n_samples]\n",
    "        Ground truth (true relevance labels).\n",
    "    y_score : array, shape = [n_samples, n_classes]\n",
    "        Predicted scores.\n",
    "    k : int\n",
    "        Rank.\n",
    "\n",
    "    Returns\n",
    "    -------\n",
    "    score : float\n",
    "    \"\"\"\n",
    "    order = np.argsort(y_score)[::-1]\n",
    "    y_true = np.take(y_true, order[:k])\n",
    "\n",
    "    gain = 2 ** y_true - 1\n",
    "\n",
    "    discounts = np.log2(np.arange(len(y_true)) + 2)\n",
    "    return np.sum(gain / discounts)\n",
    "\n",
    "\n",
    "def ndcg_score_c(ground_truth, predictions, k=5):\n",
    "    \"\"\"Normalized discounted cumulative gain (NDCG) at rank K.\n",
    "\n",
    "    Normalized Discounted Cumulative Gain (NDCG) measures the performance of a\n",
    "    recommendation system based on the graded relevance of the recommended\n",
    "    entities. It varies from 0.0 to 1.0, with 1.0 representing the ideal\n",
    "    ranking of the entities.\n",
    "\n",
    "    Parameters\n",
    "    ----------\n",
    "    ground_truth : array, shape = [n_samples]\n",
    "        Ground truth (true labels represended as integers).\n",
    "    predictions : array, shape = [n_samples, n_classes]\n",
    "        Predicted probabilities.\n",
    "    k : int\n",
    "        Rank.\n",
    "\n",
    "    Returns\n",
    "    -------\n",
    "    score : float\n",
    "\n",
    "    Example\n",
    "    -------\n",
    "    >>> ground_truth = [1, 0, 2]\n",
    "    >>> predictions = [[0.15, 0.55, 0.2], [0.7, 0.2, 0.1], [0.06, 0.04, 0.9]]\n",
    "    >>> score = ndcg_score(ground_truth, predictions, k=2)\n",
    "    1.0\n",
    "    >>> predictions = [[0.9, 0.5, 0.8], [0.7, 0.2, 0.1], [0.06, 0.04, 0.9]]\n",
    "    >>> score = ndcg_score(ground_truth, predictions, k=2)\n",
    "    0.6666666666\n",
    "    \"\"\"\n",
    "    lb = LabelBinarizer()\n",
    "    lb.fit(range(len(predictions) + 1))\n",
    "    T = lb.transform(ground_truth)\n",
    "\n",
    "    scores = []\n",
    "\n",
    "    # Iterate over each y_true and compute the DCG score\n",
    "    for y_true, y_score in zip(T, predictions):\n",
    "        actual = dcg_score(y_true, y_score, k)\n",
    "        best = dcg_score(y_true, y_true, k)\n",
    "        score = float(actual) / float(best)\n",
    "        scores.append(score)\n",
    "\n",
    "    return np.mean(scores)"
   ]
  },
  {
   "cell_type": "code",
   "execution_count": 12,
   "metadata": {
    "execution": {
     "iopub.execute_input": "2020-08-20T02:10:03.193595Z",
     "iopub.status.busy": "2020-08-20T02:10:03.193595Z",
     "iopub.status.idle": "2020-08-20T02:10:03.196587Z",
     "shell.execute_reply": "2020-08-20T02:10:03.196587Z",
     "shell.execute_reply.started": "2020-08-20T02:10:03.193595Z"
    }
   },
   "outputs": [],
   "source": [
    "ndcg_scorer = make_scorer(ndcg_score_c, needs_proba=True, k=5)"
   ]
  },
  {
   "cell_type": "code",
   "execution_count": 13,
   "metadata": {
    "execution": {
     "iopub.execute_input": "2020-08-18T02:17:09.621349Z",
     "iopub.status.busy": "2020-08-18T02:17:09.620351Z",
     "iopub.status.idle": "2020-08-18T02:41:58.341825Z",
     "shell.execute_reply": "2020-08-18T02:41:58.339830Z",
     "shell.execute_reply.started": "2020-08-18T02:17:09.620351Z"
    }
   },
   "outputs": [
    {
     "name": "stdout",
     "output_type": "stream",
     "text": [
      "dummy has average roc of 0.646\n",
      "lr has average roc of 0.827\n",
      "rfc has average roc of 0.862\n",
      "et has average roc of 0.862\n",
      "gradient has average roc of 0.832\n",
      "lgb has average roc of 0.838\n"
     ]
    }
   ],
   "source": [
    "for name, reg in clf_list.items():\n",
    "    scores = cross_validate(reg, X_train, y_train, cv=4, scoring=\n",
    "        ndcg_scorer, return_train_score=True)\n",
    "    print('{} has average roc of {:.3f}'.format(\n",
    "        name, np.mean(scores['train_score'])))"
   ]
  },
  {
   "cell_type": "markdown",
   "metadata": {},
   "source": [
    "**Tree based** models appear to work well for this classification problem. **Lightgbm** would also be considered."
   ]
  },
  {
   "cell_type": "markdown",
   "metadata": {},
   "source": [
    "### Tunning"
   ]
  },
  {
   "cell_type": "code",
   "execution_count": 11,
   "metadata": {
    "execution": {
     "iopub.execute_input": "2020-08-19T02:30:03.657261Z",
     "iopub.status.busy": "2020-08-19T02:30:03.656260Z",
     "iopub.status.idle": "2020-08-19T02:30:03.665236Z",
     "shell.execute_reply": "2020-08-19T02:30:03.664239Z",
     "shell.execute_reply.started": "2020-08-19T02:30:03.657261Z"
    }
   },
   "outputs": [],
   "source": [
    "space = {'max_depth': hp.quniform('max_depth', 10, 50, 4),\n",
    "         'n_estimators': scope.int(hp.quniform('n_estimators', 200, 2000, 10)),\n",
    "         'min_samples_split': scope.int(hp.quniform('min_samples_split', 2, 10, 4)),\n",
    "         'min_samples_leaf': scope.int(hp.quniform('min_samples_leaf', 2, 10, 4)),\n",
    "         'bootstrap': hp.choice('bootstrap', [True, False]),\n",
    "#          'max_features': hp.choice('max_features', ['auto', 'sqrt'])\n",
    "         }"
   ]
  },
  {
   "cell_type": "code",
   "execution_count": 15,
   "metadata": {
    "execution": {
     "iopub.execute_input": "2020-08-18T02:45:37.110670Z",
     "iopub.status.busy": "2020-08-18T02:45:37.110670Z",
     "iopub.status.idle": "2020-08-18T02:45:37.121638Z",
     "shell.execute_reply": "2020-08-18T02:45:37.120641Z",
     "shell.execute_reply.started": "2020-08-18T02:45:37.110670Z"
    }
   },
   "outputs": [],
   "source": [
    "def obj_rf(params):\n",
    "    clf = RandomForestClassifier(**params)\n",
    "    best_score = cross_val_score(\n",
    "        clf, X_train, y_train, scoring=ndcg_scorer, cv=5).mean()\n",
    "    return {'loss': -best_score, 'status': STATUS_OK}"
   ]
  },
  {
   "cell_type": "code",
   "execution_count": 16,
   "metadata": {
    "execution": {
     "iopub.execute_input": "2020-08-18T02:45:43.572599Z",
     "iopub.status.busy": "2020-08-18T02:45:43.572599Z",
     "iopub.status.idle": "2020-08-18T06:31:27.936911Z",
     "shell.execute_reply": "2020-08-18T06:31:27.936911Z",
     "shell.execute_reply.started": "2020-08-18T02:45:43.572599Z"
    }
   },
   "outputs": [
    {
     "name": "stdout",
     "output_type": "stream",
     "text": [
      "100%|████████████████████████████████████████████| 40/40 [3:45:44<00:00, 338.61s/trial, best loss: -0.8229951734812391]\n"
     ]
    }
   ],
   "source": [
    "best_rf = fmin(fn=obj_rf, space=space, max_evals=40,\n",
    "               rstate=np.random.RandomState(42), algo=tpe.suggest)"
   ]
  },
  {
   "cell_type": "code",
   "execution_count": 17,
   "metadata": {
    "execution": {
     "iopub.execute_input": "2020-08-18T06:31:29.096028Z",
     "iopub.status.busy": "2020-08-18T06:31:29.095029Z",
     "iopub.status.idle": "2020-08-18T06:31:29.102011Z",
     "shell.execute_reply": "2020-08-18T06:31:29.101015Z",
     "shell.execute_reply.started": "2020-08-18T06:31:29.096028Z"
    }
   },
   "outputs": [
    {
     "data": {
      "text/plain": [
       "{'bootstrap': 1,\n",
       " 'max_depth': 32.0,\n",
       " 'max_features': 1,\n",
       " 'min_samples_leaf': 4.0,\n",
       " 'min_samples_split': 8.0,\n",
       " 'n_estimators': 1520.0}"
      ]
     },
     "execution_count": 17,
     "metadata": {},
     "output_type": "execute_result"
    }
   ],
   "source": [
    "best_rf"
   ]
  },
  {
   "cell_type": "code",
   "execution_count": 24,
   "metadata": {
    "execution": {
     "iopub.execute_input": "2020-08-20T07:32:25.293452Z",
     "iopub.status.busy": "2020-08-20T07:32:25.292455Z",
     "iopub.status.idle": "2020-08-20T07:32:25.298410Z",
     "shell.execute_reply": "2020-08-20T07:32:25.297445Z",
     "shell.execute_reply.started": "2020-08-20T07:32:25.292455Z"
    }
   },
   "outputs": [],
   "source": [
    "rf_tune_test = RandomForestClassifier(n_estimators=1520, min_samples_leaf=4,\n",
    "                                  min_impurity_split=8, max_depth=32, bootstrap=True)"
   ]
  },
  {
   "cell_type": "code",
   "execution_count": null,
   "metadata": {
    "execution": {
     "iopub.execute_input": "2020-08-20T07:32:35.026567Z",
     "iopub.status.busy": "2020-08-20T07:32:35.026567Z"
    }
   },
   "outputs": [],
   "source": [
    "model_train('rf_tuned', rf_tune_test)"
   ]
  },
  {
   "cell_type": "code",
   "execution_count": 18,
   "metadata": {
    "execution": {
     "iopub.execute_input": "2020-08-18T06:37:47.741795Z",
     "iopub.status.busy": "2020-08-18T06:37:47.740760Z",
     "iopub.status.idle": "2020-08-18T06:38:23.749223Z",
     "shell.execute_reply": "2020-08-18T06:38:23.749223Z",
     "shell.execute_reply.started": "2020-08-18T06:37:47.741795Z"
    }
   },
   "outputs": [],
   "source": [
    "rf_tuned = RandomForestClassifier(n_estimators=1520, min_samples_leaf=4,\n",
    "                                  min_impurity_split=8, max_depth=32, bootstrap=True).fit(feature, target)\n",
    "pickle.dump(rf_tuned, open('./data/rf_tuned.sav', 'wb'))"
   ]
  },
  {
   "cell_type": "code",
   "execution_count": 14,
   "metadata": {
    "execution": {
     "iopub.execute_input": "2020-08-19T02:30:19.338543Z",
     "iopub.status.busy": "2020-08-19T02:30:19.337544Z",
     "iopub.status.idle": "2020-08-19T02:30:19.344526Z",
     "shell.execute_reply": "2020-08-19T02:30:19.343530Z",
     "shell.execute_reply.started": "2020-08-19T02:30:19.338543Z"
    }
   },
   "outputs": [],
   "source": [
    "def obj_et(params):\n",
    "    clf = ExtraTreesClassifier(**params)\n",
    "    best_score = cross_val_score(\n",
    "        clf, X_train, y_train, scoring=ndcg_scorer, cv=5).mean()\n",
    "    return {'loss': -best_score, 'status': STATUS_OK}"
   ]
  },
  {
   "cell_type": "code",
   "execution_count": 17,
   "metadata": {
    "execution": {
     "iopub.execute_input": "2020-08-19T02:30:43.815949Z",
     "iopub.status.busy": "2020-08-19T02:30:43.814952Z",
     "iopub.status.idle": "2020-08-19T05:37:17.207147Z",
     "shell.execute_reply": "2020-08-19T05:37:17.207147Z",
     "shell.execute_reply.started": "2020-08-19T02:30:43.815949Z"
    }
   },
   "outputs": [
    {
     "name": "stdout",
     "output_type": "stream",
     "text": [
      "100%|████████████████████████████████████████████| 40/40 [3:06:33<00:00, 279.83s/trial, best loss: -0.8231016965544086]\n"
     ]
    }
   ],
   "source": [
    "best_et = fmin(fn=obj_et, space=space, max_evals=40,\n",
    "               rstate=np.random.RandomState(42), algo=tpe.suggest)"
   ]
  },
  {
   "cell_type": "code",
   "execution_count": 18,
   "metadata": {
    "execution": {
     "iopub.execute_input": "2020-08-19T05:37:17.209142Z",
     "iopub.status.busy": "2020-08-19T05:37:17.209142Z",
     "iopub.status.idle": "2020-08-19T05:37:17.215126Z",
     "shell.execute_reply": "2020-08-19T05:37:17.214131Z",
     "shell.execute_reply.started": "2020-08-19T05:37:17.209142Z"
    }
   },
   "outputs": [
    {
     "data": {
      "text/plain": [
       "{'bootstrap': 1,\n",
       " 'max_depth': 44.0,\n",
       " 'max_features': 1,\n",
       " 'min_samples_leaf': 4.0,\n",
       " 'min_samples_split': 4.0,\n",
       " 'n_estimators': 640.0}"
      ]
     },
     "execution_count": 18,
     "metadata": {},
     "output_type": "execute_result"
    }
   ],
   "source": [
    "best_et"
   ]
  },
  {
   "cell_type": "code",
   "execution_count": 20,
   "metadata": {
    "execution": {
     "iopub.execute_input": "2020-08-20T07:30:26.835901Z",
     "iopub.status.busy": "2020-08-20T07:30:26.835901Z",
     "iopub.status.idle": "2020-08-20T07:30:26.841885Z",
     "shell.execute_reply": "2020-08-20T07:30:26.840888Z",
     "shell.execute_reply.started": "2020-08-20T07:30:26.835901Z"
    }
   },
   "outputs": [],
   "source": [
    "et_tuned_test = ExtraTreesClassifier(n_estimators=640, max_depth=44,\n",
    "                                min_samples_leaf=4, min_samples_split=4)"
   ]
  },
  {
   "cell_type": "code",
   "execution_count": 21,
   "metadata": {
    "execution": {
     "iopub.execute_input": "2020-08-20T07:30:26.843879Z",
     "iopub.status.busy": "2020-08-20T07:30:26.842883Z",
     "iopub.status.idle": "2020-08-20T07:32:03.501586Z",
     "shell.execute_reply": "2020-08-20T07:32:03.501586Z",
     "shell.execute_reply.started": "2020-08-20T07:30:26.843879Z"
    }
   },
   "outputs": [
    {
     "name": "stdout",
     "output_type": "stream",
     "text": [
      "et_tuned has ndcg score of 0.822\n"
     ]
    }
   ],
   "source": [
    "model_train('et_tuned', et_tuned_test)"
   ]
  },
  {
   "cell_type": "code",
   "execution_count": 20,
   "metadata": {
    "execution": {
     "iopub.execute_input": "2020-08-19T05:45:50.649755Z",
     "iopub.status.busy": "2020-08-19T05:45:50.648763Z",
     "iopub.status.idle": "2020-08-19T05:49:56.539996Z",
     "shell.execute_reply": "2020-08-19T05:49:56.539996Z",
     "shell.execute_reply.started": "2020-08-19T05:45:50.649755Z"
    }
   },
   "outputs": [],
   "source": [
    "et_tuned = ExtraTreesClassifier(n_estimators=640, max_depth=44,\n",
    "                                min_samples_leaf=4, min_samples_split=4).fit(feature, target)\n",
    "pickle.dump(et_tuned, open('./data/et_tuned.sav', 'wb'))"
   ]
  },
  {
   "cell_type": "code",
   "execution_count": 13,
   "metadata": {
    "execution": {
     "iopub.execute_input": "2020-08-20T02:10:10.276147Z",
     "iopub.status.busy": "2020-08-20T02:10:10.275149Z",
     "iopub.status.idle": "2020-08-20T02:10:10.280136Z",
     "shell.execute_reply": "2020-08-20T02:10:10.280136Z",
     "shell.execute_reply.started": "2020-08-20T02:10:10.276147Z"
    }
   },
   "outputs": [],
   "source": [
    "space_lgb = {'max_depth': scope.int(hp.quniform('max_depth', 10, 50, 25)),\n",
    "             'n_estimators': scope.int(hp.quniform('n_estimators', 200, 2000, 10)),\n",
    "             #              'learning_rate': hp.choice('learning_rate', [0.05, 0.1, 0.3]),\n",
    "             'min_child_samples': scope.int(hp.quniform('min_child_samples', 4, 200, 50)),\n",
    "             'num_leaves': scope.int(hp.quniform('num_leaves', 20, 100, 20))\n",
    "             }"
   ]
  },
  {
   "cell_type": "code",
   "execution_count": 14,
   "metadata": {
    "execution": {
     "iopub.execute_input": "2020-08-20T02:10:10.882079Z",
     "iopub.status.busy": "2020-08-20T02:10:10.882079Z",
     "iopub.status.idle": "2020-08-20T02:10:10.885108Z",
     "shell.execute_reply": "2020-08-20T02:10:10.885108Z",
     "shell.execute_reply.started": "2020-08-20T02:10:10.882079Z"
    }
   },
   "outputs": [],
   "source": [
    "def obj_lgb(params):\n",
    "    clf = LGBMClassifier(**params)\n",
    "    best_score = cross_val_score(\n",
    "        clf, X_train, y_train, scoring=ndcg_scorer, cv=5).mean()\n",
    "    return {'loss': -best_score, 'status': STATUS_OK}"
   ]
  },
  {
   "cell_type": "code",
   "execution_count": 15,
   "metadata": {
    "execution": {
     "iopub.execute_input": "2020-08-20T02:10:11.324113Z",
     "iopub.status.busy": "2020-08-20T02:10:11.323117Z",
     "iopub.status.idle": "2020-08-20T06:59:02.162187Z",
     "shell.execute_reply": "2020-08-20T06:59:02.160192Z",
     "shell.execute_reply.started": "2020-08-20T02:10:11.324113Z"
    }
   },
   "outputs": [
    {
     "name": "stdout",
     "output_type": "stream",
     "text": [
      "100%|████████████████████████████████████████████| 40/40 [4:48:50<00:00, 433.27s/trial, best loss: -0.8242607317366591]\n"
     ]
    }
   ],
   "source": [
    "best_lgb = fmin(fn=obj_lgb, space=space_lgb, max_evals=40,\n",
    "                rstate=np.random.RandomState(42), algo=tpe.suggest)"
   ]
  },
  {
   "cell_type": "code",
   "execution_count": 16,
   "metadata": {
    "execution": {
     "iopub.execute_input": "2020-08-20T06:59:02.166176Z",
     "iopub.status.busy": "2020-08-20T06:59:02.165178Z",
     "iopub.status.idle": "2020-08-20T06:59:02.176544Z",
     "shell.execute_reply": "2020-08-20T06:59:02.175555Z",
     "shell.execute_reply.started": "2020-08-20T06:59:02.165178Z"
    }
   },
   "outputs": [
    {
     "data": {
      "text/plain": [
       "{'max_depth': 0.0,\n",
       " 'min_child_samples': 150.0,\n",
       " 'n_estimators': 620.0,\n",
       " 'num_leaves': 20.0}"
      ]
     },
     "execution_count": 16,
     "metadata": {},
     "output_type": "execute_result"
    }
   ],
   "source": [
    "best_lgb"
   ]
  },
  {
   "cell_type": "code",
   "execution_count": 17,
   "metadata": {
    "execution": {
     "iopub.execute_input": "2020-08-20T07:27:28.688506Z",
     "iopub.status.busy": "2020-08-20T07:27:28.688506Z",
     "iopub.status.idle": "2020-08-20T07:27:28.691516Z",
     "shell.execute_reply": "2020-08-20T07:27:28.691516Z",
     "shell.execute_reply.started": "2020-08-20T07:27:28.688506Z"
    }
   },
   "outputs": [],
   "source": [
    "lgb_tuned_test = LGBMClassifier(n_estimators=620, min_child_samples=150,\n",
    "                           num_leaves=20, learning_rate=0.05)"
   ]
  },
  {
   "cell_type": "code",
   "execution_count": 18,
   "metadata": {
    "execution": {
     "iopub.execute_input": "2020-08-20T07:27:31.737253Z",
     "iopub.status.busy": "2020-08-20T07:27:31.737253Z",
     "iopub.status.idle": "2020-08-20T07:29:07.548346Z",
     "shell.execute_reply": "2020-08-20T07:29:07.548346Z",
     "shell.execute_reply.started": "2020-08-20T07:27:31.737253Z"
    }
   },
   "outputs": [
    {
     "name": "stdout",
     "output_type": "stream",
     "text": [
      "lgb_tuned has ndcg score of 0.824\n"
     ]
    }
   ],
   "source": [
    "model_train('lgb_tuned', lgb_tuned_test)"
   ]
  },
  {
   "cell_type": "code",
   "execution_count": 19,
   "metadata": {
    "execution": {
     "iopub.execute_input": "2020-08-20T07:29:07.549316Z",
     "iopub.status.busy": "2020-08-20T07:29:07.549316Z",
     "iopub.status.idle": "2020-08-20T07:30:26.559639Z",
     "shell.execute_reply": "2020-08-20T07:30:26.558642Z",
     "shell.execute_reply.started": "2020-08-20T07:29:07.549316Z"
    }
   },
   "outputs": [],
   "source": [
    "lgb_tuned = LGBMClassifier(n_estimators=620, min_child_samples=150,\n",
    "                           num_leaves=20, learning_rate=0.05).fit(feature, target)\n",
    "pickle.dump(lgb_tuned, open('./data/lgb_tuned.sav', 'wb'))"
   ]
  },
  {
   "cell_type": "code",
   "execution_count": null,
   "metadata": {},
   "outputs": [],
   "source": []
  }
 ],
 "metadata": {
  "kernelspec": {
   "display_name": "Python 3",
   "language": "python",
   "name": "python3"
  },
  "language_info": {
   "codemirror_mode": {
    "name": "ipython",
    "version": 3
   },
   "file_extension": ".py",
   "mimetype": "text/x-python",
   "name": "python",
   "nbconvert_exporter": "python",
   "pygments_lexer": "ipython3",
   "version": "3.7.1"
  }
 },
 "nbformat": 4,
 "nbformat_minor": 4
}
