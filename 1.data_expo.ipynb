{
 "cells": [
  {
   "cell_type": "markdown",
   "metadata": {},
   "source": [
    "## Data Wrangling"
   ]
  },
  {
   "cell_type": "code",
   "execution_count": 1,
   "metadata": {
    "execution": {
     "iopub.status.idle": "2020-08-03T05:14:45.283188Z",
     "shell.execute_reply": "2020-08-03T05:14:45.283188Z",
     "shell.execute_reply.started": "2020-08-03T05:14:43.669677Z"
    }
   },
   "outputs": [
    {
     "name": "stderr",
     "output_type": "stream",
     "text": [
      "C:\\Users\\sit_k\\AppData\\Local\\Continuum\\anaconda3\\lib\\site-packages\\statsmodels\\tools\\_testing.py:19: FutureWarning: pandas.util.testing is deprecated. Use the functions in the public API at pandas.testing instead.\n",
      "  import pandas.util.testing as tm\n"
     ]
    }
   ],
   "source": [
    "import datetime as dt\n",
    "\n",
    "import matplotlib.pyplot as plt\n",
    "import matplotlib.ticker as ticker\n",
    "import missingno as msno\n",
    "import numpy as np\n",
    "import pandas as pd\n",
    "import ppscore as pps\n",
    "import seaborn as sns\n",
    "\n",
    "import warnings\n",
    "\n",
    "warnings.filterwarnings('ignore')\n",
    "plt.style.use('ggplot')\n",
    "%matplotlib inline"
   ]
  },
  {
   "cell_type": "code",
   "execution_count": 2,
   "metadata": {
    "execution": {
     "iopub.execute_input": "2020-08-03T05:14:45.284178Z",
     "iopub.status.busy": "2020-08-03T05:14:45.284178Z",
     "iopub.status.idle": "2020-08-03T05:14:51.386457Z",
     "shell.execute_reply": "2020-08-03T05:14:51.386457Z",
     "shell.execute_reply.started": "2020-08-03T05:14:45.284178Z"
    }
   },
   "outputs": [],
   "source": [
    "gender = pd.read_csv('./data/age_gender_bkts.csv')\n",
    "train = pd.read_csv('./data/train_users_2.csv')\n",
    "test = pd.read_csv('./data/test_users.csv')\n",
    "country = pd.read_csv('./data/countries.csv')\n",
    "session = pd.read_csv('./data/sessions.csv')\n",
    "age_gender = pd.read_csv('./data/age_gender_bkts.csv')"
   ]
  },
  {
   "cell_type": "code",
   "execution_count": 3,
   "metadata": {
    "execution": {
     "iopub.execute_input": "2020-08-03T05:14:51.388417Z",
     "iopub.status.busy": "2020-08-03T05:14:51.387431Z",
     "iopub.status.idle": "2020-08-03T05:14:51.402955Z",
     "shell.execute_reply": "2020-08-03T05:14:51.402955Z",
     "shell.execute_reply.started": "2020-08-03T05:14:51.388417Z"
    }
   },
   "outputs": [
    {
     "name": "stdout",
     "output_type": "stream",
     "text": [
      "(420, 5)\n",
      "<class 'pandas.core.frame.DataFrame'>\n",
      "RangeIndex: 420 entries, 0 to 419\n",
      "Data columns (total 5 columns):\n",
      " #   Column                   Non-Null Count  Dtype  \n",
      "---  ------                   --------------  -----  \n",
      " 0   age_bucket               420 non-null    object \n",
      " 1   country_destination      420 non-null    object \n",
      " 2   gender                   420 non-null    object \n",
      " 3   population_in_thousands  420 non-null    float64\n",
      " 4   year                     420 non-null    float64\n",
      "dtypes: float64(2), object(3)\n",
      "memory usage: 16.5+ KB\n",
      "None\n"
     ]
    },
    {
     "data": {
      "text/html": [
       "<div>\n",
       "<style scoped>\n",
       "    .dataframe tbody tr th:only-of-type {\n",
       "        vertical-align: middle;\n",
       "    }\n",
       "\n",
       "    .dataframe tbody tr th {\n",
       "        vertical-align: top;\n",
       "    }\n",
       "\n",
       "    .dataframe thead th {\n",
       "        text-align: right;\n",
       "    }\n",
       "</style>\n",
       "<table border=\"1\" class=\"dataframe\">\n",
       "  <thead>\n",
       "    <tr style=\"text-align: right;\">\n",
       "      <th></th>\n",
       "      <th>age_bucket</th>\n",
       "      <th>country_destination</th>\n",
       "      <th>gender</th>\n",
       "      <th>population_in_thousands</th>\n",
       "      <th>year</th>\n",
       "    </tr>\n",
       "  </thead>\n",
       "  <tbody>\n",
       "    <tr>\n",
       "      <th>415</th>\n",
       "      <td>95-99</td>\n",
       "      <td>US</td>\n",
       "      <td>male</td>\n",
       "      <td>115.0</td>\n",
       "      <td>2015.0</td>\n",
       "    </tr>\n",
       "    <tr>\n",
       "      <th>416</th>\n",
       "      <td>90-94</td>\n",
       "      <td>US</td>\n",
       "      <td>male</td>\n",
       "      <td>541.0</td>\n",
       "      <td>2015.0</td>\n",
       "    </tr>\n",
       "    <tr>\n",
       "      <th>417</th>\n",
       "      <td>15-19</td>\n",
       "      <td>US</td>\n",
       "      <td>female</td>\n",
       "      <td>10570.0</td>\n",
       "      <td>2015.0</td>\n",
       "    </tr>\n",
       "    <tr>\n",
       "      <th>418</th>\n",
       "      <td>85-89</td>\n",
       "      <td>US</td>\n",
       "      <td>male</td>\n",
       "      <td>1441.0</td>\n",
       "      <td>2015.0</td>\n",
       "    </tr>\n",
       "    <tr>\n",
       "      <th>419</th>\n",
       "      <td>80-84</td>\n",
       "      <td>US</td>\n",
       "      <td>male</td>\n",
       "      <td>2442.0</td>\n",
       "      <td>2015.0</td>\n",
       "    </tr>\n",
       "  </tbody>\n",
       "</table>\n",
       "</div>"
      ],
      "text/plain": [
       "    age_bucket country_destination  gender  population_in_thousands    year\n",
       "415      95-99                  US    male                    115.0  2015.0\n",
       "416      90-94                  US    male                    541.0  2015.0\n",
       "417      15-19                  US  female                  10570.0  2015.0\n",
       "418      85-89                  US    male                   1441.0  2015.0\n",
       "419      80-84                  US    male                   2442.0  2015.0"
      ]
     },
     "metadata": {},
     "output_type": "display_data"
    }
   ],
   "source": [
    "print(gender.shape)\n",
    "print(gender.info())\n",
    "display(gender.tail())"
   ]
  },
  {
   "cell_type": "code",
   "execution_count": 4,
   "metadata": {
    "execution": {
     "iopub.execute_input": "2020-08-03T05:14:51.404945Z",
     "iopub.status.busy": "2020-08-03T05:14:51.403921Z",
     "iopub.status.idle": "2020-08-03T05:14:51.412909Z",
     "shell.execute_reply": "2020-08-03T05:14:51.412909Z",
     "shell.execute_reply.started": "2020-08-03T05:14:51.404945Z"
    }
   },
   "outputs": [
    {
     "data": {
      "text/plain": [
       "array(['100+', '95-99', '90-94', '85-89', '80-84', '75-79', '70-74',\n",
       "       '65-69', '60-64', '55-59', '50-54', '45-49', '40-44', '35-39',\n",
       "       '30-34', '25-29', '20-24', '15-19', '10-14', '5-9', '0-4'],\n",
       "      dtype=object)"
      ]
     },
     "execution_count": 4,
     "metadata": {},
     "output_type": "execute_result"
    }
   ],
   "source": [
    "gender['age_bucket'].unique()"
   ]
  },
  {
   "cell_type": "code",
   "execution_count": 5,
   "metadata": {
    "execution": {
     "iopub.execute_input": "2020-08-03T05:14:51.413894Z",
     "iopub.status.busy": "2020-08-03T05:14:51.413894Z",
     "iopub.status.idle": "2020-08-03T05:14:51.430849Z",
     "shell.execute_reply": "2020-08-03T05:14:51.430849Z",
     "shell.execute_reply.started": "2020-08-03T05:14:51.413894Z"
    }
   },
   "outputs": [
    {
     "name": "stdout",
     "output_type": "stream",
     "text": [
      "(10, 7)\n",
      "<class 'pandas.core.frame.DataFrame'>\n",
      "RangeIndex: 10 entries, 0 to 9\n",
      "Data columns (total 7 columns):\n",
      " #   Column                         Non-Null Count  Dtype  \n",
      "---  ------                         --------------  -----  \n",
      " 0   country_destination            10 non-null     object \n",
      " 1   lat_destination                10 non-null     float64\n",
      " 2   lng_destination                10 non-null     float64\n",
      " 3   distance_km                    10 non-null     float64\n",
      " 4   destination_km2                10 non-null     float64\n",
      " 5   destination_language           10 non-null     object \n",
      " 6   language_levenshtein_distance  10 non-null     float64\n",
      "dtypes: float64(5), object(2)\n",
      "memory usage: 688.0+ bytes\n",
      "None\n"
     ]
    },
    {
     "data": {
      "text/html": [
       "<div>\n",
       "<style scoped>\n",
       "    .dataframe tbody tr th:only-of-type {\n",
       "        vertical-align: middle;\n",
       "    }\n",
       "\n",
       "    .dataframe tbody tr th {\n",
       "        vertical-align: top;\n",
       "    }\n",
       "\n",
       "    .dataframe thead th {\n",
       "        text-align: right;\n",
       "    }\n",
       "</style>\n",
       "<table border=\"1\" class=\"dataframe\">\n",
       "  <thead>\n",
       "    <tr style=\"text-align: right;\">\n",
       "      <th></th>\n",
       "      <th>country_destination</th>\n",
       "      <th>lat_destination</th>\n",
       "      <th>lng_destination</th>\n",
       "      <th>distance_km</th>\n",
       "      <th>destination_km2</th>\n",
       "      <th>destination_language</th>\n",
       "      <th>language_levenshtein_distance</th>\n",
       "    </tr>\n",
       "  </thead>\n",
       "  <tbody>\n",
       "    <tr>\n",
       "      <th>0</th>\n",
       "      <td>AU</td>\n",
       "      <td>-26.853388</td>\n",
       "      <td>133.275160</td>\n",
       "      <td>15297.7440</td>\n",
       "      <td>7741220.0</td>\n",
       "      <td>eng</td>\n",
       "      <td>0.00</td>\n",
       "    </tr>\n",
       "    <tr>\n",
       "      <th>1</th>\n",
       "      <td>CA</td>\n",
       "      <td>62.393303</td>\n",
       "      <td>-96.818146</td>\n",
       "      <td>2828.1333</td>\n",
       "      <td>9984670.0</td>\n",
       "      <td>eng</td>\n",
       "      <td>0.00</td>\n",
       "    </tr>\n",
       "    <tr>\n",
       "      <th>2</th>\n",
       "      <td>DE</td>\n",
       "      <td>51.165707</td>\n",
       "      <td>10.452764</td>\n",
       "      <td>7879.5680</td>\n",
       "      <td>357022.0</td>\n",
       "      <td>deu</td>\n",
       "      <td>72.61</td>\n",
       "    </tr>\n",
       "    <tr>\n",
       "      <th>3</th>\n",
       "      <td>ES</td>\n",
       "      <td>39.896027</td>\n",
       "      <td>-2.487694</td>\n",
       "      <td>7730.7240</td>\n",
       "      <td>505370.0</td>\n",
       "      <td>spa</td>\n",
       "      <td>92.25</td>\n",
       "    </tr>\n",
       "    <tr>\n",
       "      <th>4</th>\n",
       "      <td>FR</td>\n",
       "      <td>46.232193</td>\n",
       "      <td>2.209667</td>\n",
       "      <td>7682.9450</td>\n",
       "      <td>643801.0</td>\n",
       "      <td>fra</td>\n",
       "      <td>92.06</td>\n",
       "    </tr>\n",
       "    <tr>\n",
       "      <th>5</th>\n",
       "      <td>GB</td>\n",
       "      <td>54.633220</td>\n",
       "      <td>-3.432277</td>\n",
       "      <td>6883.6590</td>\n",
       "      <td>243610.0</td>\n",
       "      <td>eng</td>\n",
       "      <td>0.00</td>\n",
       "    </tr>\n",
       "    <tr>\n",
       "      <th>6</th>\n",
       "      <td>IT</td>\n",
       "      <td>41.873990</td>\n",
       "      <td>12.564167</td>\n",
       "      <td>8636.6310</td>\n",
       "      <td>301340.0</td>\n",
       "      <td>ita</td>\n",
       "      <td>89.40</td>\n",
       "    </tr>\n",
       "    <tr>\n",
       "      <th>7</th>\n",
       "      <td>NL</td>\n",
       "      <td>52.133057</td>\n",
       "      <td>5.295250</td>\n",
       "      <td>7524.3203</td>\n",
       "      <td>41543.0</td>\n",
       "      <td>nld</td>\n",
       "      <td>63.22</td>\n",
       "    </tr>\n",
       "    <tr>\n",
       "      <th>8</th>\n",
       "      <td>PT</td>\n",
       "      <td>39.553444</td>\n",
       "      <td>-7.839319</td>\n",
       "      <td>7355.2534</td>\n",
       "      <td>92090.0</td>\n",
       "      <td>por</td>\n",
       "      <td>95.45</td>\n",
       "    </tr>\n",
       "    <tr>\n",
       "      <th>9</th>\n",
       "      <td>US</td>\n",
       "      <td>36.966427</td>\n",
       "      <td>-95.844030</td>\n",
       "      <td>0.0000</td>\n",
       "      <td>9826675.0</td>\n",
       "      <td>eng</td>\n",
       "      <td>0.00</td>\n",
       "    </tr>\n",
       "  </tbody>\n",
       "</table>\n",
       "</div>"
      ],
      "text/plain": [
       "  country_destination  lat_destination  lng_destination  distance_km  \\\n",
       "0                  AU       -26.853388       133.275160   15297.7440   \n",
       "1                  CA        62.393303       -96.818146    2828.1333   \n",
       "2                  DE        51.165707        10.452764    7879.5680   \n",
       "3                  ES        39.896027        -2.487694    7730.7240   \n",
       "4                  FR        46.232193         2.209667    7682.9450   \n",
       "5                  GB        54.633220        -3.432277    6883.6590   \n",
       "6                  IT        41.873990        12.564167    8636.6310   \n",
       "7                  NL        52.133057         5.295250    7524.3203   \n",
       "8                  PT        39.553444        -7.839319    7355.2534   \n",
       "9                  US        36.966427       -95.844030       0.0000   \n",
       "\n",
       "   destination_km2 destination_language   language_levenshtein_distance  \n",
       "0        7741220.0                   eng                           0.00  \n",
       "1        9984670.0                   eng                           0.00  \n",
       "2         357022.0                   deu                          72.61  \n",
       "3         505370.0                   spa                          92.25  \n",
       "4         643801.0                   fra                          92.06  \n",
       "5         243610.0                   eng                           0.00  \n",
       "6         301340.0                   ita                          89.40  \n",
       "7          41543.0                   nld                          63.22  \n",
       "8          92090.0                   por                          95.45  \n",
       "9        9826675.0                   eng                           0.00  "
      ]
     },
     "metadata": {},
     "output_type": "display_data"
    }
   ],
   "source": [
    "print(country.shape)\n",
    "print(country.info())\n",
    "display(country)"
   ]
  },
  {
   "cell_type": "code",
   "execution_count": 6,
   "metadata": {
    "execution": {
     "iopub.execute_input": "2020-08-03T05:14:51.431846Z",
     "iopub.status.busy": "2020-08-03T05:14:51.431846Z",
     "iopub.status.idle": "2020-08-03T05:14:51.445841Z",
     "shell.execute_reply": "2020-08-03T05:14:51.445841Z",
     "shell.execute_reply.started": "2020-08-03T05:14:51.431846Z"
    }
   },
   "outputs": [
    {
     "name": "stdout",
     "output_type": "stream",
     "text": [
      "(420, 5)\n",
      "<class 'pandas.core.frame.DataFrame'>\n",
      "RangeIndex: 420 entries, 0 to 419\n",
      "Data columns (total 5 columns):\n",
      " #   Column                   Non-Null Count  Dtype  \n",
      "---  ------                   --------------  -----  \n",
      " 0   age_bucket               420 non-null    object \n",
      " 1   country_destination      420 non-null    object \n",
      " 2   gender                   420 non-null    object \n",
      " 3   population_in_thousands  420 non-null    float64\n",
      " 4   year                     420 non-null    float64\n",
      "dtypes: float64(2), object(3)\n",
      "memory usage: 16.5+ KB\n",
      "None\n"
     ]
    },
    {
     "data": {
      "text/html": [
       "<div>\n",
       "<style scoped>\n",
       "    .dataframe tbody tr th:only-of-type {\n",
       "        vertical-align: middle;\n",
       "    }\n",
       "\n",
       "    .dataframe tbody tr th {\n",
       "        vertical-align: top;\n",
       "    }\n",
       "\n",
       "    .dataframe thead th {\n",
       "        text-align: right;\n",
       "    }\n",
       "</style>\n",
       "<table border=\"1\" class=\"dataframe\">\n",
       "  <thead>\n",
       "    <tr style=\"text-align: right;\">\n",
       "      <th></th>\n",
       "      <th>age_bucket</th>\n",
       "      <th>country_destination</th>\n",
       "      <th>gender</th>\n",
       "      <th>population_in_thousands</th>\n",
       "      <th>year</th>\n",
       "    </tr>\n",
       "  </thead>\n",
       "  <tbody>\n",
       "    <tr>\n",
       "      <th>0</th>\n",
       "      <td>100+</td>\n",
       "      <td>AU</td>\n",
       "      <td>male</td>\n",
       "      <td>1.0</td>\n",
       "      <td>2015.0</td>\n",
       "    </tr>\n",
       "    <tr>\n",
       "      <th>1</th>\n",
       "      <td>95-99</td>\n",
       "      <td>AU</td>\n",
       "      <td>male</td>\n",
       "      <td>9.0</td>\n",
       "      <td>2015.0</td>\n",
       "    </tr>\n",
       "    <tr>\n",
       "      <th>2</th>\n",
       "      <td>90-94</td>\n",
       "      <td>AU</td>\n",
       "      <td>male</td>\n",
       "      <td>47.0</td>\n",
       "      <td>2015.0</td>\n",
       "    </tr>\n",
       "    <tr>\n",
       "      <th>3</th>\n",
       "      <td>85-89</td>\n",
       "      <td>AU</td>\n",
       "      <td>male</td>\n",
       "      <td>118.0</td>\n",
       "      <td>2015.0</td>\n",
       "    </tr>\n",
       "    <tr>\n",
       "      <th>4</th>\n",
       "      <td>80-84</td>\n",
       "      <td>AU</td>\n",
       "      <td>male</td>\n",
       "      <td>199.0</td>\n",
       "      <td>2015.0</td>\n",
       "    </tr>\n",
       "    <tr>\n",
       "      <th>...</th>\n",
       "      <td>...</td>\n",
       "      <td>...</td>\n",
       "      <td>...</td>\n",
       "      <td>...</td>\n",
       "      <td>...</td>\n",
       "    </tr>\n",
       "    <tr>\n",
       "      <th>415</th>\n",
       "      <td>95-99</td>\n",
       "      <td>US</td>\n",
       "      <td>male</td>\n",
       "      <td>115.0</td>\n",
       "      <td>2015.0</td>\n",
       "    </tr>\n",
       "    <tr>\n",
       "      <th>416</th>\n",
       "      <td>90-94</td>\n",
       "      <td>US</td>\n",
       "      <td>male</td>\n",
       "      <td>541.0</td>\n",
       "      <td>2015.0</td>\n",
       "    </tr>\n",
       "    <tr>\n",
       "      <th>417</th>\n",
       "      <td>15-19</td>\n",
       "      <td>US</td>\n",
       "      <td>female</td>\n",
       "      <td>10570.0</td>\n",
       "      <td>2015.0</td>\n",
       "    </tr>\n",
       "    <tr>\n",
       "      <th>418</th>\n",
       "      <td>85-89</td>\n",
       "      <td>US</td>\n",
       "      <td>male</td>\n",
       "      <td>1441.0</td>\n",
       "      <td>2015.0</td>\n",
       "    </tr>\n",
       "    <tr>\n",
       "      <th>419</th>\n",
       "      <td>80-84</td>\n",
       "      <td>US</td>\n",
       "      <td>male</td>\n",
       "      <td>2442.0</td>\n",
       "      <td>2015.0</td>\n",
       "    </tr>\n",
       "  </tbody>\n",
       "</table>\n",
       "<p>420 rows × 5 columns</p>\n",
       "</div>"
      ],
      "text/plain": [
       "    age_bucket country_destination  gender  population_in_thousands    year\n",
       "0         100+                  AU    male                      1.0  2015.0\n",
       "1        95-99                  AU    male                      9.0  2015.0\n",
       "2        90-94                  AU    male                     47.0  2015.0\n",
       "3        85-89                  AU    male                    118.0  2015.0\n",
       "4        80-84                  AU    male                    199.0  2015.0\n",
       "..         ...                 ...     ...                      ...     ...\n",
       "415      95-99                  US    male                    115.0  2015.0\n",
       "416      90-94                  US    male                    541.0  2015.0\n",
       "417      15-19                  US  female                  10570.0  2015.0\n",
       "418      85-89                  US    male                   1441.0  2015.0\n",
       "419      80-84                  US    male                   2442.0  2015.0\n",
       "\n",
       "[420 rows x 5 columns]"
      ]
     },
     "metadata": {},
     "output_type": "display_data"
    }
   ],
   "source": [
    "print(age_gender.shape)\n",
    "print(age_gender.info())\n",
    "display(age_gender)"
   ]
  },
  {
   "cell_type": "code",
   "execution_count": 7,
   "metadata": {
    "execution": {
     "iopub.execute_input": "2020-08-03T05:14:51.446806Z",
     "iopub.status.busy": "2020-08-03T05:14:51.446806Z",
     "iopub.status.idle": "2020-08-03T05:14:51.451829Z",
     "shell.execute_reply": "2020-08-03T05:14:51.451829Z",
     "shell.execute_reply.started": "2020-08-03T05:14:51.446806Z"
    }
   },
   "outputs": [
    {
     "name": "stdout",
     "output_type": "stream",
     "text": [
      "<class 'pandas.core.frame.DataFrame'>\n",
      "RangeIndex: 10567737 entries, 0 to 10567736\n",
      "Data columns (total 6 columns):\n",
      " #   Column         Dtype  \n",
      "---  ------         -----  \n",
      " 0   user_id        object \n",
      " 1   action         object \n",
      " 2   action_type    object \n",
      " 3   action_detail  object \n",
      " 4   device_type    object \n",
      " 5   secs_elapsed   float64\n",
      "dtypes: float64(1), object(5)\n",
      "memory usage: 483.8+ MB\n"
     ]
    }
   ],
   "source": [
    "session.info()"
   ]
  },
  {
   "cell_type": "code",
   "execution_count": 8,
   "metadata": {
    "execution": {
     "iopub.execute_input": "2020-08-03T05:14:51.453789Z",
     "iopub.status.busy": "2020-08-03T05:14:51.452792Z",
     "iopub.status.idle": "2020-08-03T05:14:51.458775Z",
     "shell.execute_reply": "2020-08-03T05:14:51.458775Z",
     "shell.execute_reply.started": "2020-08-03T05:14:51.453789Z"
    }
   },
   "outputs": [
    {
     "data": {
      "text/plain": [
       "(10567737, 6)"
      ]
     },
     "metadata": {},
     "output_type": "display_data"
    }
   ],
   "source": [
    "display(session.shape)"
   ]
  },
  {
   "cell_type": "code",
   "execution_count": 9,
   "metadata": {
    "execution": {
     "iopub.execute_input": "2020-08-03T05:14:51.460770Z",
     "iopub.status.busy": "2020-08-03T05:14:51.459771Z",
     "iopub.status.idle": "2020-08-03T05:14:51.547537Z",
     "shell.execute_reply": "2020-08-03T05:14:51.547537Z",
     "shell.execute_reply.started": "2020-08-03T05:14:51.460770Z"
    }
   },
   "outputs": [
    {
     "name": "stdout",
     "output_type": "stream",
     "text": [
      "<class 'pandas.core.frame.DataFrame'>\n",
      "RangeIndex: 213451 entries, 0 to 213450\n",
      "Data columns (total 16 columns):\n",
      " #   Column                   Non-Null Count   Dtype  \n",
      "---  ------                   --------------   -----  \n",
      " 0   id                       213451 non-null  object \n",
      " 1   date_account_created     213451 non-null  object \n",
      " 2   timestamp_first_active   213451 non-null  int64  \n",
      " 3   date_first_booking       88908 non-null   object \n",
      " 4   gender                   213451 non-null  object \n",
      " 5   age                      125461 non-null  float64\n",
      " 6   signup_method            213451 non-null  object \n",
      " 7   signup_flow              213451 non-null  int64  \n",
      " 8   language                 213451 non-null  object \n",
      " 9   affiliate_channel        213451 non-null  object \n",
      " 10  affiliate_provider       213451 non-null  object \n",
      " 11  first_affiliate_tracked  207386 non-null  object \n",
      " 12  signup_app               213451 non-null  object \n",
      " 13  first_device_type        213451 non-null  object \n",
      " 14  first_browser            213451 non-null  object \n",
      " 15  country_destination      213451 non-null  object \n",
      "dtypes: float64(1), int64(2), object(13)\n",
      "memory usage: 26.1+ MB\n"
     ]
    }
   ],
   "source": [
    "train.info()"
   ]
  },
  {
   "cell_type": "code",
   "execution_count": 10,
   "metadata": {
    "execution": {
     "iopub.execute_input": "2020-08-03T05:14:51.548534Z",
     "iopub.status.busy": "2020-08-03T05:14:51.548534Z",
     "iopub.status.idle": "2020-08-03T05:14:51.562497Z",
     "shell.execute_reply": "2020-08-03T05:14:51.562497Z",
     "shell.execute_reply.started": "2020-08-03T05:14:51.548534Z"
    }
   },
   "outputs": [
    {
     "data": {
      "text/html": [
       "<div>\n",
       "<style scoped>\n",
       "    .dataframe tbody tr th:only-of-type {\n",
       "        vertical-align: middle;\n",
       "    }\n",
       "\n",
       "    .dataframe tbody tr th {\n",
       "        vertical-align: top;\n",
       "    }\n",
       "\n",
       "    .dataframe thead th {\n",
       "        text-align: right;\n",
       "    }\n",
       "</style>\n",
       "<table border=\"1\" class=\"dataframe\">\n",
       "  <thead>\n",
       "    <tr style=\"text-align: right;\">\n",
       "      <th></th>\n",
       "      <th>id</th>\n",
       "      <th>date_account_created</th>\n",
       "      <th>timestamp_first_active</th>\n",
       "      <th>date_first_booking</th>\n",
       "      <th>gender</th>\n",
       "      <th>age</th>\n",
       "      <th>signup_method</th>\n",
       "      <th>signup_flow</th>\n",
       "      <th>language</th>\n",
       "      <th>affiliate_channel</th>\n",
       "      <th>affiliate_provider</th>\n",
       "      <th>first_affiliate_tracked</th>\n",
       "      <th>signup_app</th>\n",
       "      <th>first_device_type</th>\n",
       "      <th>first_browser</th>\n",
       "      <th>country_destination</th>\n",
       "    </tr>\n",
       "  </thead>\n",
       "  <tbody>\n",
       "    <tr>\n",
       "      <th>0</th>\n",
       "      <td>gxn3p5htnn</td>\n",
       "      <td>2010-06-28</td>\n",
       "      <td>20090319043255</td>\n",
       "      <td>NaN</td>\n",
       "      <td>-unknown-</td>\n",
       "      <td>NaN</td>\n",
       "      <td>facebook</td>\n",
       "      <td>0</td>\n",
       "      <td>en</td>\n",
       "      <td>direct</td>\n",
       "      <td>direct</td>\n",
       "      <td>untracked</td>\n",
       "      <td>Web</td>\n",
       "      <td>Mac Desktop</td>\n",
       "      <td>Chrome</td>\n",
       "      <td>NDF</td>\n",
       "    </tr>\n",
       "    <tr>\n",
       "      <th>1</th>\n",
       "      <td>820tgsjxq7</td>\n",
       "      <td>2011-05-25</td>\n",
       "      <td>20090523174809</td>\n",
       "      <td>NaN</td>\n",
       "      <td>MALE</td>\n",
       "      <td>38.0</td>\n",
       "      <td>facebook</td>\n",
       "      <td>0</td>\n",
       "      <td>en</td>\n",
       "      <td>seo</td>\n",
       "      <td>google</td>\n",
       "      <td>untracked</td>\n",
       "      <td>Web</td>\n",
       "      <td>Mac Desktop</td>\n",
       "      <td>Chrome</td>\n",
       "      <td>NDF</td>\n",
       "    </tr>\n",
       "    <tr>\n",
       "      <th>2</th>\n",
       "      <td>4ft3gnwmtx</td>\n",
       "      <td>2010-09-28</td>\n",
       "      <td>20090609231247</td>\n",
       "      <td>2010-08-02</td>\n",
       "      <td>FEMALE</td>\n",
       "      <td>56.0</td>\n",
       "      <td>basic</td>\n",
       "      <td>3</td>\n",
       "      <td>en</td>\n",
       "      <td>direct</td>\n",
       "      <td>direct</td>\n",
       "      <td>untracked</td>\n",
       "      <td>Web</td>\n",
       "      <td>Windows Desktop</td>\n",
       "      <td>IE</td>\n",
       "      <td>US</td>\n",
       "    </tr>\n",
       "    <tr>\n",
       "      <th>3</th>\n",
       "      <td>bjjt8pjhuk</td>\n",
       "      <td>2011-12-05</td>\n",
       "      <td>20091031060129</td>\n",
       "      <td>2012-09-08</td>\n",
       "      <td>FEMALE</td>\n",
       "      <td>42.0</td>\n",
       "      <td>facebook</td>\n",
       "      <td>0</td>\n",
       "      <td>en</td>\n",
       "      <td>direct</td>\n",
       "      <td>direct</td>\n",
       "      <td>untracked</td>\n",
       "      <td>Web</td>\n",
       "      <td>Mac Desktop</td>\n",
       "      <td>Firefox</td>\n",
       "      <td>other</td>\n",
       "    </tr>\n",
       "    <tr>\n",
       "      <th>4</th>\n",
       "      <td>87mebub9p4</td>\n",
       "      <td>2010-09-14</td>\n",
       "      <td>20091208061105</td>\n",
       "      <td>2010-02-18</td>\n",
       "      <td>-unknown-</td>\n",
       "      <td>41.0</td>\n",
       "      <td>basic</td>\n",
       "      <td>0</td>\n",
       "      <td>en</td>\n",
       "      <td>direct</td>\n",
       "      <td>direct</td>\n",
       "      <td>untracked</td>\n",
       "      <td>Web</td>\n",
       "      <td>Mac Desktop</td>\n",
       "      <td>Chrome</td>\n",
       "      <td>US</td>\n",
       "    </tr>\n",
       "  </tbody>\n",
       "</table>\n",
       "</div>"
      ],
      "text/plain": [
       "           id date_account_created  timestamp_first_active date_first_booking  \\\n",
       "0  gxn3p5htnn           2010-06-28          20090319043255                NaN   \n",
       "1  820tgsjxq7           2011-05-25          20090523174809                NaN   \n",
       "2  4ft3gnwmtx           2010-09-28          20090609231247         2010-08-02   \n",
       "3  bjjt8pjhuk           2011-12-05          20091031060129         2012-09-08   \n",
       "4  87mebub9p4           2010-09-14          20091208061105         2010-02-18   \n",
       "\n",
       "      gender   age signup_method  signup_flow language affiliate_channel  \\\n",
       "0  -unknown-   NaN      facebook            0       en            direct   \n",
       "1       MALE  38.0      facebook            0       en               seo   \n",
       "2     FEMALE  56.0         basic            3       en            direct   \n",
       "3     FEMALE  42.0      facebook            0       en            direct   \n",
       "4  -unknown-  41.0         basic            0       en            direct   \n",
       "\n",
       "  affiliate_provider first_affiliate_tracked signup_app first_device_type  \\\n",
       "0             direct               untracked        Web       Mac Desktop   \n",
       "1             google               untracked        Web       Mac Desktop   \n",
       "2             direct               untracked        Web   Windows Desktop   \n",
       "3             direct               untracked        Web       Mac Desktop   \n",
       "4             direct               untracked        Web       Mac Desktop   \n",
       "\n",
       "  first_browser country_destination  \n",
       "0        Chrome                 NDF  \n",
       "1        Chrome                 NDF  \n",
       "2            IE                  US  \n",
       "3       Firefox               other  \n",
       "4        Chrome                  US  "
      ]
     },
     "execution_count": 10,
     "metadata": {},
     "output_type": "execute_result"
    }
   ],
   "source": [
    "train.head()"
   ]
  },
  {
   "cell_type": "code",
   "execution_count": 11,
   "metadata": {
    "execution": {
     "iopub.execute_input": "2020-08-03T05:14:51.563494Z",
     "iopub.status.busy": "2020-08-03T05:14:51.563494Z",
     "iopub.status.idle": "2020-08-03T05:14:52.454693Z",
     "shell.execute_reply": "2020-08-03T05:14:52.454693Z",
     "shell.execute_reply.started": "2020-08-03T05:14:51.563494Z"
    }
   },
   "outputs": [
    {
     "data": {
      "image/png": "[encoded data removed]",
      "text/plain": [
       "<Figure size 1800x720 with 2 Axes>"
      ]
     },
     "metadata": {
      "needs_background": "light"
     },
     "output_type": "display_data"
    }
   ],
   "source": [
    "msno.matrix(train);"
   ]
  },
  {
   "cell_type": "code",
   "execution_count": 12,
   "metadata": {
    "execution": {
     "iopub.execute_input": "2020-08-03T05:14:52.455666Z",
     "iopub.status.busy": "2020-08-03T05:14:52.455666Z",
     "iopub.status.idle": "2020-08-03T05:14:52.469629Z",
     "shell.execute_reply": "2020-08-03T05:14:52.469629Z",
     "shell.execute_reply.started": "2020-08-03T05:14:52.455666Z"
    }
   },
   "outputs": [
    {
     "data": {
      "text/plain": [
       "count    125461.000000\n",
       "mean         49.668335\n",
       "std         155.666612\n",
       "min           1.000000\n",
       "25%          28.000000\n",
       "50%          34.000000\n",
       "75%          43.000000\n",
       "max        2014.000000\n",
       "Name: age, dtype: float64"
      ]
     },
     "execution_count": 12,
     "metadata": {},
     "output_type": "execute_result"
    }
   ],
   "source": [
    "train['age'].describe()"
   ]
  },
  {
   "cell_type": "markdown",
   "metadata": {},
   "source": [
    "### Cleaning steps needed:\n",
    "- convert all date/time related columns into datetime\n",
    "- deal with missing age and through assigning new variables and binning\n",
    "- filling first_affiliate_tracked missing value with new category value \"missing\""
   ]
  },
  {
   "cell_type": "markdown",
   "metadata": {},
   "source": [
    "#### Time"
   ]
  },
  {
   "cell_type": "code",
   "execution_count": 13,
   "metadata": {
    "execution": {
     "iopub.execute_input": "2020-08-03T05:14:52.470627Z",
     "iopub.status.busy": "2020-08-03T05:14:52.470627Z",
     "iopub.status.idle": "2020-08-03T05:14:53.135912Z",
     "shell.execute_reply": "2020-08-03T05:14:53.135912Z",
     "shell.execute_reply.started": "2020-08-03T05:14:52.470627Z"
    }
   },
   "outputs": [],
   "source": [
    "train['date_account_created'] = pd.to_datetime(\n",
    "    train['date_account_created'], format='%Y-%m-%d', errors='coerce')\n",
    "train['date_account_created'] = pd.to_datetime(\n",
    "    train['date_account_created'], format='%Y-%m-%d', errors='coerce')\n",
    "train['date_first_booking'] = pd.to_datetime(\n",
    "    train['date_first_booking'], format='%Y-%m-%d', errors='coerce')\n",
    "train['timestamp_first_active'] = pd.to_datetime(\n",
    "    train['timestamp_first_active'], format='%Y%m%d%H%M%S', errors='coerce')"
   ]
  },
  {
   "cell_type": "markdown",
   "metadata": {},
   "source": [
    "#### Age"
   ]
  },
  {
   "cell_type": "code",
   "execution_count": 14,
   "metadata": {
    "execution": {
     "iopub.execute_input": "2020-08-03T05:14:53.136894Z",
     "iopub.status.busy": "2020-08-03T05:14:53.136894Z",
     "iopub.status.idle": "2020-08-03T05:14:53.184337Z",
     "shell.execute_reply": "2020-08-03T05:14:53.183535Z",
     "shell.execute_reply.started": "2020-08-03T05:14:53.136894Z"
    }
   },
   "outputs": [],
   "source": [
    "# for missing value, assign -1 as the age value\n",
    "train['age_fill'] = train['age'].apply(\n",
    "    lambda x: -1 if x > 1000 else x).fillna(-1)"
   ]
  },
  {
   "cell_type": "code",
   "execution_count": 15,
   "metadata": {
    "execution": {
     "iopub.execute_input": "2020-08-03T05:14:53.185327Z",
     "iopub.status.busy": "2020-08-03T05:14:53.185327Z",
     "iopub.status.idle": "2020-08-03T05:14:53.198293Z",
     "shell.execute_reply": "2020-08-03T05:14:53.198293Z",
     "shell.execute_reply.started": "2020-08-03T05:14:53.185327Z"
    }
   },
   "outputs": [
    {
     "data": {
      "text/plain": [
       "count    213451.000000\n",
       "mean         21.438293\n",
       "std          21.731754\n",
       "min          -1.000000\n",
       "25%          -1.000000\n",
       "50%          26.000000\n",
       "75%          35.000000\n",
       "max         150.000000\n",
       "Name: age_fill, dtype: float64"
      ]
     },
     "execution_count": 15,
     "metadata": {},
     "output_type": "execute_result"
    }
   ],
   "source": [
    "train['age_fill'].describe()"
   ]
  },
  {
   "cell_type": "markdown",
   "metadata": {},
   "source": [
    "#### First Affiliate tracked"
   ]
  },
  {
   "cell_type": "code",
   "execution_count": 16,
   "metadata": {
    "execution": {
     "iopub.execute_input": "2020-08-03T05:14:53.199290Z",
     "iopub.status.busy": "2020-08-03T05:14:53.199290Z",
     "iopub.status.idle": "2020-08-03T05:14:53.220235Z",
     "shell.execute_reply": "2020-08-03T05:14:53.220235Z",
     "shell.execute_reply.started": "2020-08-03T05:14:53.199290Z"
    }
   },
   "outputs": [
    {
     "data": {
      "text/plain": [
       "untracked        109232\n",
       "linked            46287\n",
       "omg               43982\n",
       "tracked-other      6156\n",
       "NaN                6065\n",
       "product            1556\n",
       "marketing           139\n",
       "local ops            34\n",
       "Name: first_affiliate_tracked, dtype: int64"
      ]
     },
     "execution_count": 16,
     "metadata": {},
     "output_type": "execute_result"
    }
   ],
   "source": [
    "train['first_affiliate_tracked'].value_counts(dropna=False)"
   ]
  },
  {
   "cell_type": "markdown",
   "metadata": {},
   "source": [
    "The missing count is at 6000 thousands, which is still a relatively big number. Not knowing the reason of the miss, we will create a new category called \"miss\" treat that as a real category"
   ]
  },
  {
   "cell_type": "code",
   "execution_count": 17,
   "metadata": {
    "execution": {
     "iopub.execute_input": "2020-08-03T05:14:53.221232Z",
     "iopub.status.busy": "2020-08-03T05:14:53.221232Z",
     "iopub.status.idle": "2020-08-03T05:14:53.233199Z",
     "shell.execute_reply": "2020-08-03T05:14:53.233199Z",
     "shell.execute_reply.started": "2020-08-03T05:14:53.221232Z"
    }
   },
   "outputs": [],
   "source": [
    "train['first_affiliate_tracked'].fillna('miss', inplace=True)"
   ]
  },
  {
   "cell_type": "code",
   "execution_count": 18,
   "metadata": {
    "execution": {
     "iopub.execute_input": "2020-08-03T05:14:53.234197Z",
     "iopub.status.busy": "2020-08-03T05:14:53.234197Z",
     "iopub.status.idle": "2020-08-03T05:14:53.340911Z",
     "shell.execute_reply": "2020-08-03T05:14:53.340911Z",
     "shell.execute_reply.started": "2020-08-03T05:14:53.234197Z"
    }
   },
   "outputs": [
    {
     "name": "stdout",
     "output_type": "stream",
     "text": [
      "<class 'pandas.core.frame.DataFrame'>\n",
      "RangeIndex: 213451 entries, 0 to 213450\n",
      "Data columns (total 17 columns):\n",
      " #   Column                   Non-Null Count   Dtype         \n",
      "---  ------                   --------------   -----         \n",
      " 0   id                       213451 non-null  object        \n",
      " 1   date_account_created     213451 non-null  datetime64[ns]\n",
      " 2   timestamp_first_active   213451 non-null  datetime64[ns]\n",
      " 3   date_first_booking       88908 non-null   datetime64[ns]\n",
      " 4   gender                   213451 non-null  object        \n",
      " 5   age                      125461 non-null  float64       \n",
      " 6   signup_method            213451 non-null  object        \n",
      " 7   signup_flow              213451 non-null  int64         \n",
      " 8   language                 213451 non-null  object        \n",
      " 9   affiliate_channel        213451 non-null  object        \n",
      " 10  affiliate_provider       213451 non-null  object        \n",
      " 11  first_affiliate_tracked  213451 non-null  object        \n",
      " 12  signup_app               213451 non-null  object        \n",
      " 13  first_device_type        213451 non-null  object        \n",
      " 14  first_browser            213451 non-null  object        \n",
      " 15  country_destination      213451 non-null  object        \n",
      " 16  age_fill                 213451 non-null  float64       \n",
      "dtypes: datetime64[ns](3), float64(2), int64(1), object(11)\n",
      "memory usage: 27.7+ MB\n"
     ]
    }
   ],
   "source": [
    "train.info()"
   ]
  },
  {
   "cell_type": "markdown",
   "metadata": {},
   "source": [
    "## Data Exploratory"
   ]
  },
  {
   "cell_type": "markdown",
   "metadata": {},
   "source": [
    "In this section, we are trying to identify variables within the train dataset, then we will dive in to session dataset to understand browsing pattern.\n",
    "\n",
    "We first want to create a simple binary variable \"book\" that take value 1 if booking occur, 0 otherwise."
   ]
  },
  {
   "cell_type": "code",
   "execution_count": 19,
   "metadata": {
    "execution": {
     "iopub.execute_input": "2020-08-03T05:14:53.341909Z",
     "iopub.status.busy": "2020-08-03T05:14:53.341909Z",
     "iopub.status.idle": "2020-08-03T05:14:53.834106Z",
     "shell.execute_reply": "2020-08-03T05:14:53.834106Z",
     "shell.execute_reply.started": "2020-08-03T05:14:53.341909Z"
    }
   },
   "outputs": [],
   "source": [
    "# replace all missing values to 0 then assign 1 for rows that have booking dates\n",
    "train['book'] = train['date_first_booking'].fillna(\n",
    "    0).apply(lambda x: 0 if x == 0 else 1)"
   ]
  },
  {
   "cell_type": "markdown",
   "metadata": {},
   "source": [
    "### Age Group"
   ]
  },
  {
   "cell_type": "code",
   "execution_count": 20,
   "metadata": {
    "execution": {
     "iopub.execute_input": "2020-08-03T05:14:53.835107Z",
     "iopub.status.busy": "2020-08-03T05:14:53.835107Z",
     "iopub.status.idle": "2020-08-03T05:14:54.874999Z",
     "shell.execute_reply": "2020-08-03T05:14:54.874999Z",
     "shell.execute_reply.started": "2020-08-03T05:14:53.835107Z"
    }
   },
   "outputs": [
    {
     "data": {
      "image/png": "[encoded data removed]",
      "text/plain": [
       "<Figure size 1440x360 with 1 Axes>"
      ]
     },
     "metadata": {
      "needs_background": "light"
     },
     "output_type": "display_data"
    }
   ],
   "source": [
    "# checking age as function booking frequency\n",
    "plt.figure(figsize=(20, 5))\n",
    "ax = sns.countplot(x='age_fill', hue='book', data=train)\n",
    "plt.title('booking frequency by age group')\n",
    "plt.xticks(rotation=90)\n",
    "plt.xlim(1, 100)\n",
    "plt.ylim(0, 4000)\n",
    "plt.show()"
   ]
  },
  {
   "cell_type": "markdown",
   "metadata": {},
   "source": [
    "**Observation**: age group between 25 to 35 appear to have the most booking, and they are also the mainstream user groups. Interesting to see age group 105 has a spike in booking. It is reasonable to believe that the high booking frequency is not driven by age but by other factors. \n",
    "\n",
    "We can further apply binning to the age by an interval of 5 as provided by the gender dataset since the distribution of the data is roughly normally distributed"
   ]
  },
  {
   "cell_type": "code",
   "execution_count": 21,
   "metadata": {
    "execution": {
     "iopub.execute_input": "2020-08-03T05:14:54.875965Z",
     "iopub.status.busy": "2020-08-03T05:14:54.875965Z",
     "iopub.status.idle": "2020-08-03T05:14:54.879956Z",
     "shell.execute_reply": "2020-08-03T05:14:54.879956Z",
     "shell.execute_reply.started": "2020-08-03T05:14:54.875965Z"
    }
   },
   "outputs": [],
   "source": [
    "age_cat = age_gender['age_bucket'].unique().tolist()\n",
    "age_sort = age_cat[::-1]\n",
    "age_sort.insert(0, 'miss')"
   ]
  },
  {
   "cell_type": "code",
   "execution_count": 22,
   "metadata": {
    "execution": {
     "iopub.execute_input": "2020-08-03T05:14:54.880952Z",
     "iopub.status.busy": "2020-08-03T05:14:54.880952Z",
     "iopub.status.idle": "2020-08-03T05:14:54.896909Z",
     "shell.execute_reply": "2020-08-03T05:14:54.896909Z",
     "shell.execute_reply.started": "2020-08-03T05:14:54.880952Z"
    }
   },
   "outputs": [],
   "source": [
    "train['age_gp'] = pd.cut(\n",
    "    train['age_fill'], bins=np.arange(-5, 106, 5), labels=age_sort)"
   ]
  },
  {
   "cell_type": "code",
   "execution_count": 23,
   "metadata": {
    "execution": {
     "iopub.execute_input": "2020-08-03T05:14:54.899902Z",
     "iopub.status.busy": "2020-08-03T05:14:54.899902Z",
     "iopub.status.idle": "2020-08-03T05:14:55.132343Z",
     "shell.execute_reply": "2020-08-03T05:14:55.132343Z",
     "shell.execute_reply.started": "2020-08-03T05:14:54.899902Z"
    }
   },
   "outputs": [
    {
     "data": {
      "image/png": "[encoded data removed]",
      "text/plain": [
       "<Figure size 720x360 with 1 Axes>"
      ]
     },
     "metadata": {
      "needs_background": "light"
     },
     "output_type": "display_data"
    }
   ],
   "source": [
    "plt.figure(figsize=(10, 5))\n",
    "ax = sns.countplot(x='age_gp', hue='book', data=train)\n",
    "plt.title('booking frequency by age group')\n",
    "plt.xticks(rotation=90)\n",
    "plt.show()"
   ]
  },
  {
   "cell_type": "markdown",
   "metadata": {},
   "source": [
    "Check other features one by one, create function below to streamline the process"
   ]
  },
  {
   "cell_type": "code",
   "execution_count": 24,
   "metadata": {
    "execution": {
     "iopub.execute_input": "2020-08-03T05:14:55.134307Z",
     "iopub.status.busy": "2020-08-03T05:14:55.134307Z",
     "iopub.status.idle": "2020-08-03T05:14:55.139294Z",
     "shell.execute_reply": "2020-08-03T05:14:55.139294Z",
     "shell.execute_reply.started": "2020-08-03T05:14:55.134307Z"
    }
   },
   "outputs": [],
   "source": [
    "def count_plot(x):\n",
    "    plt.figure(figsize=(10, 5))\n",
    "    sns.countplot(x=x, hue='book', data=train)\n",
    "    plt.xticks(rotation=90)\n",
    "    plt.yscale('log')\n",
    "    plt.title('booking frequency based on {}'.format(x))\n",
    "    plt.tight_layout()\n",
    "    plt.show()"
   ]
  },
  {
   "cell_type": "markdown",
   "metadata": {},
   "source": [
    "### Language"
   ]
  },
  {
   "cell_type": "code",
   "execution_count": 25,
   "metadata": {
    "execution": {
     "iopub.execute_input": "2020-08-03T05:14:55.140291Z",
     "iopub.status.busy": "2020-08-03T05:14:55.140291Z",
     "iopub.status.idle": "2020-08-03T05:14:55.787416Z",
     "shell.execute_reply": "2020-08-03T05:14:55.787416Z",
     "shell.execute_reply.started": "2020-08-03T05:14:55.140291Z"
    }
   },
   "outputs": [
    {
     "data": {
      "image/png": "[encoded data removed]",
      "text/plain": [
       "<Figure size 720x360 with 1 Axes>"
      ]
     },
     "metadata": {
      "needs_background": "light"
     },
     "output_type": "display_data"
    }
   ],
   "source": [
    "count_plot('language')"
   ]
  },
  {
   "cell_type": "markdown",
   "metadata": {},
   "source": [
    "English us the main language used on the platform. Given data are imbalance across languages other than English, we will consolidate languages into smaller categories in hope of increase the predictive power of this variable."
   ]
  },
  {
   "cell_type": "code",
   "execution_count": 26,
   "metadata": {
    "execution": {
     "iopub.execute_input": "2020-08-03T05:14:55.788382Z",
     "iopub.status.busy": "2020-08-03T05:14:55.788382Z",
     "iopub.status.idle": "2020-08-03T05:14:55.791429Z",
     "shell.execute_reply": "2020-08-03T05:14:55.791429Z",
     "shell.execute_reply.started": "2020-08-03T05:14:55.788382Z"
    }
   },
   "outputs": [],
   "source": [
    "lang = {'en': 'eng',\n",
    "        'zh': 'asia',\n",
    "        'ko': 'asia',\n",
    "        'ja': 'asia',\n",
    "        'fr': 'eu',\n",
    "        'es': 'eu',\n",
    "        'de': 'eu',\n",
    "        'ru': 'eu',\n",
    "        'pt': 'eu'}"
   ]
  },
  {
   "cell_type": "code",
   "execution_count": 27,
   "metadata": {
    "execution": {
     "iopub.execute_input": "2020-08-03T05:14:55.792373Z",
     "iopub.status.busy": "2020-08-03T05:14:55.792373Z",
     "iopub.status.idle": "2020-08-03T05:14:56.108420Z",
     "shell.execute_reply": "2020-08-03T05:14:56.108420Z",
     "shell.execute_reply.started": "2020-08-03T05:14:55.792373Z"
    }
   },
   "outputs": [
    {
     "data": {
      "image/png": "[encoded data removed]",
      "text/plain": [
       "<Figure size 720x360 with 1 Axes>"
      ]
     },
     "metadata": {
      "needs_background": "light"
     },
     "output_type": "display_data"
    }
   ],
   "source": [
    "train['lang'] = train['language'].map(lang).fillna('other')\n",
    "count_plot('lang')"
   ]
  },
  {
   "cell_type": "markdown",
   "metadata": {},
   "source": [
    "### Browser"
   ]
  },
  {
   "cell_type": "code",
   "execution_count": 28,
   "metadata": {
    "execution": {
     "iopub.execute_input": "2020-08-03T05:14:56.109382Z",
     "iopub.status.busy": "2020-08-03T05:14:56.109382Z",
     "iopub.status.idle": "2020-08-03T05:14:56.113372Z",
     "shell.execute_reply": "2020-08-03T05:14:56.113372Z",
     "shell.execute_reply.started": "2020-08-03T05:14:56.109382Z"
    }
   },
   "outputs": [],
   "source": [
    "# consolidate browser type to reduce the number categories\n",
    "browser = {'Chrome': 'chrome',\n",
    "           'Chrome Mobile': 'chrome',\n",
    "           'Safari': 'safari',\n",
    "           'Mobile Safari': 'safari',\n",
    "           'Firefox': 'firefox',\n",
    "           'Mobile Firefox': 'firefox',\n",
    "           'IE': 'ie',\n",
    "           'IE Mobile': 'ie',\n",
    "           '-unknown-': 'unknown'}"
   ]
  },
  {
   "cell_type": "code",
   "execution_count": 29,
   "metadata": {
    "execution": {
     "iopub.execute_input": "2020-08-03T05:14:56.114369Z",
     "iopub.status.busy": "2020-08-03T05:14:56.114369Z",
     "iopub.status.idle": "2020-08-03T05:14:56.153297Z",
     "shell.execute_reply": "2020-08-03T05:14:56.153297Z",
     "shell.execute_reply.started": "2020-08-03T05:14:56.114369Z"
    }
   },
   "outputs": [],
   "source": [
    "train['browser'] = train['first_browser'].map(browser).fillna('other')"
   ]
  },
  {
   "cell_type": "code",
   "execution_count": 30,
   "metadata": {
    "execution": {
     "iopub.execute_input": "2020-08-03T05:14:56.155260Z",
     "iopub.status.busy": "2020-08-03T05:14:56.154264Z",
     "iopub.status.idle": "2020-08-03T05:14:56.431596Z",
     "shell.execute_reply": "2020-08-03T05:14:56.431596Z",
     "shell.execute_reply.started": "2020-08-03T05:14:56.155260Z"
    }
   },
   "outputs": [
    {
     "data": {
      "image/png": "[encoded data removed]",
      "text/plain": [
       "<Figure size 720x360 with 1 Axes>"
      ]
     },
     "metadata": {
      "needs_background": "light"
     },
     "output_type": "display_data"
    }
   ],
   "source": [
    "count_plot('browser')"
   ]
  },
  {
   "cell_type": "markdown",
   "metadata": {
    "execution": {
     "iopub.execute_input": "2020-07-29T22:07:27.447266Z",
     "iopub.status.busy": "2020-07-29T22:07:27.446294Z",
     "iopub.status.idle": "2020-07-29T22:07:27.451256Z",
     "shell.execute_reply": "2020-07-29T22:07:27.451256Z",
     "shell.execute_reply.started": "2020-07-29T22:07:27.447266Z"
    }
   },
   "source": [
    "Safari appears to have higher booking rate than chrome. It could be a useful features."
   ]
  },
  {
   "cell_type": "markdown",
   "metadata": {},
   "source": [
    "### Signup method, app and flow"
   ]
  },
  {
   "cell_type": "code",
   "execution_count": 31,
   "metadata": {
    "execution": {
     "iopub.execute_input": "2020-08-03T05:14:56.432559Z",
     "iopub.status.busy": "2020-08-03T05:14:56.432559Z",
     "iopub.status.idle": "2020-08-03T05:14:56.720441Z",
     "shell.execute_reply": "2020-08-03T05:14:56.720441Z",
     "shell.execute_reply.started": "2020-08-03T05:14:56.432559Z"
    }
   },
   "outputs": [
    {
     "data": {
      "image/png": "[encoded data removed]",
      "text/plain": [
       "<Figure size 720x360 with 1 Axes>"
      ]
     },
     "metadata": {
      "needs_background": "light"
     },
     "output_type": "display_data"
    }
   ],
   "source": [
    "count_plot('signup_method')"
   ]
  },
  {
   "cell_type": "markdown",
   "metadata": {},
   "source": [
    "The signup method does not seem to vary much on the booking rate. Would not include that in the modeling process"
   ]
  },
  {
   "cell_type": "code",
   "execution_count": 32,
   "metadata": {
    "execution": {
     "iopub.execute_input": "2020-08-03T05:14:56.721413Z",
     "iopub.status.busy": "2020-08-03T05:14:56.721413Z",
     "iopub.status.idle": "2020-08-03T05:14:57.013184Z",
     "shell.execute_reply": "2020-08-03T05:14:57.013184Z",
     "shell.execute_reply.started": "2020-08-03T05:14:56.721413Z"
    }
   },
   "outputs": [
    {
     "data": {
      "image/png": "[encoded data removed]",
      "text/plain": [
       "<Figure size 720x360 with 1 Axes>"
      ]
     },
     "metadata": {
      "needs_background": "light"
     },
     "output_type": "display_data"
    }
   ],
   "source": [
    "count_plot('signup_app')"
   ]
  },
  {
   "cell_type": "code",
   "execution_count": 33,
   "metadata": {
    "execution": {
     "iopub.execute_input": "2020-08-03T05:14:57.014173Z",
     "iopub.status.busy": "2020-08-03T05:14:57.014173Z",
     "iopub.status.idle": "2020-08-03T05:14:57.496913Z",
     "shell.execute_reply": "2020-08-03T05:14:57.496913Z",
     "shell.execute_reply.started": "2020-08-03T05:14:57.014173Z"
    }
   },
   "outputs": [
    {
     "data": {
      "image/png": "[encoded data removed]",
      "text/plain": [
       "<Figure size 720x360 with 1 Axes>"
      ]
     },
     "metadata": {
      "needs_background": "light"
     },
     "output_type": "display_data"
    }
   ],
   "source": [
    "count_plot('signup_flow')"
   ]
  },
  {
   "cell_type": "markdown",
   "metadata": {},
   "source": [
    "**Observation**: booking rate appear to be the highest when the number of page visit is either 0, 12 or above 23. 0 pages users probably already know what they want and that session just for booking. If they browse more than 20 pages, which could mean that they are really serious above making a booking. It is interesting to see that values from 2-8, then 15-20 sections have very low booking rate, or even no records at all.\n",
    "\n",
    "In ensure the category is consistent at the test set during features transformation, we will group this features in 4 big categories\n",
    "- 0\n",
    "- 1-10\n",
    "- 11-20\n",
    "- 20+"
   ]
  },
  {
   "cell_type": "code",
   "execution_count": 34,
   "metadata": {
    "execution": {
     "iopub.execute_input": "2020-08-03T05:14:57.497911Z",
     "iopub.status.busy": "2020-08-03T05:14:57.497911Z",
     "iopub.status.idle": "2020-08-03T05:14:57.507884Z",
     "shell.execute_reply": "2020-08-03T05:14:57.507884Z",
     "shell.execute_reply.started": "2020-08-03T05:14:57.497911Z"
    }
   },
   "outputs": [],
   "source": [
    "flow_cat = ['0', '1-10', '11-20', '20+']\n",
    "train['flow_cat'] = pd.cut(train['signup_flow'], bins=[\n",
    "                           0, 1, 10, 20, 100], labels=flow_cat, include_lowest=True)"
   ]
  },
  {
   "cell_type": "code",
   "execution_count": 35,
   "metadata": {
    "execution": {
     "iopub.execute_input": "2020-08-03T05:14:57.508881Z",
     "iopub.status.busy": "2020-08-03T05:14:57.508881Z",
     "iopub.status.idle": "2020-08-03T05:14:57.729364Z",
     "shell.execute_reply": "2020-08-03T05:14:57.729364Z",
     "shell.execute_reply.started": "2020-08-03T05:14:57.508881Z"
    }
   },
   "outputs": [
    {
     "data": {
      "image/png": "[encoded data removed]",
      "text/plain": [
       "<Figure size 720x360 with 1 Axes>"
      ]
     },
     "metadata": {
      "needs_background": "light"
     },
     "output_type": "display_data"
    }
   ],
   "source": [
    "count_plot('flow_cat')"
   ]
  },
  {
   "cell_type": "markdown",
   "metadata": {},
   "source": [
    "### Gender"
   ]
  },
  {
   "cell_type": "code",
   "execution_count": 36,
   "metadata": {
    "execution": {
     "iopub.execute_input": "2020-08-03T05:14:57.730399Z",
     "iopub.status.busy": "2020-08-03T05:14:57.730399Z",
     "iopub.status.idle": "2020-08-03T05:14:58.005514Z",
     "shell.execute_reply": "2020-08-03T05:14:58.004973Z",
     "shell.execute_reply.started": "2020-08-03T05:14:57.730399Z"
    }
   },
   "outputs": [
    {
     "data": {
      "image/png": "[encoded data removed]",
      "text/plain": [
       "<Figure size 720x360 with 1 Axes>"
      ]
     },
     "metadata": {
      "needs_background": "light"
     },
     "output_type": "display_data"
    }
   ],
   "source": [
    "count_plot('gender')"
   ]
  },
  {
   "cell_type": "markdown",
   "metadata": {},
   "source": [
    "**Observation**: Male and Female booking rate is almost identical. When users didn't specific gender, they are two times more likely to just browsing, which is quite a powerful feature. We will consolidate this features to be a binary variable \"gender_stated\", 0 is unknown, 1 being otherwise."
   ]
  },
  {
   "cell_type": "code",
   "execution_count": 37,
   "metadata": {
    "execution": {
     "iopub.execute_input": "2020-08-03T05:14:58.005514Z",
     "iopub.status.busy": "2020-08-03T05:14:58.005514Z",
     "iopub.status.idle": "2020-08-03T05:14:58.026460Z",
     "shell.execute_reply": "2020-08-03T05:14:58.026460Z",
     "shell.execute_reply.started": "2020-08-03T05:14:58.005514Z"
    }
   },
   "outputs": [
    {
     "data": {
      "text/plain": [
       "-unknown-    95688\n",
       "FEMALE       63041\n",
       "MALE         54440\n",
       "OTHER          282\n",
       "Name: gender, dtype: int64"
      ]
     },
     "execution_count": 37,
     "metadata": {},
     "output_type": "execute_result"
    }
   ],
   "source": [
    "train['gender'].value_counts()"
   ]
  },
  {
   "cell_type": "code",
   "execution_count": 38,
   "metadata": {
    "execution": {
     "iopub.execute_input": "2020-08-03T05:14:58.028456Z",
     "iopub.status.busy": "2020-08-03T05:14:58.027459Z",
     "iopub.status.idle": "2020-08-03T05:14:58.057377Z",
     "shell.execute_reply": "2020-08-03T05:14:58.057377Z",
     "shell.execute_reply.started": "2020-08-03T05:14:58.028456Z"
    }
   },
   "outputs": [],
   "source": [
    "train['gender_stated'] = train['gender'].apply(\n",
    "    lambda x: 'no' if x == '-unknown-' else 'yes')"
   ]
  },
  {
   "cell_type": "code",
   "execution_count": 39,
   "metadata": {
    "execution": {
     "iopub.execute_input": "2020-08-03T05:14:58.058375Z",
     "iopub.status.busy": "2020-08-03T05:14:58.058375Z",
     "iopub.status.idle": "2020-08-03T05:14:58.303588Z",
     "shell.execute_reply": "2020-08-03T05:14:58.303588Z",
     "shell.execute_reply.started": "2020-08-03T05:14:58.058375Z"
    }
   },
   "outputs": [
    {
     "data": {
      "image/png": "[encoded data removed]",
      "text/plain": [
       "<Figure size 720x360 with 1 Axes>"
      ]
     },
     "metadata": {
      "needs_background": "light"
     },
     "output_type": "display_data"
    }
   ],
   "source": [
    "count_plot('gender_stated')"
   ]
  },
  {
   "cell_type": "markdown",
   "metadata": {},
   "source": [
    "### Affiliate"
   ]
  },
  {
   "cell_type": "code",
   "execution_count": 40,
   "metadata": {
    "execution": {
     "iopub.execute_input": "2020-08-03T05:14:58.304554Z",
     "iopub.status.busy": "2020-08-03T05:14:58.304554Z",
     "iopub.status.idle": "2020-08-03T05:14:58.611356Z",
     "shell.execute_reply": "2020-08-03T05:14:58.611356Z",
     "shell.execute_reply.started": "2020-08-03T05:14:58.304554Z"
    }
   },
   "outputs": [
    {
     "data": {
      "image/png": "[encoded data removed]",
      "text/plain": [
       "<Figure size 720x360 with 1 Axes>"
      ]
     },
     "metadata": {
      "needs_background": "light"
     },
     "output_type": "display_data"
    }
   ],
   "source": [
    "count_plot('affiliate_channel')"
   ]
  },
  {
   "cell_type": "code",
   "execution_count": 41,
   "metadata": {
    "execution": {
     "iopub.execute_input": "2020-08-03T05:14:58.612353Z",
     "iopub.status.busy": "2020-08-03T05:14:58.612353Z",
     "iopub.status.idle": "2020-08-03T05:14:59.143932Z",
     "shell.execute_reply": "2020-08-03T05:14:59.143932Z",
     "shell.execute_reply.started": "2020-08-03T05:14:58.612353Z"
    }
   },
   "outputs": [
    {
     "data": {
      "image/png": "[encoded data removed]",
      "text/plain": [
       "<Figure size 720x360 with 1 Axes>"
      ]
     },
     "metadata": {
      "needs_background": "light"
     },
     "output_type": "display_data"
    }
   ],
   "source": [
    "count_plot('affiliate_provider')"
   ]
  },
  {
   "cell_type": "markdown",
   "metadata": {},
   "source": [
    "**Observation**: From the affiliate standpoint, craigslist appear to have higher booking rate than the others, followed by direct, then major search engines such as google and bing.\n",
    "\n",
    "We will consolidate the provider by keeping the major ones such as google, bing, facebook, and yahoo. Other provider will fall under 'other'"
   ]
  },
  {
   "cell_type": "code",
   "execution_count": 42,
   "metadata": {
    "execution": {
     "iopub.execute_input": "2020-08-03T05:14:59.144929Z",
     "iopub.status.busy": "2020-08-03T05:14:59.144929Z",
     "iopub.status.idle": "2020-08-03T05:14:59.148919Z",
     "shell.execute_reply": "2020-08-03T05:14:59.148919Z",
     "shell.execute_reply.started": "2020-08-03T05:14:59.144929Z"
    }
   },
   "outputs": [],
   "source": [
    "provider = {'direct': 'direct', 'google': 'google', 'facebook': 'facebook',\n",
    "            'facebook-open-graph': 'facebook', 'bing': 'bing', 'yahoo': 'yahoo', 'craigslist': 'craigslist'}"
   ]
  },
  {
   "cell_type": "code",
   "execution_count": 43,
   "metadata": {
    "execution": {
     "iopub.execute_input": "2020-08-03T05:14:59.149916Z",
     "iopub.status.busy": "2020-08-03T05:14:59.149916Z",
     "iopub.status.idle": "2020-08-03T05:14:59.180833Z",
     "shell.execute_reply": "2020-08-03T05:14:59.180833Z",
     "shell.execute_reply.started": "2020-08-03T05:14:59.149916Z"
    }
   },
   "outputs": [],
   "source": [
    "train['provider'] = train['affiliate_provider'].map(provider).fillna('other')"
   ]
  },
  {
   "cell_type": "code",
   "execution_count": 44,
   "metadata": {
    "execution": {
     "iopub.execute_input": "2020-08-03T05:14:59.181830Z",
     "iopub.status.busy": "2020-08-03T05:14:59.181830Z",
     "iopub.status.idle": "2020-08-03T05:14:59.493504Z",
     "shell.execute_reply": "2020-08-03T05:14:59.493504Z",
     "shell.execute_reply.started": "2020-08-03T05:14:59.181830Z"
    }
   },
   "outputs": [
    {
     "data": {
      "image/png": "[encoded data removed]",
      "text/plain": [
       "<Figure size 720x360 with 1 Axes>"
      ]
     },
     "metadata": {
      "needs_background": "light"
     },
     "output_type": "display_data"
    }
   ],
   "source": [
    "count_plot('provider')"
   ]
  },
  {
   "cell_type": "markdown",
   "metadata": {},
   "source": [
    "### Session Data Review"
   ]
  },
  {
   "cell_type": "markdown",
   "metadata": {},
   "source": [
    "We completed the features for the train dataset, we now move on to the session dataset"
   ]
  },
  {
   "cell_type": "code",
   "execution_count": 45,
   "metadata": {
    "execution": {
     "iopub.execute_input": "2020-08-03T05:14:59.494502Z",
     "iopub.status.busy": "2020-08-03T05:14:59.494502Z",
     "iopub.status.idle": "2020-08-03T05:14:59.540379Z",
     "shell.execute_reply": "2020-08-03T05:14:59.540379Z",
     "shell.execute_reply.started": "2020-08-03T05:14:59.494502Z"
    }
   },
   "outputs": [],
   "source": [
    "# obtain a copy of the browsing session and whether booking happened\n",
    "id_book = train[['id', 'book']]"
   ]
  },
  {
   "cell_type": "code",
   "execution_count": 46,
   "metadata": {
    "execution": {
     "iopub.execute_input": "2020-08-03T05:14:59.541376Z",
     "iopub.status.busy": "2020-08-03T05:14:59.541376Z",
     "iopub.status.idle": "2020-08-03T05:15:00.621067Z",
     "shell.execute_reply": "2020-08-03T05:15:00.621067Z",
     "shell.execute_reply.started": "2020-08-03T05:14:59.541376Z"
    }
   },
   "outputs": [],
   "source": [
    "session_bk = pd.merge(session, id_book, left_on='user_id',\n",
    "                      right_on='id', how='inner')"
   ]
  },
  {
   "cell_type": "code",
   "execution_count": 47,
   "metadata": {
    "execution": {
     "iopub.execute_input": "2020-08-03T05:15:00.622045Z",
     "iopub.status.busy": "2020-08-03T05:15:00.622045Z",
     "iopub.status.idle": "2020-08-03T05:15:19.137984Z",
     "shell.execute_reply": "2020-08-03T05:15:19.137984Z",
     "shell.execute_reply.started": "2020-08-03T05:15:00.622045Z"
    }
   },
   "outputs": [],
   "source": [
    "session_bk.to_csv('./data/id_book.csv', index=False)"
   ]
  },
  {
   "cell_type": "markdown",
   "metadata": {},
   "source": [
    "#### Section times"
   ]
  },
  {
   "cell_type": "code",
   "execution_count": 48,
   "metadata": {
    "execution": {
     "iopub.execute_input": "2020-08-03T05:15:19.137984Z",
     "iopub.status.busy": "2020-08-03T05:15:19.137984Z",
     "iopub.status.idle": "2020-08-03T05:15:20.155396Z",
     "shell.execute_reply": "2020-08-03T05:15:20.154399Z",
     "shell.execute_reply.started": "2020-08-03T05:15:19.137984Z"
    }
   },
   "outputs": [],
   "source": [
    "sec_time = session_bk.groupby(['user_id', 'book']).agg(\n",
    "    {'secs_elapsed': 'sum'}).reset_index()"
   ]
  },
  {
   "cell_type": "code",
   "execution_count": 49,
   "metadata": {
    "execution": {
     "iopub.execute_input": "2020-08-03T05:15:20.156393Z",
     "iopub.status.busy": "2020-08-03T05:15:20.155396Z",
     "iopub.status.idle": "2020-08-03T05:15:20.162376Z",
     "shell.execute_reply": "2020-08-03T05:15:20.162376Z",
     "shell.execute_reply.started": "2020-08-03T05:15:20.156393Z"
    }
   },
   "outputs": [],
   "source": [
    "sec_time['sec_log'] = sec_time['secs_elapsed'].apply(\n",
    "    np.log).replace(-np.inf, 0)\n",
    "# sec_time['sec_log'] = sec_time['sec_log'].replace()"
   ]
  },
  {
   "cell_type": "code",
   "execution_count": 50,
   "metadata": {
    "execution": {
     "iopub.execute_input": "2020-08-03T05:15:20.164372Z",
     "iopub.status.busy": "2020-08-03T05:15:20.163375Z",
     "iopub.status.idle": "2020-08-03T05:15:20.174347Z",
     "shell.execute_reply": "2020-08-03T05:15:20.174347Z",
     "shell.execute_reply.started": "2020-08-03T05:15:20.164372Z"
    }
   },
   "outputs": [
    {
     "data": {
      "text/plain": [
       "count    73815.000000\n",
       "mean        13.001341\n",
       "std          2.643242\n",
       "min          0.000000\n",
       "25%         12.456522\n",
       "50%         13.679533\n",
       "75%         14.530168\n",
       "max         17.458905\n",
       "Name: sec_log, dtype: float64"
      ]
     },
     "execution_count": 50,
     "metadata": {},
     "output_type": "execute_result"
    }
   ],
   "source": [
    "sec_time['sec_log'].describe()"
   ]
  },
  {
   "cell_type": "code",
   "execution_count": 51,
   "metadata": {
    "execution": {
     "iopub.execute_input": "2020-08-03T05:15:20.175343Z",
     "iopub.status.busy": "2020-08-03T05:15:20.175343Z",
     "iopub.status.idle": "2020-08-03T05:15:20.190342Z",
     "shell.execute_reply": "2020-08-03T05:15:20.190342Z",
     "shell.execute_reply.started": "2020-08-03T05:15:20.175343Z"
    }
   },
   "outputs": [],
   "source": [
    "booked = sec_time.query('book == 1')\n",
    "dropped = sec_time.query('book == 0')"
   ]
  },
  {
   "cell_type": "code",
   "execution_count": 52,
   "metadata": {
    "execution": {
     "iopub.execute_input": "2020-08-03T05:15:20.191299Z",
     "iopub.status.busy": "2020-08-03T05:15:20.191299Z",
     "iopub.status.idle": "2020-08-03T05:15:20.354891Z",
     "shell.execute_reply": "2020-08-03T05:15:20.354891Z",
     "shell.execute_reply.started": "2020-08-03T05:15:20.191299Z"
    }
   },
   "outputs": [
    {
     "data": {
      "image/png": "[encoded data removed]",
      "text/plain": [
       "<Figure size 576x576 with 1 Axes>"
      ]
     },
     "metadata": {
      "needs_background": "light"
     },
     "output_type": "display_data"
    }
   ],
   "source": [
    "plt.figure(figsize=(8, 8))\n",
    "sns.distplot(booked['sec_log'], label='booked', hist=False)\n",
    "sns.distplot(dropped['sec_log'], label='no_book', hist=False)\n",
    "plt.legend(loc='best')\n",
    "plt.show()"
   ]
  },
  {
   "cell_type": "markdown",
   "metadata": {},
   "source": [
    "**Observation**: Overall, longer section time will more likely to result in booking. Unfortunately, there isn't a clear cut on the time range since there are enough long sections that do not result in booking, which could represent user browsing during destination research."
   ]
  },
  {
   "cell_type": "code",
   "execution_count": 53,
   "metadata": {
    "execution": {
     "iopub.execute_input": "2020-08-03T05:15:20.355860Z",
     "iopub.status.busy": "2020-08-03T05:15:20.355860Z",
     "iopub.status.idle": "2020-08-03T05:15:20.366857Z",
     "shell.execute_reply": "2020-08-03T05:15:20.366857Z",
     "shell.execute_reply.started": "2020-08-03T05:15:20.355860Z"
    }
   },
   "outputs": [
    {
     "data": {
      "text/html": [
       "<div>\n",
       "<style scoped>\n",
       "    .dataframe tbody tr th:only-of-type {\n",
       "        vertical-align: middle;\n",
       "    }\n",
       "\n",
       "    .dataframe tbody tr th {\n",
       "        vertical-align: top;\n",
       "    }\n",
       "\n",
       "    .dataframe thead th {\n",
       "        text-align: right;\n",
       "    }\n",
       "</style>\n",
       "<table border=\"1\" class=\"dataframe\">\n",
       "  <thead>\n",
       "    <tr style=\"text-align: right;\">\n",
       "      <th></th>\n",
       "      <th>user_id</th>\n",
       "      <th>action</th>\n",
       "      <th>action_type</th>\n",
       "      <th>action_detail</th>\n",
       "      <th>device_type</th>\n",
       "      <th>secs_elapsed</th>\n",
       "      <th>id</th>\n",
       "      <th>book</th>\n",
       "    </tr>\n",
       "  </thead>\n",
       "  <tbody>\n",
       "    <tr>\n",
       "      <th>0</th>\n",
       "      <td>d1mm9tcy42</td>\n",
       "      <td>lookup</td>\n",
       "      <td>NaN</td>\n",
       "      <td>NaN</td>\n",
       "      <td>Windows Desktop</td>\n",
       "      <td>319.0</td>\n",
       "      <td>d1mm9tcy42</td>\n",
       "      <td>1</td>\n",
       "    </tr>\n",
       "    <tr>\n",
       "      <th>1</th>\n",
       "      <td>d1mm9tcy42</td>\n",
       "      <td>search_results</td>\n",
       "      <td>click</td>\n",
       "      <td>view_search_results</td>\n",
       "      <td>Windows Desktop</td>\n",
       "      <td>67753.0</td>\n",
       "      <td>d1mm9tcy42</td>\n",
       "      <td>1</td>\n",
       "    </tr>\n",
       "    <tr>\n",
       "      <th>2</th>\n",
       "      <td>d1mm9tcy42</td>\n",
       "      <td>lookup</td>\n",
       "      <td>NaN</td>\n",
       "      <td>NaN</td>\n",
       "      <td>Windows Desktop</td>\n",
       "      <td>301.0</td>\n",
       "      <td>d1mm9tcy42</td>\n",
       "      <td>1</td>\n",
       "    </tr>\n",
       "    <tr>\n",
       "      <th>3</th>\n",
       "      <td>d1mm9tcy42</td>\n",
       "      <td>search_results</td>\n",
       "      <td>click</td>\n",
       "      <td>view_search_results</td>\n",
       "      <td>Windows Desktop</td>\n",
       "      <td>22141.0</td>\n",
       "      <td>d1mm9tcy42</td>\n",
       "      <td>1</td>\n",
       "    </tr>\n",
       "    <tr>\n",
       "      <th>4</th>\n",
       "      <td>d1mm9tcy42</td>\n",
       "      <td>lookup</td>\n",
       "      <td>NaN</td>\n",
       "      <td>NaN</td>\n",
       "      <td>Windows Desktop</td>\n",
       "      <td>435.0</td>\n",
       "      <td>d1mm9tcy42</td>\n",
       "      <td>1</td>\n",
       "    </tr>\n",
       "  </tbody>\n",
       "</table>\n",
       "</div>"
      ],
      "text/plain": [
       "      user_id          action action_type        action_detail  \\\n",
       "0  d1mm9tcy42          lookup         NaN                  NaN   \n",
       "1  d1mm9tcy42  search_results       click  view_search_results   \n",
       "2  d1mm9tcy42          lookup         NaN                  NaN   \n",
       "3  d1mm9tcy42  search_results       click  view_search_results   \n",
       "4  d1mm9tcy42          lookup         NaN                  NaN   \n",
       "\n",
       "       device_type  secs_elapsed          id  book  \n",
       "0  Windows Desktop         319.0  d1mm9tcy42     1  \n",
       "1  Windows Desktop       67753.0  d1mm9tcy42     1  \n",
       "2  Windows Desktop         301.0  d1mm9tcy42     1  \n",
       "3  Windows Desktop       22141.0  d1mm9tcy42     1  \n",
       "4  Windows Desktop         435.0  d1mm9tcy42     1  "
      ]
     },
     "execution_count": 53,
     "metadata": {},
     "output_type": "execute_result"
    }
   ],
   "source": [
    "session_bk.head()"
   ]
  },
  {
   "cell_type": "markdown",
   "metadata": {},
   "source": [
    "### Last action\n",
    "\n",
    "We will assume here that the order of the action item within the session dataset is sequential, in which the last row by each user_id is the last action performed by the users before users book or drop from the session. We will create a dataframe to capture that."
   ]
  },
  {
   "cell_type": "code",
   "execution_count": 54,
   "metadata": {
    "execution": {
     "iopub.execute_input": "2020-08-03T05:15:20.367829Z",
     "iopub.status.busy": "2020-08-03T05:15:20.367829Z",
     "iopub.status.idle": "2020-08-03T05:15:21.017596Z",
     "shell.execute_reply": "2020-08-03T05:15:21.017596Z",
     "shell.execute_reply.started": "2020-08-03T05:15:20.367829Z"
    }
   },
   "outputs": [],
   "source": [
    "last_action = session_bk.groupby(['user_id']).tail(1)"
   ]
  },
  {
   "cell_type": "code",
   "execution_count": 55,
   "metadata": {
    "execution": {
     "iopub.execute_input": "2020-08-03T05:15:21.018594Z",
     "iopub.status.busy": "2020-08-03T05:15:21.018594Z",
     "iopub.status.idle": "2020-08-03T05:15:21.195123Z",
     "shell.execute_reply": "2020-08-03T05:15:21.195123Z",
     "shell.execute_reply.started": "2020-08-03T05:15:21.018594Z"
    }
   },
   "outputs": [
    {
     "data": {
      "image/png": "[encoded data removed]",
      "text/plain": [
       "<Figure size 720x360 with 1 Axes>"
      ]
     },
     "metadata": {
      "needs_background": "light"
     },
     "output_type": "display_data"
    }
   ],
   "source": [
    "plt.figure(figsize=(10, 5))\n",
    "sns.countplot(x='action_type', hue='book', data=last_action)\n",
    "plt.title('booking frequency by action type')\n",
    "plt.xticks(rotation=90)\n",
    "plt.show()"
   ]
  },
  {
   "cell_type": "markdown",
   "metadata": {},
   "source": [
    "Each type of the action has different booking rate, we will treat that as an feature.\n",
    "\n",
    "It turns out there are a lot of categorical among action detail and action, and make it difficult to assess through visualization. We will apply chi-squared test to all variables that cannot be assessed visually."
   ]
  },
  {
   "cell_type": "markdown",
   "metadata": {},
   "source": [
    "## Statistical Test"
   ]
  },
  {
   "cell_type": "markdown",
   "metadata": {},
   "source": [
    "**Null (H0)**: variables being tested do not affect booking rate\n",
    "<br>\n",
    "**Alternate (H1)**: variables being tested affect booking rate"
   ]
  },
  {
   "cell_type": "code",
   "execution_count": 56,
   "metadata": {
    "execution": {
     "iopub.execute_input": "2020-08-03T05:15:21.196120Z",
     "iopub.status.busy": "2020-08-03T05:15:21.196120Z",
     "iopub.status.idle": "2020-08-03T05:15:21.199112Z",
     "shell.execute_reply": "2020-08-03T05:15:21.199112Z",
     "shell.execute_reply.started": "2020-08-03T05:15:21.196120Z"
    }
   },
   "outputs": [],
   "source": [
    "from scipy.stats import chi2, chi2_contingency"
   ]
  },
  {
   "cell_type": "code",
   "execution_count": 57,
   "metadata": {
    "execution": {
     "iopub.execute_input": "2020-08-03T05:15:21.200110Z",
     "iopub.status.busy": "2020-08-03T05:15:21.200110Z",
     "iopub.status.idle": "2020-08-03T05:15:21.213074Z",
     "shell.execute_reply": "2020-08-03T05:15:21.213074Z",
     "shell.execute_reply.started": "2020-08-03T05:15:21.200110Z"
    }
   },
   "outputs": [],
   "source": [
    "def chi_square(var, df):\n",
    "    table = pd.crosstab(df[var], df['book'], margins=True)\n",
    "    stat, p, dof, expected = chi2_contingency(table[[0, 1]])\n",
    "    print('chi_statistic: {:.3f}'.format(stat))\n",
    "    print('p-value: {:.2f}'.format(p))\n",
    "    print('degree of freedom: {:.0f}'.format(dof))\n",
    "#     print('expected freq: \\n {}'.format(pd.DataFrame(expected, index=table.index)))"
   ]
  },
  {
   "cell_type": "code",
   "execution_count": 58,
   "metadata": {
    "execution": {
     "iopub.execute_input": "2020-08-03T05:15:21.214071Z",
     "iopub.status.busy": "2020-08-03T05:15:21.214071Z",
     "iopub.status.idle": "2020-08-03T05:15:21.345192Z",
     "shell.execute_reply": "2020-08-03T05:15:21.345192Z",
     "shell.execute_reply.started": "2020-08-03T05:15:21.214071Z"
    }
   },
   "outputs": [
    {
     "name": "stdout",
     "output_type": "stream",
     "text": [
      "chi_statistic: 595.192\n",
      "p-value: 0.00\n",
      "degree of freedom: 7\n"
     ]
    }
   ],
   "source": [
    "chi_square('provider', train)"
   ]
  },
  {
   "cell_type": "code",
   "execution_count": 59,
   "metadata": {
    "execution": {
     "iopub.execute_input": "2020-08-03T05:15:21.346155Z",
     "iopub.status.busy": "2020-08-03T05:15:21.346155Z",
     "iopub.status.idle": "2020-08-03T05:15:21.475013Z",
     "shell.execute_reply": "2020-08-03T05:15:21.474017Z",
     "shell.execute_reply.started": "2020-08-03T05:15:21.346155Z"
    }
   },
   "outputs": [
    {
     "name": "stdout",
     "output_type": "stream",
     "text": [
      "chi_statistic: 1755.865\n",
      "p-value: 0.00\n",
      "degree of freedom: 8\n"
     ]
    }
   ],
   "source": [
    "chi_square('affiliate_channel', train)"
   ]
  },
  {
   "cell_type": "code",
   "execution_count": 60,
   "metadata": {
    "execution": {
     "iopub.execute_input": "2020-08-03T05:15:21.476012Z",
     "iopub.status.busy": "2020-08-03T05:15:21.476012Z",
     "iopub.status.idle": "2020-08-03T05:15:21.613667Z",
     "shell.execute_reply": "2020-08-03T05:15:21.613667Z",
     "shell.execute_reply.started": "2020-08-03T05:15:21.476012Z"
    }
   },
   "outputs": [
    {
     "name": "stdout",
     "output_type": "stream",
     "text": [
      "chi_statistic: 2558.628\n",
      "p-value: 0.00\n",
      "degree of freedom: 4\n"
     ]
    }
   ],
   "source": [
    "chi_square('signup_app', train)"
   ]
  },
  {
   "cell_type": "code",
   "execution_count": 61,
   "metadata": {
    "execution": {
     "iopub.execute_input": "2020-08-03T05:15:21.615636Z",
     "iopub.status.busy": "2020-08-03T05:15:21.614637Z",
     "iopub.status.idle": "2020-08-03T05:15:21.742298Z",
     "shell.execute_reply": "2020-08-03T05:15:21.742298Z",
     "shell.execute_reply.started": "2020-08-03T05:15:21.615636Z"
    }
   },
   "outputs": [
    {
     "name": "stdout",
     "output_type": "stream",
     "text": [
      "chi_statistic: 275.864\n",
      "p-value: 0.00\n",
      "degree of freedom: 3\n"
     ]
    }
   ],
   "source": [
    "chi_square('signup_method', train)"
   ]
  },
  {
   "cell_type": "code",
   "execution_count": 62,
   "metadata": {
    "execution": {
     "iopub.execute_input": "2020-08-03T05:15:21.743294Z",
     "iopub.status.busy": "2020-08-03T05:15:21.743294Z",
     "iopub.status.idle": "2020-08-03T05:15:21.841069Z",
     "shell.execute_reply": "2020-08-03T05:15:21.841069Z",
     "shell.execute_reply.started": "2020-08-03T05:15:21.743294Z"
    }
   },
   "outputs": [
    {
     "name": "stdout",
     "output_type": "stream",
     "text": [
      "chi_statistic: 3942.275\n",
      "p-value: 0.00\n",
      "degree of freedom: 4\n"
     ]
    }
   ],
   "source": [
    "chi_square('flow_cat', train)"
   ]
  },
  {
   "cell_type": "code",
   "execution_count": 68,
   "metadata": {
    "execution": {
     "iopub.execute_input": "2020-08-03T05:15:45.922870Z",
     "iopub.status.busy": "2020-08-03T05:15:45.922870Z",
     "iopub.status.idle": "2020-08-03T05:15:45.975762Z",
     "shell.execute_reply": "2020-08-03T05:15:45.975762Z",
     "shell.execute_reply.started": "2020-08-03T05:15:45.922870Z"
    }
   },
   "outputs": [
    {
     "name": "stdout",
     "output_type": "stream",
     "text": [
      "chi_statistic: 566.097\n",
      "p-value: 0.00\n",
      "degree of freedom: 8\n"
     ]
    }
   ],
   "source": [
    "chi_square('action_type', last_action)"
   ]
  },
  {
   "cell_type": "markdown",
   "metadata": {},
   "source": [
    "### Predictive Power Score\n",
    "\n",
    "It is another way to look at how predictive the categorical variables are to the target and to other variables"
   ]
  },
  {
   "cell_type": "code",
   "execution_count": 63,
   "metadata": {
    "execution": {
     "iopub.execute_input": "2020-08-03T05:15:21.843028Z",
     "iopub.status.busy": "2020-08-03T05:15:21.842031Z",
     "iopub.status.idle": "2020-08-03T05:15:21.846059Z",
     "shell.execute_reply": "2020-08-03T05:15:21.846059Z",
     "shell.execute_reply.started": "2020-08-03T05:15:21.843028Z"
    }
   },
   "outputs": [],
   "source": [
    "keep_col = ['country_destination', 'age_gp', 'lang', 'browser', 'flow_cat', \n",
    "            'provider', 'affiliate_channel', 'signup_method', 'signup_app']"
   ]
  },
  {
   "cell_type": "code",
   "execution_count": 64,
   "metadata": {
    "execution": {
     "iopub.execute_input": "2020-08-03T05:15:21.847018Z",
     "iopub.status.busy": "2020-08-03T05:15:21.847018Z",
     "iopub.status.idle": "2020-08-03T05:15:21.870987Z",
     "shell.execute_reply": "2020-08-03T05:15:21.870987Z",
     "shell.execute_reply.started": "2020-08-03T05:15:21.847018Z"
    }
   },
   "outputs": [],
   "source": [
    "pps_df = train[keep_col]"
   ]
  },
  {
   "cell_type": "code",
   "execution_count": 65,
   "metadata": {
    "execution": {
     "iopub.execute_input": "2020-08-03T05:15:21.872947Z",
     "iopub.status.busy": "2020-08-03T05:15:21.871951Z",
     "iopub.status.idle": "2020-08-03T05:15:26.148711Z",
     "shell.execute_reply": "2020-08-03T05:15:26.148119Z",
     "shell.execute_reply.started": "2020-08-03T05:15:21.872947Z"
    }
   },
   "outputs": [],
   "source": [
    "matrix = pps.matrix(pps_df, output='df')"
   ]
  },
  {
   "cell_type": "code",
   "execution_count": 66,
   "metadata": {
    "execution": {
     "iopub.execute_input": "2020-08-03T05:15:26.148711Z",
     "iopub.status.busy": "2020-08-03T05:15:26.148711Z",
     "iopub.status.idle": "2020-08-03T05:15:26.153729Z",
     "shell.execute_reply": "2020-08-03T05:15:26.153729Z",
     "shell.execute_reply.started": "2020-08-03T05:15:26.148711Z"
    }
   },
   "outputs": [],
   "source": [
    "def heatmap(df):\n",
    "    df = df[['x', 'y', 'ppscore']].pivot(\n",
    "        columns='x', index='y', values='ppscore')\n",
    "    ax = sns.heatmap(df, vmin=0, vmax=1, cmap=\"Blues\",\n",
    "                     linewidths=0.5, annot=True)\n",
    "    ax.set_title(\"PPS matrix\")\n",
    "    ax.set_xlabel(\"feature\")\n",
    "    ax.set_ylabel(\"target\")\n",
    "    return ax"
   ]
  },
  {
   "cell_type": "code",
   "execution_count": 69,
   "metadata": {
    "execution": {
     "iopub.execute_input": "2020-08-03T05:16:33.542170Z",
     "iopub.status.busy": "2020-08-03T05:16:33.542170Z",
     "iopub.status.idle": "2020-08-03T05:16:33.874743Z",
     "shell.execute_reply": "2020-08-03T05:16:33.874743Z",
     "shell.execute_reply.started": "2020-08-03T05:16:33.542170Z"
    }
   },
   "outputs": [
    {
     "data": {
      "image/png": "[encoded data removed]",
      "text/plain": [
       "<Figure size 576x576 with 2 Axes>"
      ]
     },
     "metadata": {
      "needs_background": "light"
     },
     "output_type": "display_data"
    }
   ],
   "source": [
    "plt.figure(figsize=(8,8))\n",
    "heatmap(matrix)\n",
    "plt.show()"
   ]
  },
  {
   "cell_type": "markdown",
   "metadata": {},
   "source": [
    "We see that affiliate_channel has high predictive power for provider, so by keeping affiliate_channel may already capture the predictive power of provider. We will drop provider from the feature set."
   ]
  },
  {
   "cell_type": "markdown",
   "metadata": {},
   "source": [
    "## Destination\n",
    "\n",
    "Above assessment focus on whether a booking will occur. The final target variable is destination which is the second part of the prediction model. We will repeat the assessment with a handful of selected features under to understand feature dependences."
   ]
  },
  {
   "cell_type": "code",
   "execution_count": 75,
   "metadata": {
    "execution": {
     "iopub.execute_input": "2020-07-30T01:30:39.992267Z",
     "iopub.status.busy": "2020-07-30T01:30:39.991295Z",
     "iopub.status.idle": "2020-07-30T01:30:40.031192Z",
     "shell.execute_reply": "2020-07-30T01:30:40.031192Z",
     "shell.execute_reply.started": "2020-07-30T01:30:39.992267Z"
    }
   },
   "outputs": [
    {
     "data": {
      "text/plain": [
       "NDF    124543\n",
       "Name: country_destination, dtype: int64"
      ]
     },
     "execution_count": 75,
     "metadata": {},
     "output_type": "execute_result"
    }
   ],
   "source": [
    "# check to ensure that all missing first book are under NDF\n",
    "train[train['date_first_booking'].isna()]['country_destination'].value_counts()"
   ]
  },
  {
   "cell_type": "code",
   "execution_count": 131,
   "metadata": {},
   "outputs": [
    {
     "data": {
      "text/plain": [
       "NDF      124543\n",
       "US        62376\n",
       "other     10094\n",
       "FR         5023\n",
       "IT         2835\n",
       "GB         2324\n",
       "ES         2249\n",
       "CA         1428\n",
       "DE         1061\n",
       "NL          762\n",
       "AU          539\n",
       "PT          217\n",
       "Name: country_destination, dtype: int64"
      ]
     },
     "execution_count": 131,
     "metadata": {},
     "output_type": "execute_result"
    }
   ],
   "source": [
    "train['country_destination'].value_counts()"
   ]
  },
  {
   "cell_type": "markdown",
   "metadata": {},
   "source": [
    "In general, ~50% of the activities won't lead to a booking. US is still the most visited destination, followed by France."
   ]
  },
  {
   "cell_type": "code",
   "execution_count": 94,
   "metadata": {
    "execution": {
     "iopub.execute_input": "2020-07-30T01:46:53.574224Z",
     "iopub.status.busy": "2020-07-30T01:46:53.574224Z",
     "iopub.status.idle": "2020-07-30T01:46:53.596191Z",
     "shell.execute_reply": "2020-07-30T01:46:53.595198Z",
     "shell.execute_reply.started": "2020-07-30T01:46:53.574224Z"
    }
   },
   "outputs": [],
   "source": [
    "dest = train.loc[~train['date_first_booking'].isna()]"
   ]
  },
  {
   "cell_type": "code",
   "execution_count": 103,
   "metadata": {
    "execution": {
     "iopub.execute_input": "2020-07-30T02:23:30.800526Z",
     "iopub.status.busy": "2020-07-30T02:23:30.799528Z",
     "iopub.status.idle": "2020-07-30T02:23:30.804542Z",
     "shell.execute_reply": "2020-07-30T02:23:30.804542Z",
     "shell.execute_reply.started": "2020-07-30T02:23:30.800526Z"
    }
   },
   "outputs": [],
   "source": [
    "def table_plot(var, df):\n",
    "    plot_df = df.groupby([var, 'country_destination']).size().reset_index()\n",
    "    plot_pivot = plot_df.pivot(\n",
    "        columns='country_destination', index=var, values=0)\n",
    "    stack_bar = plot_pivot.fillna(0).apply(lambda x: x*100/sum(x), axis=1)\n",
    "    return stack_bar"
   ]
  },
  {
   "cell_type": "markdown",
   "metadata": {},
   "source": [
    "### Browser"
   ]
  },
  {
   "cell_type": "code",
   "execution_count": 104,
   "metadata": {
    "execution": {
     "iopub.execute_input": "2020-07-30T02:23:36.868105Z",
     "iopub.status.busy": "2020-07-30T02:23:36.868105Z",
     "iopub.status.idle": "2020-07-30T02:23:37.056628Z",
     "shell.execute_reply": "2020-07-30T02:23:37.056628Z",
     "shell.execute_reply.started": "2020-07-30T02:23:36.868105Z"
    }
   },
   "outputs": [
    {
     "data": {
      "image/png": "[encoded data removed]",
      "text/plain": [
       "<Figure size 576x360 with 1 Axes>"
      ]
     },
     "metadata": {
      "needs_background": "light"
     },
     "output_type": "display_data"
    }
   ],
   "source": [
    "browser = table_plot('browser', dest)\n",
    "browser.plot(kind='bar', stacked=True, figsize=(8, 5))\n",
    "plt.title('destination % by browser')\n",
    "plt.legend(loc='center')\n",
    "plt.show()"
   ]
  },
  {
   "cell_type": "markdown",
   "metadata": {},
   "source": [
    "Users who use major browsers such as chrome, firefox, and safari have the same likelihood to book a trip with in US. Other/unknown has even more higher percentage."
   ]
  },
  {
   "cell_type": "markdown",
   "metadata": {},
   "source": [
    "### Age Group"
   ]
  },
  {
   "cell_type": "code",
   "execution_count": 105,
   "metadata": {
    "execution": {
     "iopub.execute_input": "2020-07-30T02:23:44.431413Z",
     "iopub.status.busy": "2020-07-30T02:23:44.430391Z",
     "iopub.status.idle": "2020-07-30T02:23:44.988465Z",
     "shell.execute_reply": "2020-07-30T02:23:44.988465Z",
     "shell.execute_reply.started": "2020-07-30T02:23:44.431413Z"
    }
   },
   "outputs": [
    {
     "data": {
      "image/png": "[encoded data removed]",
      "text/plain": [
       "<Figure size 1080x360 with 1 Axes>"
      ]
     },
     "metadata": {
      "needs_background": "light"
     },
     "output_type": "display_data"
    }
   ],
   "source": [
    "age_gp = table_plot('age_gp', dest)\n",
    "age_gp.plot(kind='bar', stacked=True, figsize=(15, 5))\n",
    "plt.title('destination % by age group')\n",
    "plt.legend(loc='best')\n",
    "plt.show()"
   ]
  },
  {
   "cell_type": "markdown",
   "metadata": {
    "execution": {
     "iopub.execute_input": "2020-07-29T18:10:14.064498Z",
     "iopub.status.busy": "2020-07-29T18:10:14.063500Z",
     "iopub.status.idle": "2020-07-29T18:10:14.092423Z",
     "shell.execute_reply": "2020-07-29T18:10:14.092423Z",
     "shell.execute_reply.started": "2020-07-29T18:10:14.063500Z"
    }
   },
   "source": [
    "10-14 age group has US only as the destination. Age 80-84 and 90-99 groups have fewer destination variations than others."
   ]
  },
  {
   "cell_type": "markdown",
   "metadata": {},
   "source": [
    "### Language"
   ]
  },
  {
   "cell_type": "code",
   "execution_count": 107,
   "metadata": {
    "execution": {
     "iopub.execute_input": "2020-07-30T02:24:05.264435Z",
     "iopub.status.busy": "2020-07-30T02:24:05.263438Z",
     "iopub.status.idle": "2020-07-30T02:24:05.495325Z",
     "shell.execute_reply": "2020-07-30T02:24:05.495325Z",
     "shell.execute_reply.started": "2020-07-30T02:24:05.264435Z"
    }
   },
   "outputs": [
    {
     "data": {
      "image/png": "[encoded data removed]",
      "text/plain": [
       "<Figure size 1080x360 with 2 Axes>"
      ]
     },
     "metadata": {
      "needs_background": "light"
     },
     "output_type": "display_data"
    }
   ],
   "source": [
    "lang = table_plot('lang', dest)\n",
    "plt.figure(figsize=(15, 5))\n",
    "sns.heatmap(lang.transpose(), cmap='coolwarm', annot=True)\n",
    "plt.title('% to destination country by language')\n",
    "plt.show()"
   ]
  },
  {
   "cell_type": "markdown",
   "metadata": {},
   "source": [
    "Despite highly imbalance data, eng platform still have the highest probability of booking a destination (mostly within US). European languages platform show slightly higher booking to France. "
   ]
  },
  {
   "cell_type": "markdown",
   "metadata": {},
   "source": [
    "### Summary:\n",
    "\n",
    "- Almost all variables being tested had some influence on the booking rate.\n",
    "- We make the decision here to drop signup method given there only few class in this category, and impact could have captured under affiliate channel. We will also drop affiliate provider due to potential high collinearity to affiliate channel.\n",
    "- We won't use the elapsed time feature since the distribution between booking and no booking has significant overlap.\n",
    "- the combination of action, action type, and action detail will likely to have more predictive power to booking, which we leverage machine learning algorithms to test.\n",
    "- new features created are age group, language group, and higher level browser category.\n",
    "- for session dataset, we will focus on last action in the user's browsing sequence."
   ]
  },
  {
   "cell_type": "code",
   "execution_count": null,
   "metadata": {},
   "outputs": [],
   "source": []
  }
 ],
 "metadata": {
  "kernelspec": {
   "display_name": "Python 3",
   "language": "python",
   "name": "python3"
  },
  "language_info": {
   "codemirror_mode": {
    "name": "ipython",
    "version": 3
   },
   "file_extension": ".py",
   "mimetype": "text/x-python",
   "name": "python",
   "nbconvert_exporter": "python",
   "pygments_lexer": "ipython3",
   "version": "3.7.1"
  }
 },
 "nbformat": 4,
 "nbformat_minor": 4
}
