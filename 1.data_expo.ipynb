{
 "cells": [
  {
   "cell_type": "markdown",
   "metadata": {},
   "source": [
    "## Data Wrangling"
   ]
  },
  {
   "cell_type": "code",
   "execution_count": 1,
   "metadata": {
    "execution": {
     "iopub.execute_input": "2020-07-30T00:55:17.538179Z",
     "iopub.status.busy": "2020-07-30T00:55:17.538179Z",
     "iopub.status.idle": "2020-07-30T00:55:18.389889Z",
     "shell.execute_reply": "2020-07-30T00:55:18.389889Z",
     "shell.execute_reply.started": "2020-07-30T00:55:17.538179Z"
    }
   },
   "outputs": [
    {
     "name": "stderr",
     "output_type": "stream",
     "text": [
      "C:\\Users\\sit_k\\AppData\\Local\\Continuum\\anaconda3\\lib\\site-packages\\statsmodels\\tools\\_testing.py:19: FutureWarning: pandas.util.testing is deprecated. Use the functions in the public API at pandas.testing instead.\n",
      "  import pandas.util.testing as tm\n"
     ]
    }
   ],
   "source": [
    "import datetime as dt\n",
    "\n",
    "import matplotlib.pyplot as plt\n",
    "import matplotlib.ticker as ticker\n",
    "import missingno as msno\n",
    "import numpy as np\n",
    "import pandas as pd\n",
    "import seaborn as sns\n",
    "\n",
    "plt.style.use('ggplot')\n",
    "%matplotlib inline"
   ]
  },
  {
   "cell_type": "code",
   "execution_count": 2,
   "metadata": {
    "execution": {
     "iopub.execute_input": "2020-07-30T00:55:18.390854Z",
     "iopub.status.busy": "2020-07-30T00:55:18.390854Z",
     "iopub.status.idle": "2020-07-30T00:55:24.676569Z",
     "shell.execute_reply": "2020-07-30T00:55:24.676569Z",
     "shell.execute_reply.started": "2020-07-30T00:55:18.390854Z"
    }
   },
   "outputs": [],
   "source": [
    "gender = pd.read_csv('./data/age_gender_bkts.csv')\n",
    "train = pd.read_csv('./data/train_users_2.csv')\n",
    "test = pd.read_csv('./data/test_users.csv')\n",
    "country = pd.read_csv('./data/countries.csv')\n",
    "session = pd.read_csv('./data/sessions.csv')\n",
    "age_gender = pd.read_csv('./data/age_gender_bkts.csv')"
   ]
  },
  {
   "cell_type": "code",
   "execution_count": 3,
   "metadata": {
    "execution": {
     "iopub.execute_input": "2020-07-30T00:55:24.677567Z",
     "iopub.status.busy": "2020-07-30T00:55:24.677567Z",
     "iopub.status.idle": "2020-07-30T00:55:24.692982Z",
     "shell.execute_reply": "2020-07-30T00:55:24.692982Z",
     "shell.execute_reply.started": "2020-07-30T00:55:24.677567Z"
    }
   },
   "outputs": [
    {
     "name": "stdout",
     "output_type": "stream",
     "text": [
      "(420, 5)\n",
      "<class 'pandas.core.frame.DataFrame'>\n",
      "RangeIndex: 420 entries, 0 to 419\n",
      "Data columns (total 5 columns):\n",
      " #   Column                   Non-Null Count  Dtype  \n",
      "---  ------                   --------------  -----  \n",
      " 0   age_bucket               420 non-null    object \n",
      " 1   country_destination      420 non-null    object \n",
      " 2   gender                   420 non-null    object \n",
      " 3   population_in_thousands  420 non-null    float64\n",
      " 4   year                     420 non-null    float64\n",
      "dtypes: float64(2), object(3)\n",
      "memory usage: 16.5+ KB\n",
      "None\n"
     ]
    },
    {
     "data": {
      "text/html": [
       "<div>\n",
       "<style scoped>\n",
       "    .dataframe tbody tr th:only-of-type {\n",
       "        vertical-align: middle;\n",
       "    }\n",
       "\n",
       "    .dataframe tbody tr th {\n",
       "        vertical-align: top;\n",
       "    }\n",
       "\n",
       "    .dataframe thead th {\n",
       "        text-align: right;\n",
       "    }\n",
       "</style>\n",
       "<table border=\"1\" class=\"dataframe\">\n",
       "  <thead>\n",
       "    <tr style=\"text-align: right;\">\n",
       "      <th></th>\n",
       "      <th>age_bucket</th>\n",
       "      <th>country_destination</th>\n",
       "      <th>gender</th>\n",
       "      <th>population_in_thousands</th>\n",
       "      <th>year</th>\n",
       "    </tr>\n",
       "  </thead>\n",
       "  <tbody>\n",
       "    <tr>\n",
       "      <th>415</th>\n",
       "      <td>95-99</td>\n",
       "      <td>US</td>\n",
       "      <td>male</td>\n",
       "      <td>115.0</td>\n",
       "      <td>2015.0</td>\n",
       "    </tr>\n",
       "    <tr>\n",
       "      <th>416</th>\n",
       "      <td>90-94</td>\n",
       "      <td>US</td>\n",
       "      <td>male</td>\n",
       "      <td>541.0</td>\n",
       "      <td>2015.0</td>\n",
       "    </tr>\n",
       "    <tr>\n",
       "      <th>417</th>\n",
       "      <td>15-19</td>\n",
       "      <td>US</td>\n",
       "      <td>female</td>\n",
       "      <td>10570.0</td>\n",
       "      <td>2015.0</td>\n",
       "    </tr>\n",
       "    <tr>\n",
       "      <th>418</th>\n",
       "      <td>85-89</td>\n",
       "      <td>US</td>\n",
       "      <td>male</td>\n",
       "      <td>1441.0</td>\n",
       "      <td>2015.0</td>\n",
       "    </tr>\n",
       "    <tr>\n",
       "      <th>419</th>\n",
       "      <td>80-84</td>\n",
       "      <td>US</td>\n",
       "      <td>male</td>\n",
       "      <td>2442.0</td>\n",
       "      <td>2015.0</td>\n",
       "    </tr>\n",
       "  </tbody>\n",
       "</table>\n",
       "</div>"
      ],
      "text/plain": [
       "    age_bucket country_destination  gender  population_in_thousands    year\n",
       "415      95-99                  US    male                    115.0  2015.0\n",
       "416      90-94                  US    male                    541.0  2015.0\n",
       "417      15-19                  US  female                  10570.0  2015.0\n",
       "418      85-89                  US    male                   1441.0  2015.0\n",
       "419      80-84                  US    male                   2442.0  2015.0"
      ]
     },
     "metadata": {},
     "output_type": "display_data"
    }
   ],
   "source": [
    "print(gender.shape)\n",
    "print(gender.info())\n",
    "display(gender.tail())"
   ]
  },
  {
   "cell_type": "code",
   "execution_count": 4,
   "metadata": {
    "execution": {
     "iopub.execute_input": "2020-07-30T00:55:24.693952Z",
     "iopub.status.busy": "2020-07-30T00:55:24.693952Z",
     "iopub.status.idle": "2020-07-30T00:55:24.700938Z",
     "shell.execute_reply": "2020-07-30T00:55:24.699942Z",
     "shell.execute_reply.started": "2020-07-30T00:55:24.693952Z"
    }
   },
   "outputs": [
    {
     "data": {
      "text/plain": [
       "array(['100+', '95-99', '90-94', '85-89', '80-84', '75-79', '70-74',\n",
       "       '65-69', '60-64', '55-59', '50-54', '45-49', '40-44', '35-39',\n",
       "       '30-34', '25-29', '20-24', '15-19', '10-14', '5-9', '0-4'],\n",
       "      dtype=object)"
      ]
     },
     "execution_count": 4,
     "metadata": {},
     "output_type": "execute_result"
    }
   ],
   "source": [
    "gender['age_bucket'].unique()"
   ]
  },
  {
   "cell_type": "code",
   "execution_count": 5,
   "metadata": {
    "execution": {
     "iopub.execute_input": "2020-07-30T00:55:24.701930Z",
     "iopub.status.busy": "2020-07-30T00:55:24.701930Z",
     "iopub.status.idle": "2020-07-30T00:55:24.714950Z",
     "shell.execute_reply": "2020-07-30T00:55:24.714950Z",
     "shell.execute_reply.started": "2020-07-30T00:55:24.701930Z"
    }
   },
   "outputs": [
    {
     "name": "stdout",
     "output_type": "stream",
     "text": [
      "(10, 7)\n",
      "<class 'pandas.core.frame.DataFrame'>\n",
      "RangeIndex: 10 entries, 0 to 9\n",
      "Data columns (total 7 columns):\n",
      " #   Column                         Non-Null Count  Dtype  \n",
      "---  ------                         --------------  -----  \n",
      " 0   country_destination            10 non-null     object \n",
      " 1   lat_destination                10 non-null     float64\n",
      " 2   lng_destination                10 non-null     float64\n",
      " 3   distance_km                    10 non-null     float64\n",
      " 4   destination_km2                10 non-null     float64\n",
      " 5   destination_language           10 non-null     object \n",
      " 6   language_levenshtein_distance  10 non-null     float64\n",
      "dtypes: float64(5), object(2)\n",
      "memory usage: 688.0+ bytes\n",
      "None\n"
     ]
    },
    {
     "data": {
      "text/html": [
       "<div>\n",
       "<style scoped>\n",
       "    .dataframe tbody tr th:only-of-type {\n",
       "        vertical-align: middle;\n",
       "    }\n",
       "\n",
       "    .dataframe tbody tr th {\n",
       "        vertical-align: top;\n",
       "    }\n",
       "\n",
       "    .dataframe thead th {\n",
       "        text-align: right;\n",
       "    }\n",
       "</style>\n",
       "<table border=\"1\" class=\"dataframe\">\n",
       "  <thead>\n",
       "    <tr style=\"text-align: right;\">\n",
       "      <th></th>\n",
       "      <th>country_destination</th>\n",
       "      <th>lat_destination</th>\n",
       "      <th>lng_destination</th>\n",
       "      <th>distance_km</th>\n",
       "      <th>destination_km2</th>\n",
       "      <th>destination_language</th>\n",
       "      <th>language_levenshtein_distance</th>\n",
       "    </tr>\n",
       "  </thead>\n",
       "  <tbody>\n",
       "    <tr>\n",
       "      <th>0</th>\n",
       "      <td>AU</td>\n",
       "      <td>-26.853388</td>\n",
       "      <td>133.275160</td>\n",
       "      <td>15297.7440</td>\n",
       "      <td>7741220.0</td>\n",
       "      <td>eng</td>\n",
       "      <td>0.00</td>\n",
       "    </tr>\n",
       "    <tr>\n",
       "      <th>1</th>\n",
       "      <td>CA</td>\n",
       "      <td>62.393303</td>\n",
       "      <td>-96.818146</td>\n",
       "      <td>2828.1333</td>\n",
       "      <td>9984670.0</td>\n",
       "      <td>eng</td>\n",
       "      <td>0.00</td>\n",
       "    </tr>\n",
       "    <tr>\n",
       "      <th>2</th>\n",
       "      <td>DE</td>\n",
       "      <td>51.165707</td>\n",
       "      <td>10.452764</td>\n",
       "      <td>7879.5680</td>\n",
       "      <td>357022.0</td>\n",
       "      <td>deu</td>\n",
       "      <td>72.61</td>\n",
       "    </tr>\n",
       "    <tr>\n",
       "      <th>3</th>\n",
       "      <td>ES</td>\n",
       "      <td>39.896027</td>\n",
       "      <td>-2.487694</td>\n",
       "      <td>7730.7240</td>\n",
       "      <td>505370.0</td>\n",
       "      <td>spa</td>\n",
       "      <td>92.25</td>\n",
       "    </tr>\n",
       "    <tr>\n",
       "      <th>4</th>\n",
       "      <td>FR</td>\n",
       "      <td>46.232193</td>\n",
       "      <td>2.209667</td>\n",
       "      <td>7682.9450</td>\n",
       "      <td>643801.0</td>\n",
       "      <td>fra</td>\n",
       "      <td>92.06</td>\n",
       "    </tr>\n",
       "    <tr>\n",
       "      <th>5</th>\n",
       "      <td>GB</td>\n",
       "      <td>54.633220</td>\n",
       "      <td>-3.432277</td>\n",
       "      <td>6883.6590</td>\n",
       "      <td>243610.0</td>\n",
       "      <td>eng</td>\n",
       "      <td>0.00</td>\n",
       "    </tr>\n",
       "    <tr>\n",
       "      <th>6</th>\n",
       "      <td>IT</td>\n",
       "      <td>41.873990</td>\n",
       "      <td>12.564167</td>\n",
       "      <td>8636.6310</td>\n",
       "      <td>301340.0</td>\n",
       "      <td>ita</td>\n",
       "      <td>89.40</td>\n",
       "    </tr>\n",
       "    <tr>\n",
       "      <th>7</th>\n",
       "      <td>NL</td>\n",
       "      <td>52.133057</td>\n",
       "      <td>5.295250</td>\n",
       "      <td>7524.3203</td>\n",
       "      <td>41543.0</td>\n",
       "      <td>nld</td>\n",
       "      <td>63.22</td>\n",
       "    </tr>\n",
       "    <tr>\n",
       "      <th>8</th>\n",
       "      <td>PT</td>\n",
       "      <td>39.553444</td>\n",
       "      <td>-7.839319</td>\n",
       "      <td>7355.2534</td>\n",
       "      <td>92090.0</td>\n",
       "      <td>por</td>\n",
       "      <td>95.45</td>\n",
       "    </tr>\n",
       "    <tr>\n",
       "      <th>9</th>\n",
       "      <td>US</td>\n",
       "      <td>36.966427</td>\n",
       "      <td>-95.844030</td>\n",
       "      <td>0.0000</td>\n",
       "      <td>9826675.0</td>\n",
       "      <td>eng</td>\n",
       "      <td>0.00</td>\n",
       "    </tr>\n",
       "  </tbody>\n",
       "</table>\n",
       "</div>"
      ],
      "text/plain": [
       "  country_destination  lat_destination  lng_destination  distance_km  \\\n",
       "0                  AU       -26.853388       133.275160   15297.7440   \n",
       "1                  CA        62.393303       -96.818146    2828.1333   \n",
       "2                  DE        51.165707        10.452764    7879.5680   \n",
       "3                  ES        39.896027        -2.487694    7730.7240   \n",
       "4                  FR        46.232193         2.209667    7682.9450   \n",
       "5                  GB        54.633220        -3.432277    6883.6590   \n",
       "6                  IT        41.873990        12.564167    8636.6310   \n",
       "7                  NL        52.133057         5.295250    7524.3203   \n",
       "8                  PT        39.553444        -7.839319    7355.2534   \n",
       "9                  US        36.966427       -95.844030       0.0000   \n",
       "\n",
       "   destination_km2 destination_language   language_levenshtein_distance  \n",
       "0        7741220.0                   eng                           0.00  \n",
       "1        9984670.0                   eng                           0.00  \n",
       "2         357022.0                   deu                          72.61  \n",
       "3         505370.0                   spa                          92.25  \n",
       "4         643801.0                   fra                          92.06  \n",
       "5         243610.0                   eng                           0.00  \n",
       "6         301340.0                   ita                          89.40  \n",
       "7          41543.0                   nld                          63.22  \n",
       "8          92090.0                   por                          95.45  \n",
       "9        9826675.0                   eng                           0.00  "
      ]
     },
     "metadata": {},
     "output_type": "display_data"
    }
   ],
   "source": [
    "print(country.shape)\n",
    "print(country.info())\n",
    "display(country)"
   ]
  },
  {
   "cell_type": "code",
   "execution_count": 6,
   "metadata": {
    "execution": {
     "iopub.execute_input": "2020-07-30T00:55:24.716892Z",
     "iopub.status.busy": "2020-07-30T00:55:24.715894Z",
     "iopub.status.idle": "2020-07-30T00:55:24.731864Z",
     "shell.execute_reply": "2020-07-30T00:55:24.731864Z",
     "shell.execute_reply.started": "2020-07-30T00:55:24.716892Z"
    }
   },
   "outputs": [
    {
     "name": "stdout",
     "output_type": "stream",
     "text": [
      "(420, 5)\n",
      "<class 'pandas.core.frame.DataFrame'>\n",
      "RangeIndex: 420 entries, 0 to 419\n",
      "Data columns (total 5 columns):\n",
      " #   Column                   Non-Null Count  Dtype  \n",
      "---  ------                   --------------  -----  \n",
      " 0   age_bucket               420 non-null    object \n",
      " 1   country_destination      420 non-null    object \n",
      " 2   gender                   420 non-null    object \n",
      " 3   population_in_thousands  420 non-null    float64\n",
      " 4   year                     420 non-null    float64\n",
      "dtypes: float64(2), object(3)\n",
      "memory usage: 16.5+ KB\n",
      "None\n"
     ]
    },
    {
     "data": {
      "text/html": [
       "<div>\n",
       "<style scoped>\n",
       "    .dataframe tbody tr th:only-of-type {\n",
       "        vertical-align: middle;\n",
       "    }\n",
       "\n",
       "    .dataframe tbody tr th {\n",
       "        vertical-align: top;\n",
       "    }\n",
       "\n",
       "    .dataframe thead th {\n",
       "        text-align: right;\n",
       "    }\n",
       "</style>\n",
       "<table border=\"1\" class=\"dataframe\">\n",
       "  <thead>\n",
       "    <tr style=\"text-align: right;\">\n",
       "      <th></th>\n",
       "      <th>age_bucket</th>\n",
       "      <th>country_destination</th>\n",
       "      <th>gender</th>\n",
       "      <th>population_in_thousands</th>\n",
       "      <th>year</th>\n",
       "    </tr>\n",
       "  </thead>\n",
       "  <tbody>\n",
       "    <tr>\n",
       "      <th>0</th>\n",
       "      <td>100+</td>\n",
       "      <td>AU</td>\n",
       "      <td>male</td>\n",
       "      <td>1.0</td>\n",
       "      <td>2015.0</td>\n",
       "    </tr>\n",
       "    <tr>\n",
       "      <th>1</th>\n",
       "      <td>95-99</td>\n",
       "      <td>AU</td>\n",
       "      <td>male</td>\n",
       "      <td>9.0</td>\n",
       "      <td>2015.0</td>\n",
       "    </tr>\n",
       "    <tr>\n",
       "      <th>2</th>\n",
       "      <td>90-94</td>\n",
       "      <td>AU</td>\n",
       "      <td>male</td>\n",
       "      <td>47.0</td>\n",
       "      <td>2015.0</td>\n",
       "    </tr>\n",
       "    <tr>\n",
       "      <th>3</th>\n",
       "      <td>85-89</td>\n",
       "      <td>AU</td>\n",
       "      <td>male</td>\n",
       "      <td>118.0</td>\n",
       "      <td>2015.0</td>\n",
       "    </tr>\n",
       "    <tr>\n",
       "      <th>4</th>\n",
       "      <td>80-84</td>\n",
       "      <td>AU</td>\n",
       "      <td>male</td>\n",
       "      <td>199.0</td>\n",
       "      <td>2015.0</td>\n",
       "    </tr>\n",
       "    <tr>\n",
       "      <th>...</th>\n",
       "      <td>...</td>\n",
       "      <td>...</td>\n",
       "      <td>...</td>\n",
       "      <td>...</td>\n",
       "      <td>...</td>\n",
       "    </tr>\n",
       "    <tr>\n",
       "      <th>415</th>\n",
       "      <td>95-99</td>\n",
       "      <td>US</td>\n",
       "      <td>male</td>\n",
       "      <td>115.0</td>\n",
       "      <td>2015.0</td>\n",
       "    </tr>\n",
       "    <tr>\n",
       "      <th>416</th>\n",
       "      <td>90-94</td>\n",
       "      <td>US</td>\n",
       "      <td>male</td>\n",
       "      <td>541.0</td>\n",
       "      <td>2015.0</td>\n",
       "    </tr>\n",
       "    <tr>\n",
       "      <th>417</th>\n",
       "      <td>15-19</td>\n",
       "      <td>US</td>\n",
       "      <td>female</td>\n",
       "      <td>10570.0</td>\n",
       "      <td>2015.0</td>\n",
       "    </tr>\n",
       "    <tr>\n",
       "      <th>418</th>\n",
       "      <td>85-89</td>\n",
       "      <td>US</td>\n",
       "      <td>male</td>\n",
       "      <td>1441.0</td>\n",
       "      <td>2015.0</td>\n",
       "    </tr>\n",
       "    <tr>\n",
       "      <th>419</th>\n",
       "      <td>80-84</td>\n",
       "      <td>US</td>\n",
       "      <td>male</td>\n",
       "      <td>2442.0</td>\n",
       "      <td>2015.0</td>\n",
       "    </tr>\n",
       "  </tbody>\n",
       "</table>\n",
       "<p>420 rows × 5 columns</p>\n",
       "</div>"
      ],
      "text/plain": [
       "    age_bucket country_destination  gender  population_in_thousands    year\n",
       "0         100+                  AU    male                      1.0  2015.0\n",
       "1        95-99                  AU    male                      9.0  2015.0\n",
       "2        90-94                  AU    male                     47.0  2015.0\n",
       "3        85-89                  AU    male                    118.0  2015.0\n",
       "4        80-84                  AU    male                    199.0  2015.0\n",
       "..         ...                 ...     ...                      ...     ...\n",
       "415      95-99                  US    male                    115.0  2015.0\n",
       "416      90-94                  US    male                    541.0  2015.0\n",
       "417      15-19                  US  female                  10570.0  2015.0\n",
       "418      85-89                  US    male                   1441.0  2015.0\n",
       "419      80-84                  US    male                   2442.0  2015.0\n",
       "\n",
       "[420 rows x 5 columns]"
      ]
     },
     "metadata": {},
     "output_type": "display_data"
    }
   ],
   "source": [
    "print(age_gender.shape)\n",
    "print(age_gender.info())\n",
    "display(age_gender)"
   ]
  },
  {
   "cell_type": "code",
   "execution_count": 7,
   "metadata": {
    "execution": {
     "iopub.execute_input": "2020-07-30T00:55:24.732848Z",
     "iopub.status.busy": "2020-07-30T00:55:24.732848Z",
     "iopub.status.idle": "2020-07-30T00:55:24.738832Z",
     "shell.execute_reply": "2020-07-30T00:55:24.738832Z",
     "shell.execute_reply.started": "2020-07-30T00:55:24.732848Z"
    }
   },
   "outputs": [
    {
     "name": "stdout",
     "output_type": "stream",
     "text": [
      "<class 'pandas.core.frame.DataFrame'>\n",
      "RangeIndex: 10567737 entries, 0 to 10567736\n",
      "Data columns (total 6 columns):\n",
      " #   Column         Dtype  \n",
      "---  ------         -----  \n",
      " 0   user_id        object \n",
      " 1   action         object \n",
      " 2   action_type    object \n",
      " 3   action_detail  object \n",
      " 4   device_type    object \n",
      " 5   secs_elapsed   float64\n",
      "dtypes: float64(1), object(5)\n",
      "memory usage: 483.8+ MB\n"
     ]
    }
   ],
   "source": [
    "session.info()"
   ]
  },
  {
   "cell_type": "code",
   "execution_count": 8,
   "metadata": {
    "execution": {
     "iopub.execute_input": "2020-07-30T00:55:24.740827Z",
     "iopub.status.busy": "2020-07-30T00:55:24.740827Z",
     "iopub.status.idle": "2020-07-30T00:55:24.744817Z",
     "shell.execute_reply": "2020-07-30T00:55:24.744817Z",
     "shell.execute_reply.started": "2020-07-30T00:55:24.740827Z"
    }
   },
   "outputs": [
    {
     "data": {
      "text/plain": [
       "(10567737, 6)"
      ]
     },
     "metadata": {},
     "output_type": "display_data"
    }
   ],
   "source": [
    "display(session.shape)"
   ]
  },
  {
   "cell_type": "code",
   "execution_count": 9,
   "metadata": {
    "execution": {
     "iopub.execute_input": "2020-07-30T00:55:24.745813Z",
     "iopub.status.busy": "2020-07-30T00:55:24.745813Z",
     "iopub.status.idle": "2020-07-30T00:55:24.833603Z",
     "shell.execute_reply": "2020-07-30T00:55:24.833603Z",
     "shell.execute_reply.started": "2020-07-30T00:55:24.745813Z"
    }
   },
   "outputs": [
    {
     "name": "stdout",
     "output_type": "stream",
     "text": [
      "<class 'pandas.core.frame.DataFrame'>\n",
      "RangeIndex: 213451 entries, 0 to 213450\n",
      "Data columns (total 16 columns):\n",
      " #   Column                   Non-Null Count   Dtype  \n",
      "---  ------                   --------------   -----  \n",
      " 0   id                       213451 non-null  object \n",
      " 1   date_account_created     213451 non-null  object \n",
      " 2   timestamp_first_active   213451 non-null  int64  \n",
      " 3   date_first_booking       88908 non-null   object \n",
      " 4   gender                   213451 non-null  object \n",
      " 5   age                      125461 non-null  float64\n",
      " 6   signup_method            213451 non-null  object \n",
      " 7   signup_flow              213451 non-null  int64  \n",
      " 8   language                 213451 non-null  object \n",
      " 9   affiliate_channel        213451 non-null  object \n",
      " 10  affiliate_provider       213451 non-null  object \n",
      " 11  first_affiliate_tracked  207386 non-null  object \n",
      " 12  signup_app               213451 non-null  object \n",
      " 13  first_device_type        213451 non-null  object \n",
      " 14  first_browser            213451 non-null  object \n",
      " 15  country_destination      213451 non-null  object \n",
      "dtypes: float64(1), int64(2), object(13)\n",
      "memory usage: 26.1+ MB\n"
     ]
    }
   ],
   "source": [
    "train.info()"
   ]
  },
  {
   "cell_type": "code",
   "execution_count": 10,
   "metadata": {
    "execution": {
     "iopub.execute_input": "2020-07-30T00:55:24.834577Z",
     "iopub.status.busy": "2020-07-30T00:55:24.834577Z",
     "iopub.status.idle": "2020-07-30T00:55:24.848570Z",
     "shell.execute_reply": "2020-07-30T00:55:24.848570Z",
     "shell.execute_reply.started": "2020-07-30T00:55:24.834577Z"
    }
   },
   "outputs": [
    {
     "data": {
      "text/html": [
       "<div>\n",
       "<style scoped>\n",
       "    .dataframe tbody tr th:only-of-type {\n",
       "        vertical-align: middle;\n",
       "    }\n",
       "\n",
       "    .dataframe tbody tr th {\n",
       "        vertical-align: top;\n",
       "    }\n",
       "\n",
       "    .dataframe thead th {\n",
       "        text-align: right;\n",
       "    }\n",
       "</style>\n",
       "<table border=\"1\" class=\"dataframe\">\n",
       "  <thead>\n",
       "    <tr style=\"text-align: right;\">\n",
       "      <th></th>\n",
       "      <th>id</th>\n",
       "      <th>date_account_created</th>\n",
       "      <th>timestamp_first_active</th>\n",
       "      <th>date_first_booking</th>\n",
       "      <th>gender</th>\n",
       "      <th>age</th>\n",
       "      <th>signup_method</th>\n",
       "      <th>signup_flow</th>\n",
       "      <th>language</th>\n",
       "      <th>affiliate_channel</th>\n",
       "      <th>affiliate_provider</th>\n",
       "      <th>first_affiliate_tracked</th>\n",
       "      <th>signup_app</th>\n",
       "      <th>first_device_type</th>\n",
       "      <th>first_browser</th>\n",
       "      <th>country_destination</th>\n",
       "    </tr>\n",
       "  </thead>\n",
       "  <tbody>\n",
       "    <tr>\n",
       "      <th>0</th>\n",
       "      <td>gxn3p5htnn</td>\n",
       "      <td>2010-06-28</td>\n",
       "      <td>20090319043255</td>\n",
       "      <td>NaN</td>\n",
       "      <td>-unknown-</td>\n",
       "      <td>NaN</td>\n",
       "      <td>facebook</td>\n",
       "      <td>0</td>\n",
       "      <td>en</td>\n",
       "      <td>direct</td>\n",
       "      <td>direct</td>\n",
       "      <td>untracked</td>\n",
       "      <td>Web</td>\n",
       "      <td>Mac Desktop</td>\n",
       "      <td>Chrome</td>\n",
       "      <td>NDF</td>\n",
       "    </tr>\n",
       "    <tr>\n",
       "      <th>1</th>\n",
       "      <td>820tgsjxq7</td>\n",
       "      <td>2011-05-25</td>\n",
       "      <td>20090523174809</td>\n",
       "      <td>NaN</td>\n",
       "      <td>MALE</td>\n",
       "      <td>38.0</td>\n",
       "      <td>facebook</td>\n",
       "      <td>0</td>\n",
       "      <td>en</td>\n",
       "      <td>seo</td>\n",
       "      <td>google</td>\n",
       "      <td>untracked</td>\n",
       "      <td>Web</td>\n",
       "      <td>Mac Desktop</td>\n",
       "      <td>Chrome</td>\n",
       "      <td>NDF</td>\n",
       "    </tr>\n",
       "    <tr>\n",
       "      <th>2</th>\n",
       "      <td>4ft3gnwmtx</td>\n",
       "      <td>2010-09-28</td>\n",
       "      <td>20090609231247</td>\n",
       "      <td>2010-08-02</td>\n",
       "      <td>FEMALE</td>\n",
       "      <td>56.0</td>\n",
       "      <td>basic</td>\n",
       "      <td>3</td>\n",
       "      <td>en</td>\n",
       "      <td>direct</td>\n",
       "      <td>direct</td>\n",
       "      <td>untracked</td>\n",
       "      <td>Web</td>\n",
       "      <td>Windows Desktop</td>\n",
       "      <td>IE</td>\n",
       "      <td>US</td>\n",
       "    </tr>\n",
       "    <tr>\n",
       "      <th>3</th>\n",
       "      <td>bjjt8pjhuk</td>\n",
       "      <td>2011-12-05</td>\n",
       "      <td>20091031060129</td>\n",
       "      <td>2012-09-08</td>\n",
       "      <td>FEMALE</td>\n",
       "      <td>42.0</td>\n",
       "      <td>facebook</td>\n",
       "      <td>0</td>\n",
       "      <td>en</td>\n",
       "      <td>direct</td>\n",
       "      <td>direct</td>\n",
       "      <td>untracked</td>\n",
       "      <td>Web</td>\n",
       "      <td>Mac Desktop</td>\n",
       "      <td>Firefox</td>\n",
       "      <td>other</td>\n",
       "    </tr>\n",
       "    <tr>\n",
       "      <th>4</th>\n",
       "      <td>87mebub9p4</td>\n",
       "      <td>2010-09-14</td>\n",
       "      <td>20091208061105</td>\n",
       "      <td>2010-02-18</td>\n",
       "      <td>-unknown-</td>\n",
       "      <td>41.0</td>\n",
       "      <td>basic</td>\n",
       "      <td>0</td>\n",
       "      <td>en</td>\n",
       "      <td>direct</td>\n",
       "      <td>direct</td>\n",
       "      <td>untracked</td>\n",
       "      <td>Web</td>\n",
       "      <td>Mac Desktop</td>\n",
       "      <td>Chrome</td>\n",
       "      <td>US</td>\n",
       "    </tr>\n",
       "  </tbody>\n",
       "</table>\n",
       "</div>"
      ],
      "text/plain": [
       "           id date_account_created  timestamp_first_active date_first_booking  \\\n",
       "0  gxn3p5htnn           2010-06-28          20090319043255                NaN   \n",
       "1  820tgsjxq7           2011-05-25          20090523174809                NaN   \n",
       "2  4ft3gnwmtx           2010-09-28          20090609231247         2010-08-02   \n",
       "3  bjjt8pjhuk           2011-12-05          20091031060129         2012-09-08   \n",
       "4  87mebub9p4           2010-09-14          20091208061105         2010-02-18   \n",
       "\n",
       "      gender   age signup_method  signup_flow language affiliate_channel  \\\n",
       "0  -unknown-   NaN      facebook            0       en            direct   \n",
       "1       MALE  38.0      facebook            0       en               seo   \n",
       "2     FEMALE  56.0         basic            3       en            direct   \n",
       "3     FEMALE  42.0      facebook            0       en            direct   \n",
       "4  -unknown-  41.0         basic            0       en            direct   \n",
       "\n",
       "  affiliate_provider first_affiliate_tracked signup_app first_device_type  \\\n",
       "0             direct               untracked        Web       Mac Desktop   \n",
       "1             google               untracked        Web       Mac Desktop   \n",
       "2             direct               untracked        Web   Windows Desktop   \n",
       "3             direct               untracked        Web       Mac Desktop   \n",
       "4             direct               untracked        Web       Mac Desktop   \n",
       "\n",
       "  first_browser country_destination  \n",
       "0        Chrome                 NDF  \n",
       "1        Chrome                 NDF  \n",
       "2            IE                  US  \n",
       "3       Firefox               other  \n",
       "4        Chrome                  US  "
      ]
     },
     "execution_count": 10,
     "metadata": {},
     "output_type": "execute_result"
    }
   ],
   "source": [
    "train.head()"
   ]
  },
  {
   "cell_type": "code",
   "execution_count": 11,
   "metadata": {
    "execution": {
     "iopub.execute_input": "2020-07-30T00:55:24.849535Z",
     "iopub.status.busy": "2020-07-30T00:55:24.849535Z",
     "iopub.status.idle": "2020-07-30T00:55:25.704311Z",
     "shell.execute_reply": "2020-07-30T00:55:25.704311Z",
     "shell.execute_reply.started": "2020-07-30T00:55:24.849535Z"
    }
   },
   "outputs": [
    {
     "data": {
      "image/png": "[encoded data removed]",
      "text/plain": [
       "<Figure size 1800x720 with 2 Axes>"
      ]
     },
     "metadata": {
      "needs_background": "light"
     },
     "output_type": "display_data"
    }
   ],
   "source": [
    "msno.matrix(train);"
   ]
  },
  {
   "cell_type": "code",
   "execution_count": 12,
   "metadata": {
    "execution": {
     "iopub.execute_input": "2020-07-30T00:55:25.705309Z",
     "iopub.status.busy": "2020-07-30T00:55:25.705309Z",
     "iopub.status.idle": "2020-07-30T00:55:25.719272Z",
     "shell.execute_reply": "2020-07-30T00:55:25.719272Z",
     "shell.execute_reply.started": "2020-07-30T00:55:25.705309Z"
    }
   },
   "outputs": [
    {
     "data": {
      "text/plain": [
       "count    125461.000000\n",
       "mean         49.668335\n",
       "std         155.666612\n",
       "min           1.000000\n",
       "25%          28.000000\n",
       "50%          34.000000\n",
       "75%          43.000000\n",
       "max        2014.000000\n",
       "Name: age, dtype: float64"
      ]
     },
     "execution_count": 12,
     "metadata": {},
     "output_type": "execute_result"
    }
   ],
   "source": [
    "train['age'].describe()"
   ]
  },
  {
   "cell_type": "markdown",
   "metadata": {},
   "source": [
    "### Cleaning steps needed:\n",
    "- convert all date/time related columns into datetime\n",
    "- deal with missing age and through assigning new variables and binning\n",
    "- filling first_affiliate_tracked missing value with new category value \"missing\""
   ]
  },
  {
   "cell_type": "markdown",
   "metadata": {},
   "source": [
    "#### Time"
   ]
  },
  {
   "cell_type": "code",
   "execution_count": 13,
   "metadata": {
    "execution": {
     "iopub.execute_input": "2020-07-30T00:55:25.720269Z",
     "iopub.status.busy": "2020-07-30T00:55:25.720269Z",
     "iopub.status.idle": "2020-07-30T00:55:26.340220Z",
     "shell.execute_reply": "2020-07-30T00:55:26.340220Z",
     "shell.execute_reply.started": "2020-07-30T00:55:25.720269Z"
    }
   },
   "outputs": [],
   "source": [
    "train['date_account_created'] = pd.to_datetime(\n",
    "    train['date_account_created'], format='%Y-%m-%d', errors='coerce')\n",
    "train['date_account_created'] = pd.to_datetime(\n",
    "    train['date_account_created'], format='%Y-%m-%d', errors='coerce')\n",
    "train['date_first_booking'] = pd.to_datetime(\n",
    "    train['date_first_booking'], format='%Y-%m-%d', errors='coerce')\n",
    "train['timestamp_first_active'] = pd.to_datetime(\n",
    "    train['timestamp_first_active'], format='%Y%m%d%H%M%S', errors='coerce')"
   ]
  },
  {
   "cell_type": "markdown",
   "metadata": {},
   "source": [
    "#### Age"
   ]
  },
  {
   "cell_type": "code",
   "execution_count": 14,
   "metadata": {
    "execution": {
     "iopub.execute_input": "2020-07-30T00:55:26.341158Z",
     "iopub.status.busy": "2020-07-30T00:55:26.341158Z",
     "iopub.status.idle": "2020-07-30T00:55:26.388140Z",
     "shell.execute_reply": "2020-07-30T00:55:26.388140Z",
     "shell.execute_reply.started": "2020-07-30T00:55:26.341158Z"
    }
   },
   "outputs": [],
   "source": [
    "# for missing value, assign -1 as the age value\n",
    "train['age_fill'] = train['age'].apply(\n",
    "    lambda x: -1 if x > 1000 else x).fillna(-1)"
   ]
  },
  {
   "cell_type": "code",
   "execution_count": 15,
   "metadata": {
    "execution": {
     "iopub.execute_input": "2020-07-30T00:55:26.389138Z",
     "iopub.status.busy": "2020-07-30T00:55:26.389138Z",
     "iopub.status.idle": "2020-07-30T00:55:26.402107Z",
     "shell.execute_reply": "2020-07-30T00:55:26.402107Z",
     "shell.execute_reply.started": "2020-07-30T00:55:26.389138Z"
    }
   },
   "outputs": [
    {
     "data": {
      "text/plain": [
       "count    213451.000000\n",
       "mean         21.438293\n",
       "std          21.731754\n",
       "min          -1.000000\n",
       "25%          -1.000000\n",
       "50%          26.000000\n",
       "75%          35.000000\n",
       "max         150.000000\n",
       "Name: age_fill, dtype: float64"
      ]
     },
     "execution_count": 15,
     "metadata": {},
     "output_type": "execute_result"
    }
   ],
   "source": [
    "train['age_fill'].describe()"
   ]
  },
  {
   "cell_type": "markdown",
   "metadata": {},
   "source": [
    "#### First Affiliate tracked"
   ]
  },
  {
   "cell_type": "code",
   "execution_count": 16,
   "metadata": {
    "execution": {
     "iopub.execute_input": "2020-07-30T00:55:26.403102Z",
     "iopub.status.busy": "2020-07-30T00:55:26.403102Z",
     "iopub.status.idle": "2020-07-30T00:55:26.426039Z",
     "shell.execute_reply": "2020-07-30T00:55:26.426039Z",
     "shell.execute_reply.started": "2020-07-30T00:55:26.403102Z"
    }
   },
   "outputs": [
    {
     "data": {
      "text/plain": [
       "untracked        109232\n",
       "linked            46287\n",
       "omg               43982\n",
       "tracked-other      6156\n",
       "NaN                6065\n",
       "product            1556\n",
       "marketing           139\n",
       "local ops            34\n",
       "Name: first_affiliate_tracked, dtype: int64"
      ]
     },
     "execution_count": 16,
     "metadata": {},
     "output_type": "execute_result"
    }
   ],
   "source": [
    "train['first_affiliate_tracked'].value_counts(dropna=False)"
   ]
  },
  {
   "cell_type": "markdown",
   "metadata": {},
   "source": [
    "The missing count is at 6000 thousands, which is still a relatively big number. Not knowing the reason of the miss, we will create a new category called \"miss\" treat that as a real category"
   ]
  },
  {
   "cell_type": "code",
   "execution_count": 17,
   "metadata": {
    "execution": {
     "iopub.execute_input": "2020-07-30T00:55:26.427036Z",
     "iopub.status.busy": "2020-07-30T00:55:26.427036Z",
     "iopub.status.idle": "2020-07-30T00:55:26.437050Z",
     "shell.execute_reply": "2020-07-30T00:55:26.437050Z",
     "shell.execute_reply.started": "2020-07-30T00:55:26.427036Z"
    }
   },
   "outputs": [],
   "source": [
    "train['first_affiliate_tracked'].fillna('miss', inplace=True)"
   ]
  },
  {
   "cell_type": "code",
   "execution_count": 18,
   "metadata": {
    "execution": {
     "iopub.execute_input": "2020-07-30T00:55:26.438008Z",
     "iopub.status.busy": "2020-07-30T00:55:26.438008Z",
     "iopub.status.idle": "2020-07-30T00:55:26.522781Z",
     "shell.execute_reply": "2020-07-30T00:55:26.522781Z",
     "shell.execute_reply.started": "2020-07-30T00:55:26.438008Z"
    }
   },
   "outputs": [
    {
     "name": "stdout",
     "output_type": "stream",
     "text": [
      "<class 'pandas.core.frame.DataFrame'>\n",
      "RangeIndex: 213451 entries, 0 to 213450\n",
      "Data columns (total 17 columns):\n",
      " #   Column                   Non-Null Count   Dtype         \n",
      "---  ------                   --------------   -----         \n",
      " 0   id                       213451 non-null  object        \n",
      " 1   date_account_created     213451 non-null  datetime64[ns]\n",
      " 2   timestamp_first_active   213451 non-null  datetime64[ns]\n",
      " 3   date_first_booking       88908 non-null   datetime64[ns]\n",
      " 4   gender                   213451 non-null  object        \n",
      " 5   age                      125461 non-null  float64       \n",
      " 6   signup_method            213451 non-null  object        \n",
      " 7   signup_flow              213451 non-null  int64         \n",
      " 8   language                 213451 non-null  object        \n",
      " 9   affiliate_channel        213451 non-null  object        \n",
      " 10  affiliate_provider       213451 non-null  object        \n",
      " 11  first_affiliate_tracked  213451 non-null  object        \n",
      " 12  signup_app               213451 non-null  object        \n",
      " 13  first_device_type        213451 non-null  object        \n",
      " 14  first_browser            213451 non-null  object        \n",
      " 15  country_destination      213451 non-null  object        \n",
      " 16  age_fill                 213451 non-null  float64       \n",
      "dtypes: datetime64[ns](3), float64(2), int64(1), object(11)\n",
      "memory usage: 27.7+ MB\n"
     ]
    }
   ],
   "source": [
    "train.info()"
   ]
  },
  {
   "cell_type": "markdown",
   "metadata": {},
   "source": [
    "## Data Exploratory"
   ]
  },
  {
   "cell_type": "markdown",
   "metadata": {},
   "source": [
    "In this section, we are trying to identify variables within the train dataset, then we will dive in to session dataset to understand browsing pattern.\n",
    "\n",
    "We first want to create a simple binary variable \"book\" that take value 1 if booking occur, 0 otherwise."
   ]
  },
  {
   "cell_type": "code",
   "execution_count": 19,
   "metadata": {
    "execution": {
     "iopub.execute_input": "2020-07-30T00:55:26.523788Z",
     "iopub.status.busy": "2020-07-30T00:55:26.523788Z",
     "iopub.status.idle": "2020-07-30T00:55:27.048070Z",
     "shell.execute_reply": "2020-07-30T00:55:27.048070Z",
     "shell.execute_reply.started": "2020-07-30T00:55:26.523788Z"
    }
   },
   "outputs": [],
   "source": [
    "# replace all missing values to 0 then assign 1 for rows that have booking dates\n",
    "train['book'] = train['date_first_booking'].fillna(\n",
    "    0).apply(lambda x: 0 if x == 0 else 1)"
   ]
  },
  {
   "cell_type": "markdown",
   "metadata": {},
   "source": [
    "### Age Group"
   ]
  },
  {
   "cell_type": "code",
   "execution_count": 20,
   "metadata": {
    "execution": {
     "iopub.execute_input": "2020-07-30T00:55:27.048998Z",
     "iopub.status.busy": "2020-07-30T00:55:27.048998Z",
     "iopub.status.idle": "2020-07-30T00:55:28.051638Z",
     "shell.execute_reply": "2020-07-30T00:55:28.051638Z",
     "shell.execute_reply.started": "2020-07-30T00:55:27.048998Z"
    }
   },
   "outputs": [
    {
     "data": {
      "image/png": "[encoded data removed]",
      "text/plain": [
       "<Figure size 1440x360 with 1 Axes>"
      ]
     },
     "metadata": {
      "needs_background": "light"
     },
     "output_type": "display_data"
    }
   ],
   "source": [
    "# checking age as function booking frequency\n",
    "plt.figure(figsize=(20, 5))\n",
    "ax = sns.countplot(x='age_fill', hue='book', data=train)\n",
    "plt.title('booking frequency by age group')\n",
    "plt.xticks(rotation=90)\n",
    "plt.xlim(1, 100)\n",
    "plt.ylim(0, 4000)\n",
    "plt.show()"
   ]
  },
  {
   "cell_type": "markdown",
   "metadata": {},
   "source": [
    "**Observation**: age group between 25 to 35 appear to have the most booking, and they are also the mainstream user groups. Interesting to see age group 105 has a spike in booking. It is reasonable to believe that the high booking frequency is not driven by age but by other factors. \n",
    "\n",
    "We can further apply binning to the age by an interval of 5 as provided by the gender dataset since the distribution of the data is roughly normally distributed"
   ]
  },
  {
   "cell_type": "code",
   "execution_count": 21,
   "metadata": {
    "execution": {
     "iopub.execute_input": "2020-07-30T00:55:28.052636Z",
     "iopub.status.busy": "2020-07-30T00:55:28.052636Z",
     "iopub.status.idle": "2020-07-30T00:55:28.056625Z",
     "shell.execute_reply": "2020-07-30T00:55:28.056625Z",
     "shell.execute_reply.started": "2020-07-30T00:55:28.052636Z"
    }
   },
   "outputs": [],
   "source": [
    "age_cat = age_gender['age_bucket'].unique().tolist()\n",
    "age_sort = age_cat[::-1]\n",
    "age_sort.insert(0, 'miss')"
   ]
  },
  {
   "cell_type": "code",
   "execution_count": 88,
   "metadata": {
    "execution": {
     "iopub.execute_input": "2020-07-30T01:44:03.790898Z",
     "iopub.status.busy": "2020-07-30T01:44:03.789900Z",
     "iopub.status.idle": "2020-07-30T01:44:03.802866Z",
     "shell.execute_reply": "2020-07-30T01:44:03.802866Z",
     "shell.execute_reply.started": "2020-07-30T01:44:03.790898Z"
    }
   },
   "outputs": [],
   "source": [
    "train['age_gp'] = pd.cut(\n",
    "    train['age_fill'], bins=np.arange(-5, 106, 5), labels=age_sort)"
   ]
  },
  {
   "cell_type": "code",
   "execution_count": 89,
   "metadata": {
    "execution": {
     "iopub.execute_input": "2020-07-30T01:44:10.193567Z",
     "iopub.status.busy": "2020-07-30T01:44:10.193567Z",
     "iopub.status.idle": "2020-07-30T01:44:10.425126Z",
     "shell.execute_reply": "2020-07-30T01:44:10.425126Z",
     "shell.execute_reply.started": "2020-07-30T01:44:10.193567Z"
    }
   },
   "outputs": [
    {
     "data": {
      "image/png": "[encoded data removed]",
      "text/plain": [
       "<Figure size 720x360 with 1 Axes>"
      ]
     },
     "metadata": {
      "needs_background": "light"
     },
     "output_type": "display_data"
    }
   ],
   "source": [
    "plt.figure(figsize=(10, 5))\n",
    "ax = sns.countplot(x='age_gp', hue='book', data=train)\n",
    "plt.title('booking frequency by age group')\n",
    "plt.xticks(rotation=90)\n",
    "plt.show()"
   ]
  },
  {
   "cell_type": "markdown",
   "metadata": {},
   "source": [
    "Check other features one by one, create function below to streamline the process"
   ]
  },
  {
   "cell_type": "code",
   "execution_count": 24,
   "metadata": {
    "execution": {
     "iopub.execute_input": "2020-07-30T00:55:28.337646Z",
     "iopub.status.busy": "2020-07-30T00:55:28.337646Z",
     "iopub.status.idle": "2020-07-30T00:55:28.342632Z",
     "shell.execute_reply": "2020-07-30T00:55:28.342632Z",
     "shell.execute_reply.started": "2020-07-30T00:55:28.337646Z"
    }
   },
   "outputs": [],
   "source": [
    "def count_plot(x):\n",
    "    plt.figure(figsize=(10, 5))\n",
    "    sns.countplot(x=x, hue='book', data=train)\n",
    "    plt.xticks(rotation=90)\n",
    "    plt.title('booking frequency based on {}'.format(x))\n",
    "    plt.tight_layout()\n",
    "    plt.show()"
   ]
  },
  {
   "cell_type": "markdown",
   "metadata": {},
   "source": [
    "### Language"
   ]
  },
  {
   "cell_type": "code",
   "execution_count": 25,
   "metadata": {
    "execution": {
     "iopub.execute_input": "2020-07-30T00:55:28.343697Z",
     "iopub.status.busy": "2020-07-30T00:55:28.343697Z",
     "iopub.status.idle": "2020-07-30T00:55:28.643939Z",
     "shell.execute_reply": "2020-07-30T00:55:28.643939Z",
     "shell.execute_reply.started": "2020-07-30T00:55:28.343697Z"
    }
   },
   "outputs": [
    {
     "data": {
      "image/png": "[encoded data removed]",
      "text/plain": [
       "<Figure size 720x360 with 1 Axes>"
      ]
     },
     "metadata": {
      "needs_background": "light"
     },
     "output_type": "display_data"
    }
   ],
   "source": [
    "count_plot('language')"
   ]
  },
  {
   "cell_type": "markdown",
   "metadata": {},
   "source": [
    "English us the main language used on the platform. Given data are imbalance across languages other than English, we will consolidate languages into smaller categories in hope of increase the predictive power of this variable."
   ]
  },
  {
   "cell_type": "code",
   "execution_count": 26,
   "metadata": {
    "execution": {
     "iopub.execute_input": "2020-07-30T00:55:28.644950Z",
     "iopub.status.busy": "2020-07-30T00:55:28.644950Z",
     "iopub.status.idle": "2020-07-30T00:55:28.648921Z",
     "shell.execute_reply": "2020-07-30T00:55:28.648921Z",
     "shell.execute_reply.started": "2020-07-30T00:55:28.644950Z"
    }
   },
   "outputs": [],
   "source": [
    "lang = {'en': 'eng',\n",
    "        'zh': 'asia',\n",
    "        'ko': 'asia',\n",
    "        'ja': 'asia',\n",
    "        'fr': 'eu',\n",
    "        'es': 'eu',\n",
    "        'de': 'eu',\n",
    "        'ru': 'eu',\n",
    "        'pt': 'eu'}"
   ]
  },
  {
   "cell_type": "code",
   "execution_count": 27,
   "metadata": {
    "execution": {
     "iopub.execute_input": "2020-07-30T00:55:28.649885Z",
     "iopub.status.busy": "2020-07-30T00:55:28.649885Z",
     "iopub.status.idle": "2020-07-30T00:55:28.834303Z",
     "shell.execute_reply": "2020-07-30T00:55:28.834303Z",
     "shell.execute_reply.started": "2020-07-30T00:55:28.649885Z"
    }
   },
   "outputs": [
    {
     "data": {
      "image/png": "[encoded data removed]",
      "text/plain": [
       "<Figure size 720x360 with 1 Axes>"
      ]
     },
     "metadata": {
      "needs_background": "light"
     },
     "output_type": "display_data"
    }
   ],
   "source": [
    "train['lang'] = train['language'].map(lang).fillna('other')\n",
    "count_plot('lang')"
   ]
  },
  {
   "cell_type": "markdown",
   "metadata": {},
   "source": [
    "### Browser"
   ]
  },
  {
   "cell_type": "code",
   "execution_count": 29,
   "metadata": {
    "execution": {
     "iopub.execute_input": "2020-07-30T00:55:28.860218Z",
     "iopub.status.busy": "2020-07-30T00:55:28.860218Z",
     "iopub.status.idle": "2020-07-30T00:55:28.870221Z",
     "shell.execute_reply": "2020-07-30T00:55:28.870221Z",
     "shell.execute_reply.started": "2020-07-30T00:55:28.860218Z"
    }
   },
   "outputs": [],
   "source": [
    "# consolidate browser type to reduce the number categories\n",
    "browser = {'Chrome': 'chrome',\n",
    "           'Chrome Mobile': 'chrome',\n",
    "           'Safari': 'safari',\n",
    "           'Mobile Safari': 'safari',\n",
    "           'Firefox': 'firefox',\n",
    "           'Mobile Firefox': 'firefox',\n",
    "           'IE': 'ie',\n",
    "           'IE Mobile': 'ie',\n",
    "           '-unknown-': 'unknown'}"
   ]
  },
  {
   "cell_type": "code",
   "execution_count": 30,
   "metadata": {
    "execution": {
     "iopub.execute_input": "2020-07-30T00:55:28.872186Z",
     "iopub.status.busy": "2020-07-30T00:55:28.871189Z",
     "iopub.status.idle": "2020-07-30T00:55:28.901133Z",
     "shell.execute_reply": "2020-07-30T00:55:28.901133Z",
     "shell.execute_reply.started": "2020-07-30T00:55:28.872186Z"
    }
   },
   "outputs": [],
   "source": [
    "train['browser'] = train['first_browser'].map(browser).fillna('other')"
   ]
  },
  {
   "cell_type": "code",
   "execution_count": 31,
   "metadata": {
    "execution": {
     "iopub.execute_input": "2020-07-30T00:55:28.902106Z",
     "iopub.status.busy": "2020-07-30T00:55:28.902106Z",
     "iopub.status.idle": "2020-07-30T00:55:29.077153Z",
     "shell.execute_reply": "2020-07-30T00:55:29.077153Z",
     "shell.execute_reply.started": "2020-07-30T00:55:28.902106Z"
    }
   },
   "outputs": [
    {
     "data": {
      "image/png": "[encoded data removed]",
      "text/plain": [
       "<Figure size 720x360 with 1 Axes>"
      ]
     },
     "metadata": {
      "needs_background": "light"
     },
     "output_type": "display_data"
    }
   ],
   "source": [
    "count_plot('browser')"
   ]
  },
  {
   "cell_type": "markdown",
   "metadata": {
    "execution": {
     "iopub.execute_input": "2020-07-29T22:07:27.447266Z",
     "iopub.status.busy": "2020-07-29T22:07:27.446294Z",
     "iopub.status.idle": "2020-07-29T22:07:27.451256Z",
     "shell.execute_reply": "2020-07-29T22:07:27.451256Z",
     "shell.execute_reply.started": "2020-07-29T22:07:27.447266Z"
    }
   },
   "source": [
    "Safari appears to have higher booking rate than chrome. It could be a useful features."
   ]
  },
  {
   "cell_type": "markdown",
   "metadata": {},
   "source": [
    "### Signup method and flow"
   ]
  },
  {
   "cell_type": "code",
   "execution_count": 32,
   "metadata": {
    "execution": {
     "iopub.execute_input": "2020-07-30T00:55:29.078144Z",
     "iopub.status.busy": "2020-07-30T00:55:29.078144Z",
     "iopub.status.idle": "2020-07-30T00:55:29.223789Z",
     "shell.execute_reply": "2020-07-30T00:55:29.223789Z",
     "shell.execute_reply.started": "2020-07-30T00:55:29.078144Z"
    }
   },
   "outputs": [
    {
     "data": {
      "image/png": "[encoded data removed]",
      "text/plain": [
       "<Figure size 720x360 with 1 Axes>"
      ]
     },
     "metadata": {
      "needs_background": "light"
     },
     "output_type": "display_data"
    }
   ],
   "source": [
    "count_plot('signup_method')"
   ]
  },
  {
   "cell_type": "markdown",
   "metadata": {},
   "source": [
    "The signup method does not seem to vary much on the booking rate. Would not include that in the modeling process"
   ]
  },
  {
   "cell_type": "code",
   "execution_count": 33,
   "metadata": {
    "execution": {
     "iopub.execute_input": "2020-07-30T00:55:29.224752Z",
     "iopub.status.busy": "2020-07-30T00:55:29.224752Z",
     "iopub.status.idle": "2020-07-30T00:55:29.436782Z",
     "shell.execute_reply": "2020-07-30T00:55:29.436782Z",
     "shell.execute_reply.started": "2020-07-30T00:55:29.224752Z"
    }
   },
   "outputs": [
    {
     "data": {
      "image/png": "[encoded data removed]",
      "text/plain": [
       "<Figure size 720x360 with 1 Axes>"
      ]
     },
     "metadata": {
      "needs_background": "light"
     },
     "output_type": "display_data"
    }
   ],
   "source": [
    "count_plot('signup_flow')"
   ]
  },
  {
   "cell_type": "markdown",
   "metadata": {},
   "source": [
    "**Observation**: booking rate appear to be the highest when the number of page visit is either 0, 12 or above 23. 0 pages users probably already know what they want and that session just for booking. If they browse more than 20 pages, which could mean that they are really serious above making a booking. It is interesting to see that values from 2-8, then 15-20 sections have very low booking rate, or even no records at all."
   ]
  },
  {
   "cell_type": "markdown",
   "metadata": {},
   "source": [
    "### Gender"
   ]
  },
  {
   "cell_type": "code",
   "execution_count": 34,
   "metadata": {
    "execution": {
     "iopub.execute_input": "2020-07-30T00:55:29.437748Z",
     "iopub.status.busy": "2020-07-30T00:55:29.437748Z",
     "iopub.status.idle": "2020-07-30T00:55:29.599681Z",
     "shell.execute_reply": "2020-07-30T00:55:29.599681Z",
     "shell.execute_reply.started": "2020-07-30T00:55:29.437748Z"
    }
   },
   "outputs": [
    {
     "data": {
      "image/png": "[encoded data removed]",
      "text/plain": [
       "<Figure size 720x360 with 1 Axes>"
      ]
     },
     "metadata": {
      "needs_background": "light"
     },
     "output_type": "display_data"
    }
   ],
   "source": [
    "count_plot('gender')"
   ]
  },
  {
   "cell_type": "markdown",
   "metadata": {},
   "source": [
    "**Observation**: Male and Female booking rate is almost identical. When users didn't specific gender, they are two times more likely to just browsing, which is quite a powerful feature. We will consolidate this features to be a binary variable \"gender_stated\", 0 is unknown, 1 being otherwise."
   ]
  },
  {
   "cell_type": "code",
   "execution_count": 35,
   "metadata": {
    "execution": {
     "iopub.execute_input": "2020-07-30T00:55:29.600654Z",
     "iopub.status.busy": "2020-07-30T00:55:29.600654Z",
     "iopub.status.idle": "2020-07-30T00:55:29.622596Z",
     "shell.execute_reply": "2020-07-30T00:55:29.622596Z",
     "shell.execute_reply.started": "2020-07-30T00:55:29.600654Z"
    }
   },
   "outputs": [
    {
     "data": {
      "text/plain": [
       "-unknown-    95688\n",
       "FEMALE       63041\n",
       "MALE         54440\n",
       "OTHER          282\n",
       "Name: gender, dtype: int64"
      ]
     },
     "execution_count": 35,
     "metadata": {},
     "output_type": "execute_result"
    }
   ],
   "source": [
    "train['gender'].value_counts()"
   ]
  },
  {
   "cell_type": "code",
   "execution_count": 36,
   "metadata": {
    "execution": {
     "iopub.execute_input": "2020-07-30T00:55:29.624590Z",
     "iopub.status.busy": "2020-07-30T00:55:29.623592Z",
     "iopub.status.idle": "2020-07-30T00:55:29.658499Z",
     "shell.execute_reply": "2020-07-30T00:55:29.658499Z",
     "shell.execute_reply.started": "2020-07-30T00:55:29.624590Z"
    }
   },
   "outputs": [],
   "source": [
    "train['gender_stated'] = train['gender'].apply(\n",
    "    lambda x: 'no' if x == '-unknown-' else 'yes')"
   ]
  },
  {
   "cell_type": "code",
   "execution_count": 37,
   "metadata": {
    "execution": {
     "iopub.execute_input": "2020-07-30T00:55:29.659497Z",
     "iopub.status.busy": "2020-07-30T00:55:29.659497Z",
     "iopub.status.idle": "2020-07-30T00:55:29.815972Z",
     "shell.execute_reply": "2020-07-30T00:55:29.815972Z",
     "shell.execute_reply.started": "2020-07-30T00:55:29.659497Z"
    }
   },
   "outputs": [
    {
     "data": {
      "image/png": "[encoded data removed]",
      "text/plain": [
       "<Figure size 720x360 with 1 Axes>"
      ]
     },
     "metadata": {
      "needs_background": "light"
     },
     "output_type": "display_data"
    }
   ],
   "source": [
    "count_plot('gender_stated')"
   ]
  },
  {
   "cell_type": "markdown",
   "metadata": {},
   "source": [
    "### Affiliate"
   ]
  },
  {
   "cell_type": "code",
   "execution_count": 38,
   "metadata": {
    "execution": {
     "iopub.execute_input": "2020-07-30T00:55:29.816938Z",
     "iopub.status.busy": "2020-07-30T00:55:29.816938Z",
     "iopub.status.idle": "2020-07-30T00:55:30.013866Z",
     "shell.execute_reply": "2020-07-30T00:55:30.013155Z",
     "shell.execute_reply.started": "2020-07-30T00:55:29.816938Z"
    }
   },
   "outputs": [
    {
     "data": {
      "image/png": "[encoded data removed]",
      "text/plain": [
       "<Figure size 720x360 with 1 Axes>"
      ]
     },
     "metadata": {
      "needs_background": "light"
     },
     "output_type": "display_data"
    }
   ],
   "source": [
    "count_plot('affiliate_channel')"
   ]
  },
  {
   "cell_type": "code",
   "execution_count": 39,
   "metadata": {
    "execution": {
     "iopub.execute_input": "2020-07-30T00:55:30.014866Z",
     "iopub.status.busy": "2020-07-30T00:55:30.013866Z",
     "iopub.status.idle": "2020-07-30T00:55:30.322538Z",
     "shell.execute_reply": "2020-07-30T00:55:30.322538Z",
     "shell.execute_reply.started": "2020-07-30T00:55:30.014866Z"
    }
   },
   "outputs": [
    {
     "data": {
      "image/png": "[encoded data removed]",
      "text/plain": [
       "<Figure size 720x360 with 1 Axes>"
      ]
     },
     "metadata": {
      "needs_background": "light"
     },
     "output_type": "display_data"
    }
   ],
   "source": [
    "count_plot('affiliate_provider')"
   ]
  },
  {
   "cell_type": "markdown",
   "metadata": {},
   "source": [
    "**Observation**: From the affiliate standpoint, there are not obvious difference in the booking rate based on the provider or channel."
   ]
  },
  {
   "cell_type": "markdown",
   "metadata": {},
   "source": [
    "### Session Data Review"
   ]
  },
  {
   "cell_type": "markdown",
   "metadata": {},
   "source": [
    "We completed the features for the train dataset, we now move on to the session dataset"
   ]
  },
  {
   "cell_type": "code",
   "execution_count": 40,
   "metadata": {
    "execution": {
     "iopub.execute_input": "2020-07-30T00:55:30.323396Z",
     "iopub.status.busy": "2020-07-30T00:55:30.323396Z",
     "iopub.status.idle": "2020-07-30T00:55:30.367787Z",
     "shell.execute_reply": "2020-07-30T00:55:30.367288Z",
     "shell.execute_reply.started": "2020-07-30T00:55:30.323396Z"
    }
   },
   "outputs": [],
   "source": [
    "# obtain a copy of the browsing session and whether booking happened\n",
    "id_book = train[['id', 'book']]"
   ]
  },
  {
   "cell_type": "code",
   "execution_count": 41,
   "metadata": {
    "execution": {
     "iopub.execute_input": "2020-07-30T00:55:30.368822Z",
     "iopub.status.busy": "2020-07-30T00:55:30.368822Z",
     "iopub.status.idle": "2020-07-30T00:55:31.378375Z",
     "shell.execute_reply": "2020-07-30T00:55:31.378375Z",
     "shell.execute_reply.started": "2020-07-30T00:55:30.368822Z"
    }
   },
   "outputs": [],
   "source": [
    "session_bk = pd.merge(session, id_book, left_on='user_id', right_on='id', how='inner')"
   ]
  },
  {
   "cell_type": "markdown",
   "metadata": {},
   "source": [
    "#### Section times"
   ]
  },
  {
   "cell_type": "code",
   "execution_count": 42,
   "metadata": {
    "execution": {
     "iopub.execute_input": "2020-07-30T00:55:31.379168Z",
     "iopub.status.busy": "2020-07-30T00:55:31.379168Z",
     "iopub.status.idle": "2020-07-30T00:55:32.150530Z",
     "shell.execute_reply": "2020-07-30T00:55:32.150530Z",
     "shell.execute_reply.started": "2020-07-30T00:55:31.379168Z"
    }
   },
   "outputs": [],
   "source": [
    "sec_time = session_bk.groupby(['user_id', 'book']).agg({'secs_elapsed': 'sum'}).reset_index()"
   ]
  },
  {
   "cell_type": "code",
   "execution_count": 43,
   "metadata": {
    "execution": {
     "iopub.execute_input": "2020-07-30T00:55:32.151527Z",
     "iopub.status.busy": "2020-07-30T00:55:32.151527Z",
     "iopub.status.idle": "2020-07-30T00:55:32.158510Z",
     "shell.execute_reply": "2020-07-30T00:55:32.157512Z",
     "shell.execute_reply.started": "2020-07-30T00:55:32.151527Z"
    }
   },
   "outputs": [],
   "source": [
    "sec_time['sec_log'] = sec_time['secs_elapsed'].apply(np.log).replace(-np.inf, 0)\n",
    "# sec_time['sec_log'] = sec_time['sec_log'].replace()"
   ]
  },
  {
   "cell_type": "code",
   "execution_count": 44,
   "metadata": {
    "execution": {
     "iopub.execute_input": "2020-07-30T00:55:32.159507Z",
     "iopub.status.busy": "2020-07-30T00:55:32.159507Z",
     "iopub.status.idle": "2020-07-30T00:55:32.168482Z",
     "shell.execute_reply": "2020-07-30T00:55:32.168482Z",
     "shell.execute_reply.started": "2020-07-30T00:55:32.159507Z"
    }
   },
   "outputs": [
    {
     "data": {
      "text/plain": [
       "count    73815.000000\n",
       "mean        13.001341\n",
       "std          2.643242\n",
       "min          0.000000\n",
       "25%         12.456522\n",
       "50%         13.679533\n",
       "75%         14.530168\n",
       "max         17.458905\n",
       "Name: sec_log, dtype: float64"
      ]
     },
     "execution_count": 44,
     "metadata": {},
     "output_type": "execute_result"
    }
   ],
   "source": [
    "sec_time['sec_log'].describe()"
   ]
  },
  {
   "cell_type": "code",
   "execution_count": 45,
   "metadata": {
    "execution": {
     "iopub.execute_input": "2020-07-30T00:55:32.169480Z",
     "iopub.status.busy": "2020-07-30T00:55:32.169480Z",
     "iopub.status.idle": "2020-07-30T00:55:32.184443Z",
     "shell.execute_reply": "2020-07-30T00:55:32.184443Z",
     "shell.execute_reply.started": "2020-07-30T00:55:32.169480Z"
    }
   },
   "outputs": [],
   "source": [
    "booked = sec_time.query('book == 1')\n",
    "dropped = sec_time.query('book == 0')"
   ]
  },
  {
   "cell_type": "code",
   "execution_count": 46,
   "metadata": {
    "execution": {
     "iopub.execute_input": "2020-07-30T00:55:32.185440Z",
     "iopub.status.busy": "2020-07-30T00:55:32.185440Z",
     "iopub.status.idle": "2020-07-30T00:55:32.331049Z",
     "shell.execute_reply": "2020-07-30T00:55:32.331049Z",
     "shell.execute_reply.started": "2020-07-30T00:55:32.185440Z"
    }
   },
   "outputs": [
    {
     "data": {
      "image/png": "[encoded data removed]",
      "text/plain": [
       "<Figure size 576x576 with 1 Axes>"
      ]
     },
     "metadata": {
      "needs_background": "light"
     },
     "output_type": "display_data"
    }
   ],
   "source": [
    "plt.figure(figsize=(8,8))\n",
    "sns.distplot(booked['sec_log'], label='booked', hist=False)\n",
    "sns.distplot(dropped['sec_log'], label='no_book', hist=False)\n",
    "plt.legend(loc='best')\n",
    "plt.show()"
   ]
  },
  {
   "cell_type": "markdown",
   "metadata": {},
   "source": [
    "**Observation**: Overall, longer section time will more likely to result in booking. Unfortunately, there isn't a clear cut on the time range since there are enough long sections that do not result in booking, which could represent user browsing during destination research."
   ]
  },
  {
   "cell_type": "code",
   "execution_count": 47,
   "metadata": {
    "execution": {
     "iopub.execute_input": "2020-07-30T00:55:32.332045Z",
     "iopub.status.busy": "2020-07-30T00:55:32.332045Z",
     "iopub.status.idle": "2020-07-30T00:55:32.341021Z",
     "shell.execute_reply": "2020-07-30T00:55:32.341021Z",
     "shell.execute_reply.started": "2020-07-30T00:55:32.332045Z"
    }
   },
   "outputs": [
    {
     "data": {
      "text/html": [
       "<div>\n",
       "<style scoped>\n",
       "    .dataframe tbody tr th:only-of-type {\n",
       "        vertical-align: middle;\n",
       "    }\n",
       "\n",
       "    .dataframe tbody tr th {\n",
       "        vertical-align: top;\n",
       "    }\n",
       "\n",
       "    .dataframe thead th {\n",
       "        text-align: right;\n",
       "    }\n",
       "</style>\n",
       "<table border=\"1\" class=\"dataframe\">\n",
       "  <thead>\n",
       "    <tr style=\"text-align: right;\">\n",
       "      <th></th>\n",
       "      <th>user_id</th>\n",
       "      <th>action</th>\n",
       "      <th>action_type</th>\n",
       "      <th>action_detail</th>\n",
       "      <th>device_type</th>\n",
       "      <th>secs_elapsed</th>\n",
       "      <th>id</th>\n",
       "      <th>book</th>\n",
       "    </tr>\n",
       "  </thead>\n",
       "  <tbody>\n",
       "    <tr>\n",
       "      <th>0</th>\n",
       "      <td>d1mm9tcy42</td>\n",
       "      <td>lookup</td>\n",
       "      <td>NaN</td>\n",
       "      <td>NaN</td>\n",
       "      <td>Windows Desktop</td>\n",
       "      <td>319.0</td>\n",
       "      <td>d1mm9tcy42</td>\n",
       "      <td>1</td>\n",
       "    </tr>\n",
       "    <tr>\n",
       "      <th>1</th>\n",
       "      <td>d1mm9tcy42</td>\n",
       "      <td>search_results</td>\n",
       "      <td>click</td>\n",
       "      <td>view_search_results</td>\n",
       "      <td>Windows Desktop</td>\n",
       "      <td>67753.0</td>\n",
       "      <td>d1mm9tcy42</td>\n",
       "      <td>1</td>\n",
       "    </tr>\n",
       "    <tr>\n",
       "      <th>2</th>\n",
       "      <td>d1mm9tcy42</td>\n",
       "      <td>lookup</td>\n",
       "      <td>NaN</td>\n",
       "      <td>NaN</td>\n",
       "      <td>Windows Desktop</td>\n",
       "      <td>301.0</td>\n",
       "      <td>d1mm9tcy42</td>\n",
       "      <td>1</td>\n",
       "    </tr>\n",
       "    <tr>\n",
       "      <th>3</th>\n",
       "      <td>d1mm9tcy42</td>\n",
       "      <td>search_results</td>\n",
       "      <td>click</td>\n",
       "      <td>view_search_results</td>\n",
       "      <td>Windows Desktop</td>\n",
       "      <td>22141.0</td>\n",
       "      <td>d1mm9tcy42</td>\n",
       "      <td>1</td>\n",
       "    </tr>\n",
       "    <tr>\n",
       "      <th>4</th>\n",
       "      <td>d1mm9tcy42</td>\n",
       "      <td>lookup</td>\n",
       "      <td>NaN</td>\n",
       "      <td>NaN</td>\n",
       "      <td>Windows Desktop</td>\n",
       "      <td>435.0</td>\n",
       "      <td>d1mm9tcy42</td>\n",
       "      <td>1</td>\n",
       "    </tr>\n",
       "  </tbody>\n",
       "</table>\n",
       "</div>"
      ],
      "text/plain": [
       "      user_id          action action_type        action_detail  \\\n",
       "0  d1mm9tcy42          lookup         NaN                  NaN   \n",
       "1  d1mm9tcy42  search_results       click  view_search_results   \n",
       "2  d1mm9tcy42          lookup         NaN                  NaN   \n",
       "3  d1mm9tcy42  search_results       click  view_search_results   \n",
       "4  d1mm9tcy42          lookup         NaN                  NaN   \n",
       "\n",
       "       device_type  secs_elapsed          id  book  \n",
       "0  Windows Desktop         319.0  d1mm9tcy42     1  \n",
       "1  Windows Desktop       67753.0  d1mm9tcy42     1  \n",
       "2  Windows Desktop         301.0  d1mm9tcy42     1  \n",
       "3  Windows Desktop       22141.0  d1mm9tcy42     1  \n",
       "4  Windows Desktop         435.0  d1mm9tcy42     1  "
      ]
     },
     "execution_count": 47,
     "metadata": {},
     "output_type": "execute_result"
    }
   ],
   "source": [
    "session_bk.head()"
   ]
  },
  {
   "cell_type": "markdown",
   "metadata": {},
   "source": [
    "### Last action\n",
    "\n",
    "We will assume here that the order of the action item within the session dataset is sequential, in which the last row by each user_id is the last action performed by the users before users book or drop from the session. We will create a dataframe to capture that."
   ]
  },
  {
   "cell_type": "code",
   "execution_count": 48,
   "metadata": {
    "execution": {
     "iopub.execute_input": "2020-07-30T00:55:32.342019Z",
     "iopub.status.busy": "2020-07-30T00:55:32.342019Z",
     "iopub.status.idle": "2020-07-30T00:55:32.847693Z",
     "shell.execute_reply": "2020-07-30T00:55:32.847693Z",
     "shell.execute_reply.started": "2020-07-30T00:55:32.342019Z"
    }
   },
   "outputs": [],
   "source": [
    "last_action = session_bk.groupby(['user_id']).tail(1)"
   ]
  },
  {
   "cell_type": "code",
   "execution_count": 49,
   "metadata": {
    "execution": {
     "iopub.execute_input": "2020-07-30T00:55:32.848691Z",
     "iopub.status.busy": "2020-07-30T00:55:32.848691Z",
     "iopub.status.idle": "2020-07-30T00:55:33.000624Z",
     "shell.execute_reply": "2020-07-30T00:55:32.999907Z",
     "shell.execute_reply.started": "2020-07-30T00:55:32.848691Z"
    }
   },
   "outputs": [
    {
     "data": {
      "image/png": "[encoded data removed]",
      "text/plain": [
       "<Figure size 720x360 with 1 Axes>"
      ]
     },
     "metadata": {
      "needs_background": "light"
     },
     "output_type": "display_data"
    }
   ],
   "source": [
    "plt.figure(figsize=(10,5))\n",
    "sns.countplot(x='action_type', hue='book', data=last_action)\n",
    "plt.title('booking frequency by action type')\n",
    "plt.xticks(rotation=90)\n",
    "plt.show()"
   ]
  },
  {
   "cell_type": "markdown",
   "metadata": {},
   "source": [
    "Each type of the action has different booking rate, we will treat that as an feature.\n",
    "\n",
    "It turns out there are a lot of categorical among action detail and action, and make it difficult to assess through visualization. We will apply chi-squared test to all variables that cannot be assessed visually."
   ]
  },
  {
   "cell_type": "markdown",
   "metadata": {},
   "source": [
    "## Statistical Test"
   ]
  },
  {
   "cell_type": "markdown",
   "metadata": {},
   "source": [
    "**Null (H0)**: variables being tested do not affect booking rate\n",
    "<br>\n",
    "**Alternate (H1)**: variables being tested affect booking rate"
   ]
  },
  {
   "cell_type": "code",
   "execution_count": 50,
   "metadata": {
    "execution": {
     "iopub.execute_input": "2020-07-30T00:55:33.000624Z",
     "iopub.status.busy": "2020-07-30T00:55:33.000624Z",
     "iopub.status.idle": "2020-07-30T00:55:33.004635Z",
     "shell.execute_reply": "2020-07-30T00:55:33.004635Z",
     "shell.execute_reply.started": "2020-07-30T00:55:33.000624Z"
    }
   },
   "outputs": [],
   "source": [
    "from scipy.stats import chi2_contingency\n",
    "from scipy.stats import chi2"
   ]
  },
  {
   "cell_type": "code",
   "execution_count": 66,
   "metadata": {
    "execution": {
     "iopub.execute_input": "2020-07-30T01:09:25.752838Z",
     "iopub.status.busy": "2020-07-30T01:09:25.752838Z",
     "iopub.status.idle": "2020-07-30T01:09:25.757824Z",
     "shell.execute_reply": "2020-07-30T01:09:25.757824Z",
     "shell.execute_reply.started": "2020-07-30T01:09:25.752838Z"
    }
   },
   "outputs": [],
   "source": [
    "def chi_square(var, df):\n",
    "    table = pd.crosstab(df[var], df['book'], margins=True)\n",
    "    stat, p, dof, expected = chi2_contingency(table[[0, 1]])\n",
    "    print('chi_statistic: {:.3f}'.format(stat))\n",
    "    print('p-value: {:.2f}'.format(p))\n",
    "    print('degree of freedom: {:.0f}'.format(dof))\n",
    "#     print('expected freq: \\n {}'.format(pd.DataFrame(expected, index=table.index)))    "
   ]
  },
  {
   "cell_type": "code",
   "execution_count": 67,
   "metadata": {
    "execution": {
     "iopub.execute_input": "2020-07-30T01:09:26.226090Z",
     "iopub.status.busy": "2020-07-30T01:09:26.226090Z",
     "iopub.status.idle": "2020-07-30T01:09:26.324864Z",
     "shell.execute_reply": "2020-07-30T01:09:26.324864Z",
     "shell.execute_reply.started": "2020-07-30T01:09:26.226090Z"
    }
   },
   "outputs": [
    {
     "name": "stdout",
     "output_type": "stream",
     "text": [
      "chi_statistic: 856.533\n",
      "p-value: 0.00\n",
      "degree of freedom: 18\n"
     ]
    }
   ],
   "source": [
    "chi_square('affiliate_provider', train)"
   ]
  },
  {
   "cell_type": "code",
   "execution_count": 68,
   "metadata": {
    "execution": {
     "iopub.execute_input": "2020-07-30T01:09:28.132769Z",
     "iopub.status.busy": "2020-07-30T01:09:28.132769Z",
     "iopub.status.idle": "2020-07-30T01:09:28.230532Z",
     "shell.execute_reply": "2020-07-30T01:09:28.230532Z",
     "shell.execute_reply.started": "2020-07-30T01:09:28.132769Z"
    }
   },
   "outputs": [
    {
     "name": "stdout",
     "output_type": "stream",
     "text": [
      "chi_statistic: 1755.865\n",
      "p-value: 0.00\n",
      "degree of freedom: 8\n"
     ]
    }
   ],
   "source": [
    "chi_square('affiliate_channel', train)"
   ]
  },
  {
   "cell_type": "code",
   "execution_count": 69,
   "metadata": {
    "execution": {
     "iopub.execute_input": "2020-07-30T01:09:30.035745Z",
     "iopub.status.busy": "2020-07-30T01:09:30.034747Z",
     "iopub.status.idle": "2020-07-30T01:09:30.116261Z",
     "shell.execute_reply": "2020-07-30T01:09:30.116261Z",
     "shell.execute_reply.started": "2020-07-30T01:09:30.035745Z"
    }
   },
   "outputs": [
    {
     "name": "stdout",
     "output_type": "stream",
     "text": [
      "chi_statistic: 4612.401\n",
      "p-value: 0.00\n",
      "degree of freedom: 17\n"
     ]
    }
   ],
   "source": [
    "chi_square('signup_flow', train)"
   ]
  },
  {
   "cell_type": "code",
   "execution_count": 70,
   "metadata": {
    "execution": {
     "iopub.execute_input": "2020-07-30T01:09:38.280416Z",
     "iopub.status.busy": "2020-07-30T01:09:38.280416Z",
     "iopub.status.idle": "2020-07-30T01:09:38.342797Z",
     "shell.execute_reply": "2020-07-30T01:09:38.342797Z",
     "shell.execute_reply.started": "2020-07-30T01:09:38.280416Z"
    }
   },
   "outputs": [
    {
     "name": "stdout",
     "output_type": "stream",
     "text": [
      "chi_statistic: 4208.637\n",
      "p-value: 0.00\n",
      "degree of freedom: 226\n"
     ]
    }
   ],
   "source": [
    "chi_square('action', last_action)"
   ]
  },
  {
   "cell_type": "code",
   "execution_count": 71,
   "metadata": {
    "execution": {
     "iopub.execute_input": "2020-07-30T01:09:57.056618Z",
     "iopub.status.busy": "2020-07-30T01:09:57.056618Z",
     "iopub.status.idle": "2020-07-30T01:09:57.113494Z",
     "shell.execute_reply": "2020-07-30T01:09:57.113494Z",
     "shell.execute_reply.started": "2020-07-30T01:09:57.056618Z"
    }
   },
   "outputs": [
    {
     "name": "stdout",
     "output_type": "stream",
     "text": [
      "chi_statistic: 3512.873\n",
      "p-value: 0.00\n",
      "degree of freedom: 115\n"
     ]
    }
   ],
   "source": [
    "chi_square('action_detail', last_action)"
   ]
  },
  {
   "cell_type": "markdown",
   "metadata": {},
   "source": [
    "## Destination\n",
    "\n",
    "Above assessment focus on whether a booking will occur. The final target variable is destination which is the second part of the prediction model. We will repeat the assessment with a handful of selected features under to understand feature dependences."
   ]
  },
  {
   "cell_type": "code",
   "execution_count": 75,
   "metadata": {
    "execution": {
     "iopub.execute_input": "2020-07-30T01:30:39.992267Z",
     "iopub.status.busy": "2020-07-30T01:30:39.991295Z",
     "iopub.status.idle": "2020-07-30T01:30:40.031192Z",
     "shell.execute_reply": "2020-07-30T01:30:40.031192Z",
     "shell.execute_reply.started": "2020-07-30T01:30:39.992267Z"
    }
   },
   "outputs": [
    {
     "data": {
      "text/plain": [
       "NDF    124543\n",
       "Name: country_destination, dtype: int64"
      ]
     },
     "execution_count": 75,
     "metadata": {},
     "output_type": "execute_result"
    }
   ],
   "source": [
    "# check to ensure that all missing first book are under NDF\n",
    "train[train['date_first_booking'].isna()]['country_destination'].value_counts()"
   ]
  },
  {
   "cell_type": "code",
   "execution_count": 131,
   "metadata": {},
   "outputs": [
    {
     "data": {
      "text/plain": [
       "NDF      124543\n",
       "US        62376\n",
       "other     10094\n",
       "FR         5023\n",
       "IT         2835\n",
       "GB         2324\n",
       "ES         2249\n",
       "CA         1428\n",
       "DE         1061\n",
       "NL          762\n",
       "AU          539\n",
       "PT          217\n",
       "Name: country_destination, dtype: int64"
      ]
     },
     "execution_count": 131,
     "metadata": {},
     "output_type": "execute_result"
    }
   ],
   "source": [
    "train['country_destination'].value_counts()"
   ]
  },
  {
   "cell_type": "markdown",
   "metadata": {},
   "source": [
    "In general, ~50% of the activities won't lead to a booking. US is still the most visited destination, followed by France."
   ]
  },
  {
   "cell_type": "code",
   "execution_count": 94,
   "metadata": {
    "execution": {
     "iopub.execute_input": "2020-07-30T01:46:53.574224Z",
     "iopub.status.busy": "2020-07-30T01:46:53.574224Z",
     "iopub.status.idle": "2020-07-30T01:46:53.596191Z",
     "shell.execute_reply": "2020-07-30T01:46:53.595198Z",
     "shell.execute_reply.started": "2020-07-30T01:46:53.574224Z"
    }
   },
   "outputs": [],
   "source": [
    "dest = train.loc[~train['date_first_booking'].isna()]"
   ]
  },
  {
   "cell_type": "code",
   "execution_count": 103,
   "metadata": {
    "execution": {
     "iopub.execute_input": "2020-07-30T02:23:30.800526Z",
     "iopub.status.busy": "2020-07-30T02:23:30.799528Z",
     "iopub.status.idle": "2020-07-30T02:23:30.804542Z",
     "shell.execute_reply": "2020-07-30T02:23:30.804542Z",
     "shell.execute_reply.started": "2020-07-30T02:23:30.800526Z"
    }
   },
   "outputs": [],
   "source": [
    "def table_plot(var, df):\n",
    "    plot_df = df.groupby([var, 'country_destination']).size().reset_index()\n",
    "    plot_pivot = plot_df.pivot(columns='country_destination', index=var, values=0)\n",
    "    stack_bar = plot_pivot.fillna(0).apply(lambda x: x*100/sum(x), axis=1)\n",
    "    return stack_bar"
   ]
  },
  {
   "cell_type": "markdown",
   "metadata": {},
   "source": [
    "### Browser"
   ]
  },
  {
   "cell_type": "code",
   "execution_count": 104,
   "metadata": {
    "execution": {
     "iopub.execute_input": "2020-07-30T02:23:36.868105Z",
     "iopub.status.busy": "2020-07-30T02:23:36.868105Z",
     "iopub.status.idle": "2020-07-30T02:23:37.056628Z",
     "shell.execute_reply": "2020-07-30T02:23:37.056628Z",
     "shell.execute_reply.started": "2020-07-30T02:23:36.868105Z"
    }
   },
   "outputs": [
    {
     "data": {
      "image/png": "[encoded data removed]",
      "text/plain": [
       "<Figure size 576x360 with 1 Axes>"
      ]
     },
     "metadata": {
      "needs_background": "light"
     },
     "output_type": "display_data"
    }
   ],
   "source": [
    "browser = table_plot('browser', dest)\n",
    "browser.plot(kind='bar', stacked=True, figsize=(8,5))\n",
    "plt.title('destination % by browser')\n",
    "plt.legend(loc='center')\n",
    "plt.show()"
   ]
  },
  {
   "cell_type": "markdown",
   "metadata": {},
   "source": [
    "Users who use major browsers such as chrome, firefox, and safari have the same likelihood to book a trip with in US. Other/unknown has even more higher percentage."
   ]
  },
  {
   "cell_type": "markdown",
   "metadata": {},
   "source": [
    "### Age Group"
   ]
  },
  {
   "cell_type": "code",
   "execution_count": 105,
   "metadata": {
    "execution": {
     "iopub.execute_input": "2020-07-30T02:23:44.431413Z",
     "iopub.status.busy": "2020-07-30T02:23:44.430391Z",
     "iopub.status.idle": "2020-07-30T02:23:44.988465Z",
     "shell.execute_reply": "2020-07-30T02:23:44.988465Z",
     "shell.execute_reply.started": "2020-07-30T02:23:44.431413Z"
    }
   },
   "outputs": [
    {
     "data": {
      "image/png": "[encoded data removed]",
      "text/plain": [
       "<Figure size 1080x360 with 1 Axes>"
      ]
     },
     "metadata": {
      "needs_background": "light"
     },
     "output_type": "display_data"
    }
   ],
   "source": [
    "age_gp = table_plot('age_gp', dest)\n",
    "age_gp.plot(kind='bar', stacked=True, figsize=(15,5))\n",
    "plt.title('destination % by age group')\n",
    "plt.legend(loc='best')\n",
    "plt.show()"
   ]
  },
  {
   "cell_type": "markdown",
   "metadata": {
    "execution": {
     "iopub.execute_input": "2020-07-29T18:10:14.064498Z",
     "iopub.status.busy": "2020-07-29T18:10:14.063500Z",
     "iopub.status.idle": "2020-07-29T18:10:14.092423Z",
     "shell.execute_reply": "2020-07-29T18:10:14.092423Z",
     "shell.execute_reply.started": "2020-07-29T18:10:14.063500Z"
    }
   },
   "source": [
    "10-14 age group has US only as the destination. Age 80-84 and 90-99 groups have fewer destination variations than others."
   ]
  },
  {
   "cell_type": "markdown",
   "metadata": {},
   "source": [
    "### Language"
   ]
  },
  {
   "cell_type": "code",
   "execution_count": 107,
   "metadata": {
    "execution": {
     "iopub.execute_input": "2020-07-30T02:24:05.264435Z",
     "iopub.status.busy": "2020-07-30T02:24:05.263438Z",
     "iopub.status.idle": "2020-07-30T02:24:05.495325Z",
     "shell.execute_reply": "2020-07-30T02:24:05.495325Z",
     "shell.execute_reply.started": "2020-07-30T02:24:05.264435Z"
    }
   },
   "outputs": [
    {
     "data": {
      "image/png": "[encoded data removed]",
      "text/plain": [
       "<Figure size 1080x360 with 2 Axes>"
      ]
     },
     "metadata": {
      "needs_background": "light"
     },
     "output_type": "display_data"
    }
   ],
   "source": [
    "lang = table_plot('lang', dest)\n",
    "plt.figure(figsize=(15, 5))\n",
    "sns.heatmap(lang.transpose(), cmap='coolwarm', annot=True)\n",
    "plt.title('% to destination country by language')\n",
    "plt.show()"
   ]
  },
  {
   "cell_type": "markdown",
   "metadata": {},
   "source": [
    "Despite highly imbalance data, eng platform still have the highest probability of booking a destination (mostly within US). European languages platform show slightly higher booking to France. "
   ]
  },
  {
   "cell_type": "markdown",
   "metadata": {},
   "source": [
    "### Summary:\n",
    "\n",
    "- Almost all variables being tested had some influence on the booking rate.\n",
    "- We make the decision here to drop signup method given there only few class in this category, and impact could have captured under affiliate channel. We will also drop affiliate provider due to potential high collinearity to affiliate channel.\n",
    "- We won't use the elapsed time feature since the distribution between booking and no booking has significant overlap.\n",
    "- the combination of action, action type, and action detail will likely to have more predictive power to booking, which we leverage machine learning algorithms to test.\n",
    "- new features created are age group, language group, and higher level browser category.\n",
    "- for session dataset, we will focus on last action in the user's browsing sequence."
   ]
  },
  {
   "cell_type": "code",
   "execution_count": null,
   "metadata": {},
   "outputs": [],
   "source": []
  }
 ],
 "metadata": {
  "kernelspec": {
   "display_name": "Python 3",
   "language": "python",
   "name": "python3"
  },
  "language_info": {
   "codemirror_mode": {
    "name": "ipython",
    "version": 3
   },
   "file_extension": ".py",
   "mimetype": "text/x-python",
   "name": "python",
   "nbconvert_exporter": "python",
   "pygments_lexer": "ipython3",
   "version": "3.7.1"
  }
 },
 "nbformat": 4,
 "nbformat_minor": 4
}
