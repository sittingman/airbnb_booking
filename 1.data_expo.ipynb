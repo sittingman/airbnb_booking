{
 "cells": [
  {
   "cell_type": "markdown",
   "metadata": {},
   "source": [
    "## Data Wrangling"
   ]
  },
  {
   "cell_type": "code",
   "execution_count": 1,
   "metadata": {
    "execution": {
     "iopub.execute_input": "2020-07-29T22:50:55.644286Z",
     "iopub.status.busy": "2020-07-29T22:50:55.644286Z",
     "iopub.status.idle": "2020-07-29T22:50:56.546337Z",
     "shell.execute_reply": "2020-07-29T22:50:56.546337Z",
     "shell.execute_reply.started": "2020-07-29T22:50:55.644286Z"
    }
   },
   "outputs": [
    {
     "name": "stderr",
     "output_type": "stream",
     "text": [
      "C:\\Users\\sit_k\\AppData\\Local\\Continuum\\anaconda3\\lib\\site-packages\\statsmodels\\tools\\_testing.py:19: FutureWarning: pandas.util.testing is deprecated. Use the functions in the public API at pandas.testing instead.\n",
      "  import pandas.util.testing as tm\n"
     ]
    }
   ],
   "source": [
    "import datetime as dt\n",
    "\n",
    "import matplotlib.pyplot as plt\n",
    "import matplotlib.ticker as ticker\n",
    "import missingno as msno\n",
    "import numpy as np\n",
    "import pandas as pd\n",
    "import seaborn as sns\n",
    "\n",
    "plt.style.use('ggplot')\n",
    "%matplotlib inline"
   ]
  },
  {
   "cell_type": "code",
   "execution_count": 2,
   "metadata": {
    "execution": {
     "iopub.execute_input": "2020-07-29T22:50:56.548319Z",
     "iopub.status.busy": "2020-07-29T22:50:56.547322Z",
     "iopub.status.idle": "2020-07-29T22:51:02.877323Z",
     "shell.execute_reply": "2020-07-29T22:51:02.877323Z",
     "shell.execute_reply.started": "2020-07-29T22:50:56.548319Z"
    }
   },
   "outputs": [],
   "source": [
    "gender = pd.read_csv('./data/age_gender_bkts.csv')\n",
    "train = pd.read_csv('./data/train_users_2.csv')\n",
    "test = pd.read_csv('./data/test_users.csv')\n",
    "country = pd.read_csv('./data/countries.csv')\n",
    "session = pd.read_csv('./data/sessions.csv')\n",
    "age_gender = pd.read_csv('./data/age_gender_bkts.csv')"
   ]
  },
  {
   "cell_type": "code",
   "execution_count": 3,
   "metadata": {
    "execution": {
     "iopub.execute_input": "2020-07-29T22:51:02.879281Z",
     "iopub.status.busy": "2020-07-29T22:51:02.878282Z",
     "iopub.status.idle": "2020-07-29T22:51:02.898257Z",
     "shell.execute_reply": "2020-07-29T22:51:02.898257Z",
     "shell.execute_reply.started": "2020-07-29T22:51:02.879281Z"
    }
   },
   "outputs": [
    {
     "name": "stdout",
     "output_type": "stream",
     "text": [
      "(420, 5)\n",
      "<class 'pandas.core.frame.DataFrame'>\n",
      "RangeIndex: 420 entries, 0 to 419\n",
      "Data columns (total 5 columns):\n",
      " #   Column                   Non-Null Count  Dtype  \n",
      "---  ------                   --------------  -----  \n",
      " 0   age_bucket               420 non-null    object \n",
      " 1   country_destination      420 non-null    object \n",
      " 2   gender                   420 non-null    object \n",
      " 3   population_in_thousands  420 non-null    float64\n",
      " 4   year                     420 non-null    float64\n",
      "dtypes: float64(2), object(3)\n",
      "memory usage: 16.5+ KB\n",
      "None\n"
     ]
    },
    {
     "data": {
      "text/html": [
       "<div>\n",
       "<style scoped>\n",
       "    .dataframe tbody tr th:only-of-type {\n",
       "        vertical-align: middle;\n",
       "    }\n",
       "\n",
       "    .dataframe tbody tr th {\n",
       "        vertical-align: top;\n",
       "    }\n",
       "\n",
       "    .dataframe thead th {\n",
       "        text-align: right;\n",
       "    }\n",
       "</style>\n",
       "<table border=\"1\" class=\"dataframe\">\n",
       "  <thead>\n",
       "    <tr style=\"text-align: right;\">\n",
       "      <th></th>\n",
       "      <th>age_bucket</th>\n",
       "      <th>country_destination</th>\n",
       "      <th>gender</th>\n",
       "      <th>population_in_thousands</th>\n",
       "      <th>year</th>\n",
       "    </tr>\n",
       "  </thead>\n",
       "  <tbody>\n",
       "    <tr>\n",
       "      <th>415</th>\n",
       "      <td>95-99</td>\n",
       "      <td>US</td>\n",
       "      <td>male</td>\n",
       "      <td>115.0</td>\n",
       "      <td>2015.0</td>\n",
       "    </tr>\n",
       "    <tr>\n",
       "      <th>416</th>\n",
       "      <td>90-94</td>\n",
       "      <td>US</td>\n",
       "      <td>male</td>\n",
       "      <td>541.0</td>\n",
       "      <td>2015.0</td>\n",
       "    </tr>\n",
       "    <tr>\n",
       "      <th>417</th>\n",
       "      <td>15-19</td>\n",
       "      <td>US</td>\n",
       "      <td>female</td>\n",
       "      <td>10570.0</td>\n",
       "      <td>2015.0</td>\n",
       "    </tr>\n",
       "    <tr>\n",
       "      <th>418</th>\n",
       "      <td>85-89</td>\n",
       "      <td>US</td>\n",
       "      <td>male</td>\n",
       "      <td>1441.0</td>\n",
       "      <td>2015.0</td>\n",
       "    </tr>\n",
       "    <tr>\n",
       "      <th>419</th>\n",
       "      <td>80-84</td>\n",
       "      <td>US</td>\n",
       "      <td>male</td>\n",
       "      <td>2442.0</td>\n",
       "      <td>2015.0</td>\n",
       "    </tr>\n",
       "  </tbody>\n",
       "</table>\n",
       "</div>"
      ],
      "text/plain": [
       "    age_bucket country_destination  gender  population_in_thousands    year\n",
       "415      95-99                  US    male                    115.0  2015.0\n",
       "416      90-94                  US    male                    541.0  2015.0\n",
       "417      15-19                  US  female                  10570.0  2015.0\n",
       "418      85-89                  US    male                   1441.0  2015.0\n",
       "419      80-84                  US    male                   2442.0  2015.0"
      ]
     },
     "metadata": {},
     "output_type": "display_data"
    }
   ],
   "source": [
    "print(gender.shape)\n",
    "print(gender.info())\n",
    "display(gender.tail())"
   ]
  },
  {
   "cell_type": "code",
   "execution_count": 4,
   "metadata": {
    "execution": {
     "iopub.execute_input": "2020-07-29T22:51:02.900225Z",
     "iopub.status.busy": "2020-07-29T22:51:02.899228Z",
     "iopub.status.idle": "2020-07-29T22:51:02.903244Z",
     "shell.execute_reply": "2020-07-29T22:51:02.903244Z",
     "shell.execute_reply.started": "2020-07-29T22:51:02.900225Z"
    }
   },
   "outputs": [
    {
     "data": {
      "text/plain": [
       "array(['100+', '95-99', '90-94', '85-89', '80-84', '75-79', '70-74',\n",
       "       '65-69', '60-64', '55-59', '50-54', '45-49', '40-44', '35-39',\n",
       "       '30-34', '25-29', '20-24', '15-19', '10-14', '5-9', '0-4'],\n",
       "      dtype=object)"
      ]
     },
     "execution_count": 4,
     "metadata": {},
     "output_type": "execute_result"
    }
   ],
   "source": [
    "gender['age_bucket'].unique()"
   ]
  },
  {
   "cell_type": "code",
   "execution_count": 5,
   "metadata": {
    "execution": {
     "iopub.execute_input": "2020-07-29T22:51:02.904213Z",
     "iopub.status.busy": "2020-07-29T22:51:02.904213Z",
     "iopub.status.idle": "2020-07-29T22:51:02.918201Z",
     "shell.execute_reply": "2020-07-29T22:51:02.918201Z",
     "shell.execute_reply.started": "2020-07-29T22:51:02.904213Z"
    }
   },
   "outputs": [
    {
     "name": "stdout",
     "output_type": "stream",
     "text": [
      "(10, 7)\n",
      "<class 'pandas.core.frame.DataFrame'>\n",
      "RangeIndex: 10 entries, 0 to 9\n",
      "Data columns (total 7 columns):\n",
      " #   Column                         Non-Null Count  Dtype  \n",
      "---  ------                         --------------  -----  \n",
      " 0   country_destination            10 non-null     object \n",
      " 1   lat_destination                10 non-null     float64\n",
      " 2   lng_destination                10 non-null     float64\n",
      " 3   distance_km                    10 non-null     float64\n",
      " 4   destination_km2                10 non-null     float64\n",
      " 5   destination_language           10 non-null     object \n",
      " 6   language_levenshtein_distance  10 non-null     float64\n",
      "dtypes: float64(5), object(2)\n",
      "memory usage: 688.0+ bytes\n",
      "None\n"
     ]
    },
    {
     "data": {
      "text/html": [
       "<div>\n",
       "<style scoped>\n",
       "    .dataframe tbody tr th:only-of-type {\n",
       "        vertical-align: middle;\n",
       "    }\n",
       "\n",
       "    .dataframe tbody tr th {\n",
       "        vertical-align: top;\n",
       "    }\n",
       "\n",
       "    .dataframe thead th {\n",
       "        text-align: right;\n",
       "    }\n",
       "</style>\n",
       "<table border=\"1\" class=\"dataframe\">\n",
       "  <thead>\n",
       "    <tr style=\"text-align: right;\">\n",
       "      <th></th>\n",
       "      <th>country_destination</th>\n",
       "      <th>lat_destination</th>\n",
       "      <th>lng_destination</th>\n",
       "      <th>distance_km</th>\n",
       "      <th>destination_km2</th>\n",
       "      <th>destination_language</th>\n",
       "      <th>language_levenshtein_distance</th>\n",
       "    </tr>\n",
       "  </thead>\n",
       "  <tbody>\n",
       "    <tr>\n",
       "      <th>0</th>\n",
       "      <td>AU</td>\n",
       "      <td>-26.853388</td>\n",
       "      <td>133.275160</td>\n",
       "      <td>15297.7440</td>\n",
       "      <td>7741220.0</td>\n",
       "      <td>eng</td>\n",
       "      <td>0.00</td>\n",
       "    </tr>\n",
       "    <tr>\n",
       "      <th>1</th>\n",
       "      <td>CA</td>\n",
       "      <td>62.393303</td>\n",
       "      <td>-96.818146</td>\n",
       "      <td>2828.1333</td>\n",
       "      <td>9984670.0</td>\n",
       "      <td>eng</td>\n",
       "      <td>0.00</td>\n",
       "    </tr>\n",
       "    <tr>\n",
       "      <th>2</th>\n",
       "      <td>DE</td>\n",
       "      <td>51.165707</td>\n",
       "      <td>10.452764</td>\n",
       "      <td>7879.5680</td>\n",
       "      <td>357022.0</td>\n",
       "      <td>deu</td>\n",
       "      <td>72.61</td>\n",
       "    </tr>\n",
       "    <tr>\n",
       "      <th>3</th>\n",
       "      <td>ES</td>\n",
       "      <td>39.896027</td>\n",
       "      <td>-2.487694</td>\n",
       "      <td>7730.7240</td>\n",
       "      <td>505370.0</td>\n",
       "      <td>spa</td>\n",
       "      <td>92.25</td>\n",
       "    </tr>\n",
       "    <tr>\n",
       "      <th>4</th>\n",
       "      <td>FR</td>\n",
       "      <td>46.232193</td>\n",
       "      <td>2.209667</td>\n",
       "      <td>7682.9450</td>\n",
       "      <td>643801.0</td>\n",
       "      <td>fra</td>\n",
       "      <td>92.06</td>\n",
       "    </tr>\n",
       "    <tr>\n",
       "      <th>5</th>\n",
       "      <td>GB</td>\n",
       "      <td>54.633220</td>\n",
       "      <td>-3.432277</td>\n",
       "      <td>6883.6590</td>\n",
       "      <td>243610.0</td>\n",
       "      <td>eng</td>\n",
       "      <td>0.00</td>\n",
       "    </tr>\n",
       "    <tr>\n",
       "      <th>6</th>\n",
       "      <td>IT</td>\n",
       "      <td>41.873990</td>\n",
       "      <td>12.564167</td>\n",
       "      <td>8636.6310</td>\n",
       "      <td>301340.0</td>\n",
       "      <td>ita</td>\n",
       "      <td>89.40</td>\n",
       "    </tr>\n",
       "    <tr>\n",
       "      <th>7</th>\n",
       "      <td>NL</td>\n",
       "      <td>52.133057</td>\n",
       "      <td>5.295250</td>\n",
       "      <td>7524.3203</td>\n",
       "      <td>41543.0</td>\n",
       "      <td>nld</td>\n",
       "      <td>63.22</td>\n",
       "    </tr>\n",
       "    <tr>\n",
       "      <th>8</th>\n",
       "      <td>PT</td>\n",
       "      <td>39.553444</td>\n",
       "      <td>-7.839319</td>\n",
       "      <td>7355.2534</td>\n",
       "      <td>92090.0</td>\n",
       "      <td>por</td>\n",
       "      <td>95.45</td>\n",
       "    </tr>\n",
       "    <tr>\n",
       "      <th>9</th>\n",
       "      <td>US</td>\n",
       "      <td>36.966427</td>\n",
       "      <td>-95.844030</td>\n",
       "      <td>0.0000</td>\n",
       "      <td>9826675.0</td>\n",
       "      <td>eng</td>\n",
       "      <td>0.00</td>\n",
       "    </tr>\n",
       "  </tbody>\n",
       "</table>\n",
       "</div>"
      ],
      "text/plain": [
       "  country_destination  lat_destination  lng_destination  distance_km  \\\n",
       "0                  AU       -26.853388       133.275160   15297.7440   \n",
       "1                  CA        62.393303       -96.818146    2828.1333   \n",
       "2                  DE        51.165707        10.452764    7879.5680   \n",
       "3                  ES        39.896027        -2.487694    7730.7240   \n",
       "4                  FR        46.232193         2.209667    7682.9450   \n",
       "5                  GB        54.633220        -3.432277    6883.6590   \n",
       "6                  IT        41.873990        12.564167    8636.6310   \n",
       "7                  NL        52.133057         5.295250    7524.3203   \n",
       "8                  PT        39.553444        -7.839319    7355.2534   \n",
       "9                  US        36.966427       -95.844030       0.0000   \n",
       "\n",
       "   destination_km2 destination_language   language_levenshtein_distance  \n",
       "0        7741220.0                   eng                           0.00  \n",
       "1        9984670.0                   eng                           0.00  \n",
       "2         357022.0                   deu                          72.61  \n",
       "3         505370.0                   spa                          92.25  \n",
       "4         643801.0                   fra                          92.06  \n",
       "5         243610.0                   eng                           0.00  \n",
       "6         301340.0                   ita                          89.40  \n",
       "7          41543.0                   nld                          63.22  \n",
       "8          92090.0                   por                          95.45  \n",
       "9        9826675.0                   eng                           0.00  "
      ]
     },
     "metadata": {},
     "output_type": "display_data"
    }
   ],
   "source": [
    "print(country.shape)\n",
    "print(country.info())\n",
    "display(country)"
   ]
  },
  {
   "cell_type": "code",
   "execution_count": 6,
   "metadata": {
    "execution": {
     "iopub.execute_input": "2020-07-29T22:51:02.919174Z",
     "iopub.status.busy": "2020-07-29T22:51:02.919174Z",
     "iopub.status.idle": "2020-07-29T22:51:02.934134Z",
     "shell.execute_reply": "2020-07-29T22:51:02.934134Z",
     "shell.execute_reply.started": "2020-07-29T22:51:02.919174Z"
    }
   },
   "outputs": [
    {
     "name": "stdout",
     "output_type": "stream",
     "text": [
      "(420, 5)\n",
      "<class 'pandas.core.frame.DataFrame'>\n",
      "RangeIndex: 420 entries, 0 to 419\n",
      "Data columns (total 5 columns):\n",
      " #   Column                   Non-Null Count  Dtype  \n",
      "---  ------                   --------------  -----  \n",
      " 0   age_bucket               420 non-null    object \n",
      " 1   country_destination      420 non-null    object \n",
      " 2   gender                   420 non-null    object \n",
      " 3   population_in_thousands  420 non-null    float64\n",
      " 4   year                     420 non-null    float64\n",
      "dtypes: float64(2), object(3)\n",
      "memory usage: 16.5+ KB\n",
      "None\n"
     ]
    },
    {
     "data": {
      "text/html": [
       "<div>\n",
       "<style scoped>\n",
       "    .dataframe tbody tr th:only-of-type {\n",
       "        vertical-align: middle;\n",
       "    }\n",
       "\n",
       "    .dataframe tbody tr th {\n",
       "        vertical-align: top;\n",
       "    }\n",
       "\n",
       "    .dataframe thead th {\n",
       "        text-align: right;\n",
       "    }\n",
       "</style>\n",
       "<table border=\"1\" class=\"dataframe\">\n",
       "  <thead>\n",
       "    <tr style=\"text-align: right;\">\n",
       "      <th></th>\n",
       "      <th>age_bucket</th>\n",
       "      <th>country_destination</th>\n",
       "      <th>gender</th>\n",
       "      <th>population_in_thousands</th>\n",
       "      <th>year</th>\n",
       "    </tr>\n",
       "  </thead>\n",
       "  <tbody>\n",
       "    <tr>\n",
       "      <th>0</th>\n",
       "      <td>100+</td>\n",
       "      <td>AU</td>\n",
       "      <td>male</td>\n",
       "      <td>1.0</td>\n",
       "      <td>2015.0</td>\n",
       "    </tr>\n",
       "    <tr>\n",
       "      <th>1</th>\n",
       "      <td>95-99</td>\n",
       "      <td>AU</td>\n",
       "      <td>male</td>\n",
       "      <td>9.0</td>\n",
       "      <td>2015.0</td>\n",
       "    </tr>\n",
       "    <tr>\n",
       "      <th>2</th>\n",
       "      <td>90-94</td>\n",
       "      <td>AU</td>\n",
       "      <td>male</td>\n",
       "      <td>47.0</td>\n",
       "      <td>2015.0</td>\n",
       "    </tr>\n",
       "    <tr>\n",
       "      <th>3</th>\n",
       "      <td>85-89</td>\n",
       "      <td>AU</td>\n",
       "      <td>male</td>\n",
       "      <td>118.0</td>\n",
       "      <td>2015.0</td>\n",
       "    </tr>\n",
       "    <tr>\n",
       "      <th>4</th>\n",
       "      <td>80-84</td>\n",
       "      <td>AU</td>\n",
       "      <td>male</td>\n",
       "      <td>199.0</td>\n",
       "      <td>2015.0</td>\n",
       "    </tr>\n",
       "    <tr>\n",
       "      <th>...</th>\n",
       "      <td>...</td>\n",
       "      <td>...</td>\n",
       "      <td>...</td>\n",
       "      <td>...</td>\n",
       "      <td>...</td>\n",
       "    </tr>\n",
       "    <tr>\n",
       "      <th>415</th>\n",
       "      <td>95-99</td>\n",
       "      <td>US</td>\n",
       "      <td>male</td>\n",
       "      <td>115.0</td>\n",
       "      <td>2015.0</td>\n",
       "    </tr>\n",
       "    <tr>\n",
       "      <th>416</th>\n",
       "      <td>90-94</td>\n",
       "      <td>US</td>\n",
       "      <td>male</td>\n",
       "      <td>541.0</td>\n",
       "      <td>2015.0</td>\n",
       "    </tr>\n",
       "    <tr>\n",
       "      <th>417</th>\n",
       "      <td>15-19</td>\n",
       "      <td>US</td>\n",
       "      <td>female</td>\n",
       "      <td>10570.0</td>\n",
       "      <td>2015.0</td>\n",
       "    </tr>\n",
       "    <tr>\n",
       "      <th>418</th>\n",
       "      <td>85-89</td>\n",
       "      <td>US</td>\n",
       "      <td>male</td>\n",
       "      <td>1441.0</td>\n",
       "      <td>2015.0</td>\n",
       "    </tr>\n",
       "    <tr>\n",
       "      <th>419</th>\n",
       "      <td>80-84</td>\n",
       "      <td>US</td>\n",
       "      <td>male</td>\n",
       "      <td>2442.0</td>\n",
       "      <td>2015.0</td>\n",
       "    </tr>\n",
       "  </tbody>\n",
       "</table>\n",
       "<p>420 rows × 5 columns</p>\n",
       "</div>"
      ],
      "text/plain": [
       "    age_bucket country_destination  gender  population_in_thousands    year\n",
       "0         100+                  AU    male                      1.0  2015.0\n",
       "1        95-99                  AU    male                      9.0  2015.0\n",
       "2        90-94                  AU    male                     47.0  2015.0\n",
       "3        85-89                  AU    male                    118.0  2015.0\n",
       "4        80-84                  AU    male                    199.0  2015.0\n",
       "..         ...                 ...     ...                      ...     ...\n",
       "415      95-99                  US    male                    115.0  2015.0\n",
       "416      90-94                  US    male                    541.0  2015.0\n",
       "417      15-19                  US  female                  10570.0  2015.0\n",
       "418      85-89                  US    male                   1441.0  2015.0\n",
       "419      80-84                  US    male                   2442.0  2015.0\n",
       "\n",
       "[420 rows x 5 columns]"
      ]
     },
     "metadata": {},
     "output_type": "display_data"
    }
   ],
   "source": [
    "print(age_gender.shape)\n",
    "print(age_gender.info())\n",
    "display(age_gender)"
   ]
  },
  {
   "cell_type": "code",
   "execution_count": 7,
   "metadata": {
    "execution": {
     "iopub.execute_input": "2020-07-29T22:51:02.935132Z",
     "iopub.status.busy": "2020-07-29T22:51:02.935132Z",
     "iopub.status.idle": "2020-07-29T22:51:02.942112Z",
     "shell.execute_reply": "2020-07-29T22:51:02.942112Z",
     "shell.execute_reply.started": "2020-07-29T22:51:02.935132Z"
    }
   },
   "outputs": [
    {
     "name": "stdout",
     "output_type": "stream",
     "text": [
      "<class 'pandas.core.frame.DataFrame'>\n",
      "RangeIndex: 10567737 entries, 0 to 10567736\n",
      "Data columns (total 6 columns):\n",
      " #   Column         Dtype  \n",
      "---  ------         -----  \n",
      " 0   user_id        object \n",
      " 1   action         object \n",
      " 2   action_type    object \n",
      " 3   action_detail  object \n",
      " 4   device_type    object \n",
      " 5   secs_elapsed   float64\n",
      "dtypes: float64(1), object(5)\n",
      "memory usage: 483.8+ MB\n"
     ]
    }
   ],
   "source": [
    "session.info()"
   ]
  },
  {
   "cell_type": "code",
   "execution_count": 125,
   "metadata": {
    "execution": {
     "iopub.execute_input": "2020-07-30T00:01:53.246294Z",
     "iopub.status.busy": "2020-07-30T00:01:53.246294Z",
     "iopub.status.idle": "2020-07-30T00:01:53.250315Z",
     "shell.execute_reply": "2020-07-30T00:01:53.250315Z",
     "shell.execute_reply.started": "2020-07-30T00:01:53.246294Z"
    }
   },
   "outputs": [
    {
     "data": {
      "text/plain": [
       "(10567737, 6)"
      ]
     },
     "metadata": {},
     "output_type": "display_data"
    }
   ],
   "source": [
    "display(session.shape)"
   ]
  },
  {
   "cell_type": "code",
   "execution_count": 9,
   "metadata": {
    "execution": {
     "iopub.execute_input": "2020-07-29T22:51:02.956075Z",
     "iopub.status.busy": "2020-07-29T22:51:02.955077Z",
     "iopub.status.idle": "2020-07-29T22:51:03.047381Z",
     "shell.execute_reply": "2020-07-29T22:51:03.047381Z",
     "shell.execute_reply.started": "2020-07-29T22:51:02.956075Z"
    }
   },
   "outputs": [
    {
     "name": "stdout",
     "output_type": "stream",
     "text": [
      "<class 'pandas.core.frame.DataFrame'>\n",
      "RangeIndex: 213451 entries, 0 to 213450\n",
      "Data columns (total 16 columns):\n",
      " #   Column                   Non-Null Count   Dtype  \n",
      "---  ------                   --------------   -----  \n",
      " 0   id                       213451 non-null  object \n",
      " 1   date_account_created     213451 non-null  object \n",
      " 2   timestamp_first_active   213451 non-null  int64  \n",
      " 3   date_first_booking       88908 non-null   object \n",
      " 4   gender                   213451 non-null  object \n",
      " 5   age                      125461 non-null  float64\n",
      " 6   signup_method            213451 non-null  object \n",
      " 7   signup_flow              213451 non-null  int64  \n",
      " 8   language                 213451 non-null  object \n",
      " 9   affiliate_channel        213451 non-null  object \n",
      " 10  affiliate_provider       213451 non-null  object \n",
      " 11  first_affiliate_tracked  207386 non-null  object \n",
      " 12  signup_app               213451 non-null  object \n",
      " 13  first_device_type        213451 non-null  object \n",
      " 14  first_browser            213451 non-null  object \n",
      " 15  country_destination      213451 non-null  object \n",
      "dtypes: float64(1), int64(2), object(13)\n",
      "memory usage: 26.1+ MB\n"
     ]
    }
   ],
   "source": [
    "train.info()"
   ]
  },
  {
   "cell_type": "code",
   "execution_count": 10,
   "metadata": {
    "execution": {
     "iopub.execute_input": "2020-07-29T22:51:03.048342Z",
     "iopub.status.busy": "2020-07-29T22:51:03.048342Z",
     "iopub.status.idle": "2020-07-29T22:51:03.062306Z",
     "shell.execute_reply": "2020-07-29T22:51:03.062306Z",
     "shell.execute_reply.started": "2020-07-29T22:51:03.048342Z"
    }
   },
   "outputs": [
    {
     "data": {
      "text/html": [
       "<div>\n",
       "<style scoped>\n",
       "    .dataframe tbody tr th:only-of-type {\n",
       "        vertical-align: middle;\n",
       "    }\n",
       "\n",
       "    .dataframe tbody tr th {\n",
       "        vertical-align: top;\n",
       "    }\n",
       "\n",
       "    .dataframe thead th {\n",
       "        text-align: right;\n",
       "    }\n",
       "</style>\n",
       "<table border=\"1\" class=\"dataframe\">\n",
       "  <thead>\n",
       "    <tr style=\"text-align: right;\">\n",
       "      <th></th>\n",
       "      <th>id</th>\n",
       "      <th>date_account_created</th>\n",
       "      <th>timestamp_first_active</th>\n",
       "      <th>date_first_booking</th>\n",
       "      <th>gender</th>\n",
       "      <th>age</th>\n",
       "      <th>signup_method</th>\n",
       "      <th>signup_flow</th>\n",
       "      <th>language</th>\n",
       "      <th>affiliate_channel</th>\n",
       "      <th>affiliate_provider</th>\n",
       "      <th>first_affiliate_tracked</th>\n",
       "      <th>signup_app</th>\n",
       "      <th>first_device_type</th>\n",
       "      <th>first_browser</th>\n",
       "      <th>country_destination</th>\n",
       "    </tr>\n",
       "  </thead>\n",
       "  <tbody>\n",
       "    <tr>\n",
       "      <th>0</th>\n",
       "      <td>gxn3p5htnn</td>\n",
       "      <td>2010-06-28</td>\n",
       "      <td>20090319043255</td>\n",
       "      <td>NaN</td>\n",
       "      <td>-unknown-</td>\n",
       "      <td>NaN</td>\n",
       "      <td>facebook</td>\n",
       "      <td>0</td>\n",
       "      <td>en</td>\n",
       "      <td>direct</td>\n",
       "      <td>direct</td>\n",
       "      <td>untracked</td>\n",
       "      <td>Web</td>\n",
       "      <td>Mac Desktop</td>\n",
       "      <td>Chrome</td>\n",
       "      <td>NDF</td>\n",
       "    </tr>\n",
       "    <tr>\n",
       "      <th>1</th>\n",
       "      <td>820tgsjxq7</td>\n",
       "      <td>2011-05-25</td>\n",
       "      <td>20090523174809</td>\n",
       "      <td>NaN</td>\n",
       "      <td>MALE</td>\n",
       "      <td>38.0</td>\n",
       "      <td>facebook</td>\n",
       "      <td>0</td>\n",
       "      <td>en</td>\n",
       "      <td>seo</td>\n",
       "      <td>google</td>\n",
       "      <td>untracked</td>\n",
       "      <td>Web</td>\n",
       "      <td>Mac Desktop</td>\n",
       "      <td>Chrome</td>\n",
       "      <td>NDF</td>\n",
       "    </tr>\n",
       "    <tr>\n",
       "      <th>2</th>\n",
       "      <td>4ft3gnwmtx</td>\n",
       "      <td>2010-09-28</td>\n",
       "      <td>20090609231247</td>\n",
       "      <td>2010-08-02</td>\n",
       "      <td>FEMALE</td>\n",
       "      <td>56.0</td>\n",
       "      <td>basic</td>\n",
       "      <td>3</td>\n",
       "      <td>en</td>\n",
       "      <td>direct</td>\n",
       "      <td>direct</td>\n",
       "      <td>untracked</td>\n",
       "      <td>Web</td>\n",
       "      <td>Windows Desktop</td>\n",
       "      <td>IE</td>\n",
       "      <td>US</td>\n",
       "    </tr>\n",
       "    <tr>\n",
       "      <th>3</th>\n",
       "      <td>bjjt8pjhuk</td>\n",
       "      <td>2011-12-05</td>\n",
       "      <td>20091031060129</td>\n",
       "      <td>2012-09-08</td>\n",
       "      <td>FEMALE</td>\n",
       "      <td>42.0</td>\n",
       "      <td>facebook</td>\n",
       "      <td>0</td>\n",
       "      <td>en</td>\n",
       "      <td>direct</td>\n",
       "      <td>direct</td>\n",
       "      <td>untracked</td>\n",
       "      <td>Web</td>\n",
       "      <td>Mac Desktop</td>\n",
       "      <td>Firefox</td>\n",
       "      <td>other</td>\n",
       "    </tr>\n",
       "    <tr>\n",
       "      <th>4</th>\n",
       "      <td>87mebub9p4</td>\n",
       "      <td>2010-09-14</td>\n",
       "      <td>20091208061105</td>\n",
       "      <td>2010-02-18</td>\n",
       "      <td>-unknown-</td>\n",
       "      <td>41.0</td>\n",
       "      <td>basic</td>\n",
       "      <td>0</td>\n",
       "      <td>en</td>\n",
       "      <td>direct</td>\n",
       "      <td>direct</td>\n",
       "      <td>untracked</td>\n",
       "      <td>Web</td>\n",
       "      <td>Mac Desktop</td>\n",
       "      <td>Chrome</td>\n",
       "      <td>US</td>\n",
       "    </tr>\n",
       "  </tbody>\n",
       "</table>\n",
       "</div>"
      ],
      "text/plain": [
       "           id date_account_created  timestamp_first_active date_first_booking  \\\n",
       "0  gxn3p5htnn           2010-06-28          20090319043255                NaN   \n",
       "1  820tgsjxq7           2011-05-25          20090523174809                NaN   \n",
       "2  4ft3gnwmtx           2010-09-28          20090609231247         2010-08-02   \n",
       "3  bjjt8pjhuk           2011-12-05          20091031060129         2012-09-08   \n",
       "4  87mebub9p4           2010-09-14          20091208061105         2010-02-18   \n",
       "\n",
       "      gender   age signup_method  signup_flow language affiliate_channel  \\\n",
       "0  -unknown-   NaN      facebook            0       en            direct   \n",
       "1       MALE  38.0      facebook            0       en               seo   \n",
       "2     FEMALE  56.0         basic            3       en            direct   \n",
       "3     FEMALE  42.0      facebook            0       en            direct   \n",
       "4  -unknown-  41.0         basic            0       en            direct   \n",
       "\n",
       "  affiliate_provider first_affiliate_tracked signup_app first_device_type  \\\n",
       "0             direct               untracked        Web       Mac Desktop   \n",
       "1             google               untracked        Web       Mac Desktop   \n",
       "2             direct               untracked        Web   Windows Desktop   \n",
       "3             direct               untracked        Web       Mac Desktop   \n",
       "4             direct               untracked        Web       Mac Desktop   \n",
       "\n",
       "  first_browser country_destination  \n",
       "0        Chrome                 NDF  \n",
       "1        Chrome                 NDF  \n",
       "2            IE                  US  \n",
       "3       Firefox               other  \n",
       "4        Chrome                  US  "
      ]
     },
     "execution_count": 10,
     "metadata": {},
     "output_type": "execute_result"
    }
   ],
   "source": [
    "train.head()"
   ]
  },
  {
   "cell_type": "code",
   "execution_count": 11,
   "metadata": {
    "execution": {
     "iopub.execute_input": "2020-07-29T22:51:03.063303Z",
     "iopub.status.busy": "2020-07-29T22:51:03.063303Z",
     "iopub.status.idle": "2020-07-29T22:51:03.977942Z",
     "shell.execute_reply": "2020-07-29T22:51:03.977942Z",
     "shell.execute_reply.started": "2020-07-29T22:51:03.063303Z"
    }
   },
   "outputs": [
    {
     "data": {
      "image/png": "[encoded data removed]",
      "text/plain": [
       "<Figure size 1800x720 with 2 Axes>"
      ]
     },
     "metadata": {
      "needs_background": "light"
     },
     "output_type": "display_data"
    }
   ],
   "source": [
    "msno.matrix(train);"
   ]
  },
  {
   "cell_type": "code",
   "execution_count": 12,
   "metadata": {
    "execution": {
     "iopub.execute_input": "2020-07-29T22:51:03.978940Z",
     "iopub.status.busy": "2020-07-29T22:51:03.978940Z",
     "iopub.status.idle": "2020-07-29T22:51:03.994929Z",
     "shell.execute_reply": "2020-07-29T22:51:03.994929Z",
     "shell.execute_reply.started": "2020-07-29T22:51:03.978940Z"
    }
   },
   "outputs": [
    {
     "data": {
      "text/plain": [
       "count    125461.000000\n",
       "mean         49.668335\n",
       "std         155.666612\n",
       "min           1.000000\n",
       "25%          28.000000\n",
       "50%          34.000000\n",
       "75%          43.000000\n",
       "max        2014.000000\n",
       "Name: age, dtype: float64"
      ]
     },
     "execution_count": 12,
     "metadata": {},
     "output_type": "execute_result"
    }
   ],
   "source": [
    "train['age'].describe()"
   ]
  },
  {
   "cell_type": "markdown",
   "metadata": {},
   "source": [
    "### Cleaning steps needed:\n",
    "- convert all date/time related columns into datetime\n",
    "- deal with missing age and through assigning new variables and binning\n",
    "- filling first_affiliate_tracked missing value with new category value \"missing\""
   ]
  },
  {
   "cell_type": "markdown",
   "metadata": {},
   "source": [
    "#### Time"
   ]
  },
  {
   "cell_type": "code",
   "execution_count": 13,
   "metadata": {
    "execution": {
     "iopub.execute_input": "2020-07-29T22:51:03.995894Z",
     "iopub.status.busy": "2020-07-29T22:51:03.995894Z",
     "iopub.status.idle": "2020-07-29T22:51:04.625770Z",
     "shell.execute_reply": "2020-07-29T22:51:04.625770Z",
     "shell.execute_reply.started": "2020-07-29T22:51:03.995894Z"
    }
   },
   "outputs": [],
   "source": [
    "train['date_account_created'] = pd.to_datetime(\n",
    "    train['date_account_created'], format='%Y-%m-%d', errors='coerce')\n",
    "train['date_account_created'] = pd.to_datetime(\n",
    "    train['date_account_created'], format='%Y-%m-%d', errors='coerce')\n",
    "train['date_first_booking'] = pd.to_datetime(\n",
    "    train['date_first_booking'], format='%Y-%m-%d', errors='coerce')\n",
    "train['timestamp_first_active'] = pd.to_datetime(\n",
    "    train['timestamp_first_active'], format='%Y%m%d%H%M%S', errors='coerce')"
   ]
  },
  {
   "cell_type": "markdown",
   "metadata": {},
   "source": [
    "#### Age"
   ]
  },
  {
   "cell_type": "code",
   "execution_count": 14,
   "metadata": {
    "execution": {
     "iopub.execute_input": "2020-07-29T22:51:04.627737Z",
     "iopub.status.busy": "2020-07-29T22:51:04.626736Z",
     "iopub.status.idle": "2020-07-29T22:51:04.675607Z",
     "shell.execute_reply": "2020-07-29T22:51:04.674775Z",
     "shell.execute_reply.started": "2020-07-29T22:51:04.627737Z"
    }
   },
   "outputs": [],
   "source": [
    "# for missing value, assign -1 as the age value\n",
    "train['age_fill'] = train['age'].apply(\n",
    "    lambda x: -1 if x > 1000 else x).fillna(-1)"
   ]
  },
  {
   "cell_type": "code",
   "execution_count": 15,
   "metadata": {
    "execution": {
     "iopub.execute_input": "2020-07-29T22:51:04.676603Z",
     "iopub.status.busy": "2020-07-29T22:51:04.676603Z",
     "iopub.status.idle": "2020-07-29T22:51:04.690531Z",
     "shell.execute_reply": "2020-07-29T22:51:04.690008Z",
     "shell.execute_reply.started": "2020-07-29T22:51:04.676603Z"
    }
   },
   "outputs": [
    {
     "data": {
      "text/plain": [
       "count    213451.000000\n",
       "mean         21.438293\n",
       "std          21.731754\n",
       "min          -1.000000\n",
       "25%          -1.000000\n",
       "50%          26.000000\n",
       "75%          35.000000\n",
       "max         150.000000\n",
       "Name: age_fill, dtype: float64"
      ]
     },
     "execution_count": 15,
     "metadata": {},
     "output_type": "execute_result"
    }
   ],
   "source": [
    "train['age_fill'].describe()"
   ]
  },
  {
   "cell_type": "markdown",
   "metadata": {},
   "source": [
    "#### First Affiliate tracked"
   ]
  },
  {
   "cell_type": "code",
   "execution_count": 16,
   "metadata": {
    "execution": {
     "iopub.execute_input": "2020-07-29T22:51:04.691530Z",
     "iopub.status.busy": "2020-07-29T22:51:04.690531Z",
     "iopub.status.idle": "2020-07-29T22:51:04.714471Z",
     "shell.execute_reply": "2020-07-29T22:51:04.714471Z",
     "shell.execute_reply.started": "2020-07-29T22:51:04.691530Z"
    }
   },
   "outputs": [
    {
     "data": {
      "text/plain": [
       "untracked        109232\n",
       "linked            46287\n",
       "omg               43982\n",
       "tracked-other      6156\n",
       "NaN                6065\n",
       "product            1556\n",
       "marketing           139\n",
       "local ops            34\n",
       "Name: first_affiliate_tracked, dtype: int64"
      ]
     },
     "execution_count": 16,
     "metadata": {},
     "output_type": "execute_result"
    }
   ],
   "source": [
    "train['first_affiliate_tracked'].value_counts(dropna=False)"
   ]
  },
  {
   "cell_type": "markdown",
   "metadata": {},
   "source": [
    "The missing count is at 6000 thousands, which is still a relatively big number. Not knowing the reason of the miss, we will create a new category called \"miss\" treat that as a real category"
   ]
  },
  {
   "cell_type": "code",
   "execution_count": 17,
   "metadata": {
    "execution": {
     "iopub.execute_input": "2020-07-29T22:51:04.715466Z",
     "iopub.status.busy": "2020-07-29T22:51:04.715466Z",
     "iopub.status.idle": "2020-07-29T22:51:04.726438Z",
     "shell.execute_reply": "2020-07-29T22:51:04.725457Z",
     "shell.execute_reply.started": "2020-07-29T22:51:04.715466Z"
    }
   },
   "outputs": [],
   "source": [
    "train['first_affiliate_tracked'].fillna('miss', inplace=True)"
   ]
  },
  {
   "cell_type": "code",
   "execution_count": 18,
   "metadata": {
    "execution": {
     "iopub.execute_input": "2020-07-29T22:51:04.726438Z",
     "iopub.status.busy": "2020-07-29T22:51:04.726438Z",
     "iopub.status.idle": "2020-07-29T22:51:04.814754Z",
     "shell.execute_reply": "2020-07-29T22:51:04.814754Z",
     "shell.execute_reply.started": "2020-07-29T22:51:04.726438Z"
    }
   },
   "outputs": [
    {
     "name": "stdout",
     "output_type": "stream",
     "text": [
      "<class 'pandas.core.frame.DataFrame'>\n",
      "RangeIndex: 213451 entries, 0 to 213450\n",
      "Data columns (total 17 columns):\n",
      " #   Column                   Non-Null Count   Dtype         \n",
      "---  ------                   --------------   -----         \n",
      " 0   id                       213451 non-null  object        \n",
      " 1   date_account_created     213451 non-null  datetime64[ns]\n",
      " 2   timestamp_first_active   213451 non-null  datetime64[ns]\n",
      " 3   date_first_booking       88908 non-null   datetime64[ns]\n",
      " 4   gender                   213451 non-null  object        \n",
      " 5   age                      125461 non-null  float64       \n",
      " 6   signup_method            213451 non-null  object        \n",
      " 7   signup_flow              213451 non-null  int64         \n",
      " 8   language                 213451 non-null  object        \n",
      " 9   affiliate_channel        213451 non-null  object        \n",
      " 10  affiliate_provider       213451 non-null  object        \n",
      " 11  first_affiliate_tracked  213451 non-null  object        \n",
      " 12  signup_app               213451 non-null  object        \n",
      " 13  first_device_type        213451 non-null  object        \n",
      " 14  first_browser            213451 non-null  object        \n",
      " 15  country_destination      213451 non-null  object        \n",
      " 16  age_fill                 213451 non-null  float64       \n",
      "dtypes: datetime64[ns](3), float64(2), int64(1), object(11)\n",
      "memory usage: 27.7+ MB\n"
     ]
    }
   ],
   "source": [
    "train.info()"
   ]
  },
  {
   "cell_type": "markdown",
   "metadata": {},
   "source": [
    "## Data Exploratory"
   ]
  },
  {
   "cell_type": "markdown",
   "metadata": {},
   "source": [
    "In this section, we are trying to identify variables within the train dataset, then we will dive in to session dataset to understand browsing pattern.\n",
    "\n",
    "We first want to create a simple binary variable \"book\" that take value 1 if booking occur, 0 otherwise."
   ]
  },
  {
   "cell_type": "code",
   "execution_count": 19,
   "metadata": {
    "execution": {
     "iopub.execute_input": "2020-07-29T22:51:04.815705Z",
     "iopub.status.busy": "2020-07-29T22:51:04.815705Z",
     "iopub.status.idle": "2020-07-29T22:51:05.343593Z",
     "shell.execute_reply": "2020-07-29T22:51:05.343593Z",
     "shell.execute_reply.started": "2020-07-29T22:51:04.815705Z"
    }
   },
   "outputs": [],
   "source": [
    "# replace all missing values to 0 then assign 1 for rows that have booking dates\n",
    "train['book'] = train['date_first_booking'].fillna(\n",
    "    0).apply(lambda x: 0 if x == 0 else 1)"
   ]
  },
  {
   "cell_type": "markdown",
   "metadata": {},
   "source": [
    "### Age Group"
   ]
  },
  {
   "cell_type": "code",
   "execution_count": 20,
   "metadata": {
    "execution": {
     "iopub.execute_input": "2020-07-29T22:51:05.344521Z",
     "iopub.status.busy": "2020-07-29T22:51:05.344521Z",
     "iopub.status.idle": "2020-07-29T22:51:06.372392Z",
     "shell.execute_reply": "2020-07-29T22:51:06.372392Z",
     "shell.execute_reply.started": "2020-07-29T22:51:05.344521Z"
    }
   },
   "outputs": [
    {
     "data": {
      "image/png": "[encoded data removed]",
      "text/plain": [
       "<Figure size 1440x360 with 1 Axes>"
      ]
     },
     "metadata": {
      "needs_background": "light"
     },
     "output_type": "display_data"
    }
   ],
   "source": [
    "# checking age as function booking frequency\n",
    "plt.figure(figsize=(20, 5))\n",
    "ax = sns.countplot(x='age_fill', hue='book', data=train)\n",
    "plt.title('booking frequency by age group')\n",
    "plt.xticks(rotation=90)\n",
    "plt.xlim(1, 100)\n",
    "plt.ylim(0, 4000)\n",
    "plt.show()"
   ]
  },
  {
   "cell_type": "markdown",
   "metadata": {},
   "source": [
    "**Observation**: age group between 25 to 35 appear to have the most booking, and they are also the mainstream user groups. Interesting to see age group 105 has a spike in booking. It is reasonable to believe that the high booking frequency is not driven by age but by other factors. \n",
    "\n",
    "We can further apply binning to the age by an interval of 5 as provided by the gender dataset since the distribution of the data is roughly normally distributed"
   ]
  },
  {
   "cell_type": "code",
   "execution_count": 21,
   "metadata": {
    "execution": {
     "iopub.execute_input": "2020-07-29T22:51:06.373374Z",
     "iopub.status.busy": "2020-07-29T22:51:06.373374Z",
     "iopub.status.idle": "2020-07-29T22:51:06.377353Z",
     "shell.execute_reply": "2020-07-29T22:51:06.377353Z",
     "shell.execute_reply.started": "2020-07-29T22:51:06.373374Z"
    }
   },
   "outputs": [],
   "source": [
    "age_cat = age_gender['age_bucket'].unique().tolist()\n",
    "age_sort = age_cat[::-1]\n",
    "age_sort.insert(0, 'miss')"
   ]
  },
  {
   "cell_type": "code",
   "execution_count": 22,
   "metadata": {
    "execution": {
     "iopub.execute_input": "2020-07-29T22:51:06.378351Z",
     "iopub.status.busy": "2020-07-29T22:51:06.378351Z",
     "iopub.status.idle": "2020-07-29T22:51:06.390338Z",
     "shell.execute_reply": "2020-07-29T22:51:06.390338Z",
     "shell.execute_reply.started": "2020-07-29T22:51:06.378351Z"
    }
   },
   "outputs": [],
   "source": [
    "train['age_cut'] = pd.cut(\n",
    "    train['age_fill'], bins=np.arange(-5, 106, 5), labels=age_sort)"
   ]
  },
  {
   "cell_type": "code",
   "execution_count": 23,
   "metadata": {
    "execution": {
     "iopub.execute_input": "2020-07-29T22:51:06.391316Z",
     "iopub.status.busy": "2020-07-29T22:51:06.391316Z",
     "iopub.status.idle": "2020-07-29T22:51:06.654151Z",
     "shell.execute_reply": "2020-07-29T22:51:06.654151Z",
     "shell.execute_reply.started": "2020-07-29T22:51:06.391316Z"
    }
   },
   "outputs": [
    {
     "data": {
      "image/png": "[encoded data removed]",
      "text/plain": [
       "<Figure size 720x360 with 1 Axes>"
      ]
     },
     "metadata": {
      "needs_background": "light"
     },
     "output_type": "display_data"
    }
   ],
   "source": [
    "plt.figure(figsize=(10, 5))\n",
    "ax = sns.countplot(x='age_cut', hue='book', data=train)\n",
    "plt.title('booking frequency by age group')\n",
    "plt.xticks(rotation=90)\n",
    "plt.show()"
   ]
  },
  {
   "cell_type": "markdown",
   "metadata": {},
   "source": [
    "Check other features one by one, create function below to streamline the process"
   ]
  },
  {
   "cell_type": "code",
   "execution_count": 24,
   "metadata": {
    "execution": {
     "iopub.execute_input": "2020-07-29T22:51:06.655131Z",
     "iopub.status.busy": "2020-07-29T22:51:06.655131Z",
     "iopub.status.idle": "2020-07-29T22:51:06.659148Z",
     "shell.execute_reply": "2020-07-29T22:51:06.659148Z",
     "shell.execute_reply.started": "2020-07-29T22:51:06.655131Z"
    }
   },
   "outputs": [],
   "source": [
    "def count_plot(x):\n",
    "    plt.figure(figsize=(10, 5))\n",
    "    sns.countplot(x=x, hue='book', data=train)\n",
    "    plt.xticks(rotation=90)\n",
    "    plt.title('booking frequency based on {}'.format(x))\n",
    "    plt.tight_layout()\n",
    "    plt.show()"
   ]
  },
  {
   "cell_type": "markdown",
   "metadata": {},
   "source": [
    "### Language"
   ]
  },
  {
   "cell_type": "code",
   "execution_count": 25,
   "metadata": {
    "execution": {
     "iopub.execute_input": "2020-07-29T22:51:06.660027Z",
     "iopub.status.busy": "2020-07-29T22:51:06.660027Z",
     "iopub.status.idle": "2020-07-29T22:51:06.969758Z",
     "shell.execute_reply": "2020-07-29T22:51:06.969378Z",
     "shell.execute_reply.started": "2020-07-29T22:51:06.660027Z"
    }
   },
   "outputs": [
    {
     "data": {
      "image/png": "[encoded data removed]",
      "text/plain": [
       "<Figure size 720x360 with 1 Axes>"
      ]
     },
     "metadata": {
      "needs_background": "light"
     },
     "output_type": "display_data"
    }
   ],
   "source": [
    "count_plot('language')"
   ]
  },
  {
   "cell_type": "markdown",
   "metadata": {},
   "source": [
    "English us the main language used on the platform. Given data are imbalance across languages other than English, we will consolidate languages into smaller categories in hope of increase the predictive power of this variable."
   ]
  },
  {
   "cell_type": "code",
   "execution_count": 26,
   "metadata": {
    "execution": {
     "iopub.execute_input": "2020-07-29T22:51:06.970757Z",
     "iopub.status.busy": "2020-07-29T22:51:06.970757Z",
     "iopub.status.idle": "2020-07-29T22:51:06.974748Z",
     "shell.execute_reply": "2020-07-29T22:51:06.974748Z",
     "shell.execute_reply.started": "2020-07-29T22:51:06.970757Z"
    }
   },
   "outputs": [],
   "source": [
    "lang = {'en': 'eng',\n",
    "        'zh': 'asia',\n",
    "        'ko': 'asia',\n",
    "        'ja': 'asia',\n",
    "        'fr': 'eu',\n",
    "        'es': 'eu',\n",
    "        'de': 'eu',\n",
    "        'ru': 'eu',\n",
    "        'pt': 'eu'}"
   ]
  },
  {
   "cell_type": "code",
   "execution_count": 27,
   "metadata": {
    "execution": {
     "iopub.execute_input": "2020-07-29T22:51:06.977738Z",
     "iopub.status.busy": "2020-07-29T22:51:06.977738Z",
     "iopub.status.idle": "2020-07-29T22:51:07.162831Z",
     "shell.execute_reply": "2020-07-29T22:51:07.162831Z",
     "shell.execute_reply.started": "2020-07-29T22:51:06.977738Z"
    }
   },
   "outputs": [
    {
     "data": {
      "image/png": "[encoded data removed]",
      "text/plain": [
       "<Figure size 720x360 with 1 Axes>"
      ]
     },
     "metadata": {
      "needs_background": "light"
     },
     "output_type": "display_data"
    }
   ],
   "source": [
    "train['lang'] = train['language'].map(lang).fillna('other')\n",
    "count_plot('lang')"
   ]
  },
  {
   "cell_type": "markdown",
   "metadata": {},
   "source": [
    "### Browser"
   ]
  },
  {
   "cell_type": "code",
   "execution_count": 28,
   "metadata": {
    "execution": {
     "iopub.execute_input": "2020-07-29T22:51:07.164824Z",
     "iopub.status.busy": "2020-07-29T22:51:07.164824Z",
     "iopub.status.idle": "2020-07-29T22:51:07.188762Z",
     "shell.execute_reply": "2020-07-29T22:51:07.188762Z",
     "shell.execute_reply.started": "2020-07-29T22:51:07.164824Z"
    }
   },
   "outputs": [
    {
     "data": {
      "text/plain": [
       "Chrome                  63845\n",
       "Safari                  45169\n",
       "Firefox                 33655\n",
       "-unknown-               27266\n",
       "IE                      21068\n",
       "Mobile Safari           19274\n",
       "Chrome Mobile            1270\n",
       "Android Browser           851\n",
       "AOL Explorer              245\n",
       "Opera                     188\n",
       "Silk                      124\n",
       "Chromium                   73\n",
       "BlackBerry Browser         53\n",
       "Maxthon                    46\n",
       "Apple Mail                 36\n",
       "IE Mobile                  36\n",
       "Sogou Explorer             33\n",
       "Mobile Firefox             30\n",
       "SiteKiosk                  24\n",
       "RockMelt                   24\n",
       "Iron                       17\n",
       "IceWeasel                  13\n",
       "Pale Moon                  12\n",
       "SeaMonkey                  11\n",
       "Yandex.Browser             11\n",
       "CometBird                  11\n",
       "Camino                      9\n",
       "TenFourFox                  8\n",
       "wOSBrowser                  6\n",
       "CoolNovo                    6\n",
       "Opera Mini                  4\n",
       "Avant Browser               4\n",
       "Mozilla                     3\n",
       "OmniWeb                     2\n",
       "Crazy Browser               2\n",
       "Comodo Dragon               2\n",
       "SlimBrowser                 2\n",
       "Flock                       2\n",
       "Opera Mobile                2\n",
       "TheWorld Browser            2\n",
       "Epic                        1\n",
       "Palm Pre web browser        1\n",
       "Outlook 2007                1\n",
       "IceDragon                   1\n",
       "Arora                       1\n",
       "Stainless                   1\n",
       "NetNewsWire                 1\n",
       "Kindle Browser              1\n",
       "Googlebot                   1\n",
       "Conkeror                    1\n",
       "Google Earth                1\n",
       "PS Vita browser             1\n",
       "Name: first_browser, dtype: int64"
      ]
     },
     "execution_count": 28,
     "metadata": {},
     "output_type": "execute_result"
    }
   ],
   "source": [
    "train['first_browser'].value_counts()"
   ]
  },
  {
   "cell_type": "code",
   "execution_count": 29,
   "metadata": {
    "execution": {
     "iopub.execute_input": "2020-07-29T22:51:07.189757Z",
     "iopub.status.busy": "2020-07-29T22:51:07.189757Z",
     "iopub.status.idle": "2020-07-29T22:51:07.200759Z",
     "shell.execute_reply": "2020-07-29T22:51:07.200759Z",
     "shell.execute_reply.started": "2020-07-29T22:51:07.189757Z"
    }
   },
   "outputs": [],
   "source": [
    "# consolidate browser type to reduce the number categories\n",
    "browser = {'Chrome': 'chrome',\n",
    "           'Chrome Mobile': 'chrome',\n",
    "           'Safari': 'safari',\n",
    "           'Mobile Safari': 'safari',\n",
    "           'Firefox': 'firefox',\n",
    "           'Mobile Firefox': 'firefox',\n",
    "           'IE': 'ie',\n",
    "           'IE Mobile': 'ie',\n",
    "           '-unknown-': 'unknown'}"
   ]
  },
  {
   "cell_type": "code",
   "execution_count": 30,
   "metadata": {
    "execution": {
     "iopub.execute_input": "2020-07-29T22:51:07.201726Z",
     "iopub.status.busy": "2020-07-29T22:51:07.201726Z",
     "iopub.status.idle": "2020-07-29T22:51:07.233677Z",
     "shell.execute_reply": "2020-07-29T22:51:07.233677Z",
     "shell.execute_reply.started": "2020-07-29T22:51:07.201726Z"
    }
   },
   "outputs": [],
   "source": [
    "train['browser'] = train['first_browser'].map(browser).fillna('other')"
   ]
  },
  {
   "cell_type": "code",
   "execution_count": 31,
   "metadata": {
    "execution": {
     "iopub.execute_input": "2020-07-29T22:51:07.234637Z",
     "iopub.status.busy": "2020-07-29T22:51:07.234637Z",
     "iopub.status.idle": "2020-07-29T22:51:07.414158Z",
     "shell.execute_reply": "2020-07-29T22:51:07.414158Z",
     "shell.execute_reply.started": "2020-07-29T22:51:07.234637Z"
    }
   },
   "outputs": [
    {
     "data": {
      "image/png": "[encoded data removed]",
      "text/plain": [
       "<Figure size 720x360 with 1 Axes>"
      ]
     },
     "metadata": {
      "needs_background": "light"
     },
     "output_type": "display_data"
    }
   ],
   "source": [
    "count_plot('browser')"
   ]
  },
  {
   "cell_type": "markdown",
   "metadata": {
    "execution": {
     "iopub.execute_input": "2020-07-29T22:07:27.447266Z",
     "iopub.status.busy": "2020-07-29T22:07:27.446294Z",
     "iopub.status.idle": "2020-07-29T22:07:27.451256Z",
     "shell.execute_reply": "2020-07-29T22:07:27.451256Z",
     "shell.execute_reply.started": "2020-07-29T22:07:27.447266Z"
    }
   },
   "source": [
    "Safari appears to have higher booking rate than chrome. It could be a useful features."
   ]
  },
  {
   "cell_type": "markdown",
   "metadata": {},
   "source": [
    "### Signup method and flow"
   ]
  },
  {
   "cell_type": "code",
   "execution_count": 32,
   "metadata": {
    "execution": {
     "iopub.execute_input": "2020-07-29T22:51:07.415156Z",
     "iopub.status.busy": "2020-07-29T22:51:07.415156Z",
     "iopub.status.idle": "2020-07-29T22:51:07.568834Z",
     "shell.execute_reply": "2020-07-29T22:51:07.568834Z",
     "shell.execute_reply.started": "2020-07-29T22:51:07.415156Z"
    }
   },
   "outputs": [
    {
     "data": {
      "image/png": "[encoded data removed]",
      "text/plain": [
       "<Figure size 720x360 with 1 Axes>"
      ]
     },
     "metadata": {
      "needs_background": "light"
     },
     "output_type": "display_data"
    }
   ],
   "source": [
    "count_plot('signup_method')"
   ]
  },
  {
   "cell_type": "markdown",
   "metadata": {},
   "source": [
    "The signup method does not seem to vary much on the booking rate. Would not include that in the modeling process"
   ]
  },
  {
   "cell_type": "code",
   "execution_count": 33,
   "metadata": {
    "execution": {
     "iopub.execute_input": "2020-07-29T22:51:07.569809Z",
     "iopub.status.busy": "2020-07-29T22:51:07.569809Z",
     "iopub.status.idle": "2020-07-29T22:51:07.788030Z",
     "shell.execute_reply": "2020-07-29T22:51:07.787501Z",
     "shell.execute_reply.started": "2020-07-29T22:51:07.569809Z"
    }
   },
   "outputs": [
    {
     "data": {
      "image/png": "[encoded data removed]",
      "text/plain": [
       "<Figure size 720x360 with 1 Axes>"
      ]
     },
     "metadata": {
      "needs_background": "light"
     },
     "output_type": "display_data"
    }
   ],
   "source": [
    "count_plot('signup_flow')"
   ]
  },
  {
   "cell_type": "markdown",
   "metadata": {},
   "source": [
    "**Observation**: booking rate appear to be the highest when the number of page visit is either 0, 12 or above 23. 0 pages users probably already know what they want and that session just for booking. If they browse more than 20 pages, which could mean that they are really serious above making a booking. It is interesting to see that values from 2-8, then 15-20 sections have very low booking rate, or even no records at all."
   ]
  },
  {
   "cell_type": "markdown",
   "metadata": {},
   "source": [
    "### Gender"
   ]
  },
  {
   "cell_type": "code",
   "execution_count": 34,
   "metadata": {
    "execution": {
     "iopub.execute_input": "2020-07-29T22:51:07.788030Z",
     "iopub.status.busy": "2020-07-29T22:51:07.788030Z",
     "iopub.status.idle": "2020-07-29T22:51:07.952628Z",
     "shell.execute_reply": "2020-07-29T22:51:07.952628Z",
     "shell.execute_reply.started": "2020-07-29T22:51:07.788030Z"
    }
   },
   "outputs": [
    {
     "data": {
      "image/png": "[encoded data removed]",
      "text/plain": [
       "<Figure size 720x360 with 1 Axes>"
      ]
     },
     "metadata": {
      "needs_background": "light"
     },
     "output_type": "display_data"
    }
   ],
   "source": [
    "count_plot('gender')"
   ]
  },
  {
   "cell_type": "markdown",
   "metadata": {},
   "source": [
    "**Observation**: Male and Female booking rate is almost identical. When users didn't specific gender, they are two times more likely to just browsing, which is quite a powerful feature. We will consolidate this features to be a binary variable \"gender_stated\", 0 is unknown, 1 being otherwise."
   ]
  },
  {
   "cell_type": "code",
   "execution_count": 44,
   "metadata": {
    "execution": {
     "iopub.execute_input": "2020-07-29T22:54:41.261028Z",
     "iopub.status.busy": "2020-07-29T22:54:41.261028Z",
     "iopub.status.idle": "2020-07-29T22:54:41.291970Z",
     "shell.execute_reply": "2020-07-29T22:54:41.291970Z",
     "shell.execute_reply.started": "2020-07-29T22:54:41.261028Z"
    }
   },
   "outputs": [
    {
     "data": {
      "text/plain": [
       "-unknown-    95688\n",
       "FEMALE       63041\n",
       "MALE         54440\n",
       "OTHER          282\n",
       "Name: gender, dtype: int64"
      ]
     },
     "execution_count": 44,
     "metadata": {},
     "output_type": "execute_result"
    }
   ],
   "source": [
    "train['gender'].value_counts()"
   ]
  },
  {
   "cell_type": "code",
   "execution_count": 47,
   "metadata": {
    "execution": {
     "iopub.execute_input": "2020-07-29T22:54:55.792857Z",
     "iopub.status.busy": "2020-07-29T22:54:55.792857Z",
     "iopub.status.idle": "2020-07-29T22:54:55.821805Z",
     "shell.execute_reply": "2020-07-29T22:54:55.821805Z",
     "shell.execute_reply.started": "2020-07-29T22:54:55.792857Z"
    }
   },
   "outputs": [],
   "source": [
    "train['gender_stated'] = train['gender'].apply(\n",
    "    lambda x: 'no' if x == '-unknown-' else 'yes')"
   ]
  },
  {
   "cell_type": "code",
   "execution_count": 48,
   "metadata": {
    "execution": {
     "iopub.execute_input": "2020-07-29T22:54:56.372150Z",
     "iopub.status.busy": "2020-07-29T22:54:56.372150Z",
     "iopub.status.idle": "2020-07-29T22:54:56.549706Z",
     "shell.execute_reply": "2020-07-29T22:54:56.549706Z",
     "shell.execute_reply.started": "2020-07-29T22:54:56.372150Z"
    }
   },
   "outputs": [
    {
     "data": {
      "image/png": "[encoded data removed]",
      "text/plain": [
       "<Figure size 720x360 with 1 Axes>"
      ]
     },
     "metadata": {
      "needs_background": "light"
     },
     "output_type": "display_data"
    }
   ],
   "source": [
    "count_plot('gender_stated')"
   ]
  },
  {
   "cell_type": "markdown",
   "metadata": {},
   "source": [
    "### Affiliate"
   ]
  },
  {
   "cell_type": "code",
   "execution_count": 50,
   "metadata": {
    "execution": {
     "iopub.execute_input": "2020-07-29T23:01:23.572258Z",
     "iopub.status.busy": "2020-07-29T23:01:23.572258Z",
     "iopub.status.idle": "2020-07-29T23:01:23.783251Z",
     "shell.execute_reply": "2020-07-29T23:01:23.783251Z",
     "shell.execute_reply.started": "2020-07-29T23:01:23.572258Z"
    }
   },
   "outputs": [
    {
     "data": {
      "image/png": "[encoded data removed]",
      "text/plain": [
       "<Figure size 720x360 with 1 Axes>"
      ]
     },
     "metadata": {
      "needs_background": "light"
     },
     "output_type": "display_data"
    }
   ],
   "source": [
    "count_plot('affiliate_channel')"
   ]
  },
  {
   "cell_type": "code",
   "execution_count": 51,
   "metadata": {
    "execution": {
     "iopub.execute_input": "2020-07-29T23:01:33.186049Z",
     "iopub.status.busy": "2020-07-29T23:01:33.185052Z",
     "iopub.status.idle": "2020-07-29T23:01:33.480322Z",
     "shell.execute_reply": "2020-07-29T23:01:33.480322Z",
     "shell.execute_reply.started": "2020-07-29T23:01:33.186049Z"
    }
   },
   "outputs": [
    {
     "data": {
      "image/png": "[encoded data removed]",
      "text/plain": [
       "<Figure size 720x360 with 1 Axes>"
      ]
     },
     "metadata": {
      "needs_background": "light"
     },
     "output_type": "display_data"
    }
   ],
   "source": [
    "count_plot('affiliate_provider')"
   ]
  },
  {
   "cell_type": "markdown",
   "metadata": {},
   "source": [
    "**Observation**: From the affiliate standpoint, there are not obvious difference in the booking rate based on the provider or channel."
   ]
  },
  {
   "cell_type": "markdown",
   "metadata": {},
   "source": [
    "### Session Data Review"
   ]
  },
  {
   "cell_type": "markdown",
   "metadata": {},
   "source": [
    "We completed the features for the train dataset, we now move on to the session dataset"
   ]
  },
  {
   "cell_type": "code",
   "execution_count": 53,
   "metadata": {
    "execution": {
     "iopub.execute_input": "2020-07-29T23:04:07.482192Z",
     "iopub.status.busy": "2020-07-29T23:04:07.482192Z",
     "iopub.status.idle": "2020-07-29T23:04:07.491173Z",
     "shell.execute_reply": "2020-07-29T23:04:07.491173Z",
     "shell.execute_reply.started": "2020-07-29T23:04:07.482192Z"
    }
   },
   "outputs": [],
   "source": [
    "# obtain a copy of the browsing session and whether booking happened\n",
    "id_book = train[['id', 'book']]"
   ]
  },
  {
   "cell_type": "code",
   "execution_count": 55,
   "metadata": {
    "execution": {
     "iopub.execute_input": "2020-07-29T23:05:17.640840Z",
     "iopub.status.busy": "2020-07-29T23:05:17.640840Z",
     "iopub.status.idle": "2020-07-29T23:05:18.749044Z",
     "shell.execute_reply": "2020-07-29T23:05:18.749044Z",
     "shell.execute_reply.started": "2020-07-29T23:05:17.640840Z"
    }
   },
   "outputs": [],
   "source": [
    "session_bk = pd.merge(session, id_book, left_on='user_id', right_on='id', how='inner')"
   ]
  },
  {
   "cell_type": "markdown",
   "metadata": {},
   "source": [
    "#### Section times"
   ]
  },
  {
   "cell_type": "code",
   "execution_count": 68,
   "metadata": {
    "execution": {
     "iopub.execute_input": "2020-07-29T23:14:59.281605Z",
     "iopub.status.busy": "2020-07-29T23:14:59.281605Z",
     "iopub.status.idle": "2020-07-29T23:14:59.836886Z",
     "shell.execute_reply": "2020-07-29T23:14:59.836886Z",
     "shell.execute_reply.started": "2020-07-29T23:14:59.281605Z"
    }
   },
   "outputs": [],
   "source": [
    "sec_time = session_bk.groupby(['user_id', 'book']).agg({'secs_elapsed': 'sum'}).reset_index()"
   ]
  },
  {
   "cell_type": "code",
   "execution_count": 104,
   "metadata": {
    "execution": {
     "iopub.execute_input": "2020-07-29T23:41:46.452187Z",
     "iopub.status.busy": "2020-07-29T23:41:46.451200Z",
     "iopub.status.idle": "2020-07-29T23:41:46.457180Z",
     "shell.execute_reply": "2020-07-29T23:41:46.457180Z",
     "shell.execute_reply.started": "2020-07-29T23:41:46.452187Z"
    }
   },
   "outputs": [],
   "source": [
    "sec_time['sec_log'] = sec_time['secs_elapsed'].apply(np.log).replace(-np.inf, 0)\n",
    "# sec_time['sec_log'] = sec_time['sec_log'].replace()"
   ]
  },
  {
   "cell_type": "code",
   "execution_count": 105,
   "metadata": {
    "execution": {
     "iopub.execute_input": "2020-07-29T23:41:48.932921Z",
     "iopub.status.busy": "2020-07-29T23:41:48.932921Z",
     "iopub.status.idle": "2020-07-29T23:41:48.942891Z",
     "shell.execute_reply": "2020-07-29T23:41:48.942891Z",
     "shell.execute_reply.started": "2020-07-29T23:41:48.932921Z"
    }
   },
   "outputs": [
    {
     "data": {
      "text/plain": [
       "count    73815.000000\n",
       "mean        13.001341\n",
       "std          2.643242\n",
       "min          0.000000\n",
       "25%         12.456522\n",
       "50%         13.679533\n",
       "75%         14.530168\n",
       "max         17.458905\n",
       "Name: sec_log, dtype: float64"
      ]
     },
     "execution_count": 105,
     "metadata": {},
     "output_type": "execute_result"
    }
   ],
   "source": [
    "sec_time['sec_log'].describe()"
   ]
  },
  {
   "cell_type": "code",
   "execution_count": 106,
   "metadata": {
    "execution": {
     "iopub.execute_input": "2020-07-29T23:41:55.576717Z",
     "iopub.status.busy": "2020-07-29T23:41:55.576717Z",
     "iopub.status.idle": "2020-07-29T23:41:55.588712Z",
     "shell.execute_reply": "2020-07-29T23:41:55.588712Z",
     "shell.execute_reply.started": "2020-07-29T23:41:55.576717Z"
    }
   },
   "outputs": [],
   "source": [
    "booked = sec_time.query('book == 1')\n",
    "dropped = sec_time.query('book == 0')"
   ]
  },
  {
   "cell_type": "code",
   "execution_count": 112,
   "metadata": {
    "execution": {
     "iopub.execute_input": "2020-07-29T23:43:18.931360Z",
     "iopub.status.busy": "2020-07-29T23:43:18.931360Z",
     "iopub.status.idle": "2020-07-29T23:43:19.067196Z",
     "shell.execute_reply": "2020-07-29T23:43:19.067196Z",
     "shell.execute_reply.started": "2020-07-29T23:43:18.931360Z"
    }
   },
   "outputs": [
    {
     "data": {
      "image/png": "[encoded data removed]",
      "text/plain": [
       "<Figure size 576x576 with 1 Axes>"
      ]
     },
     "metadata": {
      "needs_background": "light"
     },
     "output_type": "display_data"
    }
   ],
   "source": [
    "plt.figure(figsize=(8,8))\n",
    "sns.distplot(booked['sec_log'], label='booked', hist=False)\n",
    "sns.distplot(dropped['sec_log'], label='no_book', hist=False)\n",
    "plt.legend(loc='best')\n",
    "plt.show()"
   ]
  },
  {
   "cell_type": "markdown",
   "metadata": {},
   "source": [
    "**Observation**: Overall, longer section time will more likely to result in booking. Unfortunately, there isn't a clear cut on the time range since there are enough long sections that do not result in booking, which could represent user browsing during destination research."
   ]
  },
  {
   "cell_type": "code",
   "execution_count": 113,
   "metadata": {
    "execution": {
     "iopub.execute_input": "2020-07-29T23:49:43.033655Z",
     "iopub.status.busy": "2020-07-29T23:49:43.033655Z",
     "iopub.status.idle": "2020-07-29T23:49:43.045623Z",
     "shell.execute_reply": "2020-07-29T23:49:43.045623Z",
     "shell.execute_reply.started": "2020-07-29T23:49:43.033655Z"
    }
   },
   "outputs": [
    {
     "data": {
      "text/html": [
       "<div>\n",
       "<style scoped>\n",
       "    .dataframe tbody tr th:only-of-type {\n",
       "        vertical-align: middle;\n",
       "    }\n",
       "\n",
       "    .dataframe tbody tr th {\n",
       "        vertical-align: top;\n",
       "    }\n",
       "\n",
       "    .dataframe thead th {\n",
       "        text-align: right;\n",
       "    }\n",
       "</style>\n",
       "<table border=\"1\" class=\"dataframe\">\n",
       "  <thead>\n",
       "    <tr style=\"text-align: right;\">\n",
       "      <th></th>\n",
       "      <th>user_id</th>\n",
       "      <th>action</th>\n",
       "      <th>action_type</th>\n",
       "      <th>action_detail</th>\n",
       "      <th>device_type</th>\n",
       "      <th>secs_elapsed</th>\n",
       "      <th>id</th>\n",
       "      <th>book</th>\n",
       "    </tr>\n",
       "  </thead>\n",
       "  <tbody>\n",
       "    <tr>\n",
       "      <th>0</th>\n",
       "      <td>d1mm9tcy42</td>\n",
       "      <td>lookup</td>\n",
       "      <td>NaN</td>\n",
       "      <td>NaN</td>\n",
       "      <td>Windows Desktop</td>\n",
       "      <td>319.0</td>\n",
       "      <td>d1mm9tcy42</td>\n",
       "      <td>1</td>\n",
       "    </tr>\n",
       "    <tr>\n",
       "      <th>1</th>\n",
       "      <td>d1mm9tcy42</td>\n",
       "      <td>search_results</td>\n",
       "      <td>click</td>\n",
       "      <td>view_search_results</td>\n",
       "      <td>Windows Desktop</td>\n",
       "      <td>67753.0</td>\n",
       "      <td>d1mm9tcy42</td>\n",
       "      <td>1</td>\n",
       "    </tr>\n",
       "    <tr>\n",
       "      <th>2</th>\n",
       "      <td>d1mm9tcy42</td>\n",
       "      <td>lookup</td>\n",
       "      <td>NaN</td>\n",
       "      <td>NaN</td>\n",
       "      <td>Windows Desktop</td>\n",
       "      <td>301.0</td>\n",
       "      <td>d1mm9tcy42</td>\n",
       "      <td>1</td>\n",
       "    </tr>\n",
       "    <tr>\n",
       "      <th>3</th>\n",
       "      <td>d1mm9tcy42</td>\n",
       "      <td>search_results</td>\n",
       "      <td>click</td>\n",
       "      <td>view_search_results</td>\n",
       "      <td>Windows Desktop</td>\n",
       "      <td>22141.0</td>\n",
       "      <td>d1mm9tcy42</td>\n",
       "      <td>1</td>\n",
       "    </tr>\n",
       "    <tr>\n",
       "      <th>4</th>\n",
       "      <td>d1mm9tcy42</td>\n",
       "      <td>lookup</td>\n",
       "      <td>NaN</td>\n",
       "      <td>NaN</td>\n",
       "      <td>Windows Desktop</td>\n",
       "      <td>435.0</td>\n",
       "      <td>d1mm9tcy42</td>\n",
       "      <td>1</td>\n",
       "    </tr>\n",
       "  </tbody>\n",
       "</table>\n",
       "</div>"
      ],
      "text/plain": [
       "      user_id          action action_type        action_detail  \\\n",
       "0  d1mm9tcy42          lookup         NaN                  NaN   \n",
       "1  d1mm9tcy42  search_results       click  view_search_results   \n",
       "2  d1mm9tcy42          lookup         NaN                  NaN   \n",
       "3  d1mm9tcy42  search_results       click  view_search_results   \n",
       "4  d1mm9tcy42          lookup         NaN                  NaN   \n",
       "\n",
       "       device_type  secs_elapsed          id  book  \n",
       "0  Windows Desktop         319.0  d1mm9tcy42     1  \n",
       "1  Windows Desktop       67753.0  d1mm9tcy42     1  \n",
       "2  Windows Desktop         301.0  d1mm9tcy42     1  \n",
       "3  Windows Desktop       22141.0  d1mm9tcy42     1  \n",
       "4  Windows Desktop         435.0  d1mm9tcy42     1  "
      ]
     },
     "execution_count": 113,
     "metadata": {},
     "output_type": "execute_result"
    }
   ],
   "source": [
    "session_bk.head()"
   ]
  },
  {
   "cell_type": "markdown",
   "metadata": {},
   "source": [
    "### Last action\n",
    "\n",
    "We will assume here that the order of the action item within the session dataset is sequential, in which the last row by each user_id is the last action performed by the users before users book or drop from the session. We will create a dataframe to capture that."
   ]
  },
  {
   "cell_type": "code",
   "execution_count": 132,
   "metadata": {
    "execution": {
     "iopub.execute_input": "2020-07-30T00:03:50.947674Z",
     "iopub.status.busy": "2020-07-30T00:03:50.947674Z",
     "iopub.status.idle": "2020-07-30T00:03:51.478726Z",
     "shell.execute_reply": "2020-07-30T00:03:51.478726Z",
     "shell.execute_reply.started": "2020-07-30T00:03:50.947674Z"
    }
   },
   "outputs": [],
   "source": [
    "last_action = session_bk.groupby(['user_id']).tail(1)"
   ]
  },
  {
   "cell_type": "code",
   "execution_count": 145,
   "metadata": {
    "execution": {
     "iopub.execute_input": "2020-07-30T00:32:43.406683Z",
     "iopub.status.busy": "2020-07-30T00:32:43.406683Z",
     "iopub.status.idle": "2020-07-30T00:32:43.565266Z",
     "shell.execute_reply": "2020-07-30T00:32:43.565266Z",
     "shell.execute_reply.started": "2020-07-30T00:32:43.406683Z"
    }
   },
   "outputs": [
    {
     "data": {
      "image/png": "[encoded data removed]",
      "text/plain": [
       "<Figure size 720x360 with 1 Axes>"
      ]
     },
     "metadata": {
      "needs_background": "light"
     },
     "output_type": "display_data"
    }
   ],
   "source": [
    "plt.figure(figsize=(10,5))\n",
    "sns.countplot(x='action_type', hue='book', data=last_action)\n",
    "plt.title('booking frequency by action type')\n",
    "plt.xticks(rotation=90)\n",
    "plt.show()"
   ]
  },
  {
   "cell_type": "markdown",
   "metadata": {},
   "source": [
    "Each type of the action has different booking rate, we will treat that as an feature.\n",
    "\n",
    "It turns out there are a lot of categorical among action detail and action, and make it difficult to assess through visualization. We will apply chi-squared test to all variables that cannot be assessed visually."
   ]
  },
  {
   "cell_type": "markdown",
   "metadata": {},
   "source": [
    "## Statistical Test"
   ]
  },
  {
   "cell_type": "code",
   "execution_count": 146,
   "metadata": {
    "execution": {
     "iopub.execute_input": "2020-07-30T00:38:39.831835Z",
     "iopub.status.busy": "2020-07-30T00:38:39.831835Z",
     "iopub.status.idle": "2020-07-30T00:38:39.834827Z",
     "shell.execute_reply": "2020-07-30T00:38:39.834827Z",
     "shell.execute_reply.started": "2020-07-30T00:38:39.831835Z"
    }
   },
   "outputs": [],
   "source": [
    "from scipy.stats import chi2_contingency\n",
    "from scipy.stats import chi2"
   ]
  },
  {
   "cell_type": "code",
   "execution_count": null,
   "metadata": {},
   "outputs": [],
   "source": [
    "table = pd.crosstab(train['affiliate'])"
   ]
  },
  {
   "cell_type": "code",
   "execution_count": 118,
   "metadata": {
    "execution": {
     "iopub.execute_input": "2020-07-29T23:56:01.563637Z",
     "iopub.status.busy": "2020-07-29T23:56:01.563637Z",
     "iopub.status.idle": "2020-07-29T23:56:03.035684Z",
     "shell.execute_reply": "2020-07-29T23:56:03.035684Z",
     "shell.execute_reply.started": "2020-07-29T23:56:01.563637Z"
    }
   },
   "outputs": [
    {
     "data": {
      "text/plain": [
       "(array([0, 1, 2, 3, 4, 5, 6, 7, 8]),\n",
       " <a list of 9 Text major ticklabel objects>)"
      ]
     },
     "execution_count": 118,
     "metadata": {},
     "output_type": "execute_result"
    },
    {
     "data": {
      "image/png": "[encoded data removed]",
      "text/plain": [
       "<Figure size 432x288 with 1 Axes>"
      ]
     },
     "metadata": {
      "needs_background": "light"
     },
     "output_type": "display_data"
    }
   ],
   "source": [
    "sns.countplot(x='action_type', data=session_bk, hue='book')\n",
    "plt.xticks(rotation=90)"
   ]
  },
  {
   "cell_type": "code",
   "execution_count": 63,
   "metadata": {
    "execution": {
     "iopub.execute_input": "2020-07-29T23:10:49.252165Z",
     "iopub.status.busy": "2020-07-29T23:10:49.252165Z",
     "iopub.status.idle": "2020-07-29T23:10:49.517467Z",
     "shell.execute_reply": "2020-07-29T23:10:49.517467Z",
     "shell.execute_reply.started": "2020-07-29T23:10:49.252165Z"
    }
   },
   "outputs": [
    {
     "data": {
      "text/plain": [
       "332"
      ]
     },
     "execution_count": 63,
     "metadata": {},
     "output_type": "execute_result"
    }
   ],
   "source": [
    "len(session_bk.action.unique())"
   ]
  },
  {
   "cell_type": "code",
   "execution_count": 64,
   "metadata": {
    "execution": {
     "iopub.execute_input": "2020-07-29T23:10:54.843932Z",
     "iopub.status.busy": "2020-07-29T23:10:54.843932Z",
     "iopub.status.idle": "2020-07-29T23:10:55.102384Z",
     "shell.execute_reply": "2020-07-29T23:10:55.102384Z",
     "shell.execute_reply.started": "2020-07-29T23:10:54.843932Z"
    }
   },
   "outputs": [
    {
     "data": {
      "text/plain": [
       "129"
      ]
     },
     "execution_count": 64,
     "metadata": {},
     "output_type": "execute_result"
    }
   ],
   "source": [
    "len(session_bk.action_detail.unique())"
   ]
  },
  {
   "cell_type": "code",
   "execution_count": null,
   "metadata": {},
   "outputs": [],
   "source": []
  },
  {
   "cell_type": "code",
   "execution_count": 65,
   "metadata": {
    "execution": {
     "iopub.execute_input": "2020-07-29T23:11:38.085261Z",
     "iopub.status.busy": "2020-07-29T23:11:38.085261Z",
     "iopub.status.idle": "2020-07-29T23:11:38.322105Z",
     "shell.execute_reply": "2020-07-29T23:11:38.322105Z",
     "shell.execute_reply.started": "2020-07-29T23:11:38.085261Z"
    }
   },
   "outputs": [
    {
     "data": {
      "text/plain": [
       "array([nan, 'click', 'data', 'view', 'submit', 'message_post',\n",
       "       '-unknown-', 'booking_request', 'partner_callback',\n",
       "       'booking_response'], dtype=object)"
      ]
     },
     "execution_count": 65,
     "metadata": {},
     "output_type": "execute_result"
    }
   ],
   "source": [
    "session_bk.action_type.unique()"
   ]
  },
  {
   "cell_type": "code",
   "execution_count": 14,
   "metadata": {
    "execution": {
     "iopub.execute_input": "2020-07-29T18:10:13.621287Z",
     "iopub.status.busy": "2020-07-29T18:10:13.620293Z",
     "iopub.status.idle": "2020-07-29T18:10:13.661180Z",
     "shell.execute_reply": "2020-07-29T18:10:13.661180Z",
     "shell.execute_reply.started": "2020-07-29T18:10:13.621287Z"
    }
   },
   "outputs": [
    {
     "data": {
      "text/plain": [
       "NDF    124543\n",
       "Name: country_destination, dtype: int64"
      ]
     },
     "execution_count": 14,
     "metadata": {},
     "output_type": "execute_result"
    }
   ],
   "source": [
    "# check to ensure that all missing first book are under NDF\n",
    "train[train['first_book'].isna()]['country_destination'].value_counts()"
   ]
  },
  {
   "cell_type": "code",
   "execution_count": 15,
   "metadata": {
    "execution": {
     "iopub.execute_input": "2020-07-29T18:10:13.662178Z",
     "iopub.status.busy": "2020-07-29T18:10:13.662178Z",
     "iopub.status.idle": "2020-07-29T18:10:13.672151Z",
     "shell.execute_reply": "2020-07-29T18:10:13.672151Z",
     "shell.execute_reply.started": "2020-07-29T18:10:13.662178Z"
    }
   },
   "outputs": [],
   "source": [
    "# assign zero for all missing values under first_book\n",
    "train['first_book'] = train['first_book'].fillna(train['first_active'])"
   ]
  },
  {
   "cell_type": "code",
   "execution_count": 16,
   "metadata": {
    "execution": {
     "iopub.execute_input": "2020-07-29T18:10:13.673148Z",
     "iopub.status.busy": "2020-07-29T18:10:13.673148Z",
     "iopub.status.idle": "2020-07-29T18:10:13.690103Z",
     "shell.execute_reply": "2020-07-29T18:10:13.690103Z",
     "shell.execute_reply.started": "2020-07-29T18:10:13.673148Z"
    }
   },
   "outputs": [
    {
     "data": {
      "text/html": [
       "<div>\n",
       "<style scoped>\n",
       "    .dataframe tbody tr th:only-of-type {\n",
       "        vertical-align: middle;\n",
       "    }\n",
       "\n",
       "    .dataframe tbody tr th {\n",
       "        vertical-align: top;\n",
       "    }\n",
       "\n",
       "    .dataframe thead th {\n",
       "        text-align: right;\n",
       "    }\n",
       "</style>\n",
       "<table border=\"1\" class=\"dataframe\">\n",
       "  <thead>\n",
       "    <tr style=\"text-align: right;\">\n",
       "      <th></th>\n",
       "      <th>id</th>\n",
       "      <th>date_account_created</th>\n",
       "      <th>timestamp_first_active</th>\n",
       "      <th>date_first_booking</th>\n",
       "      <th>gender</th>\n",
       "      <th>age</th>\n",
       "      <th>signup_method</th>\n",
       "      <th>signup_flow</th>\n",
       "      <th>language</th>\n",
       "      <th>affiliate_channel</th>\n",
       "      <th>affiliate_provider</th>\n",
       "      <th>first_affiliate_tracked</th>\n",
       "      <th>signup_app</th>\n",
       "      <th>first_device_type</th>\n",
       "      <th>first_browser</th>\n",
       "      <th>country_destination</th>\n",
       "      <th>first_active</th>\n",
       "      <th>account_created</th>\n",
       "      <th>first_book</th>\n",
       "    </tr>\n",
       "  </thead>\n",
       "  <tbody>\n",
       "    <tr>\n",
       "      <th>0</th>\n",
       "      <td>gxn3p5htnn</td>\n",
       "      <td>2010-06-28</td>\n",
       "      <td>20090319043255</td>\n",
       "      <td>NaN</td>\n",
       "      <td>-unknown-</td>\n",
       "      <td>NaN</td>\n",
       "      <td>facebook</td>\n",
       "      <td>0</td>\n",
       "      <td>en</td>\n",
       "      <td>direct</td>\n",
       "      <td>direct</td>\n",
       "      <td>untracked</td>\n",
       "      <td>Web</td>\n",
       "      <td>Mac Desktop</td>\n",
       "      <td>Chrome</td>\n",
       "      <td>NDF</td>\n",
       "      <td>2009-03-19</td>\n",
       "      <td>2010-06-28</td>\n",
       "      <td>2009-03-19</td>\n",
       "    </tr>\n",
       "    <tr>\n",
       "      <th>1</th>\n",
       "      <td>820tgsjxq7</td>\n",
       "      <td>2011-05-25</td>\n",
       "      <td>20090523174809</td>\n",
       "      <td>NaN</td>\n",
       "      <td>MALE</td>\n",
       "      <td>38.0</td>\n",
       "      <td>facebook</td>\n",
       "      <td>0</td>\n",
       "      <td>en</td>\n",
       "      <td>seo</td>\n",
       "      <td>google</td>\n",
       "      <td>untracked</td>\n",
       "      <td>Web</td>\n",
       "      <td>Mac Desktop</td>\n",
       "      <td>Chrome</td>\n",
       "      <td>NDF</td>\n",
       "      <td>2009-05-23</td>\n",
       "      <td>2011-05-25</td>\n",
       "      <td>2009-05-23</td>\n",
       "    </tr>\n",
       "    <tr>\n",
       "      <th>2</th>\n",
       "      <td>4ft3gnwmtx</td>\n",
       "      <td>2010-09-28</td>\n",
       "      <td>20090609231247</td>\n",
       "      <td>2010-08-02</td>\n",
       "      <td>FEMALE</td>\n",
       "      <td>56.0</td>\n",
       "      <td>basic</td>\n",
       "      <td>3</td>\n",
       "      <td>en</td>\n",
       "      <td>direct</td>\n",
       "      <td>direct</td>\n",
       "      <td>untracked</td>\n",
       "      <td>Web</td>\n",
       "      <td>Windows Desktop</td>\n",
       "      <td>IE</td>\n",
       "      <td>US</td>\n",
       "      <td>2009-06-09</td>\n",
       "      <td>2010-09-28</td>\n",
       "      <td>2010-08-02</td>\n",
       "    </tr>\n",
       "    <tr>\n",
       "      <th>3</th>\n",
       "      <td>bjjt8pjhuk</td>\n",
       "      <td>2011-12-05</td>\n",
       "      <td>20091031060129</td>\n",
       "      <td>2012-09-08</td>\n",
       "      <td>FEMALE</td>\n",
       "      <td>42.0</td>\n",
       "      <td>facebook</td>\n",
       "      <td>0</td>\n",
       "      <td>en</td>\n",
       "      <td>direct</td>\n",
       "      <td>direct</td>\n",
       "      <td>untracked</td>\n",
       "      <td>Web</td>\n",
       "      <td>Mac Desktop</td>\n",
       "      <td>Firefox</td>\n",
       "      <td>other</td>\n",
       "      <td>2009-10-31</td>\n",
       "      <td>2011-12-05</td>\n",
       "      <td>2012-09-08</td>\n",
       "    </tr>\n",
       "    <tr>\n",
       "      <th>4</th>\n",
       "      <td>87mebub9p4</td>\n",
       "      <td>2010-09-14</td>\n",
       "      <td>20091208061105</td>\n",
       "      <td>2010-02-18</td>\n",
       "      <td>-unknown-</td>\n",
       "      <td>41.0</td>\n",
       "      <td>basic</td>\n",
       "      <td>0</td>\n",
       "      <td>en</td>\n",
       "      <td>direct</td>\n",
       "      <td>direct</td>\n",
       "      <td>untracked</td>\n",
       "      <td>Web</td>\n",
       "      <td>Mac Desktop</td>\n",
       "      <td>Chrome</td>\n",
       "      <td>US</td>\n",
       "      <td>2009-12-08</td>\n",
       "      <td>2010-09-14</td>\n",
       "      <td>2010-02-18</td>\n",
       "    </tr>\n",
       "  </tbody>\n",
       "</table>\n",
       "</div>"
      ],
      "text/plain": [
       "           id date_account_created  timestamp_first_active date_first_booking  \\\n",
       "0  gxn3p5htnn           2010-06-28          20090319043255                NaN   \n",
       "1  820tgsjxq7           2011-05-25          20090523174809                NaN   \n",
       "2  4ft3gnwmtx           2010-09-28          20090609231247         2010-08-02   \n",
       "3  bjjt8pjhuk           2011-12-05          20091031060129         2012-09-08   \n",
       "4  87mebub9p4           2010-09-14          20091208061105         2010-02-18   \n",
       "\n",
       "      gender   age signup_method  signup_flow language affiliate_channel  \\\n",
       "0  -unknown-   NaN      facebook            0       en            direct   \n",
       "1       MALE  38.0      facebook            0       en               seo   \n",
       "2     FEMALE  56.0         basic            3       en            direct   \n",
       "3     FEMALE  42.0      facebook            0       en            direct   \n",
       "4  -unknown-  41.0         basic            0       en            direct   \n",
       "\n",
       "  affiliate_provider first_affiliate_tracked signup_app first_device_type  \\\n",
       "0             direct               untracked        Web       Mac Desktop   \n",
       "1             google               untracked        Web       Mac Desktop   \n",
       "2             direct               untracked        Web   Windows Desktop   \n",
       "3             direct               untracked        Web       Mac Desktop   \n",
       "4             direct               untracked        Web       Mac Desktop   \n",
       "\n",
       "  first_browser country_destination first_active account_created first_book  \n",
       "0        Chrome                 NDF   2009-03-19      2010-06-28 2009-03-19  \n",
       "1        Chrome                 NDF   2009-05-23      2011-05-25 2009-05-23  \n",
       "2            IE                  US   2009-06-09      2010-09-28 2010-08-02  \n",
       "3       Firefox               other   2009-10-31      2011-12-05 2012-09-08  \n",
       "4        Chrome                  US   2009-12-08      2010-09-14 2010-02-18  "
      ]
     },
     "execution_count": 16,
     "metadata": {},
     "output_type": "execute_result"
    }
   ],
   "source": [
    "train.head()"
   ]
  },
  {
   "cell_type": "code",
   "execution_count": 17,
   "metadata": {
    "execution": {
     "iopub.execute_input": "2020-07-29T18:10:13.691100Z",
     "iopub.status.busy": "2020-07-29T18:10:13.691100Z",
     "iopub.status.idle": "2020-07-29T18:10:13.695091Z",
     "shell.execute_reply": "2020-07-29T18:10:13.695091Z",
     "shell.execute_reply.started": "2020-07-29T18:10:13.691100Z"
    }
   },
   "outputs": [],
   "source": [
    "# consolidate browser type to reduce the number categories\n",
    "browser = {'Chrome': 'chrome',\n",
    "           'Chrome Mobile': 'chrome',\n",
    "           'Safari': 'safari',\n",
    "           'Mobile Safari': 'safari',\n",
    "           'Firefox': 'firefox',\n",
    "           'Mobile Firefox': 'firefox',\n",
    "           'IE': 'ie',\n",
    "           'IE Mobile': 'ie',\n",
    "           '-unknown-': 'unknown'}"
   ]
  },
  {
   "cell_type": "code",
   "execution_count": 18,
   "metadata": {
    "execution": {
     "iopub.execute_input": "2020-07-29T18:10:13.697086Z",
     "iopub.status.busy": "2020-07-29T18:10:13.696087Z",
     "iopub.status.idle": "2020-07-29T18:10:13.726007Z",
     "shell.execute_reply": "2020-07-29T18:10:13.726007Z",
     "shell.execute_reply.started": "2020-07-29T18:10:13.697086Z"
    }
   },
   "outputs": [],
   "source": [
    "train['browser'] = train['first_browser'].map(browser).fillna('other')"
   ]
  },
  {
   "cell_type": "code",
   "execution_count": 19,
   "metadata": {
    "execution": {
     "iopub.execute_input": "2020-07-29T18:10:13.727005Z",
     "iopub.status.busy": "2020-07-29T18:10:13.727005Z",
     "iopub.status.idle": "2020-07-29T18:10:13.743431Z",
     "shell.execute_reply": "2020-07-29T18:10:13.743431Z",
     "shell.execute_reply.started": "2020-07-29T18:10:13.727005Z"
    }
   },
   "outputs": [
    {
     "data": {
      "text/plain": [
       "chrome     65115\n",
       "safari     64443\n",
       "firefox    33685\n",
       "unknown    27266\n",
       "ie         21104\n",
       "other       1838\n",
       "Name: browser, dtype: int64"
      ]
     },
     "execution_count": 19,
     "metadata": {},
     "output_type": "execute_result"
    }
   ],
   "source": [
    "train['browser'].value_counts()"
   ]
  },
  {
   "cell_type": "code",
   "execution_count": 20,
   "metadata": {
    "execution": {
     "iopub.execute_input": "2020-07-29T18:10:13.744405Z",
     "iopub.status.busy": "2020-07-29T18:10:13.744405Z",
     "iopub.status.idle": "2020-07-29T18:10:13.815239Z",
     "shell.execute_reply": "2020-07-29T18:10:13.815239Z",
     "shell.execute_reply.started": "2020-07-29T18:10:13.744405Z"
    }
   },
   "outputs": [
    {
     "data": {
      "text/html": [
       "<div>\n",
       "<style scoped>\n",
       "    .dataframe tbody tr th:only-of-type {\n",
       "        vertical-align: middle;\n",
       "    }\n",
       "\n",
       "    .dataframe tbody tr th {\n",
       "        vertical-align: top;\n",
       "    }\n",
       "\n",
       "    .dataframe thead th {\n",
       "        text-align: right;\n",
       "    }\n",
       "</style>\n",
       "<table border=\"1\" class=\"dataframe\">\n",
       "  <thead>\n",
       "    <tr style=\"text-align: right;\">\n",
       "      <th>country_destination</th>\n",
       "      <th>AU</th>\n",
       "      <th>CA</th>\n",
       "      <th>DE</th>\n",
       "      <th>ES</th>\n",
       "      <th>FR</th>\n",
       "      <th>GB</th>\n",
       "      <th>IT</th>\n",
       "      <th>NDF</th>\n",
       "      <th>NL</th>\n",
       "      <th>PT</th>\n",
       "      <th>US</th>\n",
       "      <th>other</th>\n",
       "    </tr>\n",
       "    <tr>\n",
       "      <th>browser</th>\n",
       "      <th></th>\n",
       "      <th></th>\n",
       "      <th></th>\n",
       "      <th></th>\n",
       "      <th></th>\n",
       "      <th></th>\n",
       "      <th></th>\n",
       "      <th></th>\n",
       "      <th></th>\n",
       "      <th></th>\n",
       "      <th></th>\n",
       "      <th></th>\n",
       "    </tr>\n",
       "  </thead>\n",
       "  <tbody>\n",
       "    <tr>\n",
       "      <th>chrome</th>\n",
       "      <td>0.239576</td>\n",
       "      <td>0.754051</td>\n",
       "      <td>0.562082</td>\n",
       "      <td>1.167166</td>\n",
       "      <td>2.378868</td>\n",
       "      <td>1.153344</td>\n",
       "      <td>1.392920</td>\n",
       "      <td>53.489979</td>\n",
       "      <td>0.408508</td>\n",
       "      <td>0.112109</td>\n",
       "      <td>32.811180</td>\n",
       "      <td>5.530216</td>\n",
       "    </tr>\n",
       "    <tr>\n",
       "      <th>firefox</th>\n",
       "      <td>0.279056</td>\n",
       "      <td>0.863886</td>\n",
       "      <td>0.599673</td>\n",
       "      <td>1.175597</td>\n",
       "      <td>2.722280</td>\n",
       "      <td>1.157785</td>\n",
       "      <td>1.442779</td>\n",
       "      <td>53.264064</td>\n",
       "      <td>0.353273</td>\n",
       "      <td>0.136559</td>\n",
       "      <td>32.702984</td>\n",
       "      <td>5.302063</td>\n",
       "    </tr>\n",
       "    <tr>\n",
       "      <th>ie</th>\n",
       "      <td>0.255876</td>\n",
       "      <td>0.568613</td>\n",
       "      <td>0.450152</td>\n",
       "      <td>0.995072</td>\n",
       "      <td>2.174943</td>\n",
       "      <td>1.023503</td>\n",
       "      <td>1.317286</td>\n",
       "      <td>63.371873</td>\n",
       "      <td>0.293783</td>\n",
       "      <td>0.071077</td>\n",
       "      <td>24.924185</td>\n",
       "      <td>4.553639</td>\n",
       "    </tr>\n",
       "    <tr>\n",
       "      <th>other</th>\n",
       "      <td>0.108814</td>\n",
       "      <td>0.598477</td>\n",
       "      <td>0.272035</td>\n",
       "      <td>0.489663</td>\n",
       "      <td>1.468988</td>\n",
       "      <td>0.435256</td>\n",
       "      <td>0.816104</td>\n",
       "      <td>65.723613</td>\n",
       "      <td>0.163221</td>\n",
       "      <td>0.000000</td>\n",
       "      <td>25.136017</td>\n",
       "      <td>4.787813</td>\n",
       "    </tr>\n",
       "    <tr>\n",
       "      <th>safari</th>\n",
       "      <td>0.301041</td>\n",
       "      <td>0.647083</td>\n",
       "      <td>0.491908</td>\n",
       "      <td>1.111059</td>\n",
       "      <td>2.658163</td>\n",
       "      <td>1.239855</td>\n",
       "      <td>1.488137</td>\n",
       "      <td>58.254582</td>\n",
       "      <td>0.397250</td>\n",
       "      <td>0.102416</td>\n",
       "      <td>28.932545</td>\n",
       "      <td>4.375960</td>\n",
       "    </tr>\n",
       "    <tr>\n",
       "      <th>unknown</th>\n",
       "      <td>0.143035</td>\n",
       "      <td>0.359422</td>\n",
       "      <td>0.278735</td>\n",
       "      <td>0.579476</td>\n",
       "      <td>1.312991</td>\n",
       "      <td>0.586811</td>\n",
       "      <td>0.696839</td>\n",
       "      <td>72.060442</td>\n",
       "      <td>0.205384</td>\n",
       "      <td>0.062349</td>\n",
       "      <td>20.641091</td>\n",
       "      <td>3.073425</td>\n",
       "    </tr>\n",
       "  </tbody>\n",
       "</table>\n",
       "</div>"
      ],
      "text/plain": [
       "country_destination        AU        CA        DE        ES        FR  \\\n",
       "browser                                                                 \n",
       "chrome               0.239576  0.754051  0.562082  1.167166  2.378868   \n",
       "firefox              0.279056  0.863886  0.599673  1.175597  2.722280   \n",
       "ie                   0.255876  0.568613  0.450152  0.995072  2.174943   \n",
       "other                0.108814  0.598477  0.272035  0.489663  1.468988   \n",
       "safari               0.301041  0.647083  0.491908  1.111059  2.658163   \n",
       "unknown              0.143035  0.359422  0.278735  0.579476  1.312991   \n",
       "\n",
       "country_destination        GB        IT        NDF        NL        PT  \\\n",
       "browser                                                                  \n",
       "chrome               1.153344  1.392920  53.489979  0.408508  0.112109   \n",
       "firefox              1.157785  1.442779  53.264064  0.353273  0.136559   \n",
       "ie                   1.023503  1.317286  63.371873  0.293783  0.071077   \n",
       "other                0.435256  0.816104  65.723613  0.163221  0.000000   \n",
       "safari               1.239855  1.488137  58.254582  0.397250  0.102416   \n",
       "unknown              0.586811  0.696839  72.060442  0.205384  0.062349   \n",
       "\n",
       "country_destination         US     other  \n",
       "browser                                   \n",
       "chrome               32.811180  5.530216  \n",
       "firefox              32.702984  5.302063  \n",
       "ie                   24.924185  4.553639  \n",
       "other                25.136017  4.787813  \n",
       "safari               28.932545  4.375960  \n",
       "unknown              20.641091  3.073425  "
      ]
     },
     "metadata": {},
     "output_type": "display_data"
    }
   ],
   "source": [
    "browser_plot = train.groupby(['browser', 'country_destination']).size(\n",
    ").reset_index().pivot(columns='country_destination', index='browser', values=0)\n",
    "stack_brower = browser_plot.fillna(0).apply(lambda x: x*100/sum(x), axis=1)\n",
    "display(stack_brower)"
   ]
  },
  {
   "cell_type": "code",
   "execution_count": 21,
   "metadata": {
    "execution": {
     "iopub.execute_input": "2020-07-29T18:10:13.816205Z",
     "iopub.status.busy": "2020-07-29T18:10:13.816205Z",
     "iopub.status.idle": "2020-07-29T18:10:14.029591Z",
     "shell.execute_reply": "2020-07-29T18:10:14.029591Z",
     "shell.execute_reply.started": "2020-07-29T18:10:13.816205Z"
    }
   },
   "outputs": [
    {
     "data": {
      "image/png": "[encoded data removed]",
      "text/plain": [
       "<Figure size 864x720 with 1 Axes>"
      ]
     },
     "metadata": {
      "needs_background": "light"
     },
     "output_type": "display_data"
    }
   ],
   "source": [
    "stack_brower.plot(kind='bar', stacked=True, figsize=(12, 10))\n",
    "plt.title('destintation % by browsers')\n",
    "plt.legend(loc='center');"
   ]
  },
  {
   "cell_type": "markdown",
   "metadata": {},
   "source": [
    "Users who use chrome or firefox appear to book a trip more linkely for US"
   ]
  },
  {
   "cell_type": "markdown",
   "metadata": {},
   "source": [
    "Consolidate language by grouping into four group: eng, asia, eu, and the rest other."
   ]
  },
  {
   "cell_type": "code",
   "execution_count": 24,
   "metadata": {
    "execution": {
     "iopub.execute_input": "2020-07-29T18:10:14.064498Z",
     "iopub.status.busy": "2020-07-29T18:10:14.063500Z",
     "iopub.status.idle": "2020-07-29T18:10:14.092423Z",
     "shell.execute_reply": "2020-07-29T18:10:14.092423Z",
     "shell.execute_reply.started": "2020-07-29T18:10:14.063500Z"
    }
   },
   "outputs": [],
   "source": []
  },
  {
   "cell_type": "code",
   "execution_count": 25,
   "metadata": {
    "execution": {
     "iopub.execute_input": "2020-07-29T18:10:14.093421Z",
     "iopub.status.busy": "2020-07-29T18:10:14.093421Z",
     "iopub.status.idle": "2020-07-29T18:10:14.116782Z",
     "shell.execute_reply": "2020-07-29T18:10:14.116401Z",
     "shell.execute_reply.started": "2020-07-29T18:10:14.093421Z"
    }
   },
   "outputs": [
    {
     "data": {
      "text/html": [
       "<div>\n",
       "<style scoped>\n",
       "    .dataframe tbody tr th:only-of-type {\n",
       "        vertical-align: middle;\n",
       "    }\n",
       "\n",
       "    .dataframe tbody tr th {\n",
       "        vertical-align: top;\n",
       "    }\n",
       "\n",
       "    .dataframe thead th {\n",
       "        text-align: right;\n",
       "    }\n",
       "</style>\n",
       "<table border=\"1\" class=\"dataframe\">\n",
       "  <thead>\n",
       "    <tr style=\"text-align: right;\">\n",
       "      <th></th>\n",
       "      <th>id</th>\n",
       "      <th>date_account_created</th>\n",
       "      <th>timestamp_first_active</th>\n",
       "      <th>date_first_booking</th>\n",
       "      <th>gender</th>\n",
       "      <th>age</th>\n",
       "      <th>signup_method</th>\n",
       "      <th>signup_flow</th>\n",
       "      <th>language</th>\n",
       "      <th>affiliate_channel</th>\n",
       "      <th>...</th>\n",
       "      <th>first_affiliate_tracked</th>\n",
       "      <th>signup_app</th>\n",
       "      <th>first_device_type</th>\n",
       "      <th>first_browser</th>\n",
       "      <th>country_destination</th>\n",
       "      <th>first_active</th>\n",
       "      <th>account_created</th>\n",
       "      <th>first_book</th>\n",
       "      <th>browser</th>\n",
       "      <th>lang</th>\n",
       "    </tr>\n",
       "  </thead>\n",
       "  <tbody>\n",
       "    <tr>\n",
       "      <th>0</th>\n",
       "      <td>gxn3p5htnn</td>\n",
       "      <td>2010-06-28</td>\n",
       "      <td>20090319043255</td>\n",
       "      <td>NaN</td>\n",
       "      <td>-unknown-</td>\n",
       "      <td>NaN</td>\n",
       "      <td>facebook</td>\n",
       "      <td>0</td>\n",
       "      <td>en</td>\n",
       "      <td>direct</td>\n",
       "      <td>...</td>\n",
       "      <td>untracked</td>\n",
       "      <td>Web</td>\n",
       "      <td>Mac Desktop</td>\n",
       "      <td>Chrome</td>\n",
       "      <td>NDF</td>\n",
       "      <td>2009-03-19</td>\n",
       "      <td>2010-06-28</td>\n",
       "      <td>2009-03-19</td>\n",
       "      <td>chrome</td>\n",
       "      <td>eng</td>\n",
       "    </tr>\n",
       "    <tr>\n",
       "      <th>1</th>\n",
       "      <td>820tgsjxq7</td>\n",
       "      <td>2011-05-25</td>\n",
       "      <td>20090523174809</td>\n",
       "      <td>NaN</td>\n",
       "      <td>MALE</td>\n",
       "      <td>38.0</td>\n",
       "      <td>facebook</td>\n",
       "      <td>0</td>\n",
       "      <td>en</td>\n",
       "      <td>seo</td>\n",
       "      <td>...</td>\n",
       "      <td>untracked</td>\n",
       "      <td>Web</td>\n",
       "      <td>Mac Desktop</td>\n",
       "      <td>Chrome</td>\n",
       "      <td>NDF</td>\n",
       "      <td>2009-05-23</td>\n",
       "      <td>2011-05-25</td>\n",
       "      <td>2009-05-23</td>\n",
       "      <td>chrome</td>\n",
       "      <td>eng</td>\n",
       "    </tr>\n",
       "    <tr>\n",
       "      <th>2</th>\n",
       "      <td>4ft3gnwmtx</td>\n",
       "      <td>2010-09-28</td>\n",
       "      <td>20090609231247</td>\n",
       "      <td>2010-08-02</td>\n",
       "      <td>FEMALE</td>\n",
       "      <td>56.0</td>\n",
       "      <td>basic</td>\n",
       "      <td>3</td>\n",
       "      <td>en</td>\n",
       "      <td>direct</td>\n",
       "      <td>...</td>\n",
       "      <td>untracked</td>\n",
       "      <td>Web</td>\n",
       "      <td>Windows Desktop</td>\n",
       "      <td>IE</td>\n",
       "      <td>US</td>\n",
       "      <td>2009-06-09</td>\n",
       "      <td>2010-09-28</td>\n",
       "      <td>2010-08-02</td>\n",
       "      <td>ie</td>\n",
       "      <td>eng</td>\n",
       "    </tr>\n",
       "    <tr>\n",
       "      <th>3</th>\n",
       "      <td>bjjt8pjhuk</td>\n",
       "      <td>2011-12-05</td>\n",
       "      <td>20091031060129</td>\n",
       "      <td>2012-09-08</td>\n",
       "      <td>FEMALE</td>\n",
       "      <td>42.0</td>\n",
       "      <td>facebook</td>\n",
       "      <td>0</td>\n",
       "      <td>en</td>\n",
       "      <td>direct</td>\n",
       "      <td>...</td>\n",
       "      <td>untracked</td>\n",
       "      <td>Web</td>\n",
       "      <td>Mac Desktop</td>\n",
       "      <td>Firefox</td>\n",
       "      <td>other</td>\n",
       "      <td>2009-10-31</td>\n",
       "      <td>2011-12-05</td>\n",
       "      <td>2012-09-08</td>\n",
       "      <td>firefox</td>\n",
       "      <td>eng</td>\n",
       "    </tr>\n",
       "    <tr>\n",
       "      <th>4</th>\n",
       "      <td>87mebub9p4</td>\n",
       "      <td>2010-09-14</td>\n",
       "      <td>20091208061105</td>\n",
       "      <td>2010-02-18</td>\n",
       "      <td>-unknown-</td>\n",
       "      <td>41.0</td>\n",
       "      <td>basic</td>\n",
       "      <td>0</td>\n",
       "      <td>en</td>\n",
       "      <td>direct</td>\n",
       "      <td>...</td>\n",
       "      <td>untracked</td>\n",
       "      <td>Web</td>\n",
       "      <td>Mac Desktop</td>\n",
       "      <td>Chrome</td>\n",
       "      <td>US</td>\n",
       "      <td>2009-12-08</td>\n",
       "      <td>2010-09-14</td>\n",
       "      <td>2010-02-18</td>\n",
       "      <td>chrome</td>\n",
       "      <td>eng</td>\n",
       "    </tr>\n",
       "  </tbody>\n",
       "</table>\n",
       "<p>5 rows × 21 columns</p>\n",
       "</div>"
      ],
      "text/plain": [
       "           id date_account_created  timestamp_first_active date_first_booking  \\\n",
       "0  gxn3p5htnn           2010-06-28          20090319043255                NaN   \n",
       "1  820tgsjxq7           2011-05-25          20090523174809                NaN   \n",
       "2  4ft3gnwmtx           2010-09-28          20090609231247         2010-08-02   \n",
       "3  bjjt8pjhuk           2011-12-05          20091031060129         2012-09-08   \n",
       "4  87mebub9p4           2010-09-14          20091208061105         2010-02-18   \n",
       "\n",
       "      gender   age signup_method  signup_flow language affiliate_channel  ...  \\\n",
       "0  -unknown-   NaN      facebook            0       en            direct  ...   \n",
       "1       MALE  38.0      facebook            0       en               seo  ...   \n",
       "2     FEMALE  56.0         basic            3       en            direct  ...   \n",
       "3     FEMALE  42.0      facebook            0       en            direct  ...   \n",
       "4  -unknown-  41.0         basic            0       en            direct  ...   \n",
       "\n",
       "  first_affiliate_tracked signup_app first_device_type first_browser  \\\n",
       "0               untracked        Web       Mac Desktop        Chrome   \n",
       "1               untracked        Web       Mac Desktop        Chrome   \n",
       "2               untracked        Web   Windows Desktop            IE   \n",
       "3               untracked        Web       Mac Desktop       Firefox   \n",
       "4               untracked        Web       Mac Desktop        Chrome   \n",
       "\n",
       "  country_destination first_active account_created first_book  browser lang  \n",
       "0                 NDF   2009-03-19      2010-06-28 2009-03-19   chrome  eng  \n",
       "1                 NDF   2009-05-23      2011-05-25 2009-05-23   chrome  eng  \n",
       "2                  US   2009-06-09      2010-09-28 2010-08-02       ie  eng  \n",
       "3               other   2009-10-31      2011-12-05 2012-09-08  firefox  eng  \n",
       "4                  US   2009-12-08      2010-09-14 2010-02-18   chrome  eng  \n",
       "\n",
       "[5 rows x 21 columns]"
      ]
     },
     "execution_count": 25,
     "metadata": {},
     "output_type": "execute_result"
    }
   ],
   "source": [
    "train.head()"
   ]
  },
  {
   "cell_type": "code",
   "execution_count": 26,
   "metadata": {
    "execution": {
     "iopub.execute_input": "2020-07-29T18:10:14.117357Z",
     "iopub.status.busy": "2020-07-29T18:10:14.117357Z",
     "iopub.status.idle": "2020-07-29T18:10:14.181442Z",
     "shell.execute_reply": "2020-07-29T18:10:14.181442Z",
     "shell.execute_reply.started": "2020-07-29T18:10:14.117357Z"
    }
   },
   "outputs": [],
   "source": [
    "lang_plot = train.groupby(['lang', 'country_destination']).size(\n",
    ").reset_index().pivot(columns='country_destination', index='lang', values=0)\n",
    "lang_stack = lang_plot.fillna(0).apply(lambda x: x*100/sum(x), axis=1)"
   ]
  },
  {
   "cell_type": "code",
   "execution_count": 28,
   "metadata": {
    "execution": {
     "iopub.execute_input": "2020-07-29T18:10:28.876896Z",
     "iopub.status.busy": "2020-07-29T18:10:28.875932Z",
     "iopub.status.idle": "2020-07-29T18:10:29.124264Z",
     "shell.execute_reply": "2020-07-29T18:10:29.124264Z",
     "shell.execute_reply.started": "2020-07-29T18:10:28.876896Z"
    }
   },
   "outputs": [
    {
     "data": {
      "image/png": "[encoded data removed]",
      "text/plain": [
       "<Figure size 1080x360 with 2 Axes>"
      ]
     },
     "metadata": {
      "needs_background": "light"
     },
     "output_type": "display_data"
    }
   ],
   "source": [
    "plt.figure(figsize=(15, 5))\n",
    "sns.heatmap(lang_stack.transpose(), cmap='coolwarm', annot=True)\n",
    "plt.title('% to destination country by language')\n",
    "plt.show()"
   ]
  },
  {
   "cell_type": "markdown",
   "metadata": {},
   "source": [
    "Despite highly imbalance data, eng platform still have the highest probability of booking a destination (mostly within US). European languages platform show slightly higher booking to France. "
   ]
  },
  {
   "cell_type": "code",
   "execution_count": 131,
   "metadata": {},
   "outputs": [
    {
     "data": {
      "text/plain": [
       "NDF      124543\n",
       "US        62376\n",
       "other     10094\n",
       "FR         5023\n",
       "IT         2835\n",
       "GB         2324\n",
       "ES         2249\n",
       "CA         1428\n",
       "DE         1061\n",
       "NL          762\n",
       "AU          539\n",
       "PT          217\n",
       "Name: country_destination, dtype: int64"
      ]
     },
     "execution_count": 131,
     "metadata": {},
     "output_type": "execute_result"
    }
   ],
   "source": [
    "train['country_destination'].value_counts()"
   ]
  },
  {
   "cell_type": "markdown",
   "metadata": {},
   "source": [
    "In general, ~50% of the activities won't lead to a booking. US is still the most visit destination, followed by France."
   ]
  },
  {
   "cell_type": "code",
   "execution_count": 32,
   "metadata": {},
   "outputs": [
    {
     "data": {
      "text/html": [
       "<div>\n",
       "<style scoped>\n",
       "    .dataframe tbody tr th:only-of-type {\n",
       "        vertical-align: middle;\n",
       "    }\n",
       "\n",
       "    .dataframe tbody tr th {\n",
       "        vertical-align: top;\n",
       "    }\n",
       "\n",
       "    .dataframe thead th {\n",
       "        text-align: right;\n",
       "    }\n",
       "</style>\n",
       "<table border=\"1\" class=\"dataframe\">\n",
       "  <thead>\n",
       "    <tr style=\"text-align: right;\">\n",
       "      <th></th>\n",
       "      <th>id</th>\n",
       "      <th>date_account_created</th>\n",
       "      <th>timestamp_first_active</th>\n",
       "      <th>date_first_booking</th>\n",
       "      <th>gender</th>\n",
       "      <th>age</th>\n",
       "      <th>signup_method</th>\n",
       "      <th>signup_flow</th>\n",
       "      <th>language</th>\n",
       "      <th>affiliate_channel</th>\n",
       "      <th>affiliate_provider</th>\n",
       "      <th>first_affiliate_tracked</th>\n",
       "      <th>signup_app</th>\n",
       "      <th>first_device_type</th>\n",
       "      <th>first_browser</th>\n",
       "      <th>country_destination</th>\n",
       "      <th>first_active</th>\n",
       "      <th>account_created</th>\n",
       "      <th>first_book</th>\n",
       "    </tr>\n",
       "  </thead>\n",
       "  <tbody>\n",
       "    <tr>\n",
       "      <th>0</th>\n",
       "      <td>gxn3p5htnn</td>\n",
       "      <td>2010-06-28</td>\n",
       "      <td>20090319043255</td>\n",
       "      <td>NaN</td>\n",
       "      <td>-unknown-</td>\n",
       "      <td>NaN</td>\n",
       "      <td>facebook</td>\n",
       "      <td>0</td>\n",
       "      <td>en</td>\n",
       "      <td>direct</td>\n",
       "      <td>direct</td>\n",
       "      <td>untracked</td>\n",
       "      <td>Web</td>\n",
       "      <td>Mac Desktop</td>\n",
       "      <td>Chrome</td>\n",
       "      <td>NDF</td>\n",
       "      <td>2009-03-19 04:32:55</td>\n",
       "      <td>2010-06-28</td>\n",
       "      <td>NaT</td>\n",
       "    </tr>\n",
       "    <tr>\n",
       "      <th>1</th>\n",
       "      <td>820tgsjxq7</td>\n",
       "      <td>2011-05-25</td>\n",
       "      <td>20090523174809</td>\n",
       "      <td>NaN</td>\n",
       "      <td>MALE</td>\n",
       "      <td>38.0</td>\n",
       "      <td>facebook</td>\n",
       "      <td>0</td>\n",
       "      <td>en</td>\n",
       "      <td>seo</td>\n",
       "      <td>google</td>\n",
       "      <td>untracked</td>\n",
       "      <td>Web</td>\n",
       "      <td>Mac Desktop</td>\n",
       "      <td>Chrome</td>\n",
       "      <td>NDF</td>\n",
       "      <td>2009-05-23 17:48:09</td>\n",
       "      <td>2011-05-25</td>\n",
       "      <td>NaT</td>\n",
       "    </tr>\n",
       "    <tr>\n",
       "      <th>2</th>\n",
       "      <td>4ft3gnwmtx</td>\n",
       "      <td>2010-09-28</td>\n",
       "      <td>20090609231247</td>\n",
       "      <td>2010-08-02</td>\n",
       "      <td>FEMALE</td>\n",
       "      <td>56.0</td>\n",
       "      <td>basic</td>\n",
       "      <td>3</td>\n",
       "      <td>en</td>\n",
       "      <td>direct</td>\n",
       "      <td>direct</td>\n",
       "      <td>untracked</td>\n",
       "      <td>Web</td>\n",
       "      <td>Windows Desktop</td>\n",
       "      <td>IE</td>\n",
       "      <td>US</td>\n",
       "      <td>2009-06-09 23:12:47</td>\n",
       "      <td>2010-09-28</td>\n",
       "      <td>2010-08-02</td>\n",
       "    </tr>\n",
       "    <tr>\n",
       "      <th>3</th>\n",
       "      <td>bjjt8pjhuk</td>\n",
       "      <td>2011-12-05</td>\n",
       "      <td>20091031060129</td>\n",
       "      <td>2012-09-08</td>\n",
       "      <td>FEMALE</td>\n",
       "      <td>42.0</td>\n",
       "      <td>facebook</td>\n",
       "      <td>0</td>\n",
       "      <td>en</td>\n",
       "      <td>direct</td>\n",
       "      <td>direct</td>\n",
       "      <td>untracked</td>\n",
       "      <td>Web</td>\n",
       "      <td>Mac Desktop</td>\n",
       "      <td>Firefox</td>\n",
       "      <td>other</td>\n",
       "      <td>2009-10-31 06:01:29</td>\n",
       "      <td>2011-12-05</td>\n",
       "      <td>2012-09-08</td>\n",
       "    </tr>\n",
       "    <tr>\n",
       "      <th>4</th>\n",
       "      <td>87mebub9p4</td>\n",
       "      <td>2010-09-14</td>\n",
       "      <td>20091208061105</td>\n",
       "      <td>2010-02-18</td>\n",
       "      <td>-unknown-</td>\n",
       "      <td>41.0</td>\n",
       "      <td>basic</td>\n",
       "      <td>0</td>\n",
       "      <td>en</td>\n",
       "      <td>direct</td>\n",
       "      <td>direct</td>\n",
       "      <td>untracked</td>\n",
       "      <td>Web</td>\n",
       "      <td>Mac Desktop</td>\n",
       "      <td>Chrome</td>\n",
       "      <td>US</td>\n",
       "      <td>2009-12-08 06:11:05</td>\n",
       "      <td>2010-09-14</td>\n",
       "      <td>2010-02-18</td>\n",
       "    </tr>\n",
       "  </tbody>\n",
       "</table>\n",
       "</div>"
      ],
      "text/plain": [
       "           id date_account_created  timestamp_first_active date_first_booking  \\\n",
       "0  gxn3p5htnn           2010-06-28          20090319043255                NaN   \n",
       "1  820tgsjxq7           2011-05-25          20090523174809                NaN   \n",
       "2  4ft3gnwmtx           2010-09-28          20090609231247         2010-08-02   \n",
       "3  bjjt8pjhuk           2011-12-05          20091031060129         2012-09-08   \n",
       "4  87mebub9p4           2010-09-14          20091208061105         2010-02-18   \n",
       "\n",
       "      gender   age signup_method  signup_flow language affiliate_channel  \\\n",
       "0  -unknown-   NaN      facebook            0       en            direct   \n",
       "1       MALE  38.0      facebook            0       en               seo   \n",
       "2     FEMALE  56.0         basic            3       en            direct   \n",
       "3     FEMALE  42.0      facebook            0       en            direct   \n",
       "4  -unknown-  41.0         basic            0       en            direct   \n",
       "\n",
       "  affiliate_provider first_affiliate_tracked signup_app first_device_type  \\\n",
       "0             direct               untracked        Web       Mac Desktop   \n",
       "1             google               untracked        Web       Mac Desktop   \n",
       "2             direct               untracked        Web   Windows Desktop   \n",
       "3             direct               untracked        Web       Mac Desktop   \n",
       "4             direct               untracked        Web       Mac Desktop   \n",
       "\n",
       "  first_browser country_destination        first_active account_created  \\\n",
       "0        Chrome                 NDF 2009-03-19 04:32:55      2010-06-28   \n",
       "1        Chrome                 NDF 2009-05-23 17:48:09      2011-05-25   \n",
       "2            IE                  US 2009-06-09 23:12:47      2010-09-28   \n",
       "3       Firefox               other 2009-10-31 06:01:29      2011-12-05   \n",
       "4        Chrome                  US 2009-12-08 06:11:05      2010-09-14   \n",
       "\n",
       "  first_book  \n",
       "0        NaT  \n",
       "1        NaT  \n",
       "2 2010-08-02  \n",
       "3 2012-09-08  \n",
       "4 2010-02-18  "
      ]
     },
     "execution_count": 32,
     "metadata": {},
     "output_type": "execute_result"
    }
   ],
   "source": [
    "train.head()"
   ]
  },
  {
   "cell_type": "code",
   "execution_count": null,
   "metadata": {},
   "outputs": [],
   "source": []
  },
  {
   "cell_type": "code",
   "execution_count": 24,
   "metadata": {},
   "outputs": [
    {
     "data": {
      "image/png": "[encoded data removed]",
      "text/plain": [
       "<Figure size 1800x720 with 1 Axes>"
      ]
     },
     "metadata": {
      "needs_background": "light"
     },
     "output_type": "display_data"
    }
   ],
   "source": [
    "msno.dendrogram(train);"
   ]
  },
  {
   "cell_type": "code",
   "execution_count": 12,
   "metadata": {},
   "outputs": [
    {
     "data": {
      "text/html": [
       "<div>\n",
       "<style scoped>\n",
       "    .dataframe tbody tr th:only-of-type {\n",
       "        vertical-align: middle;\n",
       "    }\n",
       "\n",
       "    .dataframe tbody tr th {\n",
       "        vertical-align: top;\n",
       "    }\n",
       "\n",
       "    .dataframe thead th {\n",
       "        text-align: right;\n",
       "    }\n",
       "</style>\n",
       "<table border=\"1\" class=\"dataframe\">\n",
       "  <thead>\n",
       "    <tr style=\"text-align: right;\">\n",
       "      <th></th>\n",
       "      <th>user_id</th>\n",
       "      <th>action</th>\n",
       "      <th>action_type</th>\n",
       "      <th>action_detail</th>\n",
       "      <th>device_type</th>\n",
       "      <th>secs_elapsed</th>\n",
       "    </tr>\n",
       "  </thead>\n",
       "  <tbody>\n",
       "    <tr>\n",
       "      <th>0</th>\n",
       "      <td>d1mm9tcy42</td>\n",
       "      <td>lookup</td>\n",
       "      <td>NaN</td>\n",
       "      <td>NaN</td>\n",
       "      <td>Windows Desktop</td>\n",
       "      <td>319.0</td>\n",
       "    </tr>\n",
       "    <tr>\n",
       "      <th>1</th>\n",
       "      <td>d1mm9tcy42</td>\n",
       "      <td>search_results</td>\n",
       "      <td>click</td>\n",
       "      <td>view_search_results</td>\n",
       "      <td>Windows Desktop</td>\n",
       "      <td>67753.0</td>\n",
       "    </tr>\n",
       "    <tr>\n",
       "      <th>2</th>\n",
       "      <td>d1mm9tcy42</td>\n",
       "      <td>lookup</td>\n",
       "      <td>NaN</td>\n",
       "      <td>NaN</td>\n",
       "      <td>Windows Desktop</td>\n",
       "      <td>301.0</td>\n",
       "    </tr>\n",
       "    <tr>\n",
       "      <th>3</th>\n",
       "      <td>d1mm9tcy42</td>\n",
       "      <td>search_results</td>\n",
       "      <td>click</td>\n",
       "      <td>view_search_results</td>\n",
       "      <td>Windows Desktop</td>\n",
       "      <td>22141.0</td>\n",
       "    </tr>\n",
       "    <tr>\n",
       "      <th>4</th>\n",
       "      <td>d1mm9tcy42</td>\n",
       "      <td>lookup</td>\n",
       "      <td>NaN</td>\n",
       "      <td>NaN</td>\n",
       "      <td>Windows Desktop</td>\n",
       "      <td>435.0</td>\n",
       "    </tr>\n",
       "  </tbody>\n",
       "</table>\n",
       "</div>"
      ],
      "text/plain": [
       "      user_id          action action_type        action_detail  \\\n",
       "0  d1mm9tcy42          lookup         NaN                  NaN   \n",
       "1  d1mm9tcy42  search_results       click  view_search_results   \n",
       "2  d1mm9tcy42          lookup         NaN                  NaN   \n",
       "3  d1mm9tcy42  search_results       click  view_search_results   \n",
       "4  d1mm9tcy42          lookup         NaN                  NaN   \n",
       "\n",
       "       device_type  secs_elapsed  \n",
       "0  Windows Desktop         319.0  \n",
       "1  Windows Desktop       67753.0  \n",
       "2  Windows Desktop         301.0  \n",
       "3  Windows Desktop       22141.0  \n",
       "4  Windows Desktop         435.0  "
      ]
     },
     "execution_count": 12,
     "metadata": {},
     "output_type": "execute_result"
    }
   ],
   "source": [
    "session.head()"
   ]
  },
  {
   "cell_type": "code",
   "execution_count": 26,
   "metadata": {},
   "outputs": [
    {
     "data": {
      "image/png": "[encoded data removed]",
      "text/plain": [
       "<Figure size 1800x720 with 2 Axes>"
      ]
     },
     "metadata": {
      "needs_background": "light"
     },
     "output_type": "display_data"
    }
   ],
   "source": [
    "msno.matrix(session);"
   ]
  },
  {
   "cell_type": "code",
   "execution_count": null,
   "metadata": {},
   "outputs": [],
   "source": []
  }
 ],
 "metadata": {
  "kernelspec": {
   "display_name": "Python 3",
   "language": "python",
   "name": "python3"
  },
  "language_info": {
   "codemirror_mode": {
    "name": "ipython",
    "version": 3
   },
   "file_extension": ".py",
   "mimetype": "text/x-python",
   "name": "python",
   "nbconvert_exporter": "python",
   "pygments_lexer": "ipython3",
   "version": "3.7.1"
  }
 },
 "nbformat": 4,
 "nbformat_minor": 4
}
