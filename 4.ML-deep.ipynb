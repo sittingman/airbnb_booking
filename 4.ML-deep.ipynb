{
 "cells": [
  {
   "cell_type": "markdown",
   "metadata": {},
   "source": [
    "# Machine Learning"
   ]
  },
  {
   "cell_type": "code",
   "execution_count": 33,
   "metadata": {
    "execution": {
     "iopub.execute_input": "2020-08-10T06:58:57.403916Z",
     "iopub.status.busy": "2020-08-10T06:58:57.402894Z",
     "iopub.status.idle": "2020-08-10T06:58:57.407884Z",
     "shell.execute_reply": "2020-08-10T06:58:57.407884Z",
     "shell.execute_reply.started": "2020-08-10T06:58:57.403916Z"
    }
   },
   "outputs": [],
   "source": [
    "import warnings\n",
    "\n",
    "import numpy as np\n",
    "import pandas as pd\n",
    "from keras.metrics import TopKCategoricalAccuracy\n",
    "from keras.models import Sequential\n",
    "from keras.layers import Dense\n",
    "from keras.wrappers.scikit_learn import KerasClassifier\n",
    "import tensorflow as tf\n",
    "from keras.utils import np_utils\n",
    "from sklearn.model_selection import cross_val_score\n",
    "from sklearn.model_selection import KFold\n",
    "from sklearn.pipeline import Pipeline\n",
    "from sklearn.preprocessing import LabelBinarizer, LabelEncoder\n",
    "\n",
    "warnings.simplefilter(action='ignore', category=FutureWarning)"
   ]
  },
  {
   "cell_type": "code",
   "execution_count": 4,
   "metadata": {
    "execution": {
     "iopub.execute_input": "2020-08-10T05:08:06.240477Z",
     "iopub.status.busy": "2020-08-10T05:08:06.239480Z",
     "iopub.status.idle": "2020-08-10T05:08:07.437816Z",
     "shell.execute_reply": "2020-08-10T05:08:07.437816Z",
     "shell.execute_reply.started": "2020-08-10T05:08:06.240477Z"
    }
   },
   "outputs": [],
   "source": [
    "train = pd.read_csv('./data/train_df.csv', index_col=0)"
   ]
  },
  {
   "cell_type": "code",
   "execution_count": 5,
   "metadata": {
    "execution": {
     "iopub.execute_input": "2020-08-10T05:08:09.621781Z",
     "iopub.status.busy": "2020-08-10T05:08:09.620817Z",
     "iopub.status.idle": "2020-08-10T05:08:09.735508Z",
     "shell.execute_reply": "2020-08-10T05:08:09.735508Z",
     "shell.execute_reply.started": "2020-08-10T05:08:09.620817Z"
    }
   },
   "outputs": [
    {
     "data": {
      "text/plain": [
       "LabelBinarizer()"
      ]
     },
     "execution_count": 5,
     "metadata": {},
     "output_type": "execute_result"
    }
   ],
   "source": [
    "le = LabelEncoder()\n",
    "train['target'] = le.fit_transform(train['country_destination'])\n",
    "lb = LabelBinarizer()\n",
    "lb.fit(train['target'])"
   ]
  },
  {
   "cell_type": "code",
   "execution_count": 6,
   "metadata": {
    "execution": {
     "iopub.execute_input": "2020-08-10T05:08:17.535710Z",
     "iopub.status.busy": "2020-08-10T05:08:17.534712Z",
     "iopub.status.idle": "2020-08-10T05:08:17.539699Z",
     "shell.execute_reply": "2020-08-10T05:08:17.539699Z",
     "shell.execute_reply.started": "2020-08-10T05:08:17.535710Z"
    }
   },
   "outputs": [
    {
     "data": {
      "text/plain": [
       "{0: 'AU',\n",
       " 1: 'CA',\n",
       " 2: 'DE',\n",
       " 3: 'ES',\n",
       " 4: 'FR',\n",
       " 5: 'GB',\n",
       " 6: 'IT',\n",
       " 7: 'NDF',\n",
       " 8: 'NL',\n",
       " 9: 'PT',\n",
       " 10: 'US',\n",
       " 11: 'other'}"
      ]
     },
     "execution_count": 6,
     "metadata": {},
     "output_type": "execute_result"
    }
   ],
   "source": [
    "mapping = dict(zip(range(len(le.classes_)), le.classes_))\n",
    "mapping"
   ]
  },
  {
   "cell_type": "code",
   "execution_count": 7,
   "metadata": {
    "execution": {
     "iopub.execute_input": "2020-08-10T05:11:12.295882Z",
     "iopub.status.busy": "2020-08-10T05:11:12.294884Z",
     "iopub.status.idle": "2020-08-10T05:11:12.372676Z",
     "shell.execute_reply": "2020-08-10T05:11:12.372676Z",
     "shell.execute_reply.started": "2020-08-10T05:11:12.295882Z"
    }
   },
   "outputs": [],
   "source": [
    "target = train['target']\n",
    "feature = train.drop(['target', 'country_destination'], axis=1)"
   ]
  },
  {
   "cell_type": "code",
   "execution_count": 8,
   "metadata": {
    "execution": {
     "iopub.execute_input": "2020-08-10T05:11:12.949868Z",
     "iopub.status.busy": "2020-08-10T05:11:12.949868Z",
     "iopub.status.idle": "2020-08-10T05:11:12.953218Z",
     "shell.execute_reply": "2020-08-10T05:11:12.953218Z",
     "shell.execute_reply.started": "2020-08-10T05:11:12.949868Z"
    }
   },
   "outputs": [
    {
     "name": "stdout",
     "output_type": "stream",
     "text": [
      "(213451,) (213451, 125)\n"
     ]
    }
   ],
   "source": [
    "print(target.shape, feature.shape)"
   ]
  },
  {
   "cell_type": "markdown",
   "metadata": {},
   "source": [
    "### Baseline Model"
   ]
  },
  {
   "cell_type": "code",
   "execution_count": 16,
   "metadata": {
    "execution": {
     "iopub.execute_input": "2020-08-08T01:09:37.422494Z",
     "iopub.status.busy": "2020-08-08T01:09:37.422494Z",
     "iopub.status.idle": "2020-08-08T01:09:37.674460Z",
     "shell.execute_reply": "2020-08-08T01:09:37.674460Z",
     "shell.execute_reply.started": "2020-08-08T01:09:37.422494Z"
    }
   },
   "outputs": [],
   "source": [
    "# X_train, X_test, y_train, y_test = train_test_split(\n",
    "#     feature, target, train_size=.25, random_state=42)"
   ]
  },
  {
   "cell_type": "code",
   "execution_count": 45,
   "metadata": {
    "execution": {
     "iopub.execute_input": "2020-08-10T07:21:53.914096Z",
     "iopub.status.busy": "2020-08-10T07:21:53.914096Z",
     "iopub.status.idle": "2020-08-10T07:21:53.918170Z",
     "shell.execute_reply": "2020-08-10T07:21:53.918170Z",
     "shell.execute_reply.started": "2020-08-10T07:21:53.914096Z"
    }
   },
   "outputs": [],
   "source": [
    "def base_model():\n",
    "    model = Sequential()\n",
    "    model.add(Dense(120, input_dim=125, activation='relu'))\n",
    "    model.add(Dense(60, activation='relu'))\n",
    "    model.add(Dense(12, activation='sigmoid'))\n",
    "    model.compile(loss='categorical_crossentropy', optimizer='adam', metrics=['accuracy'])\n",
    "#     model.compile(loss='categorical_crossentropy', optimizer='adam', metrics=[tf.keras.metrics.TopKCategoricalAccuracy(k=5)])\n",
    "    return model"
   ]
  },
  {
   "cell_type": "code",
   "execution_count": null,
   "metadata": {
    "execution": {
     "iopub.execute_input": "2020-08-10T07:22:06.381577Z",
     "iopub.status.busy": "2020-08-10T07:22:06.381577Z"
    }
   },
   "outputs": [
    {
     "name": "stdout",
     "output_type": "stream",
     "text": [
      "Epoch 1/5\n",
      " - 58s - loss: 1.0838 - accuracy: 0.6314\n",
      "Epoch 2/5\n"
     ]
    }
   ],
   "source": [
    "estimator = KerasClassifier(build_fn=base_model, epochs=5, batch_size=2, verbose=2)\n",
    "kfold = KFold(n_splits=3, shuffle=True)\n",
    "results = cross_val_score(estimator, feature, lb.transform(target), cv=kfold)"
   ]
  },
  {
   "cell_type": "code",
   "execution_count": 41,
   "metadata": {
    "execution": {
     "iopub.execute_input": "2020-08-10T07:13:46.178527Z",
     "iopub.status.busy": "2020-08-10T07:13:46.178527Z",
     "iopub.status.idle": "2020-08-10T07:13:46.182551Z",
     "shell.execute_reply": "2020-08-10T07:13:46.182551Z",
     "shell.execute_reply.started": "2020-08-10T07:13:46.178527Z"
    }
   },
   "outputs": [
    {
     "name": "stdout",
     "output_type": "stream",
     "text": [
      "Baseline: 94.12%\n"
     ]
    }
   ],
   "source": [
    "print(\"Baseline: %.2f%%\" % (results.mean()*100))"
   ]
  },
  {
   "cell_type": "code",
   "execution_count": 54,
   "metadata": {
    "execution": {
     "iopub.execute_input": "2020-08-08T04:48:25.854194Z",
     "iopub.status.busy": "2020-08-08T04:48:25.853168Z",
     "iopub.status.idle": "2020-08-08T04:48:51.847827Z",
     "shell.execute_reply": "2020-08-08T04:48:51.846830Z",
     "shell.execute_reply.started": "2020-08-08T04:48:25.854194Z"
    }
   },
   "outputs": [],
   "source": [
    "fit_model = estimator.fit(feature, lb.transform(target))\n",
    "fit_model.save(filepath='./data/deep_learn.tf')"
   ]
  }
 ],
 "metadata": {
  "kernelspec": {
   "display_name": "Python 3",
   "language": "python",
   "name": "python3"
  },
  "language_info": {
   "codemirror_mode": {
    "name": "ipython",
    "version": 3
   },
   "file_extension": ".py",
   "mimetype": "text/x-python",
   "name": "python",
   "nbconvert_exporter": "python",
   "pygments_lexer": "ipython3",
   "version": "3.7.1"
  }
 },
 "nbformat": 4,
 "nbformat_minor": 4
}
