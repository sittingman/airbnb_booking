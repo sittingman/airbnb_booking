{
 "cells": [
  {
   "cell_type": "markdown",
   "metadata": {},
   "source": [
    "# Machine Learning"
   ]
  },
  {
   "cell_type": "code",
   "execution_count": 45,
   "metadata": {
    "execution": {
     "iopub.execute_input": "2020-08-14T05:35:10.379489Z",
     "iopub.status.busy": "2020-08-14T05:35:10.379489Z",
     "iopub.status.idle": "2020-08-14T05:35:10.384475Z",
     "shell.execute_reply": "2020-08-14T05:35:10.383682Z",
     "shell.execute_reply.started": "2020-08-14T05:35:10.379489Z"
    }
   },
   "outputs": [],
   "source": [
    "import warnings\n",
    "\n",
    "import numpy as np\n",
    "import pandas as pd\n",
    "import tensorflow as tf, keras\n",
    "from keras.layers import Dense\n",
    "from keras.metrics import TopKCategoricalAccuracy\n",
    "from keras.models import Sequential, load_model\n",
    "from keras.utils import np_utils\n",
    "from keras.wrappers.scikit_learn import KerasClassifier\n",
    "from sklearn.model_selection import KFold, cross_val_score, train_test_split\n",
    "from sklearn.pipeline import Pipeline\n",
    "from sklearn.preprocessing import LabelBinarizer, LabelEncoder"
   ]
  },
  {
   "cell_type": "code",
   "execution_count": 28,
   "metadata": {
    "execution": {
     "iopub.execute_input": "2020-08-14T05:28:28.175441Z",
     "iopub.status.busy": "2020-08-14T05:28:28.175441Z",
     "iopub.status.idle": "2020-08-14T05:28:30.258575Z",
     "shell.execute_reply": "2020-08-14T05:28:30.258575Z",
     "shell.execute_reply.started": "2020-08-14T05:28:28.175441Z"
    }
   },
   "outputs": [],
   "source": [
    "train = pd.read_csv('./data/train_df.csv', index_col=0)"
   ]
  },
  {
   "cell_type": "code",
   "execution_count": 29,
   "metadata": {
    "execution": {
     "iopub.execute_input": "2020-08-14T05:28:30.260570Z",
     "iopub.status.busy": "2020-08-14T05:28:30.260570Z",
     "iopub.status.idle": "2020-08-14T05:28:30.389156Z",
     "shell.execute_reply": "2020-08-14T05:28:30.389156Z",
     "shell.execute_reply.started": "2020-08-14T05:28:30.260570Z"
    }
   },
   "outputs": [
    {
     "data": {
      "text/plain": [
       "LabelBinarizer()"
      ]
     },
     "execution_count": 29,
     "metadata": {},
     "output_type": "execute_result"
    }
   ],
   "source": [
    "le = LabelEncoder()\n",
    "train['target'] = le.fit_transform(train['country_destination'])\n",
    "lb = LabelBinarizer()\n",
    "lb.fit(train['target'])"
   ]
  },
  {
   "cell_type": "code",
   "execution_count": 30,
   "metadata": {
    "execution": {
     "iopub.execute_input": "2020-08-14T05:28:30.391184Z",
     "iopub.status.busy": "2020-08-14T05:28:30.391175Z",
     "iopub.status.idle": "2020-08-14T05:28:30.399157Z",
     "shell.execute_reply": "2020-08-14T05:28:30.399157Z",
     "shell.execute_reply.started": "2020-08-14T05:28:30.391184Z"
    }
   },
   "outputs": [
    {
     "data": {
      "text/plain": [
       "{0: 'AU',\n",
       " 1: 'CA',\n",
       " 2: 'DE',\n",
       " 3: 'ES',\n",
       " 4: 'FR',\n",
       " 5: 'GB',\n",
       " 6: 'IT',\n",
       " 7: 'NDF',\n",
       " 8: 'NL',\n",
       " 9: 'PT',\n",
       " 10: 'US',\n",
       " 11: 'other'}"
      ]
     },
     "execution_count": 30,
     "metadata": {},
     "output_type": "execute_result"
    }
   ],
   "source": [
    "mapping = dict(zip(range(len(le.classes_)), le.classes_))\n",
    "mapping"
   ]
  },
  {
   "cell_type": "code",
   "execution_count": 31,
   "metadata": {
    "execution": {
     "iopub.execute_input": "2020-08-14T05:28:30.401151Z",
     "iopub.status.busy": "2020-08-14T05:28:30.400154Z",
     "iopub.status.idle": "2020-08-14T05:28:30.501883Z",
     "shell.execute_reply": "2020-08-14T05:28:30.501883Z",
     "shell.execute_reply.started": "2020-08-14T05:28:30.401151Z"
    }
   },
   "outputs": [],
   "source": [
    "target = train['target']\n",
    "feature = train.drop(['target', 'country_destination'], axis=1)"
   ]
  },
  {
   "cell_type": "code",
   "execution_count": 32,
   "metadata": {
    "execution": {
     "iopub.execute_input": "2020-08-14T05:28:30.503878Z",
     "iopub.status.busy": "2020-08-14T05:28:30.502880Z",
     "iopub.status.idle": "2020-08-14T05:28:30.508864Z",
     "shell.execute_reply": "2020-08-14T05:28:30.508864Z",
     "shell.execute_reply.started": "2020-08-14T05:28:30.503878Z"
    }
   },
   "outputs": [
    {
     "name": "stdout",
     "output_type": "stream",
     "text": [
      "(213451,) (213451, 125)\n"
     ]
    }
   ],
   "source": [
    "print(target.shape, feature.shape)"
   ]
  },
  {
   "cell_type": "markdown",
   "metadata": {},
   "source": [
    "### Baseline Model"
   ]
  },
  {
   "cell_type": "code",
   "execution_count": 33,
   "metadata": {
    "execution": {
     "iopub.execute_input": "2020-08-14T05:28:33.810288Z",
     "iopub.status.busy": "2020-08-14T05:28:33.810288Z",
     "iopub.status.idle": "2020-08-14T05:28:34.080152Z",
     "shell.execute_reply": "2020-08-14T05:28:34.080152Z",
     "shell.execute_reply.started": "2020-08-14T05:28:33.810288Z"
    }
   },
   "outputs": [],
   "source": [
    "X_train, X_test, y_train, y_test = train_test_split(\n",
    "    feature, target, train_size=.25, random_state=42)"
   ]
  },
  {
   "cell_type": "code",
   "execution_count": 34,
   "metadata": {
    "execution": {
     "iopub.execute_input": "2020-08-14T05:28:34.330664Z",
     "iopub.status.busy": "2020-08-14T05:28:34.330664Z",
     "iopub.status.idle": "2020-08-14T05:28:34.336639Z",
     "shell.execute_reply": "2020-08-14T05:28:34.336639Z",
     "shell.execute_reply.started": "2020-08-14T05:28:34.330664Z"
    }
   },
   "outputs": [],
   "source": [
    "def base_model():\n",
    "    model = Sequential()\n",
    "    model.add(Dense(120, input_dim=125, activation='relu'))\n",
    "    model.add(Dense(60, activation='relu'))\n",
    "    model.add(Dense(12, activation='sigmoid'))\n",
    "    model.compile(loss='categorical_crossentropy', optimizer='adam',\n",
    "                  metrics=['accuracy', 'top_k_categorical_accuracy'])\n",
    "    return model"
   ]
  },
  {
   "cell_type": "code",
   "execution_count": 39,
   "metadata": {
    "execution": {
     "iopub.execute_input": "2020-08-14T05:32:07.948083Z",
     "iopub.status.busy": "2020-08-14T05:32:07.948083Z",
     "iopub.status.idle": "2020-08-14T05:32:21.005466Z",
     "shell.execute_reply": "2020-08-14T05:32:21.005466Z",
     "shell.execute_reply.started": "2020-08-14T05:32:07.948083Z"
    }
   },
   "outputs": [],
   "source": [
    "estimator = KerasClassifier(\n",
    "    build_fn=base_model, epochs=5, batch_size=128, verbose=0)\n",
    "kfold = KFold(n_splits=3, shuffle=True)\n",
    "results = cross_val_score(estimator, X_train, lb.transform(y_train), cv=kfold, scoring='roc_auc_ovr')"
   ]
  },
  {
   "cell_type": "code",
   "execution_count": 41,
   "metadata": {
    "execution": {
     "iopub.execute_input": "2020-08-14T05:32:42.852440Z",
     "iopub.status.busy": "2020-08-14T05:32:42.851442Z",
     "iopub.status.idle": "2020-08-14T05:32:42.856428Z",
     "shell.execute_reply": "2020-08-14T05:32:42.856428Z",
     "shell.execute_reply.started": "2020-08-14T05:32:42.852440Z"
    }
   },
   "outputs": [
    {
     "name": "stdout",
     "output_type": "stream",
     "text": [
      "Baseline: 65.11%\n"
     ]
    }
   ],
   "source": [
    "print(\"Baseline: %.2f%%\" % (results.mean()*100))"
   ]
  },
  {
   "cell_type": "code",
   "execution_count": 42,
   "metadata": {
    "execution": {
     "iopub.execute_input": "2020-08-14T05:33:13.549374Z",
     "iopub.status.busy": "2020-08-14T05:33:13.549374Z",
     "iopub.status.idle": "2020-08-14T05:33:32.387926Z",
     "shell.execute_reply": "2020-08-14T05:33:32.386929Z",
     "shell.execute_reply.started": "2020-08-14T05:33:13.549374Z"
    }
   },
   "outputs": [
    {
     "data": {
      "text/plain": [
       "<keras.callbacks.callbacks.History at 0x1fc818980b8>"
      ]
     },
     "execution_count": 42,
     "metadata": {},
     "output_type": "execute_result"
    }
   ],
   "source": [
    "estimator.fit(feature, lb.transform(target), verbose=False)"
   ]
  },
  {
   "cell_type": "code",
   "execution_count": 43,
   "metadata": {
    "execution": {
     "iopub.execute_input": "2020-08-14T05:33:32.390921Z",
     "iopub.status.busy": "2020-08-14T05:33:32.389922Z",
     "iopub.status.idle": "2020-08-14T05:33:33.082097Z",
     "shell.execute_reply": "2020-08-14T05:33:33.082097Z",
     "shell.execute_reply.started": "2020-08-14T05:33:32.390921Z"
    }
   },
   "outputs": [],
   "source": [
    "estimator.model.save(filepath='./data/deep_learn.tf')"
   ]
  }
 ],
 "metadata": {
  "kernelspec": {
   "display_name": "Python 3",
   "language": "python",
   "name": "python3"
  },
  "language_info": {
   "codemirror_mode": {
    "name": "ipython",
    "version": 3
   },
   "file_extension": ".py",
   "mimetype": "text/x-python",
   "name": "python",
   "nbconvert_exporter": "python",
   "pygments_lexer": "ipython3",
   "version": "3.7.1"
  }
 },
 "nbformat": 4,
 "nbformat_minor": 4
}
