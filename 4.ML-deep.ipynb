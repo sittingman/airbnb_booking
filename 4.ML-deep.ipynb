{
 "cells": [
  {
   "cell_type": "markdown",
   "metadata": {},
   "source": [
    "# Machine Learning"
   ]
  },
  {
   "cell_type": "code",
   "execution_count": 11,
   "metadata": {
    "execution": {
     "iopub.execute_input": "2020-08-19T04:00:36.715661Z",
     "iopub.status.busy": "2020-08-19T04:00:36.715661Z",
     "iopub.status.idle": "2020-08-19T04:00:36.724637Z",
     "shell.execute_reply": "2020-08-19T04:00:36.723358Z",
     "shell.execute_reply.started": "2020-08-19T04:00:36.715661Z"
    }
   },
   "outputs": [],
   "source": [
    "import warnings\n",
    "\n",
    "import keras\n",
    "import numpy as np\n",
    "import pandas as pd\n",
    "import tensorflow as tf\n",
    "from keras.layers import Dense\n",
    "from keras.metrics import TopKCategoricalAccuracy\n",
    "from keras.models import Sequential, load_model\n",
    "from keras.utils import np_utils\n",
    "from keras.wrappers.scikit_learn import KerasClassifier\n",
    "from sklearn.metrics import ndcg_score, make_scorer\n",
    "from sklearn.model_selection import KFold, cross_val_score, train_test_split\n",
    "from sklearn.preprocessing import LabelBinarizer, LabelEncoder\n",
    "import warnings\n",
    "warnings.simplefilter(action='ignore', category=FutureWarning)"
   ]
  },
  {
   "cell_type": "code",
   "execution_count": 2,
   "metadata": {
    "execution": {
     "iopub.execute_input": "2020-08-19T04:00:05.915029Z",
     "iopub.status.busy": "2020-08-19T04:00:05.914031Z",
     "iopub.status.idle": "2020-08-19T04:00:09.518946Z",
     "shell.execute_reply": "2020-08-19T04:00:09.517948Z",
     "shell.execute_reply.started": "2020-08-19T04:00:05.915029Z"
    }
   },
   "outputs": [],
   "source": [
    "train = pd.read_csv('./data/train_df.csv', index_col=0)"
   ]
  },
  {
   "cell_type": "code",
   "execution_count": 3,
   "metadata": {
    "execution": {
     "iopub.execute_input": "2020-08-19T04:00:09.526925Z",
     "iopub.status.busy": "2020-08-19T04:00:09.525926Z",
     "iopub.status.idle": "2020-08-19T04:00:09.747336Z",
     "shell.execute_reply": "2020-08-19T04:00:09.746339Z",
     "shell.execute_reply.started": "2020-08-19T04:00:09.526925Z"
    }
   },
   "outputs": [
    {
     "data": {
      "text/plain": [
       "LabelBinarizer()"
      ]
     },
     "execution_count": 3,
     "metadata": {},
     "output_type": "execute_result"
    }
   ],
   "source": [
    "le = LabelEncoder()\n",
    "train['target'] = le.fit_transform(train['country_destination'])\n",
    "lb = LabelBinarizer()\n",
    "lb.fit(train['target'])"
   ]
  },
  {
   "cell_type": "code",
   "execution_count": 4,
   "metadata": {
    "execution": {
     "iopub.execute_input": "2020-08-19T04:00:09.751327Z",
     "iopub.status.busy": "2020-08-19T04:00:09.750327Z",
     "iopub.status.idle": "2020-08-19T04:00:09.760299Z",
     "shell.execute_reply": "2020-08-19T04:00:09.759303Z",
     "shell.execute_reply.started": "2020-08-19T04:00:09.751327Z"
    }
   },
   "outputs": [
    {
     "data": {
      "text/plain": [
       "{0: 'AU',\n",
       " 1: 'CA',\n",
       " 2: 'DE',\n",
       " 3: 'ES',\n",
       " 4: 'FR',\n",
       " 5: 'GB',\n",
       " 6: 'IT',\n",
       " 7: 'NDF',\n",
       " 8: 'NL',\n",
       " 9: 'PT',\n",
       " 10: 'US',\n",
       " 11: 'other'}"
      ]
     },
     "execution_count": 4,
     "metadata": {},
     "output_type": "execute_result"
    }
   ],
   "source": [
    "mapping = dict(zip(range(len(le.classes_)), le.classes_))\n",
    "mapping"
   ]
  },
  {
   "cell_type": "code",
   "execution_count": 5,
   "metadata": {
    "execution": {
     "iopub.execute_input": "2020-08-19T04:00:09.763294Z",
     "iopub.status.busy": "2020-08-19T04:00:09.761297Z",
     "iopub.status.idle": "2020-08-19T04:00:09.927853Z",
     "shell.execute_reply": "2020-08-19T04:00:09.926856Z",
     "shell.execute_reply.started": "2020-08-19T04:00:09.763294Z"
    }
   },
   "outputs": [],
   "source": [
    "target = train['target']\n",
    "feature = train.drop(['target', 'country_destination'], axis=1)"
   ]
  },
  {
   "cell_type": "code",
   "execution_count": 6,
   "metadata": {
    "execution": {
     "iopub.execute_input": "2020-08-19T04:00:09.928848Z",
     "iopub.status.busy": "2020-08-19T04:00:09.928848Z",
     "iopub.status.idle": "2020-08-19T04:00:09.942811Z",
     "shell.execute_reply": "2020-08-19T04:00:09.941814Z",
     "shell.execute_reply.started": "2020-08-19T04:00:09.928848Z"
    }
   },
   "outputs": [
    {
     "name": "stdout",
     "output_type": "stream",
     "text": [
      "(213451,) (213451, 125)\n"
     ]
    }
   ],
   "source": [
    "print(target.shape, feature.shape)"
   ]
  },
  {
   "cell_type": "markdown",
   "metadata": {},
   "source": [
    "### Baseline Model"
   ]
  },
  {
   "cell_type": "code",
   "execution_count": 7,
   "metadata": {
    "execution": {
     "iopub.execute_input": "2020-08-19T04:00:09.945805Z",
     "iopub.status.busy": "2020-08-19T04:00:09.944806Z",
     "iopub.status.idle": "2020-08-19T04:00:10.548703Z",
     "shell.execute_reply": "2020-08-19T04:00:10.547704Z",
     "shell.execute_reply.started": "2020-08-19T04:00:09.945805Z"
    }
   },
   "outputs": [],
   "source": [
    "X_train, X_test, y_train, y_test = train_test_split(\n",
    "    feature, target, train_size=.25, random_state=42)"
   ]
  },
  {
   "cell_type": "code",
   "execution_count": 8,
   "metadata": {
    "execution": {
     "iopub.execute_input": "2020-08-19T04:00:10.553689Z",
     "iopub.status.busy": "2020-08-19T04:00:10.552694Z",
     "iopub.status.idle": "2020-08-19T04:00:10.559673Z",
     "shell.execute_reply": "2020-08-19T04:00:10.559673Z",
     "shell.execute_reply.started": "2020-08-19T04:00:10.553689Z"
    }
   },
   "outputs": [],
   "source": [
    "def model_train(name, reg):\n",
    "    fit = reg.fit(X_train, y_train)\n",
    "    score = fit.predict_proba(X_test)\n",
    "    ndcg = ndcg_score(lb.transform(y_test), score, k=5)\n",
    "    print('{} has ndcg score of {:.3f}'.format(name, ndcg))"
   ]
  },
  {
   "cell_type": "code",
   "execution_count": 9,
   "metadata": {
    "execution": {
     "iopub.execute_input": "2020-08-19T04:00:10.562666Z",
     "iopub.status.busy": "2020-08-19T04:00:10.562666Z",
     "iopub.status.idle": "2020-08-19T04:00:10.580616Z",
     "shell.execute_reply": "2020-08-19T04:00:10.578621Z",
     "shell.execute_reply.started": "2020-08-19T04:00:10.562666Z"
    }
   },
   "outputs": [],
   "source": [
    "def dcg_score(y_true, y_score, k=5):\n",
    "    order = np.argsort(y_score)[::-1]\n",
    "    y_true = np.take(y_true, order[:k])\n",
    "\n",
    "    gain = 2 ** y_true - 1\n",
    "\n",
    "    discounts = np.log2(np.arange(len(y_true)) + 2)\n",
    "    return np.sum(gain / discounts)\n",
    "\n",
    "\n",
    "def ndcg_score_c(ground_truth, predictions, k=5):\n",
    "    \n",
    "    lb = LabelBinarizer()\n",
    "    lb.fit(range(len(predictions) + 1))\n",
    "    T = lb.transform(ground_truth)\n",
    "\n",
    "    scores = []\n",
    "    \n",
    "    for y_true, y_score in zip(T, predictions):\n",
    "        actual = dcg_score(y_true, y_score, k)\n",
    "        best = dcg_score(y_true, y_true, k)\n",
    "        score = float(actual) / float(best)\n",
    "        scores.append(score)\n",
    "\n",
    "    return np.mean(scores)"
   ]
  },
  {
   "cell_type": "code",
   "execution_count": 12,
   "metadata": {
    "execution": {
     "iopub.execute_input": "2020-08-19T04:00:43.743190Z",
     "iopub.status.busy": "2020-08-19T04:00:43.743190Z",
     "iopub.status.idle": "2020-08-19T04:00:43.748173Z",
     "shell.execute_reply": "2020-08-19T04:00:43.747175Z",
     "shell.execute_reply.started": "2020-08-19T04:00:43.743190Z"
    }
   },
   "outputs": [],
   "source": [
    "ndcg_scorer = make_scorer(ndcg_score_c, needs_proba=True, k=5)"
   ]
  },
  {
   "cell_type": "code",
   "execution_count": 13,
   "metadata": {
    "execution": {
     "iopub.execute_input": "2020-08-19T04:00:44.155083Z",
     "iopub.status.busy": "2020-08-19T04:00:44.155083Z",
     "iopub.status.idle": "2020-08-19T04:00:44.163063Z",
     "shell.execute_reply": "2020-08-19T04:00:44.161072Z",
     "shell.execute_reply.started": "2020-08-19T04:00:44.155083Z"
    }
   },
   "outputs": [],
   "source": [
    "def base_model():\n",
    "    model = Sequential()\n",
    "    model.add(Dense(240, input_dim=125, activation='relu'))\n",
    "    model.add(Dense(60, activation='relu'))\n",
    "    model.add(Dense(12, activation='sigmoid'))\n",
    "    model.compile(loss='categorical_crossentropy', optimizer='adam',\n",
    "                  metrics=['accuracy', 'top_k_categorical_accuracy'])\n",
    "    return model"
   ]
  },
  {
   "cell_type": "code",
   "execution_count": 15,
   "metadata": {
    "execution": {
     "iopub.execute_input": "2020-08-19T04:01:00.255232Z",
     "iopub.status.busy": "2020-08-19T04:01:00.254235Z",
     "iopub.status.idle": "2020-08-19T04:02:14.799233Z",
     "shell.execute_reply": "2020-08-19T04:02:14.799233Z",
     "shell.execute_reply.started": "2020-08-19T04:01:00.255232Z"
    }
   },
   "outputs": [
    {
     "name": "stdout",
     "output_type": "stream",
     "text": [
      "WARNING:tensorflow:From C:\\Users\\sit_k\\AppData\\Local\\Continuum\\anaconda3\\lib\\site-packages\\tensorflow\\python\\ops\\math_grad.py:1250: add_dispatch_support.<locals>.wrapper (from tensorflow.python.ops.array_ops) is deprecated and will be removed in a future version.\n",
      "Instructions for updating:\n",
      "Use tf.where in 2.0, which has the same broadcast rule as np.where\n",
      "WARNING:tensorflow:From C:\\Users\\sit_k\\AppData\\Local\\Continuum\\anaconda3\\lib\\site-packages\\keras\\backend\\tensorflow_backend.py:422: The name tf.global_variables is deprecated. Please use tf.compat.v1.global_variables instead.\n",
      "\n"
     ]
    }
   ],
   "source": [
    "estimator = KerasClassifier(\n",
    "    build_fn=base_model, epochs=15, batch_size=128, verbose=0)\n",
    "kfold = KFold(n_splits=4, shuffle=True)\n",
    "results = cross_val_score(estimator, X_train, y_train, cv=kfold, scoring=ndcg_scorer)"
   ]
  },
  {
   "cell_type": "code",
   "execution_count": 19,
   "metadata": {
    "execution": {
     "iopub.execute_input": "2020-08-19T04:06:11.098483Z",
     "iopub.status.busy": "2020-08-19T04:06:11.098483Z",
     "iopub.status.idle": "2020-08-19T04:06:11.103469Z",
     "shell.execute_reply": "2020-08-19T04:06:11.102473Z",
     "shell.execute_reply.started": "2020-08-19T04:06:11.098483Z"
    }
   },
   "outputs": [
    {
     "name": "stdout",
     "output_type": "stream",
     "text": [
      "ndcg score: 0.8246\n"
     ]
    }
   ],
   "source": [
    "print('ndcg score: {:.4f}'.format(results.mean()))"
   ]
  },
  {
   "cell_type": "code",
   "execution_count": 20,
   "metadata": {
    "execution": {
     "iopub.execute_input": "2020-08-19T04:06:17.661606Z",
     "iopub.status.busy": "2020-08-19T04:06:17.661606Z",
     "iopub.status.idle": "2020-08-19T04:07:19.254646Z",
     "shell.execute_reply": "2020-08-19T04:07:19.252648Z",
     "shell.execute_reply.started": "2020-08-19T04:06:17.661606Z"
    }
   },
   "outputs": [
    {
     "data": {
      "text/plain": [
       "<keras.callbacks.callbacks.History at 0x179e5432a20>"
      ]
     },
     "execution_count": 20,
     "metadata": {},
     "output_type": "execute_result"
    }
   ],
   "source": [
    "estimator.fit(feature, lb.transform(target), verbose=False)"
   ]
  },
  {
   "cell_type": "code",
   "execution_count": 21,
   "metadata": {
    "execution": {
     "iopub.execute_input": "2020-08-19T04:07:19.256637Z",
     "iopub.status.busy": "2020-08-19T04:07:19.256637Z",
     "iopub.status.idle": "2020-08-19T04:07:19.679506Z",
     "shell.execute_reply": "2020-08-19T04:07:19.679506Z",
     "shell.execute_reply.started": "2020-08-19T04:07:19.256637Z"
    }
   },
   "outputs": [],
   "source": [
    "estimator.model.save(filepath='./data/deep_learn.tf')"
   ]
  },
  {
   "cell_type": "code",
   "execution_count": 23,
   "metadata": {
    "execution": {
     "iopub.execute_input": "2020-08-19T04:08:29.546499Z",
     "iopub.status.busy": "2020-08-19T04:08:29.545502Z",
     "iopub.status.idle": "2020-08-19T04:08:58.804089Z",
     "shell.execute_reply": "2020-08-19T04:08:58.803093Z",
     "shell.execute_reply.started": "2020-08-19T04:08:29.546499Z"
    }
   },
   "outputs": [
    {
     "name": "stdout",
     "output_type": "stream",
     "text": [
      "model has ndcg score of 0.8251\n"
     ]
    }
   ],
   "source": [
    "estimator.fit(X_train, y_train)\n",
    "score = estimator.predict_proba(X_test)\n",
    "ndcg = ndcg_score(lb.transform(y_test), score, k=5)\n",
    "print('model has ndcg score of {:.4f}'.format(ndcg))"
   ]
  }
 ],
 "metadata": {
  "kernelspec": {
   "display_name": "Python 3",
   "language": "python",
   "name": "python3"
  },
  "language_info": {
   "codemirror_mode": {
    "name": "ipython",
    "version": 3
   },
   "file_extension": ".py",
   "mimetype": "text/x-python",
   "name": "python",
   "nbconvert_exporter": "python",
   "pygments_lexer": "ipython3",
   "version": "3.7.1"
  }
 },
 "nbformat": 4,
 "nbformat_minor": 4
}
