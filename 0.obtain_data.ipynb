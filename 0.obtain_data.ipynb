{
 "cells": [
  {
   "cell_type": "code",
   "execution_count": 1,
   "metadata": {},
   "outputs": [],
   "source": [
    "# !pip install kaggle"
   ]
  },
  {
   "cell_type": "code",
   "execution_count": 2,
   "metadata": {},
   "outputs": [],
   "source": [
    "import kaggle\n",
    "import os, zipfile"
   ]
  },
  {
   "cell_type": "code",
   "execution_count": 3,
   "metadata": {},
   "outputs": [
    {
     "name": "stdout",
     "output_type": "stream",
     "text": [
      "Downloading airbnb-recruiting-new-user-bookings.zip to C:\\Users\\sit_k\\Documents\\Python\\airbnb"
     ]
    },
    {
     "name": "stderr",
     "output_type": "stream",
     "text": [
      "Error processing line 1 of C:\\Users\\sit_k\\AppData\\Local\\Continuum\\anaconda3\\lib\\site-packages\\matplotlib-3.1.3-py3.7-nspkg.pth:\n",
      "\n"
     ]
    },
    {
     "name": "stdout",
     "output_type": "stream",
     "text": [
      "\n",
      "\n"
     ]
    },
    {
     "name": "stderr",
     "output_type": "stream",
     "text": [
      "  Traceback (most recent call last):\n",
      "    File \"C:\\Users\\sit_k\\AppData\\Local\\Continuum\\anaconda3\\lib\\site.py\", line 168, in addpackage\n",
      "      exec(line)\n",
      "    File \"<string>\", line 1, in <module>\n",
      "    File \"<frozen importlib._bootstrap>\", line 580, in module_from_spec\n",
      "  AttributeError: 'NoneType' object has no attribute 'loader'\n",
      "\n",
      "Remainder of file ignored\n",
      "\n",
      "  0%|          | 0.00/64.7M [00:00<?, ?B/s]\n",
      "  2%|1         | 1.00M/64.7M [00:00<00:07, 8.81MB/s]\n",
      "  5%|4         | 3.00M/64.7M [00:00<00:06, 9.32MB/s]\n",
      "  8%|7         | 5.00M/64.7M [00:00<00:06, 9.77MB/s]\n",
      " 11%|#         | 7.00M/64.7M [00:00<00:05, 10.1MB/s]\n",
      " 14%|#3        | 9.00M/64.7M [00:00<00:05, 9.97MB/s]\n",
      " 17%|#6        | 11.0M/64.7M [00:01<00:05, 10.4MB/s]\n",
      " 20%|##        | 13.0M/64.7M [00:01<00:05, 9.26MB/s]\n",
      " 23%|##3       | 15.0M/64.7M [00:01<00:05, 10.0MB/s]\n",
      " 26%|##6       | 17.0M/64.7M [00:01<00:04, 10.3MB/s]\n",
      " 29%|##9       | 19.0M/64.7M [00:01<00:04, 10.5MB/s]\n",
      " 32%|###2      | 21.0M/64.7M [00:02<00:04, 10.7MB/s]\n",
      " 36%|###5      | 23.0M/64.7M [00:02<00:04, 9.20MB/s]\n",
      " 39%|###8      | 25.0M/64.7M [00:02<00:04, 9.74MB/s]\n",
      " 42%|####1     | 27.0M/64.7M [00:02<00:03, 10.1MB/s]\n",
      " 45%|####4     | 29.0M/64.7M [00:02<00:03, 10.3MB/s]\n",
      " 48%|####7     | 31.0M/64.7M [00:03<00:03, 10.5MB/s]\n",
      " 51%|#####     | 33.0M/64.7M [00:03<00:03, 10.7MB/s]\n",
      " 54%|#####4    | 35.0M/64.7M [00:03<00:02, 10.8MB/s]\n",
      " 57%|#####7    | 37.0M/64.7M [00:03<00:02, 10.9MB/s]\n",
      " 60%|######    | 39.0M/64.7M [00:03<00:02, 10.9MB/s]\n",
      " 63%|######3   | 41.0M/64.7M [00:04<00:02, 10.9MB/s]\n",
      " 66%|######6   | 43.0M/64.7M [00:04<00:02, 11.0MB/s]\n",
      " 70%|######9   | 45.0M/64.7M [00:04<00:01, 11.0MB/s]\n",
      " 73%|#######2  | 47.0M/64.7M [00:04<00:01, 11.0MB/s]\n",
      " 76%|#######5  | 49.0M/64.7M [00:04<00:01, 11.0MB/s]\n",
      " 79%|#######8  | 51.0M/64.7M [00:05<00:01, 11.0MB/s]\n",
      " 82%|########1 | 53.0M/64.7M [00:05<00:01, 11.0MB/s]\n",
      " 85%|########4 | 55.0M/64.7M [00:05<00:00, 10.9MB/s]\n",
      " 88%|########8 | 57.0M/64.7M [00:05<00:00, 11.0MB/s]\n",
      " 91%|#########1| 59.0M/64.7M [00:05<00:00, 9.74MB/s]\n",
      " 94%|#########4| 61.0M/64.7M [00:06<00:00, 10.1MB/s]\n",
      " 97%|#########7| 63.0M/64.7M [00:06<00:00, 10.3MB/s]\n",
      "100%|##########| 64.7M/64.7M [00:06<00:00, 10.5MB/s]\n",
      "100%|##########| 64.7M/64.7M [00:06<00:00, 10.5MB/s]\n"
     ]
    }
   ],
   "source": [
    "!kaggle competitions download -c airbnb-recruiting-new-user-bookings\n",
    "# after this execution, move zip file into the data folder before executing next line"
   ]
  },
  {
   "cell_type": "code",
   "execution_count": 4,
   "metadata": {},
   "outputs": [],
   "source": [
    "pwd = os.getcwd()\n",
    "dir_name = pwd+'\\data\\\\'"
   ]
  },
  {
   "cell_type": "code",
   "execution_count": 5,
   "metadata": {},
   "outputs": [
    {
     "data": {
      "text/plain": [
       "['.ipynb_checkpoints',\n",
       " '0.obtain_data.ipynb',\n",
       " 'airbnb-recruiting-new-user-bookings.zip']"
      ]
     },
     "execution_count": 5,
     "metadata": {},
     "output_type": "execute_result"
    }
   ],
   "source": [
    "os.listdir(dir_name)"
   ]
  },
  {
   "cell_type": "code",
   "execution_count": 6,
   "metadata": {},
   "outputs": [],
   "source": [
    "for item in os.listdir(dir_name): # loop through items in dir\n",
    "    if item.endswith('.zip'): # check for \".zip\" extension\n",
    "        file_name = dir_name+item # get full path of files\n",
    "        zip_ref = zipfile.ZipFile(file_name) # create zipfile object\n",
    "        zip_ref.extractall(dir_name) # extract file to dir\n",
    "        zip_ref.close() # close file\n",
    "        os.remove(file_name) # delete zipped file"
   ]
  },
  {
   "cell_type": "code",
   "execution_count": 7,
   "metadata": {},
   "outputs": [],
   "source": [
    "for item in os.listdir(dir_name): # loop through items in dir\n",
    "    if item.endswith('.zip'): # check for \".zip\" extension\n",
    "        file_name = dir_name+item # get full path of files\n",
    "        zip_ref = zipfile.ZipFile(file_name) # create zipfile object\n",
    "        zip_ref.extractall(dir_name) # extract file to dir\n",
    "        zip_ref.close() # close file\n",
    "        os.remove(file_name) # delete zipped file"
   ]
  },
  {
   "cell_type": "code",
   "execution_count": null,
   "metadata": {},
   "outputs": [],
   "source": []
  }
 ],
 "metadata": {
  "kernelspec": {
   "display_name": "Python 3",
   "language": "python",
   "name": "python3"
  },
  "language_info": {
   "codemirror_mode": {
    "name": "ipython",
    "version": 3
   },
   "file_extension": ".py",
   "mimetype": "text/x-python",
   "name": "python",
   "nbconvert_exporter": "python",
   "pygments_lexer": "ipython3",
   "version": "3.7.1"
  }
 },
 "nbformat": 4,
 "nbformat_minor": 4
}
