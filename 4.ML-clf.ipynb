{
 "cells": [
  {
   "cell_type": "markdown",
   "metadata": {},
   "source": [
    "# Machine Learning"
   ]
  },
  {
   "cell_type": "code",
   "execution_count": 13,
   "metadata": {
    "execution": {
     "iopub.execute_input": "2020-08-17T02:38:04.770801Z",
     "iopub.status.busy": "2020-08-17T02:38:04.770801Z",
     "iopub.status.idle": "2020-08-17T02:38:04.775788Z",
     "shell.execute_reply": "2020-08-17T02:38:04.775788Z",
     "shell.execute_reply.started": "2020-08-17T02:38:04.770801Z"
    }
   },
   "outputs": [],
   "source": [
    "import pickle\n",
    "import warnings\n",
    "\n",
    "import hyperopt\n",
    "import numpy as np\n",
    "import pandas as pd\n",
    "from hyperopt import STATUS_OK, Trials, fmin, hp, rand, tpe\n",
    "from hyperopt.pyll.base import scope\n",
    "from lightgbm import LGBMClassifier\n",
    "from sklearn.dummy import DummyClassifier\n",
    "from sklearn.ensemble import (\n",
    "    ExtraTreesClassifier,\n",
    "    GradientBoostingClassifier,\n",
    "    RandomForestClassifier,\n",
    ")\n",
    "from sklearn.linear_model import LogisticRegression, RidgeClassifier\n",
    "from sklearn.metrics import make_scorer, ndcg_score, roc_auc_score\n",
    "from sklearn.model_selection import (\n",
    "    KFold,\n",
    "    RandomizedSearchCV,\n",
    "    cross_val_score,\n",
    "    cross_validate,\n",
    "    train_test_split,\n",
    ")\n",
    "from sklearn.preprocessing import LabelBinarizer, LabelEncoder\n",
    "\n",
    "warnings.simplefilter(action='ignore', category=FutureWarning)"
   ]
  },
  {
   "cell_type": "code",
   "execution_count": 2,
   "metadata": {
    "execution": {
     "iopub.execute_input": "2020-08-17T02:35:42.755540Z",
     "iopub.status.busy": "2020-08-17T02:35:42.754542Z",
     "iopub.status.idle": "2020-08-17T02:35:44.112405Z",
     "shell.execute_reply": "2020-08-17T02:35:44.112405Z",
     "shell.execute_reply.started": "2020-08-17T02:35:42.755540Z"
    }
   },
   "outputs": [],
   "source": [
    "train = pd.read_csv('./data/train_df.csv', index_col=0)"
   ]
  },
  {
   "cell_type": "code",
   "execution_count": 3,
   "metadata": {
    "execution": {
     "iopub.execute_input": "2020-08-17T02:35:44.113401Z",
     "iopub.status.busy": "2020-08-17T02:35:44.113401Z",
     "iopub.status.idle": "2020-08-17T02:35:44.122378Z",
     "shell.execute_reply": "2020-08-17T02:35:44.122378Z",
     "shell.execute_reply.started": "2020-08-17T02:35:44.113401Z"
    }
   },
   "outputs": [
    {
     "data": {
      "text/plain": [
       "(213451, 126)"
      ]
     },
     "execution_count": 3,
     "metadata": {},
     "output_type": "execute_result"
    }
   ],
   "source": [
    "train.shape"
   ]
  },
  {
   "cell_type": "code",
   "execution_count": 4,
   "metadata": {
    "execution": {
     "iopub.execute_input": "2020-08-17T02:35:45.249588Z",
     "iopub.status.busy": "2020-08-17T02:35:45.249588Z",
     "iopub.status.idle": "2020-08-17T02:35:45.362285Z",
     "shell.execute_reply": "2020-08-17T02:35:45.362285Z",
     "shell.execute_reply.started": "2020-08-17T02:35:45.249588Z"
    }
   },
   "outputs": [
    {
     "data": {
      "text/plain": [
       "LabelBinarizer()"
      ]
     },
     "execution_count": 4,
     "metadata": {},
     "output_type": "execute_result"
    }
   ],
   "source": [
    "le = LabelEncoder()\n",
    "train['target'] = le.fit_transform(train['country_destination'])\n",
    "lb = LabelBinarizer()\n",
    "lb.fit(train['target'])"
   ]
  },
  {
   "cell_type": "code",
   "execution_count": 5,
   "metadata": {
    "execution": {
     "iopub.execute_input": "2020-08-17T02:35:54.120931Z",
     "iopub.status.busy": "2020-08-17T02:35:54.120931Z",
     "iopub.status.idle": "2020-08-17T02:35:54.127913Z",
     "shell.execute_reply": "2020-08-17T02:35:54.126917Z",
     "shell.execute_reply.started": "2020-08-17T02:35:54.120931Z"
    }
   },
   "outputs": [
    {
     "data": {
      "text/plain": [
       "{0: 'AU',\n",
       " 1: 'CA',\n",
       " 2: 'DE',\n",
       " 3: 'ES',\n",
       " 4: 'FR',\n",
       " 5: 'GB',\n",
       " 6: 'IT',\n",
       " 7: 'NDF',\n",
       " 8: 'NL',\n",
       " 9: 'PT',\n",
       " 10: 'US',\n",
       " 11: 'other'}"
      ]
     },
     "execution_count": 5,
     "metadata": {},
     "output_type": "execute_result"
    }
   ],
   "source": [
    "mapping = dict(zip(range(len(le.classes_)), le.classes_))\n",
    "mapping"
   ]
  },
  {
   "cell_type": "code",
   "execution_count": 6,
   "metadata": {
    "execution": {
     "iopub.execute_input": "2020-08-17T02:35:56.924514Z",
     "iopub.status.busy": "2020-08-17T02:35:56.924514Z",
     "iopub.status.idle": "2020-08-17T02:35:57.013276Z",
     "shell.execute_reply": "2020-08-17T02:35:57.013276Z",
     "shell.execute_reply.started": "2020-08-17T02:35:56.924514Z"
    }
   },
   "outputs": [],
   "source": [
    "target = train['target']\n",
    "feature = train.drop(['target', 'country_destination'], axis=1)"
   ]
  },
  {
   "cell_type": "code",
   "execution_count": 7,
   "metadata": {
    "execution": {
     "iopub.execute_input": "2020-08-17T02:35:57.704947Z",
     "iopub.status.busy": "2020-08-17T02:35:57.704947Z",
     "iopub.status.idle": "2020-08-17T02:35:57.709934Z",
     "shell.execute_reply": "2020-08-17T02:35:57.709934Z",
     "shell.execute_reply.started": "2020-08-17T02:35:57.704947Z"
    }
   },
   "outputs": [
    {
     "name": "stdout",
     "output_type": "stream",
     "text": [
      "(213451,) (213451, 125)\n"
     ]
    }
   ],
   "source": [
    "print(target.shape, feature.shape)"
   ]
  },
  {
   "cell_type": "markdown",
   "metadata": {},
   "source": [
    "### Base Models comparison"
   ]
  },
  {
   "cell_type": "code",
   "execution_count": 8,
   "metadata": {
    "execution": {
     "iopub.execute_input": "2020-08-17T02:36:29.828955Z",
     "iopub.status.busy": "2020-08-17T02:36:29.828955Z",
     "iopub.status.idle": "2020-08-17T02:36:30.084829Z",
     "shell.execute_reply": "2020-08-17T02:36:30.084829Z",
     "shell.execute_reply.started": "2020-08-17T02:36:29.828955Z"
    }
   },
   "outputs": [],
   "source": [
    "X_train, X_test, y_train, y_test = train_test_split(\n",
    "    feature, target, train_size=.25, random_state=42)"
   ]
  },
  {
   "cell_type": "code",
   "execution_count": 9,
   "metadata": {
    "execution": {
     "iopub.execute_input": "2020-08-17T02:36:30.426978Z",
     "iopub.status.busy": "2020-08-17T02:36:30.425981Z",
     "iopub.status.idle": "2020-08-17T02:36:30.433924Z",
     "shell.execute_reply": "2020-08-17T02:36:30.432958Z",
     "shell.execute_reply.started": "2020-08-17T02:36:30.426978Z"
    }
   },
   "outputs": [],
   "source": [
    "clf_list = {'dummy': DummyClassifier(), 'lr': LogisticRegression(multi_class='multinomial', solver='lbfgs', max_iter=800),\n",
    "            'rfc': RandomForestClassifier(), 'et': ExtraTreesClassifier(), 'gradient': GradientBoostingClassifier(),\n",
    "            'lgb': LGBMClassifier(objective='multiclass', num_class=12)}"
   ]
  },
  {
   "cell_type": "code",
   "execution_count": 10,
   "metadata": {
    "execution": {
     "iopub.execute_input": "2020-08-17T02:36:35.670056Z",
     "iopub.status.busy": "2020-08-17T02:36:35.669058Z",
     "iopub.status.idle": "2020-08-17T02:36:35.674047Z",
     "shell.execute_reply": "2020-08-17T02:36:35.674047Z",
     "shell.execute_reply.started": "2020-08-17T02:36:35.670056Z"
    }
   },
   "outputs": [],
   "source": [
    "def model_train(name, reg):\n",
    "    fit = reg.fit(X_train, y_train)\n",
    "    pred = fit.predict(X_test)\n",
    "    score = fit.predict_proba(X_test)\n",
    "    ndcg = ndcg_score(lb.transform(y_test), score, k=5)\n",
    "    roc = roc_auc_score(y_test, score, multi_class='ovr')\n",
    "    print('{} has ndcg score of {:.3f} and roc of {:.3f}'.format(name, ndcg, roc))"
   ]
  },
  {
   "cell_type": "code",
   "execution_count": 15,
   "metadata": {
    "execution": {
     "iopub.execute_input": "2020-08-16T01:50:17.811531Z",
     "iopub.status.busy": "2020-08-16T01:50:17.810532Z",
     "iopub.status.idle": "2020-08-16T01:55:18.762857Z",
     "shell.execute_reply": "2020-08-16T01:55:18.762857Z",
     "shell.execute_reply.started": "2020-08-16T01:50:17.811531Z"
    }
   },
   "outputs": [
    {
     "name": "stdout",
     "output_type": "stream",
     "text": [
      "dummy has ndcg score of 0.530 and roc of 0.500\n",
      "lr has ndcg score of 0.825 and roc of 0.656\n",
      "rfc has ndcg score of 0.809 and roc of 0.558\n",
      "et has ndcg score of 0.797 and roc of 0.552\n",
      "gradient has ndcg score of 0.824 and roc of 0.649\n",
      "lgb has ndcg score of 0.825 and roc of 0.632\n"
     ]
    }
   ],
   "source": [
    "for name, reg in clf_list.items():\n",
    "    model_train(name, reg)"
   ]
  },
  {
   "cell_type": "markdown",
   "metadata": {},
   "source": [
    "### Cross Validation"
   ]
  },
  {
   "cell_type": "code",
   "execution_count": 26,
   "metadata": {
    "execution": {
     "iopub.execute_input": "2020-08-17T04:30:13.108382Z",
     "iopub.status.busy": "2020-08-17T04:30:13.108382Z",
     "iopub.status.idle": "2020-08-17T04:41:55.490857Z",
     "shell.execute_reply": "2020-08-17T04:41:55.490857Z",
     "shell.execute_reply.started": "2020-08-17T04:30:13.108382Z"
    }
   },
   "outputs": [
    {
     "name": "stdout",
     "output_type": "stream",
     "text": [
      "dummy has average roc of 0.500\n",
      "lr has average roc of 0.705\n",
      "rfc has average roc of 0.899\n",
      "et has average roc of 0.903\n",
      "gradient has average roc of 0.742\n",
      "lgb has average roc of 0.823\n"
     ]
    }
   ],
   "source": [
    "for name, reg in clf_list.items():\n",
    "    scores = cross_validate(reg, X_train, y_train, cv=4, scoring=(\n",
    "        'roc_auc_ovr'), return_train_score=True)\n",
    "    print('{} has average roc of {:.3f}'.format(\n",
    "        name, np.mean(scores['train_score'])))"
   ]
  },
  {
   "cell_type": "markdown",
   "metadata": {},
   "source": [
    "**Tree based** models appear to work well for this classification problem. **Lightgbm** would also be considered."
   ]
  },
  {
   "cell_type": "markdown",
   "metadata": {},
   "source": [
    "### Tunning"
   ]
  },
  {
   "cell_type": "code",
   "execution_count": 16,
   "metadata": {
    "execution": {
     "iopub.execute_input": "2020-08-16T01:55:18.763827Z",
     "iopub.status.busy": "2020-08-16T01:55:18.763827Z",
     "iopub.status.idle": "2020-08-16T01:55:18.769840Z",
     "shell.execute_reply": "2020-08-16T01:55:18.769840Z",
     "shell.execute_reply.started": "2020-08-16T01:55:18.763827Z"
    }
   },
   "outputs": [],
   "source": [
    "space = {'max_depth': hp.quniform('max_depth', 10, 50, 4),\n",
    "         'n_estimators': scope.int(hp.quniform('n_estimators', 200, 2000, 10)),\n",
    "         'min_samples_split': scope.int(hp.quniform('min_samples_split', 2, 10, 4)),\n",
    "         'min_samples_leaf': scope.int(hp.quniform('min_samples_leaf', 2, 10, 4)),\n",
    "         'bootstrap': hp.choice('bootstrap', [True, False]),\n",
    "         'max_features': hp.choice('max_features', ['auto', 'sqrt'])\n",
    "         }"
   ]
  },
  {
   "cell_type": "code",
   "execution_count": 17,
   "metadata": {
    "execution": {
     "iopub.execute_input": "2020-08-16T01:55:18.771808Z",
     "iopub.status.busy": "2020-08-16T01:55:18.771808Z",
     "iopub.status.idle": "2020-08-16T01:55:18.777791Z",
     "shell.execute_reply": "2020-08-16T01:55:18.777791Z",
     "shell.execute_reply.started": "2020-08-16T01:55:18.771808Z"
    }
   },
   "outputs": [],
   "source": [
    "def obj_rf(params):\n",
    "    clf = RandomForestClassifier(**params)\n",
    "    best_score = cross_val_score(\n",
    "        clf, X_train, y_train, scoring='roc_auc_ovr', cv=2).mean()\n",
    "    return {'loss': -best_score, 'status': STATUS_OK}"
   ]
  },
  {
   "cell_type": "code",
   "execution_count": 18,
   "metadata": {
    "execution": {
     "iopub.execute_input": "2020-08-16T01:59:12.050073Z",
     "iopub.status.busy": "2020-08-16T01:59:12.050073Z",
     "iopub.status.idle": "2020-08-16T02:58:43.035831Z",
     "shell.execute_reply": "2020-08-16T02:58:43.034834Z",
     "shell.execute_reply.started": "2020-08-16T01:59:12.050073Z"
    }
   },
   "outputs": [
    {
     "name": "stdout",
     "output_type": "stream",
     "text": [
      "100%|██████████| 40/40 [59:30<00:00, 89.27s/trial, best loss: -0.6362585915990013]  \n"
     ]
    }
   ],
   "source": [
    "best_rf = fmin(fn=obj_rf, space=space, max_evals=40,\n",
    "               rstate=np.random.RandomState(42), algo=rand.suggest)"
   ]
  },
  {
   "cell_type": "code",
   "execution_count": 19,
   "metadata": {
    "execution": {
     "iopub.execute_input": "2020-08-16T03:02:17.027977Z",
     "iopub.status.busy": "2020-08-16T03:02:17.027977Z",
     "iopub.status.idle": "2020-08-16T03:02:17.032939Z",
     "shell.execute_reply": "2020-08-16T03:02:17.032939Z",
     "shell.execute_reply.started": "2020-08-16T03:02:17.027977Z"
    }
   },
   "outputs": [
    {
     "data": {
      "text/plain": [
       "{'bootstrap': 0,\n",
       " 'max_depth': 16.0,\n",
       " 'max_features': 0,\n",
       " 'min_samples_leaf': 8.0,\n",
       " 'min_samples_split': 4.0,\n",
       " 'n_estimators': 1170.0}"
      ]
     },
     "execution_count": 19,
     "metadata": {},
     "output_type": "execute_result"
    }
   ],
   "source": [
    "best_rf"
   ]
  },
  {
   "cell_type": "code",
   "execution_count": 20,
   "metadata": {
    "execution": {
     "iopub.execute_input": "2020-08-16T03:02:55.029699Z",
     "iopub.status.busy": "2020-08-16T03:02:55.029699Z",
     "iopub.status.idle": "2020-08-16T03:03:20.415430Z",
     "shell.execute_reply": "2020-08-16T03:03:20.415430Z",
     "shell.execute_reply.started": "2020-08-16T03:02:55.029699Z"
    }
   },
   "outputs": [],
   "source": [
    "rf_tuned = RandomForestClassifier(n_estimators=1170, min_samples_leaf=8,\n",
    "                                  min_impurity_split=4, max_depth=16, bootstrap=True).fit(feature, target)\n",
    "pickle.dump(rf_tuned, open('./data/rf_tuned.sav', 'wb'))"
   ]
  },
  {
   "cell_type": "code",
   "execution_count": 21,
   "metadata": {
    "execution": {
     "iopub.execute_input": "2020-08-16T03:04:27.086442Z",
     "iopub.status.busy": "2020-08-16T03:04:27.085432Z",
     "iopub.status.idle": "2020-08-16T03:05:14.433636Z",
     "shell.execute_reply": "2020-08-16T03:05:14.432640Z",
     "shell.execute_reply.started": "2020-08-16T03:04:27.085432Z"
    }
   },
   "outputs": [
    {
     "name": "stdout",
     "output_type": "stream",
     "text": [
      "rf_tuned has ndcg score of 0.806 and roc of 0.500\n"
     ]
    }
   ],
   "source": [
    "model_train('rf_tuned', rf_tuned)"
   ]
  },
  {
   "cell_type": "code",
   "execution_count": 22,
   "metadata": {
    "execution": {
     "iopub.execute_input": "2020-08-16T03:06:51.726887Z",
     "iopub.status.busy": "2020-08-16T03:06:51.726887Z",
     "iopub.status.idle": "2020-08-16T03:06:51.730877Z",
     "shell.execute_reply": "2020-08-16T03:06:51.730877Z",
     "shell.execute_reply.started": "2020-08-16T03:06:51.726887Z"
    }
   },
   "outputs": [],
   "source": [
    "def obj_et(params):\n",
    "    clf = ExtraTreesClassifier(**params)\n",
    "    best_score = cross_val_score(\n",
    "        clf, X_train, y_train, scoring='roc_auc_ovr', cv=2).mean()\n",
    "    return {'loss': -best_score, 'status': STATUS_OK}"
   ]
  },
  {
   "cell_type": "code",
   "execution_count": 23,
   "metadata": {
    "execution": {
     "iopub.execute_input": "2020-08-16T03:07:08.301852Z",
     "iopub.status.busy": "2020-08-16T03:07:08.300855Z",
     "iopub.status.idle": "2020-08-16T03:42:19.544864Z",
     "shell.execute_reply": "2020-08-16T03:42:19.544864Z",
     "shell.execute_reply.started": "2020-08-16T03:07:08.301852Z"
    }
   },
   "outputs": [
    {
     "name": "stdout",
     "output_type": "stream",
     "text": [
      "100%|██████████| 40/40 [35:11<00:00, 52.78s/trial, best loss: -0.6361926363012417]\n"
     ]
    }
   ],
   "source": [
    "best_et = fmin(fn=obj_et, space=space, max_evals=40,\n",
    "               rstate=np.random.RandomState(42), algo=tpe.suggest)"
   ]
  },
  {
   "cell_type": "code",
   "execution_count": 24,
   "metadata": {
    "execution": {
     "iopub.execute_input": "2020-08-16T03:42:19.546859Z",
     "iopub.status.busy": "2020-08-16T03:42:19.546859Z",
     "iopub.status.idle": "2020-08-16T03:42:19.551362Z",
     "shell.execute_reply": "2020-08-16T03:42:19.551362Z",
     "shell.execute_reply.started": "2020-08-16T03:42:19.546859Z"
    }
   },
   "outputs": [
    {
     "data": {
      "text/plain": [
       "{'bootstrap': 0,\n",
       " 'max_depth': 20.0,\n",
       " 'max_features': 0,\n",
       " 'min_samples_leaf': 8.0,\n",
       " 'min_samples_split': 8.0,\n",
       " 'n_estimators': 1870.0}"
      ]
     },
     "execution_count": 24,
     "metadata": {},
     "output_type": "execute_result"
    }
   ],
   "source": [
    "best_et"
   ]
  },
  {
   "cell_type": "code",
   "execution_count": 25,
   "metadata": {
    "execution": {
     "iopub.execute_input": "2020-08-16T03:46:07.663430Z",
     "iopub.status.busy": "2020-08-16T03:46:07.663430Z",
     "iopub.status.idle": "2020-08-16T03:54:57.367604Z",
     "shell.execute_reply": "2020-08-16T03:54:57.367604Z",
     "shell.execute_reply.started": "2020-08-16T03:46:07.663430Z"
    }
   },
   "outputs": [],
   "source": [
    "et_tuned = ExtraTreesClassifier(n_estimators=1870, max_depth=20,\n",
    "                                min_samples_leaf=8, min_samples_split=8).fit(feature, target)\n",
    "pickle.dump(et_tuned, open('./data/et_tuned.sav', 'wb'))"
   ]
  },
  {
   "cell_type": "code",
   "execution_count": 31,
   "metadata": {
    "execution": {
     "iopub.execute_input": "2020-08-16T05:45:45.108919Z",
     "iopub.status.busy": "2020-08-16T05:45:45.108919Z",
     "iopub.status.idle": "2020-08-16T05:49:41.453048Z",
     "shell.execute_reply": "2020-08-16T05:49:41.453048Z",
     "shell.execute_reply.started": "2020-08-16T05:45:45.108919Z"
    }
   },
   "outputs": [
    {
     "name": "stdout",
     "output_type": "stream",
     "text": [
      "et_tuned has ndcg score of 0.820 and roc of 0.641\n"
     ]
    }
   ],
   "source": [
    "model_train('et_tuned', et_tuned)"
   ]
  },
  {
   "cell_type": "code",
   "execution_count": 26,
   "metadata": {
    "execution": {
     "iopub.execute_input": "2020-08-16T03:54:57.369571Z",
     "iopub.status.busy": "2020-08-16T03:54:57.368575Z",
     "iopub.status.idle": "2020-08-16T03:54:57.374069Z",
     "shell.execute_reply": "2020-08-16T03:54:57.374069Z",
     "shell.execute_reply.started": "2020-08-16T03:54:57.369571Z"
    }
   },
   "outputs": [],
   "source": [
    "space_lgb = {'max_depth': scope.int(hp.quniform('max_depth', 10, 50, 25)),\n",
    "             'n_estimators': scope.int(hp.quniform('n_estimators', 200, 2000, 10)),\n",
    "             #              'learning_rate': hp.choice('learning_rate', [0.05, 0.1, 0.3]),\n",
    "             'min_child_samples': scope.int(hp.quniform('min_child_samples', 4, 200, 50)),\n",
    "             'num_leaves': scope.int(hp.quniform('num_leaves', 20, 100, 20))\n",
    "             }"
   ]
  },
  {
   "cell_type": "code",
   "execution_count": 27,
   "metadata": {
    "execution": {
     "iopub.execute_input": "2020-08-16T03:54:57.376061Z",
     "iopub.status.busy": "2020-08-16T03:54:57.375063Z",
     "iopub.status.idle": "2020-08-16T03:54:57.380050Z",
     "shell.execute_reply": "2020-08-16T03:54:57.380050Z",
     "shell.execute_reply.started": "2020-08-16T03:54:57.376061Z"
    }
   },
   "outputs": [],
   "source": [
    "def obj_lgb(params):\n",
    "    clf = LGBMClassifier(**params)\n",
    "    best_score = cross_val_score(\n",
    "        clf, X_train, y_train, scoring='roc_auc_ovr', cv=2).mean()\n",
    "    return {'loss': -best_score, 'status': STATUS_OK}"
   ]
  },
  {
   "cell_type": "code",
   "execution_count": 28,
   "metadata": {
    "execution": {
     "iopub.execute_input": "2020-08-16T03:54:57.382045Z",
     "iopub.status.busy": "2020-08-16T03:54:57.381047Z",
     "iopub.status.idle": "2020-08-16T05:39:23.432219Z",
     "shell.execute_reply": "2020-08-16T05:39:23.431219Z",
     "shell.execute_reply.started": "2020-08-16T03:54:57.382045Z"
    }
   },
   "outputs": [
    {
     "name": "stdout",
     "output_type": "stream",
     "text": [
      "100%|██████████| 40/40 [1:44:26<00:00, 156.65s/trial, best loss: -0.6039002149175312]\n"
     ]
    }
   ],
   "source": [
    "best_lgb = fmin(fn=obj_lgb, space=space_lgb, max_evals=40,\n",
    "                rstate=np.random.RandomState(42), algo=rand.suggest)"
   ]
  },
  {
   "cell_type": "code",
   "execution_count": 30,
   "metadata": {
    "execution": {
     "iopub.execute_input": "2020-08-16T05:45:05.819386Z",
     "iopub.status.busy": "2020-08-16T05:45:05.818367Z",
     "iopub.status.idle": "2020-08-16T05:45:05.823353Z",
     "shell.execute_reply": "2020-08-16T05:45:05.823353Z",
     "shell.execute_reply.started": "2020-08-16T05:45:05.819386Z"
    }
   },
   "outputs": [
    {
     "data": {
      "text/plain": [
       "{'max_depth': 25.0,\n",
       " 'min_child_samples': 150.0,\n",
       " 'n_estimators': 220.0,\n",
       " 'num_leaves': 60.0}"
      ]
     },
     "execution_count": 30,
     "metadata": {},
     "output_type": "execute_result"
    }
   ],
   "source": [
    "best_lgb"
   ]
  },
  {
   "cell_type": "code",
   "execution_count": 32,
   "metadata": {
    "execution": {
     "iopub.execute_input": "2020-08-16T05:49:55.512540Z",
     "iopub.status.busy": "2020-08-16T05:49:55.512540Z",
     "iopub.status.idle": "2020-08-16T05:50:36.760356Z",
     "shell.execute_reply": "2020-08-16T05:50:36.759359Z",
     "shell.execute_reply.started": "2020-08-16T05:49:55.512540Z"
    }
   },
   "outputs": [],
   "source": [
    "lgb_tuned = LGBMClassifier(n_estimators=220, min_child_samples=150,\n",
    "                           num_leaves=60, learning_rate=0.05, max_depth=25).fit(feature, target)\n",
    "pickle.dump(lgb_tuned, open('./data/lgb_tuned.sav', 'wb'))"
   ]
  },
  {
   "cell_type": "code",
   "execution_count": 33,
   "metadata": {
    "execution": {
     "iopub.execute_input": "2020-08-16T05:50:36.762350Z",
     "iopub.status.busy": "2020-08-16T05:50:36.762350Z",
     "iopub.status.idle": "2020-08-16T05:51:38.369153Z",
     "shell.execute_reply": "2020-08-16T05:51:38.368159Z",
     "shell.execute_reply.started": "2020-08-16T05:50:36.762350Z"
    }
   },
   "outputs": [
    {
     "name": "stdout",
     "output_type": "stream",
     "text": [
      "lgb_tuned has ndcg score of 0.824 and roc of 0.616\n"
     ]
    }
   ],
   "source": [
    "model_train('lgb_tuned', lgb_tuned)"
   ]
  }
 ],
 "metadata": {
  "kernelspec": {
   "display_name": "Python 3",
   "language": "python",
   "name": "python3"
  },
  "language_info": {
   "codemirror_mode": {
    "name": "ipython",
    "version": 3
   },
   "file_extension": ".py",
   "mimetype": "text/x-python",
   "name": "python",
   "nbconvert_exporter": "python",
   "pygments_lexer": "ipython3",
   "version": "3.7.1"
  }
 },
 "nbformat": 4,
 "nbformat_minor": 4
}
